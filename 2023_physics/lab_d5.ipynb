{
 "cells": [
  {
   "cell_type": "code",
   "execution_count": 1,
   "id": "1bda387a",
   "metadata": {},
   "outputs": [],
   "source": [
    "import numpy as np\n",
    "import pandas as pd\n",
    "import math\n",
    "import matplotlib.pyplot as plt\n",
    "from IPython.display import display, Math, Markdown\n",
    "\n",
    "# Коэффициенты Стьюдента\n",
    "student = {\n",
    "    2: 12.7062047364,\n",
    "    3: 4.30265272991,\n",
    "    4: 3.18244630528,\n",
    "    5: 2.7764451052,\n",
    "    6: 2.57058183661,\n",
    "    7: 2.44691184879,\n",
    "    8: 2.36462425101,\n",
    "    9: 2.30600413503,\n",
    "    10: 2.26215716274,\n",
    "    11: 2.22813885196,\n",
    "    12: 2.20098516008,\n",
    "    13: 2.17881282966,\n",
    "    14: 2.16036865646,\n",
    "    15: 2.14478668792,\n",
    "    16: 2.13144954556,\n",
    "    17: 2.11990529922,\n",
    "    18: 2.10981557783,\n",
    "    19: 2.10092204024,\n",
    "    20: 2.09302405441,\n",
    "}"
   ]
  },
  {
   "cell_type": "code",
   "execution_count": 2,
   "id": "6606dc61",
   "metadata": {},
   "outputs": [
    {
     "data": {
      "text/markdown": [
       "# Обработка прямых измерений время"
      ],
      "text/plain": [
       "<IPython.core.display.Markdown object>"
      ]
     },
     "metadata": {},
     "output_type": "display_data"
    },
    {
     "data": {
      "text/markdown": [
       "## 1. Отображаем исходные значения"
      ],
      "text/plain": [
       "<IPython.core.display.Markdown object>"
      ]
     },
     "metadata": {},
     "output_type": "display_data"
    },
    {
     "data": {
      "text/markdown": [
       "$t_i$ = [2.237 2.253 2.244 2.252 2.257] $с$"
      ],
      "text/plain": [
       "<IPython.core.display.Markdown object>"
      ]
     },
     "metadata": {},
     "output_type": "display_data"
    },
    {
     "data": {
      "text/markdown": [
       "N = 5"
      ],
      "text/plain": [
       "<IPython.core.display.Markdown object>"
      ]
     },
     "metadata": {},
     "output_type": "display_data"
    },
    {
     "data": {
      "text/markdown": [
       "Порядок округления $t_i$ = $10^{-3}$"
      ],
      "text/plain": [
       "<IPython.core.display.Markdown object>"
      ]
     },
     "metadata": {},
     "output_type": "display_data"
    },
    {
     "data": {
      "text/markdown": [
       "## 2. Расcчитываем среднее"
      ],
      "text/plain": [
       "<IPython.core.display.Markdown object>"
      ]
     },
     "metadata": {},
     "output_type": "display_data"
    },
    {
     "data": {
      "text/markdown": [],
      "text/plain": [
       "<IPython.core.display.Markdown object>"
      ]
     },
     "metadata": {},
     "output_type": "display_data"
    },
    {
     "data": {
      "text/markdown": [
       "$t_{ср} = \\frac{\\sum { t_i  }}{N} = 2.2486 с$"
      ],
      "text/plain": [
       "<IPython.core.display.Markdown object>"
      ]
     },
     "metadata": {},
     "output_type": "display_data"
    },
    {
     "data": {
      "text/markdown": [
       "## 3. Расcчитываем отклонение от среднего"
      ],
      "text/plain": [
       "<IPython.core.display.Markdown object>"
      ]
     },
     "metadata": {},
     "output_type": "display_data"
    },
    {
     "data": {
      "text/markdown": [
       "$\\Delta t_i = t_i - t_{ср} =$ [-0.0116  0.0044 -0.0046  0.0034  0.0084] $с$"
      ],
      "text/plain": [
       "<IPython.core.display.Markdown object>"
      ]
     },
     "metadata": {},
     "output_type": "display_data"
    },
    {
     "data": {
      "text/markdown": [
       "$\\sum \\Delta t_i = -0.0 с$"
      ],
      "text/plain": [
       "<IPython.core.display.Markdown object>"
      ]
     },
     "metadata": {},
     "output_type": "display_data"
    },
    {
     "data": {
      "text/markdown": [
       "## 4. Расcчитываем квадрат отклонение для каждого измерения и проверяем на выбросы"
      ],
      "text/plain": [
       "<IPython.core.display.Markdown object>"
      ]
     },
     "metadata": {},
     "output_type": "display_data"
    },
    {
     "data": {
      "text/markdown": [
       "$(\\Delta t_i)^2$ = [1.3456e-04 1.9360e-05 2.1160e-05 1.1560e-05 7.0560e-05] $с^2$"
      ],
      "text/plain": [
       "<IPython.core.display.Markdown object>"
      ]
     },
     "metadata": {},
     "output_type": "display_data"
    },
    {
     "data": {
      "text/markdown": [
       "$S_i$ = $ \\sqrt { \\frac{\\sum { (\\Delta t_i)^2 }}{ N - 1}  } $ = 0.00802 $с$"
      ],
      "text/plain": [
       "<IPython.core.display.Markdown object>"
      ]
     },
     "metadata": {},
     "output_type": "display_data"
    },
    {
     "data": {
      "text/markdown": [
       "$3S_i$ = 0.02406 $с$"
      ],
      "text/plain": [
       "<IPython.core.display.Markdown object>"
      ]
     },
     "metadata": {},
     "output_type": "display_data"
    },
    {
     "data": {
      "text/markdown": [
       "Выбросов нет."
      ],
      "text/plain": [
       "<IPython.core.display.Markdown object>"
      ]
     },
     "metadata": {},
     "output_type": "display_data"
    },
    {
     "data": {
      "text/markdown": [
       "## 5. Расcчитываем среднеквадратичное отклонение для всей серии измерений"
      ],
      "text/plain": [
       "<IPython.core.display.Markdown object>"
      ]
     },
     "metadata": {},
     "output_type": "display_data"
    },
    {
     "data": {
      "text/markdown": [
       "$S$ = $ \\sqrt { \\frac{\\sum { (\\Delta t_i)^2 }}{ N(N - 1)}  } $ = 0.00359 $с$"
      ],
      "text/plain": [
       "<IPython.core.display.Markdown object>"
      ]
     },
     "metadata": {},
     "output_type": "display_data"
    },
    {
     "data": {
      "text/markdown": [
       "## 6. Расcчитываем случайную ошибку измерений"
      ],
      "text/plain": [
       "<IPython.core.display.Markdown object>"
      ]
     },
     "metadata": {},
     "output_type": "display_data"
    },
    {
     "data": {
      "text/markdown": [
       "$t_{N, p}$ = 2.7764451052"
      ],
      "text/plain": [
       "<IPython.core.display.Markdown object>"
      ]
     },
     "metadata": {},
     "output_type": "display_data"
    },
    {
     "data": {
      "text/markdown": [
       "$\\Delta t_{сл}$ = $ t_{N, p} S $ =0.00997 $с$"
      ],
      "text/plain": [
       "<IPython.core.display.Markdown object>"
      ]
     },
     "metadata": {},
     "output_type": "display_data"
    },
    {
     "data": {
      "text/markdown": [
       "## 7. Округляем"
      ],
      "text/plain": [
       "<IPython.core.display.Markdown object>"
      ]
     },
     "metadata": {},
     "output_type": "display_data"
    },
    {
     "data": {
      "text/markdown": [
       "Новый порядок округления = $10^{-2}$"
      ],
      "text/plain": [
       "<IPython.core.display.Markdown object>"
      ]
     },
     "metadata": {},
     "output_type": "display_data"
    },
    {
     "data": {
      "text/markdown": [
       "$t = t_{окр}$ = 2.25 $с$"
      ],
      "text/plain": [
       "<IPython.core.display.Markdown object>"
      ]
     },
     "metadata": {},
     "output_type": "display_data"
    },
    {
     "data": {
      "text/markdown": [
       "## 8. Рассчитываем ошибку округления"
      ],
      "text/plain": [
       "<IPython.core.display.Markdown object>"
      ]
     },
     "metadata": {},
     "output_type": "display_data"
    },
    {
     "data": {
      "text/markdown": [
       "$\\Delta t_{окр}$ = $ t_{ср} - t_{окр} $ = -0.0014 $с$"
      ],
      "text/plain": [
       "<IPython.core.display.Markdown object>"
      ]
     },
     "metadata": {},
     "output_type": "display_data"
    },
    {
     "data": {
      "text/markdown": [
       "## 9. Расчитываем итоговую погрешность прямых измерений"
      ],
      "text/plain": [
       "<IPython.core.display.Markdown object>"
      ]
     },
     "metadata": {},
     "output_type": "display_data"
    },
    {
     "data": {
      "text/markdown": [
       "$\\Delta t$ = $ \\sqrt { (\\Delta t_{сл})^2 + (\\Delta t_{окр})^2 + (\\Delta t_{пр})^2 }$ =$\\sqrt { 0.00997^2 + -0.0014^2 + 0.0005^2} $=0.0101 $с$"
      ],
      "text/plain": [
       "<IPython.core.display.Markdown object>"
      ]
     },
     "metadata": {},
     "output_type": "display_data"
    },
    {
     "data": {
      "text/markdown": [
       "## 10. Результат прямых измерений $t$"
      ],
      "text/plain": [
       "<IPython.core.display.Markdown object>"
      ]
     },
     "metadata": {},
     "output_type": "display_data"
    },
    {
     "data": {
      "text/markdown": [
       "$t = (2.25 \\pm 0.0101) с$"
      ],
      "text/plain": [
       "<IPython.core.display.Markdown object>"
      ]
     },
     "metadata": {},
     "output_type": "display_data"
    }
   ],
   "source": [
    "## Вводные данные ##\n",
    "\n",
    "fullname = 'время'\n",
    "name = 't' # Измеряемая величина\n",
    "unit = 'с' # Единица измерения\n",
    "delta_x_pribor = 0.0005 # Погрешность прибора\n",
    "\n",
    "# Измерения\n",
    "x_i = np.array([2.237, 2.253, 2.244, 2.252, 2.257])\n",
    "\n",
    "## Расчёты. Не трогаем. ##\n",
    "display(Markdown(rf'# Обработка прямых измерений {fullname}'))\n",
    "\n",
    "# Отображаем исходные значения\n",
    "display(Markdown(rf'## 1. Отображаем исходные значения'))\n",
    "display(Markdown(rf'${name}_i$ = {x_i} ${unit}$'))\n",
    "\n",
    "# Фиксируем количество измерений\n",
    "N = x_i.shape[0]\n",
    "display(Markdown(rf'N = {N}'))\n",
    "\n",
    "# Выясняем знак округления\n",
    "x_round = 0\n",
    "for x in x_i:\n",
    "    x_i_round = len(str(x).split('.')[1])\n",
    "    if x_i_round > x_round:\n",
    "        x_round = x_i_round\n",
    "display(Markdown(rf'Порядок округления ${name}_i$ = $10^{{{-x_round}}}$'))\n",
    "\n",
    "# Расcчитываем среднее\n",
    "display(Markdown(rf'## 2. Расcчитываем среднее'))\n",
    "display(Markdown(rf''))\n",
    "x_mean = round(x_i.mean(), x_round + 2)\n",
    "display(Markdown(rf'${name}_{{ср}} = \\frac{{\\sum {{ {name}_i  }}}}{{N}} = {x_mean} {unit}$'))\n",
    "\n",
    "# Расcчитываем отклонение от среднего\n",
    "display(Markdown(rf'## 3. Расcчитываем отклонение от среднего'))\n",
    "delta_x_i = x_i - x_mean\n",
    "display(Markdown(rf'$\\Delta {name}_i = {name}_i - {name}_{{ср}} =$ {delta_x_i} ${unit}$'))\n",
    "display(Markdown(rf'$\\sum \\Delta {name}_i = {round(delta_x_i.sum(), x_round + 1)} {unit}$'))\n",
    "\n",
    "# Расcчитываем квадрат отклонения для каждого измерения\n",
    "display(Markdown(rf'## 4. Расcчитываем квадрат отклонение для каждого измерения и проверяем на выбросы'))\n",
    "delta_x_i_2 = delta_x_i ** 2\n",
    "display(Markdown(rf'$(\\Delta {name}_i)^2$ = {delta_x_i_2} ${unit}^2$'))\n",
    "\n",
    "S_i = round((delta_x_i_2.sum()/(N - 1))**0.5, x_round + 2)\n",
    "display(Markdown(rf'$S_i$ = $ \\sqrt {{ \\frac{{\\sum {{ (\\Delta {name}_i)^2 }}}}{{ N - 1}}  }} $ = {S_i} ${unit}$'))\n",
    "\n",
    "x3_s_i = round((delta_x_i_2.sum()/(N - 1))**0.5 * 3, x_round + 2)\n",
    "display(Markdown(rf'$3S_i$ = {x3_s_i} ${unit}$'))\n",
    "\n",
    "# Проверяем наличие выбросов\n",
    "count = 0\n",
    "for n in range(N):\n",
    "    if delta_x_i[n] > x3_s_i:\n",
    "        display(Markdown(rf'Выброс: {x_i[n]}. Необходимо исключить значение.'))\n",
    "        count += 1\n",
    "if count == 0:\n",
    "    display(Markdown(rf'Выбросов нет.'))\n",
    "\n",
    "# Расcчитываем среднеквадратичное отклонение для всей серии измерений\n",
    "display(Markdown(rf'## 5. Расcчитываем среднеквадратичное отклонение для всей серии измерений'))\n",
    "S = round((delta_x_i_2.sum()/((N - 1)*N))**0.5, x_round + 2)\n",
    "display(Markdown(rf'$S$ = $ \\sqrt {{ \\frac{{\\sum {{ (\\Delta {name}_i)^2 }}}}{{ N(N - 1)}}  }} $ = {S} ${unit}$'))\n",
    "\n",
    "# Расcчитываем случайную ошибку измерений\n",
    "display(Markdown(rf'## 6. Расcчитываем случайную ошибку измерений'))\n",
    "display(Markdown(rf'$t_{{N, p}}$ = {student[N]}'))\n",
    "\n",
    "delta_x_random = round(S * student[N], x_round + 2)\n",
    "display(Markdown(rf'$\\Delta {name}_{{сл}}$ = $ t_{{N, p}} S $ ={delta_x_random} ${unit}$'))\n",
    "\n",
    "# Округляем\n",
    "display(Markdown(rf'## 7. Округляем'))\n",
    "new_round = None\n",
    "for e in range((x_round + 1) * -1, 9, 1):\n",
    "    if 10 ** e >= delta_x_random:\n",
    "        new_round = -e\n",
    "        break\n",
    "display(Markdown(rf'Новый порядок округления = $10^{{{-new_round}}}$'))\n",
    "x = x + 0,5 * 10*(-new_round) if x < 0 else x - 0,5 * 10*(-new_round)\n",
    "x = round(x_mean, new_round)\n",
    "display(Markdown(rf'${name} = {name}_{{окр}}$ = {x} ${unit}$'))\n",
    "\n",
    "# Рассчитываем ошибку округления\n",
    "display(Markdown(rf'## 8. Рассчитываем ошибку округления'))\n",
    "delta_x_round = round(x_mean - x, x_round + 2)\n",
    "display(Markdown(rf'$\\Delta {name}_{{окр}}$ = $ {name}_{{ср}} - {name}_{{окр}} $ = {delta_x_round} ${unit}$'))\n",
    "\n",
    "# Расчитываем итоговую погрешность прямых измерений\n",
    "display(Markdown(rf'## 9. Расчитываем итоговую погрешность прямых измерений'))\n",
    "delta_x = round((delta_x_random**2 + delta_x_pribor**2 + delta_x_round**2)**0.5, x_round+1)\n",
    "display(Markdown(rf'$\\Delta {name}$ = $ \\sqrt {{ (\\Delta {name}_{{сл}})^2 + '\\\n",
    "                 rf'(\\Delta {name}_{{окр}})^2 + (\\Delta {name}_{{пр}})^2 }}$ ='\\\n",
    "                 rf'$\\sqrt {{ {delta_x_random}^2 + {delta_x_round}^2 + {delta_x_pribor}^2}} $='\n",
    "                 rf'{delta_x} ${unit}$'))\n",
    "\n",
    "# Результат\n",
    "display(Markdown(rf'## 10. Результат прямых измерений ${name}$'))\n",
    "display(Markdown(rf'${name} = ({x} \\pm {delta_x}) {unit}$'))"
   ]
  },
  {
   "cell_type": "code",
   "execution_count": 9,
   "id": "05f9e05b",
   "metadata": {},
   "outputs": [
    {
     "data": {
      "text/markdown": [
       "$t = 2.25 \\pm 0.01 c$"
      ],
      "text/plain": [
       "<IPython.core.display.Markdown object>"
      ]
     },
     "metadata": {},
     "output_type": "display_data"
    },
    {
     "data": {
      "text/markdown": [
       "$h = 0.405 \\pm 0.0005 м$"
      ],
      "text/plain": [
       "<IPython.core.display.Markdown object>"
      ]
     },
     "metadata": {},
     "output_type": "display_data"
    },
    {
     "data": {
      "text/markdown": [
       "$m = 0.6858200000000001 \\pm 0.0001 кг$"
      ],
      "text/plain": [
       "<IPython.core.display.Markdown object>"
      ]
     },
     "metadata": {},
     "output_type": "display_data"
    },
    {
     "data": {
      "text/markdown": [
       "$g = 9.8135 \\pm 0.0001 \\frac{м}{с^2}$"
      ],
      "text/plain": [
       "<IPython.core.display.Markdown object>"
      ]
     },
     "metadata": {},
     "output_type": "display_data"
    },
    {
     "data": {
      "text/markdown": [
       "$r = 0.005 \\pm 2.5e-05 м$"
      ],
      "text/plain": [
       "<IPython.core.display.Markdown object>"
      ]
     },
     "metadata": {},
     "output_type": "display_data"
    }
   ],
   "source": [
    "t = 2.25\n",
    "delta_t = 0.01\n",
    "display(Markdown(rf'$t = {t} \\pm {delta_t} c$'))\n",
    "\n",
    "h=40.5*10**-2\n",
    "delta_h=0.05*10**-2\n",
    "display(Markdown(rf'$h = {h} \\pm {delta_h} м$'))\n",
    "\n",
    "m = 685.82 *10**-3\n",
    "delta_m = 0.1 *10**-3\n",
    "display(Markdown(rf'$m = {m} \\pm {delta_m} кг$'))\n",
    "\n",
    "g = 9.8135\n",
    "delta_g = 0.0001\n",
    "display(Markdown(rf'$g = {g} \\pm {delta_g} \\frac{{м}}{{с^2}}$'))\n",
    "\n",
    "r = 10 *10**-3 / 2\n",
    "delta_r = 0.05 *10**-3 / 2\n",
    "display(Markdown(rf'$r = {r} \\pm {delta_r} м$'))"
   ]
  },
  {
   "cell_type": "code",
   "execution_count": 11,
   "id": "3f22eff4",
   "metadata": {},
   "outputs": [
    {
     "data": {
      "text/markdown": [
       "$w = 0.16 \\pm 0.0014358741211169383 \\frac{м}{с^2}$"
      ],
      "text/plain": [
       "<IPython.core.display.Markdown object>"
      ]
     },
     "metadata": {},
     "output_type": "display_data"
    }
   ],
   "source": [
    "w = 2*h/t**2\n",
    "\n",
    "delta_w = (\n",
    "(2*delta_h/t**2)**2 + \n",
    "(4*h*delta_t/t**3)**2\n",
    ")**0.5\n",
    "\n",
    "display(Markdown(rf'$w = {w} \\pm {delta_w} \\frac{{м}}{{с^2}}$'))"
   ]
  },
  {
   "cell_type": "code",
   "execution_count": 23,
   "id": "17d4c819",
   "metadata": {},
   "outputs": [
    {
     "data": {
      "text/markdown": [
       "$T = 3.310281685 \\pm 0.0006903511821759721 Н$"
      ],
      "text/plain": [
       "<IPython.core.display.Markdown object>"
      ]
     },
     "metadata": {},
     "output_type": "display_data"
    }
   ],
   "source": [
    "T = m * (g - w) / 2\n",
    "\n",
    "delta_T = 0.5* (\n",
    "( ((g-w)*delta_m)**2) + \n",
    "( (m*delta_g) ** 2) + \n",
    "( (m*delta_w) ** 2 )\n",
    ")**0.5\n",
    "\n",
    "display(Markdown(rf'$T = {T} \\pm {delta_T} Н$'))"
   ]
  },
  {
   "cell_type": "code",
   "execution_count": 27,
   "id": "1aaab460",
   "metadata": {},
   "outputs": [
    {
     "data": {
      "text/markdown": [
       "$I = 0.0010344630265625 \\pm 1.4003499203432648e-05 кг*м^2$"
      ],
      "text/plain": [
       "<IPython.core.display.Markdown object>"
      ]
     },
     "metadata": {},
     "output_type": "display_data"
    }
   ],
   "source": [
    "I = m * r**2 * (g/w - 1)\n",
    "\n",
    "delta_I = (\n",
    "(r**2*(g/w - 1)*delta_m)**2 + \n",
    "(2*m*r*(g/w - 1)*delta_r)**2 + \n",
    "(m*r**2/w*delta_g)**2 + \n",
    "(m*r**2*g/w**2*delta_w)**2\n",
    ")**0.5\n",
    "\n",
    "display(Markdown(rf'$I = {I} \\pm {delta_I} кг*м^2$'))"
   ]
  }
 ],
 "metadata": {
  "kernelspec": {
   "display_name": "Python 3 (ipykernel)",
   "language": "python",
   "name": "python3"
  },
  "language_info": {
   "codemirror_mode": {
    "name": "ipython",
    "version": 3
   },
   "file_extension": ".py",
   "mimetype": "text/x-python",
   "name": "python",
   "nbconvert_exporter": "python",
   "pygments_lexer": "ipython3",
   "version": "3.10.6"
  }
 },
 "nbformat": 4,
 "nbformat_minor": 5
}
