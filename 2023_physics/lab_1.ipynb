{
 "cells": [
  {
   "cell_type": "code",
   "execution_count": 1,
   "id": "bc81269d",
   "metadata": {},
   "outputs": [],
   "source": [
    "import numpy as np\n",
    "import pandas as pd\n",
    "import math\n",
    "import matplotlib.pyplot as plt\n",
    "from IPython.display import display, Math, Markdown\n",
    "\n",
    "# Коэффициенты Стьюдента\n",
    "student = {\n",
    "    2: 12.7062047364,\n",
    "    3: 4.30265272991,\n",
    "    4: 3.18244630528,\n",
    "    5: 2.7764451052,\n",
    "    6: 2.57058183661,\n",
    "    7: 2.44691184879,\n",
    "    8: 2.36462425101,\n",
    "    9: 2.30600413503,\n",
    "    10: 2.26215716274,\n",
    "    11: 2.22813885196,\n",
    "    12: 2.20098516008,\n",
    "    13: 2.17881282966,\n",
    "    14: 2.16036865646,\n",
    "    15: 2.14478668792,\n",
    "    16: 2.13144954556,\n",
    "    17: 2.11990529922,\n",
    "    18: 2.10981557783,\n",
    "    19: 2.10092204024,\n",
    "    20: 2.09302405441,\n",
    "}"
   ]
  },
  {
   "cell_type": "markdown",
   "id": "e8fafd6c-7512-49df-9d3c-ef4385b9890c",
   "metadata": {},
   "source": [
    "## Упражнение 1"
   ]
  },
  {
   "cell_type": "markdown",
   "id": "c23cbd81-8a2f-4a77-a460-cfe76b5c01ae",
   "metadata": {},
   "source": [
    "### Определение сопротивлений с помощью моста Уинстона"
   ]
  },
  {
   "cell_type": "code",
   "execution_count": 14,
   "id": "bf79c8fd",
   "metadata": {},
   "outputs": [
    {
     "data": {
      "text/markdown": [
       "x_i = [184.1 192.1 203.3 169.7 159.6]"
      ],
      "text/plain": [
       "<IPython.core.display.Markdown object>"
      ]
     },
     "metadata": {},
     "output_type": "display_data"
    },
    {
     "data": {
      "text/markdown": [
       "# Обработка прямых измерений Сопротивление"
      ],
      "text/plain": [
       "<IPython.core.display.Markdown object>"
      ]
     },
     "metadata": {},
     "output_type": "display_data"
    },
    {
     "data": {
      "text/markdown": [
       "## 1. Отображаем исходные значения"
      ],
      "text/plain": [
       "<IPython.core.display.Markdown object>"
      ]
     },
     "metadata": {},
     "output_type": "display_data"
    },
    {
     "data": {
      "text/markdown": [
       "$R_i$ = [184.1 192.1 203.3 169.7 159.6] $Ом$"
      ],
      "text/plain": [
       "<IPython.core.display.Markdown object>"
      ]
     },
     "metadata": {},
     "output_type": "display_data"
    },
    {
     "data": {
      "text/markdown": [
       "N = 5"
      ],
      "text/plain": [
       "<IPython.core.display.Markdown object>"
      ]
     },
     "metadata": {},
     "output_type": "display_data"
    },
    {
     "data": {
      "text/markdown": [
       "Порядок округления $R_i$ = $10^{-1}$"
      ],
      "text/plain": [
       "<IPython.core.display.Markdown object>"
      ]
     },
     "metadata": {},
     "output_type": "display_data"
    },
    {
     "data": {
      "text/markdown": [
       "## 2. Расcчитываем среднее"
      ],
      "text/plain": [
       "<IPython.core.display.Markdown object>"
      ]
     },
     "metadata": {},
     "output_type": "display_data"
    },
    {
     "data": {
      "text/markdown": [],
      "text/plain": [
       "<IPython.core.display.Markdown object>"
      ]
     },
     "metadata": {},
     "output_type": "display_data"
    },
    {
     "data": {
      "text/markdown": [
       "$R_{ср} = \\frac{\\sum { R_i  }}{N} = 181.76 Ом$"
      ],
      "text/plain": [
       "<IPython.core.display.Markdown object>"
      ]
     },
     "metadata": {},
     "output_type": "display_data"
    },
    {
     "data": {
      "text/markdown": [
       "## 3. Расcчитываем отклонение от среднего"
      ],
      "text/plain": [
       "<IPython.core.display.Markdown object>"
      ]
     },
     "metadata": {},
     "output_type": "display_data"
    },
    {
     "data": {
      "text/markdown": [
       "$\\Delta R_i = R_i - R_{ср} =$ [  2.34  10.34  21.54 -12.06 -22.16] $Ом$"
      ],
      "text/plain": [
       "<IPython.core.display.Markdown object>"
      ]
     },
     "metadata": {},
     "output_type": "display_data"
    },
    {
     "data": {
      "text/markdown": [
       "$\\sum \\Delta R_i = 0.0 Ом$"
      ],
      "text/plain": [
       "<IPython.core.display.Markdown object>"
      ]
     },
     "metadata": {},
     "output_type": "display_data"
    },
    {
     "data": {
      "text/markdown": [
       "## 4. Расcчитываем квадрат отклонение для каждого измерения и проверяем на выбросы"
      ],
      "text/plain": [
       "<IPython.core.display.Markdown object>"
      ]
     },
     "metadata": {},
     "output_type": "display_data"
    },
    {
     "data": {
      "text/markdown": [
       "$(\\Delta R_i)^2$ = [  5.4756 106.9156 463.9716 145.4436 491.0656] $Ом^2$"
      ],
      "text/plain": [
       "<IPython.core.display.Markdown object>"
      ]
     },
     "metadata": {},
     "output_type": "display_data"
    },
    {
     "data": {
      "text/markdown": [
       "$S_i$ = $ \\sqrt { \\frac{\\sum { (\\Delta R_i)^2 }}{ N - 1}  } $ = 17.413 $Ом$"
      ],
      "text/plain": [
       "<IPython.core.display.Markdown object>"
      ]
     },
     "metadata": {},
     "output_type": "display_data"
    },
    {
     "data": {
      "text/markdown": [
       "$3S_i$ = 52.239 $Ом$"
      ],
      "text/plain": [
       "<IPython.core.display.Markdown object>"
      ]
     },
     "metadata": {},
     "output_type": "display_data"
    },
    {
     "data": {
      "text/markdown": [
       "Выбросов нет."
      ],
      "text/plain": [
       "<IPython.core.display.Markdown object>"
      ]
     },
     "metadata": {},
     "output_type": "display_data"
    },
    {
     "data": {
      "text/markdown": [
       "## 5. Расcчитываем среднеквадратичное отклонение для всей серии измерений"
      ],
      "text/plain": [
       "<IPython.core.display.Markdown object>"
      ]
     },
     "metadata": {},
     "output_type": "display_data"
    },
    {
     "data": {
      "text/markdown": [
       "$S$ = $ \\sqrt { \\frac{\\sum { (\\Delta R_i)^2 }}{ N(N - 1)}  } $ = 7.787 $Ом$"
      ],
      "text/plain": [
       "<IPython.core.display.Markdown object>"
      ]
     },
     "metadata": {},
     "output_type": "display_data"
    },
    {
     "data": {
      "text/markdown": [
       "## 6. Расcчитываем случайную ошибку измерений"
      ],
      "text/plain": [
       "<IPython.core.display.Markdown object>"
      ]
     },
     "metadata": {},
     "output_type": "display_data"
    },
    {
     "data": {
      "text/markdown": [
       "$t_{N, p}$ = 2.7764451052"
      ],
      "text/plain": [
       "<IPython.core.display.Markdown object>"
      ]
     },
     "metadata": {},
     "output_type": "display_data"
    },
    {
     "data": {
      "text/markdown": [
       "$\\Delta R_{сл}$ = $ t_{N, p} S $ =21.62 $Ом$"
      ],
      "text/plain": [
       "<IPython.core.display.Markdown object>"
      ]
     },
     "metadata": {},
     "output_type": "display_data"
    },
    {
     "data": {
      "text/markdown": [
       "## 7. Округляем"
      ],
      "text/plain": [
       "<IPython.core.display.Markdown object>"
      ]
     },
     "metadata": {},
     "output_type": "display_data"
    },
    {
     "data": {
      "text/markdown": [
       "Новый порядок округления = $10^{2}$"
      ],
      "text/plain": [
       "<IPython.core.display.Markdown object>"
      ]
     },
     "metadata": {},
     "output_type": "display_data"
    },
    {
     "data": {
      "text/markdown": [
       "$R = R_{окр}$ = 200.0 $Ом$"
      ],
      "text/plain": [
       "<IPython.core.display.Markdown object>"
      ]
     },
     "metadata": {},
     "output_type": "display_data"
    },
    {
     "data": {
      "text/markdown": [
       "## 8. Рассчитываем ошибку округления"
      ],
      "text/plain": [
       "<IPython.core.display.Markdown object>"
      ]
     },
     "metadata": {},
     "output_type": "display_data"
    },
    {
     "data": {
      "text/markdown": [
       "$\\Delta R_{окр}$ = $ R_{ср} - R_{окр} $ = -18.24 $Ом$"
      ],
      "text/plain": [
       "<IPython.core.display.Markdown object>"
      ]
     },
     "metadata": {},
     "output_type": "display_data"
    },
    {
     "data": {
      "text/markdown": [
       "## 9. Расчитываем итоговую погрешность прямых измерений"
      ],
      "text/plain": [
       "<IPython.core.display.Markdown object>"
      ]
     },
     "metadata": {},
     "output_type": "display_data"
    },
    {
     "data": {
      "text/markdown": [
       "$\\Delta R$ = $ \\sqrt { (\\Delta R_{сл})^2 + (\\Delta R_{окр})^2 + (\\Delta R_{пр})^2 }$ =$\\sqrt { 21.62^2 + -18.24^2 + 0.0^2} $=28.29 $Ом$"
      ],
      "text/plain": [
       "<IPython.core.display.Markdown object>"
      ]
     },
     "metadata": {},
     "output_type": "display_data"
    },
    {
     "data": {
      "text/markdown": [
       "## 10. Результат прямых измерений $R$"
      ],
      "text/plain": [
       "<IPython.core.display.Markdown object>"
      ]
     },
     "metadata": {},
     "output_type": "display_data"
    },
    {
     "data": {
      "text/markdown": [
       "$R = (200.0 \\pm 28.29) Ом$"
      ],
      "text/plain": [
       "<IPython.core.display.Markdown object>"
      ]
     },
     "metadata": {},
     "output_type": "display_data"
    },
    {
     "data": {
      "text/plain": [
       "0.14145"
      ]
     },
     "metadata": {},
     "output_type": "display_data"
    }
   ],
   "source": [
    "## Вводные данные ##\n",
    "\n",
    "fullname = 'Сопротивление'\n",
    "name = 'R' # Измеряемая величина\n",
    "unit = 'Ом' # Единица измерения\n",
    "delta_x_pribor = 0.00 # Погрешность прибора\n",
    "\n",
    "# Измерения\n",
    "R_e = np.array([184.1, 192.1, 203.3, 169.7, 159.6])\n",
    "l_1 = np.array([25, 24, 23, 26, 27])\n",
    "l_2 = np.array([25, 24, 23, 26, 27])\n",
    "\n",
    "x_i = R_e * l_1 / l_2\n",
    "display(Markdown(rf'x_i = {x_i}'))\n",
    "\n",
    "## Расчёты. Не трогаем. ##\n",
    "display(Markdown(rf'# Обработка прямых измерений {fullname}'))\n",
    "\n",
    "# Отображаем исходные значения\n",
    "display(Markdown(rf'## 1. Отображаем исходные значения'))\n",
    "display(Markdown(rf'${name}_i$ = {x_i} ${unit}$'))\n",
    "\n",
    "# Фиксируем количество измерений\n",
    "N = x_i.shape[0]\n",
    "display(Markdown(rf'N = {N}'))\n",
    "\n",
    "# Выясняем знак округления\n",
    "x_round = 0\n",
    "for x in x_i:\n",
    "    x_i_round = len(str(x).split('.')[1])\n",
    "    if x_i_round > x_round:\n",
    "        x_round = x_i_round\n",
    "display(Markdown(rf'Порядок округления ${name}_i$ = $10^{{{-x_round}}}$'))\n",
    "\n",
    "# Расcчитываем среднее\n",
    "display(Markdown(rf'## 2. Расcчитываем среднее'))\n",
    "display(Markdown(rf''))\n",
    "x_mean = round(x_i.mean(), x_round + 2)\n",
    "display(Markdown(rf'${name}_{{ср}} = \\frac{{\\sum {{ {name}_i  }}}}{{N}} = {x_mean} {unit}$'))\n",
    "\n",
    "# Расcчитываем отклонение от среднего\n",
    "display(Markdown(rf'## 3. Расcчитываем отклонение от среднего'))\n",
    "delta_x_i = x_i - x_mean\n",
    "display(Markdown(rf'$\\Delta {name}_i = {name}_i - {name}_{{ср}} =$ {delta_x_i} ${unit}$'))\n",
    "display(Markdown(rf'$\\sum \\Delta {name}_i = {round(delta_x_i.sum(), x_round + 1)} {unit}$'))\n",
    "\n",
    "# Расcчитываем квадрат отклонения для каждого измерения\n",
    "display(Markdown(rf'## 4. Расcчитываем квадрат отклонение для каждого измерения и проверяем на выбросы'))\n",
    "delta_x_i_2 = delta_x_i ** 2\n",
    "display(Markdown(rf'$(\\Delta {name}_i)^2$ = {delta_x_i_2} ${unit}^2$'))\n",
    "\n",
    "S_i = round((delta_x_i_2.sum()/(N - 1))**0.5, x_round + 2)\n",
    "display(Markdown(rf'$S_i$ = $ \\sqrt {{ \\frac{{\\sum {{ (\\Delta {name}_i)^2 }}}}{{ N - 1}}  }} $ = {S_i} ${unit}$'))\n",
    "\n",
    "x3_s_i = round((delta_x_i_2.sum()/(N - 1))**0.5 * 3, x_round + 2)\n",
    "display(Markdown(rf'$3S_i$ = {x3_s_i} ${unit}$'))\n",
    "\n",
    "# Проверяем наличие выбросов\n",
    "count = 0\n",
    "for n in range(N):\n",
    "    if delta_x_i[n] > x3_s_i:\n",
    "        display(Markdown(rf'Выброс: {x_i[n]}. Необходимо исключить значение.'))\n",
    "        count += 1\n",
    "if count == 0:\n",
    "    display(Markdown(rf'Выбросов нет.'))\n",
    "\n",
    "# Расcчитываем среднеквадратичное отклонение для всей серии измерений\n",
    "display(Markdown(rf'## 5. Расcчитываем среднеквадратичное отклонение для всей серии измерений'))\n",
    "S = round((delta_x_i_2.sum()/((N - 1)*N))**0.5, x_round + 2)\n",
    "display(Markdown(rf'$S$ = $ \\sqrt {{ \\frac{{\\sum {{ (\\Delta {name}_i)^2 }}}}{{ N(N - 1)}}  }} $ = {S} ${unit}$'))\n",
    "\n",
    "# Расcчитываем случайную ошибку измерений\n",
    "display(Markdown(rf'## 6. Расcчитываем случайную ошибку измерений'))\n",
    "display(Markdown(rf'$t_{{N, p}}$ = {student[N]}'))\n",
    "\n",
    "delta_x_random = round(S * student[N], x_round + 2)\n",
    "display(Markdown(rf'$\\Delta {name}_{{сл}}$ = $ t_{{N, p}} S $ ={delta_x_random} ${unit}$'))\n",
    "\n",
    "# Округляем\n",
    "display(Markdown(rf'## 7. Округляем'))\n",
    "new_round = None\n",
    "for e in range((x_round + 1) * -1, 9, 1):\n",
    "    if 10 ** e >= delta_x_random:\n",
    "        new_round = -e\n",
    "        break\n",
    "display(Markdown(rf'Новый порядок округления = $10^{{{-new_round}}}$'))\n",
    "x = x + 0,5 * 10*(-new_round) if x < 0 else x - 0,5 * 10*(-new_round)\n",
    "x = round(x_mean, new_round)\n",
    "display(Markdown(rf'${name} = {name}_{{окр}}$ = {x} ${unit}$'))\n",
    "\n",
    "# Рассчитываем ошибку округления\n",
    "display(Markdown(rf'## 8. Рассчитываем ошибку округления'))\n",
    "delta_x_round = round(x_mean - x, x_round + 2)\n",
    "display(Markdown(rf'$\\Delta {name}_{{окр}}$ = $ {name}_{{ср}} - {name}_{{окр}} $ = {delta_x_round} ${unit}$'))\n",
    "\n",
    "# Расчитываем итоговую погрешность прямых измерений\n",
    "display(Markdown(rf'## 9. Расчитываем итоговую погрешность прямых измерений'))\n",
    "delta_x = round((delta_x_random**2 + delta_x_pribor**2 + delta_x_round**2)**0.5, x_round+1)\n",
    "display(Markdown(rf'$\\Delta {name}$ = $ \\sqrt {{ (\\Delta {name}_{{сл}})^2 + '\\\n",
    "                 rf'(\\Delta {name}_{{окр}})^2 + (\\Delta {name}_{{пр}})^2 }}$ ='\\\n",
    "                 rf'$\\sqrt {{ {delta_x_random}^2 + {delta_x_round}^2 + {delta_x_pribor}^2}} $='\n",
    "                 rf'{delta_x} ${unit}$'))\n",
    "\n",
    "# Результат\n",
    "display(Markdown(rf'## 10. Результат прямых измерений ${name}$'))\n",
    "display(Markdown(rf'${name} = ({x} \\pm {delta_x}) {unit}$'))\n",
    "\n",
    "display(delta_x/x)\n"
   ]
  },
  {
   "cell_type": "code",
   "execution_count": 15,
   "id": "87ddd10d-1ee1-4316-8292-9c63c28bff64",
   "metadata": {},
   "outputs": [
    {
     "data": {
      "text/markdown": [
       "x_i = [285.84782609 279.71666667 273.2        267.69230769 261.43333333]"
      ],
      "text/plain": [
       "<IPython.core.display.Markdown object>"
      ]
     },
     "metadata": {},
     "output_type": "display_data"
    },
    {
     "data": {
      "text/markdown": [
       "# Обработка прямых измерений Сопротивление"
      ],
      "text/plain": [
       "<IPython.core.display.Markdown object>"
      ]
     },
     "metadata": {},
     "output_type": "display_data"
    },
    {
     "data": {
      "text/markdown": [
       "## 1. Отображаем исходные значения"
      ],
      "text/plain": [
       "<IPython.core.display.Markdown object>"
      ]
     },
     "metadata": {},
     "output_type": "display_data"
    },
    {
     "data": {
      "text/markdown": [
       "$R_i$ = [285.84782609 279.71666667 273.2        267.69230769 261.43333333] $Ом$"
      ],
      "text/plain": [
       "<IPython.core.display.Markdown object>"
      ]
     },
     "metadata": {},
     "output_type": "display_data"
    },
    {
     "data": {
      "text/markdown": [
       "N = 5"
      ],
      "text/plain": [
       "<IPython.core.display.Markdown object>"
      ]
     },
     "metadata": {},
     "output_type": "display_data"
    },
    {
     "data": {
      "text/markdown": [
       "Порядок округления $R_i$ = $10^{-14}$"
      ],
      "text/plain": [
       "<IPython.core.display.Markdown object>"
      ]
     },
     "metadata": {},
     "output_type": "display_data"
    },
    {
     "data": {
      "text/markdown": [
       "## 2. Расcчитываем среднее"
      ],
      "text/plain": [
       "<IPython.core.display.Markdown object>"
      ]
     },
     "metadata": {},
     "output_type": "display_data"
    },
    {
     "data": {
      "text/markdown": [],
      "text/plain": [
       "<IPython.core.display.Markdown object>"
      ]
     },
     "metadata": {},
     "output_type": "display_data"
    },
    {
     "data": {
      "text/markdown": [
       "$R_{ср} = \\frac{\\sum { R_i  }}{N} = 273.5780267558529 Ом$"
      ],
      "text/plain": [
       "<IPython.core.display.Markdown object>"
      ]
     },
     "metadata": {},
     "output_type": "display_data"
    },
    {
     "data": {
      "text/markdown": [
       "## 3. Расcчитываем отклонение от среднего"
      ],
      "text/plain": [
       "<IPython.core.display.Markdown object>"
      ]
     },
     "metadata": {},
     "output_type": "display_data"
    },
    {
     "data": {
      "text/markdown": [
       "$\\Delta R_i = R_i - R_{ср} =$ [ 12.26979933   6.13863991  -0.37802676  -5.88571906 -12.14469342] $Ом$"
      ],
      "text/plain": [
       "<IPython.core.display.Markdown object>"
      ]
     },
     "metadata": {},
     "output_type": "display_data"
    },
    {
     "data": {
      "text/markdown": [
       "$\\sum \\Delta R_i = -2.27e-13 Ом$"
      ],
      "text/plain": [
       "<IPython.core.display.Markdown object>"
      ]
     },
     "metadata": {},
     "output_type": "display_data"
    },
    {
     "data": {
      "text/markdown": [
       "## 4. Расcчитываем квадрат отклонение для каждого измерения и проверяем на выбросы"
      ],
      "text/plain": [
       "<IPython.core.display.Markdown object>"
      ]
     },
     "metadata": {},
     "output_type": "display_data"
    },
    {
     "data": {
      "text/markdown": [
       "$(\\Delta R_i)^2$ = [1.50547976e+02 3.76829000e+01 1.42904228e-01 3.46416889e+01\n",
       " 1.47493578e+02] $Ом^2$"
      ],
      "text/plain": [
       "<IPython.core.display.Markdown object>"
      ]
     },
     "metadata": {},
     "output_type": "display_data"
    },
    {
     "data": {
      "text/markdown": [
       "$S_i$ = $ \\sqrt { \\frac{\\sum { (\\Delta R_i)^2 }}{ N - 1}  } $ = 9.624305780552382 $Ом$"
      ],
      "text/plain": [
       "<IPython.core.display.Markdown object>"
      ]
     },
     "metadata": {},
     "output_type": "display_data"
    },
    {
     "data": {
      "text/markdown": [
       "$3S_i$ = 28.872917341657146 $Ом$"
      ],
      "text/plain": [
       "<IPython.core.display.Markdown object>"
      ]
     },
     "metadata": {},
     "output_type": "display_data"
    },
    {
     "data": {
      "text/markdown": [
       "Выбросов нет."
      ],
      "text/plain": [
       "<IPython.core.display.Markdown object>"
      ]
     },
     "metadata": {},
     "output_type": "display_data"
    },
    {
     "data": {
      "text/markdown": [
       "## 5. Расcчитываем среднеквадратичное отклонение для всей серии измерений"
      ],
      "text/plain": [
       "<IPython.core.display.Markdown object>"
      ]
     },
     "metadata": {},
     "output_type": "display_data"
    },
    {
     "data": {
      "text/markdown": [
       "$S$ = $ \\sqrt { \\frac{\\sum { (\\Delta R_i)^2 }}{ N(N - 1)}  } $ = 4.30412039231186 $Ом$"
      ],
      "text/plain": [
       "<IPython.core.display.Markdown object>"
      ]
     },
     "metadata": {},
     "output_type": "display_data"
    },
    {
     "data": {
      "text/markdown": [
       "## 6. Расcчитываем случайную ошибку измерений"
      ],
      "text/plain": [
       "<IPython.core.display.Markdown object>"
      ]
     },
     "metadata": {},
     "output_type": "display_data"
    },
    {
     "data": {
      "text/markdown": [
       "$t_{N, p}$ = 2.7764451052"
      ],
      "text/plain": [
       "<IPython.core.display.Markdown object>"
      ]
     },
     "metadata": {},
     "output_type": "display_data"
    },
    {
     "data": {
      "text/markdown": [
       "$\\Delta R_{сл}$ = $ t_{N, p} S $ =11.950153995425767 $Ом$"
      ],
      "text/plain": [
       "<IPython.core.display.Markdown object>"
      ]
     },
     "metadata": {},
     "output_type": "display_data"
    },
    {
     "data": {
      "text/markdown": [
       "## 7. Округляем"
      ],
      "text/plain": [
       "<IPython.core.display.Markdown object>"
      ]
     },
     "metadata": {},
     "output_type": "display_data"
    },
    {
     "data": {
      "text/markdown": [
       "Новый порядок округления = $10^{2}$"
      ],
      "text/plain": [
       "<IPython.core.display.Markdown object>"
      ]
     },
     "metadata": {},
     "output_type": "display_data"
    },
    {
     "data": {
      "text/markdown": [
       "$R = R_{окр}$ = 300.0 $Ом$"
      ],
      "text/plain": [
       "<IPython.core.display.Markdown object>"
      ]
     },
     "metadata": {},
     "output_type": "display_data"
    },
    {
     "data": {
      "text/markdown": [
       "## 8. Рассчитываем ошибку округления"
      ],
      "text/plain": [
       "<IPython.core.display.Markdown object>"
      ]
     },
     "metadata": {},
     "output_type": "display_data"
    },
    {
     "data": {
      "text/markdown": [
       "$\\Delta R_{окр}$ = $ R_{ср} - R_{окр} $ = -26.421973244147125 $Ом$"
      ],
      "text/plain": [
       "<IPython.core.display.Markdown object>"
      ]
     },
     "metadata": {},
     "output_type": "display_data"
    },
    {
     "data": {
      "text/markdown": [
       "## 9. Расчитываем итоговую погрешность прямых измерений"
      ],
      "text/plain": [
       "<IPython.core.display.Markdown object>"
      ]
     },
     "metadata": {},
     "output_type": "display_data"
    },
    {
     "data": {
      "text/markdown": [
       "$\\Delta R$ = $ \\sqrt { (\\Delta R_{сл})^2 + (\\Delta R_{окр})^2 + (\\Delta R_{пр})^2 }$ =$\\sqrt { 11.950153995425767^2 + -26.421973244147125^2 + 0.0^2} $=28.998738776519524 $Ом$"
      ],
      "text/plain": [
       "<IPython.core.display.Markdown object>"
      ]
     },
     "metadata": {},
     "output_type": "display_data"
    },
    {
     "data": {
      "text/markdown": [
       "## 10. Результат прямых измерений $R$"
      ],
      "text/plain": [
       "<IPython.core.display.Markdown object>"
      ]
     },
     "metadata": {},
     "output_type": "display_data"
    },
    {
     "data": {
      "text/markdown": [
       "$R = (300.0 \\pm 28.998738776519524) Ом$"
      ],
      "text/plain": [
       "<IPython.core.display.Markdown object>"
      ]
     },
     "metadata": {},
     "output_type": "display_data"
    },
    {
     "data": {
      "text/plain": [
       "0.09666246258839842"
      ]
     },
     "metadata": {},
     "output_type": "display_data"
    }
   ],
   "source": [
    "## Вводные данные ##\n",
    "\n",
    "fullname = 'Сопротивление'\n",
    "name = 'R' # Измеряемая величина\n",
    "unit = 'Ом' # Единица измерения\n",
    "delta_x_pribor = 0.00 # Погрешность прибора\n",
    "\n",
    "# Измерения\n",
    "R_e = np.array([243.5, 258.2, 273.2, 290.0, 306.9])\n",
    "l_1 = np.array([27, 26, 25, 24, 23])\n",
    "l_2 = np.array([23, 24, 25, 26, 27])\n",
    "\n",
    "x_i = R_e * l_1 / l_2\n",
    "display(Markdown(rf'x_i = {x_i}'))\n",
    "\n",
    "## Расчёты. Не трогаем. ##\n",
    "display(Markdown(rf'# Обработка прямых измерений {fullname}'))\n",
    "\n",
    "# Отображаем исходные значения\n",
    "display(Markdown(rf'## 1. Отображаем исходные значения'))\n",
    "display(Markdown(rf'${name}_i$ = {x_i} ${unit}$'))\n",
    "\n",
    "# Фиксируем количество измерений\n",
    "N = x_i.shape[0]\n",
    "display(Markdown(rf'N = {N}'))\n",
    "\n",
    "# Выясняем знак округления\n",
    "x_round = 0\n",
    "for x in x_i:\n",
    "    x_i_round = len(str(x).split('.')[1])\n",
    "    if x_i_round > x_round:\n",
    "        x_round = x_i_round\n",
    "display(Markdown(rf'Порядок округления ${name}_i$ = $10^{{{-x_round}}}$'))\n",
    "\n",
    "# Расcчитываем среднее\n",
    "display(Markdown(rf'## 2. Расcчитываем среднее'))\n",
    "display(Markdown(rf''))\n",
    "x_mean = round(x_i.mean(), x_round + 2)\n",
    "display(Markdown(rf'${name}_{{ср}} = \\frac{{\\sum {{ {name}_i  }}}}{{N}} = {x_mean} {unit}$'))\n",
    "\n",
    "# Расcчитываем отклонение от среднего\n",
    "display(Markdown(rf'## 3. Расcчитываем отклонение от среднего'))\n",
    "delta_x_i = x_i - x_mean\n",
    "display(Markdown(rf'$\\Delta {name}_i = {name}_i - {name}_{{ср}} =$ {delta_x_i} ${unit}$'))\n",
    "display(Markdown(rf'$\\sum \\Delta {name}_i = {round(delta_x_i.sum(), x_round + 1)} {unit}$'))\n",
    "\n",
    "# Расcчитываем квадрат отклонения для каждого измерения\n",
    "display(Markdown(rf'## 4. Расcчитываем квадрат отклонение для каждого измерения и проверяем на выбросы'))\n",
    "delta_x_i_2 = delta_x_i ** 2\n",
    "display(Markdown(rf'$(\\Delta {name}_i)^2$ = {delta_x_i_2} ${unit}^2$'))\n",
    "\n",
    "S_i = round((delta_x_i_2.sum()/(N - 1))**0.5, x_round + 2)\n",
    "display(Markdown(rf'$S_i$ = $ \\sqrt {{ \\frac{{\\sum {{ (\\Delta {name}_i)^2 }}}}{{ N - 1}}  }} $ = {S_i} ${unit}$'))\n",
    "\n",
    "x3_s_i = round((delta_x_i_2.sum()/(N - 1))**0.5 * 3, x_round + 2)\n",
    "display(Markdown(rf'$3S_i$ = {x3_s_i} ${unit}$'))\n",
    "\n",
    "# Проверяем наличие выбросов\n",
    "count = 0\n",
    "for n in range(N):\n",
    "    if delta_x_i[n] > x3_s_i:\n",
    "        display(Markdown(rf'Выброс: {x_i[n]}. Необходимо исключить значение.'))\n",
    "        count += 1\n",
    "if count == 0:\n",
    "    display(Markdown(rf'Выбросов нет.'))\n",
    "\n",
    "# Расcчитываем среднеквадратичное отклонение для всей серии измерений\n",
    "display(Markdown(rf'## 5. Расcчитываем среднеквадратичное отклонение для всей серии измерений'))\n",
    "S = round((delta_x_i_2.sum()/((N - 1)*N))**0.5, x_round + 2)\n",
    "display(Markdown(rf'$S$ = $ \\sqrt {{ \\frac{{\\sum {{ (\\Delta {name}_i)^2 }}}}{{ N(N - 1)}}  }} $ = {S} ${unit}$'))\n",
    "\n",
    "# Расcчитываем случайную ошибку измерений\n",
    "display(Markdown(rf'## 6. Расcчитываем случайную ошибку измерений'))\n",
    "display(Markdown(rf'$t_{{N, p}}$ = {student[N]}'))\n",
    "\n",
    "delta_x_random = round(S * student[N], x_round + 2)\n",
    "display(Markdown(rf'$\\Delta {name}_{{сл}}$ = $ t_{{N, p}} S $ ={delta_x_random} ${unit}$'))\n",
    "\n",
    "# Округляем\n",
    "display(Markdown(rf'## 7. Округляем'))\n",
    "new_round = None\n",
    "for e in range((x_round + 1) * -1, 9, 1):\n",
    "    if 10 ** e >= delta_x_random:\n",
    "        new_round = -e\n",
    "        break\n",
    "display(Markdown(rf'Новый порядок округления = $10^{{{-new_round}}}$'))\n",
    "x = x + 0,5 * 10*(-new_round) if x < 0 else x - 0,5 * 10*(-new_round)\n",
    "x = round(x_mean, new_round)\n",
    "display(Markdown(rf'${name} = {name}_{{окр}}$ = {x} ${unit}$'))\n",
    "\n",
    "# Рассчитываем ошибку округления\n",
    "display(Markdown(rf'## 8. Рассчитываем ошибку округления'))\n",
    "delta_x_round = round(x_mean - x, x_round + 2)\n",
    "display(Markdown(rf'$\\Delta {name}_{{окр}}$ = $ {name}_{{ср}} - {name}_{{окр}} $ = {delta_x_round} ${unit}$'))\n",
    "\n",
    "# Расчитываем итоговую погрешность прямых измерений\n",
    "display(Markdown(rf'## 9. Расчитываем итоговую погрешность прямых измерений'))\n",
    "delta_x = round((delta_x_random**2 + delta_x_pribor**2 + delta_x_round**2)**0.5, x_round+1)\n",
    "display(Markdown(rf'$\\Delta {name}$ = $ \\sqrt {{ (\\Delta {name}_{{сл}})^2 + '\\\n",
    "                 rf'(\\Delta {name}_{{окр}})^2 + (\\Delta {name}_{{пр}})^2 }}$ ='\\\n",
    "                 rf'$\\sqrt {{ {delta_x_random}^2 + {delta_x_round}^2 + {delta_x_pribor}^2}} $='\n",
    "                 rf'{delta_x} ${unit}$'))\n",
    "\n",
    "# Результат\n",
    "display(Markdown(rf'## 10. Результат прямых измерений ${name}$'))\n",
    "display(Markdown(rf'${name} = ({x} \\pm {delta_x}) {unit}$'))\n",
    "\n",
    "display(delta_x/x)\n"
   ]
  },
  {
   "cell_type": "code",
   "execution_count": 16,
   "id": "a7dfc5b7-b013-46ab-ae93-53c527d5d113",
   "metadata": {},
   "outputs": [
    {
     "data": {
      "text/markdown": [
       "x_i = [348.15185185 355.10769231 362.1        371.8        379.29130435]"
      ],
      "text/plain": [
       "<IPython.core.display.Markdown object>"
      ]
     },
     "metadata": {},
     "output_type": "display_data"
    },
    {
     "data": {
      "text/markdown": [
       "# Обработка прямых измерений Сопротивление"
      ],
      "text/plain": [
       "<IPython.core.display.Markdown object>"
      ]
     },
     "metadata": {},
     "output_type": "display_data"
    },
    {
     "data": {
      "text/markdown": [
       "## 1. Отображаем исходные значения"
      ],
      "text/plain": [
       "<IPython.core.display.Markdown object>"
      ]
     },
     "metadata": {},
     "output_type": "display_data"
    },
    {
     "data": {
      "text/markdown": [
       "$R_i$ = [348.15185185 355.10769231 362.1        371.8        379.29130435] $Ом$"
      ],
      "text/plain": [
       "<IPython.core.display.Markdown object>"
      ]
     },
     "metadata": {},
     "output_type": "display_data"
    },
    {
     "data": {
      "text/markdown": [
       "N = 5"
      ],
      "text/plain": [
       "<IPython.core.display.Markdown object>"
      ]
     },
     "metadata": {},
     "output_type": "display_data"
    },
    {
     "data": {
      "text/markdown": [
       "Порядок округления $R_i$ = $10^{-14}$"
      ],
      "text/plain": [
       "<IPython.core.display.Markdown object>"
      ]
     },
     "metadata": {},
     "output_type": "display_data"
    },
    {
     "data": {
      "text/markdown": [
       "## 2. Расcчитываем среднее"
      ],
      "text/plain": [
       "<IPython.core.display.Markdown object>"
      ]
     },
     "metadata": {},
     "output_type": "display_data"
    },
    {
     "data": {
      "text/markdown": [],
      "text/plain": [
       "<IPython.core.display.Markdown object>"
      ]
     },
     "metadata": {},
     "output_type": "display_data"
    },
    {
     "data": {
      "text/markdown": [
       "$R_{ср} = \\frac{\\sum { R_i  }}{N} = 363.29016970147404 Ом$"
      ],
      "text/plain": [
       "<IPython.core.display.Markdown object>"
      ]
     },
     "metadata": {},
     "output_type": "display_data"
    },
    {
     "data": {
      "text/markdown": [
       "## 3. Расcчитываем отклонение от среднего"
      ],
      "text/plain": [
       "<IPython.core.display.Markdown object>"
      ]
     },
     "metadata": {},
     "output_type": "display_data"
    },
    {
     "data": {
      "text/markdown": [
       "$\\Delta R_i = R_i - R_{ср} =$ [-15.13831785  -8.18247739  -1.1901697    8.5098303   16.00113465] $Ом$"
      ],
      "text/plain": [
       "<IPython.core.display.Markdown object>"
      ]
     },
     "metadata": {},
     "output_type": "display_data"
    },
    {
     "data": {
      "text/markdown": [
       "$\\sum \\Delta R_i = 0.0 Ом$"
      ],
      "text/plain": [
       "<IPython.core.display.Markdown object>"
      ]
     },
     "metadata": {},
     "output_type": "display_data"
    },
    {
     "data": {
      "text/markdown": [
       "## 4. Расcчитываем квадрат отклонение для каждого измерения и проверяем на выбросы"
      ],
      "text/plain": [
       "<IPython.core.display.Markdown object>"
      ]
     },
     "metadata": {},
     "output_type": "display_data"
    },
    {
     "data": {
      "text/markdown": [
       "$(\\Delta R_i)^2$ = [229.16866732  66.9529363    1.41650392  72.41721171 256.03630997] $Ом^2$"
      ],
      "text/plain": [
       "<IPython.core.display.Markdown object>"
      ]
     },
     "metadata": {},
     "output_type": "display_data"
    },
    {
     "data": {
      "text/markdown": [
       "$S_i$ = $ \\sqrt { \\frac{\\sum { (\\Delta R_i)^2 }}{ N - 1}  } $ = 12.509912361949661 $Ом$"
      ],
      "text/plain": [
       "<IPython.core.display.Markdown object>"
      ]
     },
     "metadata": {},
     "output_type": "display_data"
    },
    {
     "data": {
      "text/markdown": [
       "$3S_i$ = 37.529737085848986 $Ом$"
      ],
      "text/plain": [
       "<IPython.core.display.Markdown object>"
      ]
     },
     "metadata": {},
     "output_type": "display_data"
    },
    {
     "data": {
      "text/markdown": [
       "Выбросов нет."
      ],
      "text/plain": [
       "<IPython.core.display.Markdown object>"
      ]
     },
     "metadata": {},
     "output_type": "display_data"
    },
    {
     "data": {
      "text/markdown": [
       "## 5. Расcчитываем среднеквадратичное отклонение для всей серии измерений"
      ],
      "text/plain": [
       "<IPython.core.display.Markdown object>"
      ]
     },
     "metadata": {},
     "output_type": "display_data"
    },
    {
     "data": {
      "text/markdown": [
       "$S$ = $ \\sqrt { \\frac{\\sum { (\\Delta R_i)^2 }}{ N(N - 1)}  } $ = 5.59460288677688 $Ом$"
      ],
      "text/plain": [
       "<IPython.core.display.Markdown object>"
      ]
     },
     "metadata": {},
     "output_type": "display_data"
    },
    {
     "data": {
      "text/markdown": [
       "## 6. Расcчитываем случайную ошибку измерений"
      ],
      "text/plain": [
       "<IPython.core.display.Markdown object>"
      ]
     },
     "metadata": {},
     "output_type": "display_data"
    },
    {
     "data": {
      "text/markdown": [
       "$t_{N, p}$ = 2.7764451052"
      ],
      "text/plain": [
       "<IPython.core.display.Markdown object>"
      ]
     },
     "metadata": {},
     "output_type": "display_data"
    },
    {
     "data": {
      "text/markdown": [
       "$\\Delta R_{сл}$ = $ t_{N, p} S $ =15.533107800529455 $Ом$"
      ],
      "text/plain": [
       "<IPython.core.display.Markdown object>"
      ]
     },
     "metadata": {},
     "output_type": "display_data"
    },
    {
     "data": {
      "text/markdown": [
       "## 7. Округляем"
      ],
      "text/plain": [
       "<IPython.core.display.Markdown object>"
      ]
     },
     "metadata": {},
     "output_type": "display_data"
    },
    {
     "data": {
      "text/markdown": [
       "Новый порядок округления = $10^{2}$"
      ],
      "text/plain": [
       "<IPython.core.display.Markdown object>"
      ]
     },
     "metadata": {},
     "output_type": "display_data"
    },
    {
     "data": {
      "text/markdown": [
       "$R = R_{окр}$ = 400.0 $Ом$"
      ],
      "text/plain": [
       "<IPython.core.display.Markdown object>"
      ]
     },
     "metadata": {},
     "output_type": "display_data"
    },
    {
     "data": {
      "text/markdown": [
       "## 8. Рассчитываем ошибку округления"
      ],
      "text/plain": [
       "<IPython.core.display.Markdown object>"
      ]
     },
     "metadata": {},
     "output_type": "display_data"
    },
    {
     "data": {
      "text/markdown": [
       "$\\Delta R_{окр}$ = $ R_{ср} - R_{окр} $ = -36.70983029852596 $Ом$"
      ],
      "text/plain": [
       "<IPython.core.display.Markdown object>"
      ]
     },
     "metadata": {},
     "output_type": "display_data"
    },
    {
     "data": {
      "text/markdown": [
       "## 9. Расчитываем итоговую погрешность прямых измерений"
      ],
      "text/plain": [
       "<IPython.core.display.Markdown object>"
      ]
     },
     "metadata": {},
     "output_type": "display_data"
    },
    {
     "data": {
      "text/markdown": [
       "$\\Delta R$ = $ \\sqrt { (\\Delta R_{сл})^2 + (\\Delta R_{окр})^2 + (\\Delta R_{пр})^2 }$ =$\\sqrt { 15.533107800529455^2 + -36.70983029852596^2 + 0.0^2} $=39.860871521950486 $Ом$"
      ],
      "text/plain": [
       "<IPython.core.display.Markdown object>"
      ]
     },
     "metadata": {},
     "output_type": "display_data"
    },
    {
     "data": {
      "text/markdown": [
       "## 10. Результат прямых измерений $R$"
      ],
      "text/plain": [
       "<IPython.core.display.Markdown object>"
      ]
     },
     "metadata": {},
     "output_type": "display_data"
    },
    {
     "data": {
      "text/markdown": [
       "$R = (400.0 \\pm 39.860871521950486) Ом$"
      ],
      "text/plain": [
       "<IPython.core.display.Markdown object>"
      ]
     },
     "metadata": {},
     "output_type": "display_data"
    },
    {
     "data": {
      "text/plain": [
       "0.09965217880487622"
      ]
     },
     "metadata": {},
     "output_type": "display_data"
    }
   ],
   "source": [
    "## Вводные данные ##\n",
    "\n",
    "fullname = 'Сопротивление'\n",
    "name = 'R' # Измеряемая величина\n",
    "unit = 'Ом' # Единица измерения\n",
    "delta_x_pribor = 0.00 # Погрешность прибора\n",
    "\n",
    "# Измерения\n",
    "R_e = np.array([408.7, 384.7, 362.1, 343.2, 323.1])\n",
    "l_1 = np.array([23, 24, 25, 26, 27])\n",
    "l_2 = np.array([27, 26, 25, 24, 23])\n",
    "\n",
    "x_i = R_e * l_1 / l_2\n",
    "display(Markdown(rf'x_i = {x_i}'))\n",
    "\n",
    "## Расчёты. Не трогаем. ##\n",
    "display(Markdown(rf'# Обработка прямых измерений {fullname}'))\n",
    "\n",
    "# Отображаем исходные значения\n",
    "display(Markdown(rf'## 1. Отображаем исходные значения'))\n",
    "display(Markdown(rf'${name}_i$ = {x_i} ${unit}$'))\n",
    "\n",
    "# Фиксируем количество измерений\n",
    "N = x_i.shape[0]\n",
    "display(Markdown(rf'N = {N}'))\n",
    "\n",
    "# Выясняем знак округления\n",
    "x_round = 0\n",
    "for x in x_i:\n",
    "    x_i_round = len(str(x).split('.')[1])\n",
    "    if x_i_round > x_round:\n",
    "        x_round = x_i_round\n",
    "display(Markdown(rf'Порядок округления ${name}_i$ = $10^{{{-x_round}}}$'))\n",
    "\n",
    "# Расcчитываем среднее\n",
    "display(Markdown(rf'## 2. Расcчитываем среднее'))\n",
    "display(Markdown(rf''))\n",
    "x_mean = round(x_i.mean(), x_round + 2)\n",
    "display(Markdown(rf'${name}_{{ср}} = \\frac{{\\sum {{ {name}_i  }}}}{{N}} = {x_mean} {unit}$'))\n",
    "\n",
    "# Расcчитываем отклонение от среднего\n",
    "display(Markdown(rf'## 3. Расcчитываем отклонение от среднего'))\n",
    "delta_x_i = x_i - x_mean\n",
    "display(Markdown(rf'$\\Delta {name}_i = {name}_i - {name}_{{ср}} =$ {delta_x_i} ${unit}$'))\n",
    "display(Markdown(rf'$\\sum \\Delta {name}_i = {round(delta_x_i.sum(), x_round + 1)} {unit}$'))\n",
    "\n",
    "# Расcчитываем квадрат отклонения для каждого измерения\n",
    "display(Markdown(rf'## 4. Расcчитываем квадрат отклонение для каждого измерения и проверяем на выбросы'))\n",
    "delta_x_i_2 = delta_x_i ** 2\n",
    "display(Markdown(rf'$(\\Delta {name}_i)^2$ = {delta_x_i_2} ${unit}^2$'))\n",
    "\n",
    "S_i = round((delta_x_i_2.sum()/(N - 1))**0.5, x_round + 2)\n",
    "display(Markdown(rf'$S_i$ = $ \\sqrt {{ \\frac{{\\sum {{ (\\Delta {name}_i)^2 }}}}{{ N - 1}}  }} $ = {S_i} ${unit}$'))\n",
    "\n",
    "x3_s_i = round((delta_x_i_2.sum()/(N - 1))**0.5 * 3, x_round + 2)\n",
    "display(Markdown(rf'$3S_i$ = {x3_s_i} ${unit}$'))\n",
    "\n",
    "# Проверяем наличие выбросов\n",
    "count = 0\n",
    "for n in range(N):\n",
    "    if delta_x_i[n] > x3_s_i:\n",
    "        display(Markdown(rf'Выброс: {x_i[n]}. Необходимо исключить значение.'))\n",
    "        count += 1\n",
    "if count == 0:\n",
    "    display(Markdown(rf'Выбросов нет.'))\n",
    "\n",
    "# Расcчитываем среднеквадратичное отклонение для всей серии измерений\n",
    "display(Markdown(rf'## 5. Расcчитываем среднеквадратичное отклонение для всей серии измерений'))\n",
    "S = round((delta_x_i_2.sum()/((N - 1)*N))**0.5, x_round + 2)\n",
    "display(Markdown(rf'$S$ = $ \\sqrt {{ \\frac{{\\sum {{ (\\Delta {name}_i)^2 }}}}{{ N(N - 1)}}  }} $ = {S} ${unit}$'))\n",
    "\n",
    "# Расcчитываем случайную ошибку измерений\n",
    "display(Markdown(rf'## 6. Расcчитываем случайную ошибку измерений'))\n",
    "display(Markdown(rf'$t_{{N, p}}$ = {student[N]}'))\n",
    "\n",
    "delta_x_random = round(S * student[N], x_round + 2)\n",
    "display(Markdown(rf'$\\Delta {name}_{{сл}}$ = $ t_{{N, p}} S $ ={delta_x_random} ${unit}$'))\n",
    "\n",
    "# Округляем\n",
    "display(Markdown(rf'## 7. Округляем'))\n",
    "new_round = None\n",
    "for e in range((x_round + 1) * -1, 9, 1):\n",
    "    if 10 ** e >= delta_x_random:\n",
    "        new_round = -e\n",
    "        break\n",
    "display(Markdown(rf'Новый порядок округления = $10^{{{-new_round}}}$'))\n",
    "x = x + 0,5 * 10*(-new_round) if x < 0 else x - 0,5 * 10*(-new_round)\n",
    "x = round(x_mean, new_round)\n",
    "display(Markdown(rf'${name} = {name}_{{окр}}$ = {x} ${unit}$'))\n",
    "\n",
    "# Рассчитываем ошибку округления\n",
    "display(Markdown(rf'## 8. Рассчитываем ошибку округления'))\n",
    "delta_x_round = round(x_mean - x, x_round + 2)\n",
    "display(Markdown(rf'$\\Delta {name}_{{окр}}$ = $ {name}_{{ср}} - {name}_{{окр}} $ = {delta_x_round} ${unit}$'))\n",
    "\n",
    "# Расчитываем итоговую погрешность прямых измерений\n",
    "display(Markdown(rf'## 9. Расчитываем итоговую погрешность прямых измерений'))\n",
    "delta_x = round((delta_x_random**2 + delta_x_pribor**2 + delta_x_round**2)**0.5, x_round+1)\n",
    "display(Markdown(rf'$\\Delta {name}$ = $ \\sqrt {{ (\\Delta {name}_{{сл}})^2 + '\\\n",
    "                 rf'(\\Delta {name}_{{окр}})^2 + (\\Delta {name}_{{пр}})^2 }}$ ='\\\n",
    "                 rf'$\\sqrt {{ {delta_x_random}^2 + {delta_x_round}^2 + {delta_x_pribor}^2}} $='\n",
    "                 rf'{delta_x} ${unit}$'))\n",
    "\n",
    "# Результат\n",
    "display(Markdown(rf'## 10. Результат прямых измерений ${name}$'))\n",
    "display(Markdown(rf'${name} = ({x} \\pm {delta_x}) {unit}$'))\n",
    "\n",
    "display(delta_x/x)\n"
   ]
  },
  {
   "cell_type": "markdown",
   "id": "55290235-88c2-4eb4-b037-52938558f469",
   "metadata": {},
   "source": [
    "## Упражнение 2"
   ]
  },
  {
   "cell_type": "markdown",
   "id": "1e8e3fe4-da65-4506-996b-b3987a123802",
   "metadata": {},
   "source": [
    "### Измерение сопротивлений с помощью моста постоянного тока МО-62"
   ]
  },
  {
   "cell_type": "code",
   "execution_count": 17,
   "id": "f8c0305f-f5ff-4825-9b26-e1db92bac326",
   "metadata": {},
   "outputs": [
    {
     "data": {
      "text/markdown": [
       "x_i = [99.97       99.96666667 99.955     ]"
      ],
      "text/plain": [
       "<IPython.core.display.Markdown object>"
      ]
     },
     "metadata": {},
     "output_type": "display_data"
    },
    {
     "data": {
      "text/markdown": [
       "# Обработка прямых измерений Сопротивление"
      ],
      "text/plain": [
       "<IPython.core.display.Markdown object>"
      ]
     },
     "metadata": {},
     "output_type": "display_data"
    },
    {
     "data": {
      "text/markdown": [
       "## 1. Отображаем исходные значения"
      ],
      "text/plain": [
       "<IPython.core.display.Markdown object>"
      ]
     },
     "metadata": {},
     "output_type": "display_data"
    },
    {
     "data": {
      "text/markdown": [
       "$R_i$ = [99.97       99.96666667 99.955     ] $Ом$"
      ],
      "text/plain": [
       "<IPython.core.display.Markdown object>"
      ]
     },
     "metadata": {},
     "output_type": "display_data"
    },
    {
     "data": {
      "text/markdown": [
       "N = 3"
      ],
      "text/plain": [
       "<IPython.core.display.Markdown object>"
      ]
     },
     "metadata": {},
     "output_type": "display_data"
    },
    {
     "data": {
      "text/markdown": [
       "Порядок округления $R_i$ = $10^{-14}$"
      ],
      "text/plain": [
       "<IPython.core.display.Markdown object>"
      ]
     },
     "metadata": {},
     "output_type": "display_data"
    },
    {
     "data": {
      "text/markdown": [
       "## 2. Расcчитываем среднее"
      ],
      "text/plain": [
       "<IPython.core.display.Markdown object>"
      ]
     },
     "metadata": {},
     "output_type": "display_data"
    },
    {
     "data": {
      "text/markdown": [],
      "text/plain": [
       "<IPython.core.display.Markdown object>"
      ]
     },
     "metadata": {},
     "output_type": "display_data"
    },
    {
     "data": {
      "text/markdown": [
       "$R_{ср} = \\frac{\\sum { R_i  }}{N} = 99.96388888888889 Ом$"
      ],
      "text/plain": [
       "<IPython.core.display.Markdown object>"
      ]
     },
     "metadata": {},
     "output_type": "display_data"
    },
    {
     "data": {
      "text/markdown": [
       "## 3. Расcчитываем отклонение от среднего"
      ],
      "text/plain": [
       "<IPython.core.display.Markdown object>"
      ]
     },
     "metadata": {},
     "output_type": "display_data"
    },
    {
     "data": {
      "text/markdown": [
       "$\\Delta R_i = R_i - R_{ср} =$ [ 0.00611111  0.00277778 -0.00888889] $Ом$"
      ],
      "text/plain": [
       "<IPython.core.display.Markdown object>"
      ]
     },
     "metadata": {},
     "output_type": "display_data"
    },
    {
     "data": {
      "text/markdown": [
       "$\\sum \\Delta R_i = -1.4e-14 Ом$"
      ],
      "text/plain": [
       "<IPython.core.display.Markdown object>"
      ]
     },
     "metadata": {},
     "output_type": "display_data"
    },
    {
     "data": {
      "text/markdown": [
       "## 4. Расcчитываем квадрат отклонение для каждого измерения и проверяем на выбросы"
      ],
      "text/plain": [
       "<IPython.core.display.Markdown object>"
      ]
     },
     "metadata": {},
     "output_type": "display_data"
    },
    {
     "data": {
      "text/markdown": [
       "$(\\Delta R_i)^2$ = [3.73456790e-05 7.71604938e-06 7.90123457e-05] $Ом^2$"
      ],
      "text/plain": [
       "<IPython.core.display.Markdown object>"
      ]
     },
     "metadata": {},
     "output_type": "display_data"
    },
    {
     "data": {
      "text/markdown": [
       "$S_i$ = $ \\sqrt { \\frac{\\sum { (\\Delta R_i)^2 }}{ N - 1}  } $ = 0.007876359377086 $Ом$"
      ],
      "text/plain": [
       "<IPython.core.display.Markdown object>"
      ]
     },
     "metadata": {},
     "output_type": "display_data"
    },
    {
     "data": {
      "text/markdown": [
       "$3S_i$ = 0.0236290781312581 $Ом$"
      ],
      "text/plain": [
       "<IPython.core.display.Markdown object>"
      ]
     },
     "metadata": {},
     "output_type": "display_data"
    },
    {
     "data": {
      "text/markdown": [
       "Выбросов нет."
      ],
      "text/plain": [
       "<IPython.core.display.Markdown object>"
      ]
     },
     "metadata": {},
     "output_type": "display_data"
    },
    {
     "data": {
      "text/markdown": [
       "## 5. Расcчитываем среднеквадратичное отклонение для всей серии измерений"
      ],
      "text/plain": [
       "<IPython.core.display.Markdown object>"
      ]
     },
     "metadata": {},
     "output_type": "display_data"
    },
    {
     "data": {
      "text/markdown": [
       "$S$ = $ \\sqrt { \\frac{\\sum { (\\Delta R_i)^2 }}{ N(N - 1)}  } $ = 0.0045474182065949 $Ом$"
      ],
      "text/plain": [
       "<IPython.core.display.Markdown object>"
      ]
     },
     "metadata": {},
     "output_type": "display_data"
    },
    {
     "data": {
      "text/markdown": [
       "## 6. Расcчитываем случайную ошибку измерений"
      ],
      "text/plain": [
       "<IPython.core.display.Markdown object>"
      ]
     },
     "metadata": {},
     "output_type": "display_data"
    },
    {
     "data": {
      "text/markdown": [
       "$t_{N, p}$ = 4.30265272991"
      ],
      "text/plain": [
       "<IPython.core.display.Markdown object>"
      ]
     },
     "metadata": {},
     "output_type": "display_data"
    },
    {
     "data": {
      "text/markdown": [
       "$\\Delta R_{сл}$ = $ t_{N, p} S $ =0.019565961360648 $Ом$"
      ],
      "text/plain": [
       "<IPython.core.display.Markdown object>"
      ]
     },
     "metadata": {},
     "output_type": "display_data"
    },
    {
     "data": {
      "text/markdown": [
       "## 7. Округляем"
      ],
      "text/plain": [
       "<IPython.core.display.Markdown object>"
      ]
     },
     "metadata": {},
     "output_type": "display_data"
    },
    {
     "data": {
      "text/markdown": [
       "Новый порядок округления = $10^{-1}$"
      ],
      "text/plain": [
       "<IPython.core.display.Markdown object>"
      ]
     },
     "metadata": {},
     "output_type": "display_data"
    },
    {
     "data": {
      "text/markdown": [
       "$R = R_{окр}$ = 100.0 $Ом$"
      ],
      "text/plain": [
       "<IPython.core.display.Markdown object>"
      ]
     },
     "metadata": {},
     "output_type": "display_data"
    },
    {
     "data": {
      "text/markdown": [
       "## 8. Рассчитываем ошибку округления"
      ],
      "text/plain": [
       "<IPython.core.display.Markdown object>"
      ]
     },
     "metadata": {},
     "output_type": "display_data"
    },
    {
     "data": {
      "text/markdown": [
       "$\\Delta R_{окр}$ = $ R_{ср} - R_{окр} $ = -0.0361111111111114 $Ом$"
      ],
      "text/plain": [
       "<IPython.core.display.Markdown object>"
      ]
     },
     "metadata": {},
     "output_type": "display_data"
    },
    {
     "data": {
      "text/markdown": [
       "## 9. Расчитываем итоговую погрешность прямых измерений"
      ],
      "text/plain": [
       "<IPython.core.display.Markdown object>"
      ]
     },
     "metadata": {},
     "output_type": "display_data"
    },
    {
     "data": {
      "text/markdown": [
       "$\\Delta R$ = $ \\sqrt { (\\Delta R_{сл})^2 + (\\Delta R_{окр})^2 + (\\Delta R_{пр})^2 }$ =$\\sqrt { 0.019565961360648^2 + -0.0361111111111114^2 + 0.0^2} $=0.04107114789783 $Ом$"
      ],
      "text/plain": [
       "<IPython.core.display.Markdown object>"
      ]
     },
     "metadata": {},
     "output_type": "display_data"
    },
    {
     "data": {
      "text/markdown": [
       "## 10. Результат прямых измерений $R$"
      ],
      "text/plain": [
       "<IPython.core.display.Markdown object>"
      ]
     },
     "metadata": {},
     "output_type": "display_data"
    },
    {
     "data": {
      "text/markdown": [
       "$R = (100.0 \\pm 0.04107114789783) Ом$"
      ],
      "text/plain": [
       "<IPython.core.display.Markdown object>"
      ]
     },
     "metadata": {},
     "output_type": "display_data"
    },
    {
     "data": {
      "text/plain": [
       "0.0004107114789783"
      ]
     },
     "metadata": {},
     "output_type": "display_data"
    }
   ],
   "source": [
    "## Вводные данные ##\n",
    "\n",
    "fullname = 'Сопротивление'\n",
    "name = 'R' # Измеряемая величина\n",
    "unit = 'Ом' # Единица измерения\n",
    "delta_x_pribor = 0.00 # Погрешность прибора\n",
    "\n",
    "# Измерения\n",
    "R_x = np.array([199.94, 299.90, 399.82])\n",
    "N_x = np.array([2, 3, 4])\n",
    "\n",
    "x_i = R_x / N_x\n",
    "display(Markdown(rf'x_i = {x_i}'))\n",
    "\n",
    "## Расчёты. Не трогаем. ##\n",
    "display(Markdown(rf'# Обработка прямых измерений {fullname}'))\n",
    "\n",
    "# Отображаем исходные значения\n",
    "display(Markdown(rf'## 1. Отображаем исходные значения'))\n",
    "display(Markdown(rf'${name}_i$ = {x_i} ${unit}$'))\n",
    "\n",
    "# Фиксируем количество измерений\n",
    "N = x_i.shape[0]\n",
    "display(Markdown(rf'N = {N}'))\n",
    "\n",
    "# Выясняем знак округления\n",
    "x_round = 0\n",
    "for x in x_i:\n",
    "    x_i_round = len(str(x).split('.')[1])\n",
    "    if x_i_round > x_round:\n",
    "        x_round = x_i_round\n",
    "display(Markdown(rf'Порядок округления ${name}_i$ = $10^{{{-x_round}}}$'))\n",
    "\n",
    "# Расcчитываем среднее\n",
    "display(Markdown(rf'## 2. Расcчитываем среднее'))\n",
    "display(Markdown(rf''))\n",
    "x_mean = round(x_i.mean(), x_round + 2)\n",
    "display(Markdown(rf'${name}_{{ср}} = \\frac{{\\sum {{ {name}_i  }}}}{{N}} = {x_mean} {unit}$'))\n",
    "\n",
    "# Расcчитываем отклонение от среднего\n",
    "display(Markdown(rf'## 3. Расcчитываем отклонение от среднего'))\n",
    "delta_x_i = x_i - x_mean\n",
    "display(Markdown(rf'$\\Delta {name}_i = {name}_i - {name}_{{ср}} =$ {delta_x_i} ${unit}$'))\n",
    "display(Markdown(rf'$\\sum \\Delta {name}_i = {round(delta_x_i.sum(), x_round + 1)} {unit}$'))\n",
    "\n",
    "# Расcчитываем квадрат отклонения для каждого измерения\n",
    "display(Markdown(rf'## 4. Расcчитываем квадрат отклонение для каждого измерения и проверяем на выбросы'))\n",
    "delta_x_i_2 = delta_x_i ** 2\n",
    "display(Markdown(rf'$(\\Delta {name}_i)^2$ = {delta_x_i_2} ${unit}^2$'))\n",
    "\n",
    "S_i = round((delta_x_i_2.sum()/(N - 1))**0.5, x_round + 2)\n",
    "display(Markdown(rf'$S_i$ = $ \\sqrt {{ \\frac{{\\sum {{ (\\Delta {name}_i)^2 }}}}{{ N - 1}}  }} $ = {S_i} ${unit}$'))\n",
    "\n",
    "x3_s_i = round((delta_x_i_2.sum()/(N - 1))**0.5 * 3, x_round + 2)\n",
    "display(Markdown(rf'$3S_i$ = {x3_s_i} ${unit}$'))\n",
    "\n",
    "# Проверяем наличие выбросов\n",
    "count = 0\n",
    "for n in range(N):\n",
    "    if delta_x_i[n] > x3_s_i:\n",
    "        display(Markdown(rf'Выброс: {x_i[n]}. Необходимо исключить значение.'))\n",
    "        count += 1\n",
    "if count == 0:\n",
    "    display(Markdown(rf'Выбросов нет.'))\n",
    "\n",
    "# Расcчитываем среднеквадратичное отклонение для всей серии измерений\n",
    "display(Markdown(rf'## 5. Расcчитываем среднеквадратичное отклонение для всей серии измерений'))\n",
    "S = round((delta_x_i_2.sum()/((N - 1)*N))**0.5, x_round + 2)\n",
    "display(Markdown(rf'$S$ = $ \\sqrt {{ \\frac{{\\sum {{ (\\Delta {name}_i)^2 }}}}{{ N(N - 1)}}  }} $ = {S} ${unit}$'))\n",
    "\n",
    "# Расcчитываем случайную ошибку измерений\n",
    "display(Markdown(rf'## 6. Расcчитываем случайную ошибку измерений'))\n",
    "display(Markdown(rf'$t_{{N, p}}$ = {student[N]}'))\n",
    "\n",
    "delta_x_random = round(S * student[N], x_round + 2)\n",
    "display(Markdown(rf'$\\Delta {name}_{{сл}}$ = $ t_{{N, p}} S $ ={delta_x_random} ${unit}$'))\n",
    "\n",
    "# Округляем\n",
    "display(Markdown(rf'## 7. Округляем'))\n",
    "new_round = None\n",
    "for e in range((x_round + 1) * -1, 9, 1):\n",
    "    if 10 ** e >= delta_x_random:\n",
    "        new_round = -e\n",
    "        break\n",
    "display(Markdown(rf'Новый порядок округления = $10^{{{-new_round}}}$'))\n",
    "x = x + 0,5 * 10*(-new_round) if x < 0 else x - 0,5 * 10*(-new_round)\n",
    "x = round(x_mean, new_round)\n",
    "display(Markdown(rf'${name} = {name}_{{окр}}$ = {x} ${unit}$'))\n",
    "\n",
    "# Рассчитываем ошибку округления\n",
    "display(Markdown(rf'## 8. Рассчитываем ошибку округления'))\n",
    "delta_x_round = round(x_mean - x, x_round + 2)\n",
    "display(Markdown(rf'$\\Delta {name}_{{окр}}$ = $ {name}_{{ср}} - {name}_{{окр}} $ = {delta_x_round} ${unit}$'))\n",
    "\n",
    "# Расчитываем итоговую погрешность прямых измерений\n",
    "display(Markdown(rf'## 9. Расчитываем итоговую погрешность прямых измерений'))\n",
    "delta_x = round((delta_x_random**2 + delta_x_pribor**2 + delta_x_round**2)**0.5, x_round+1)\n",
    "display(Markdown(rf'$\\Delta {name}$ = $ \\sqrt {{ (\\Delta {name}_{{сл}})^2 + '\\\n",
    "                 rf'(\\Delta {name}_{{окр}})^2 + (\\Delta {name}_{{пр}})^2 }}$ ='\\\n",
    "                 rf'$\\sqrt {{ {delta_x_random}^2 + {delta_x_round}^2 + {delta_x_pribor}^2}} $='\n",
    "                 rf'{delta_x} ${unit}$'))\n",
    "\n",
    "# Результат\n",
    "display(Markdown(rf'## 10. Результат прямых измерений ${name}$'))\n",
    "display(Markdown(rf'${name} = ({x} \\pm {delta_x}) {unit}$'))\n",
    "\n",
    "display(delta_x/x)\n"
   ]
  }
 ],
 "metadata": {
  "kernelspec": {
   "display_name": "Python 3 (ipykernel)",
   "language": "python",
   "name": "python3"
  },
  "language_info": {
   "codemirror_mode": {
    "name": "ipython",
    "version": 3
   },
   "file_extension": ".py",
   "mimetype": "text/x-python",
   "name": "python",
   "nbconvert_exporter": "python",
   "pygments_lexer": "ipython3",
   "version": "3.10.12"
  }
 },
 "nbformat": 4,
 "nbformat_minor": 5
}
