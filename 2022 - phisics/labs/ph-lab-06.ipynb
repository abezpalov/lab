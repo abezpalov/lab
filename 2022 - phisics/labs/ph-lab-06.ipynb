{
 "cells": [
  {
   "cell_type": "code",
   "execution_count": 1,
   "id": "ada3485b",
   "metadata": {},
   "outputs": [],
   "source": [
    "import decimal\n",
    "\n",
    "def record(value, delta, unit):\n",
    "    print(f'{value} ± {delta} ({unit})')"
   ]
  },
  {
   "cell_type": "markdown",
   "id": "77118bd5",
   "metadata": {},
   "source": [
    "## Лабораторная работа № 6\n",
    "# Проверка закона пути с помощью машины Атвуда\n",
    "\n",
    "### Цель работы\n",
    "Изучение законов равноускоренного движения, экспериментальная проверка закона пути.\n",
    "\n",
    "### Приборы и материалы\n",
    "Машина Атвуда, комплект перегрузов, треугольная линейка с прямым углом.\n",
    "\n",
    "### Формулы, используемые для расчёта\n",
    "\n",
    "1. Формула ускорения на основании второго закона Ньютона:\n",
    "\n",
    "$a=\\frac{m}{M_{1} + M_{2} + m}*g$\n",
    "\n",
    "- M - масса грузов,\n",
    "- m - масса перегрузка,\n",
    "- g - ускорение свободного падения.\n",
    "\n",
    "В данной формуле ускорение не зависит от пройденного пути. Движение равноускоренное.\n",
    "\n",
    "2. Формула ускорения на основании закона пути при равноускоренном движении:\n",
    "\n",
    "$a=\\frac{2S}{t^2}$\n",
    "\n",
    "- S - пройденный путь,\n",
    "- t - время, за которое был пройден путь."
   ]
  },
  {
   "cell_type": "code",
   "execution_count": 2,
   "id": "9765dc6b",
   "metadata": {},
   "outputs": [
    {
     "name": "stdout",
     "output_type": "stream",
     "text": [
      "0.3500 ± 0.0005 (м)\n",
      "0.4000 ± 0.0005 (м)\n",
      "0.4500 ± 0.0005 (м)\n"
     ]
    }
   ],
   "source": [
    "s1 = decimal.Decimal('0.3500')\n",
    "d_s1 = decimal.Decimal('0.0005')\n",
    "u_s1 = 'м'\n",
    "\n",
    "record(s1, d_s1, u_s1)\n",
    "\n",
    "s2 = decimal.Decimal('0.4000')\n",
    "d_s2 = decimal.Decimal('0.0005')\n",
    "u_s2 = 'м'\n",
    "\n",
    "record(s2, d_s2, u_s2)\n",
    "\n",
    "\n",
    "s3 = decimal.Decimal('0.4500')\n",
    "d_s3 = decimal.Decimal('0.0005')\n",
    "u_s3 = 'м'\n",
    "\n",
    "record(s3, d_s3, u_s3)"
   ]
  }
 ],
 "metadata": {
  "kernelspec": {
   "display_name": "Python 3 (ipykernel)",
   "language": "python",
   "name": "python3"
  },
  "language_info": {
   "codemirror_mode": {
    "name": "ipython",
    "version": 3
   },
   "file_extension": ".py",
   "mimetype": "text/x-python",
   "name": "python",
   "nbconvert_exporter": "python",
   "pygments_lexer": "ipython3",
   "version": "3.10.4"
  }
 },
 "nbformat": 4,
 "nbformat_minor": 5
}
