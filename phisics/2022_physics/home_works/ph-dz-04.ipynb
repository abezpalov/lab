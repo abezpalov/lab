{
 "cells": [
  {
   "cell_type": "code",
   "execution_count": 1,
   "id": "06f1ff40",
   "metadata": {},
   "outputs": [],
   "source": [
    "import numpy as np\n",
    "import pandas as pd\n",
    "import math\n",
    "import matplotlib.pyplot as plt\n",
    "from IPython.display import display, Math, Markdown\n",
    "\n",
    "# Коэффициенты Стьюдента\n",
    "student = {\n",
    "    2: 12.7062047364,\n",
    "    3: 4.30265272991,\n",
    "    4: 3.18244630528,\n",
    "    5: 2.7764451052,\n",
    "    6: 2.57058183661,\n",
    "    7: 2.44691184879,\n",
    "    8: 2.36462425101,\n",
    "    9: 2.30600413503,\n",
    "    10: 2.26215716274,\n",
    "    11: 2.22813885196,\n",
    "    12: 2.20098516008,\n",
    "    13: 2.17881282966,\n",
    "    14: 2.16036865646,\n",
    "    15: 2.14478668792,\n",
    "    16: 2.13144954556,\n",
    "    17: 2.11990529922,\n",
    "    18: 2.10981557783,\n",
    "    19: 2.10092204024,\n",
    "    20: 2.09302405441,\n",
    "}"
   ]
  },
  {
   "cell_type": "markdown",
   "id": "bd538a89",
   "metadata": {},
   "source": [
    "## Задание 12"
   ]
  },
  {
   "cell_type": "code",
   "execution_count": 2,
   "id": "ac31b00c",
   "metadata": {},
   "outputs": [
    {
     "name": "stdout",
     "output_type": "stream",
     "text": [
      "x_i=array([0., 1., 3., 5., 6., 9.])\n",
      "sum_x_i=24.0\n",
      "\n",
      "y_i=array([-4.99,  4.99, 20.75, 35.75, 44.2 , 67.3 ])\n",
      "sum_y_i=168.0\n",
      "\n",
      "x_i_quad=array([ 0.,  1.,  9., 25., 36., 81.])\n",
      "sum_x_i_quad=152.0\n",
      "\n",
      "x_i_y_i=array([ -0.  ,   4.99,  62.25, 178.75, 265.2 , 605.7 ])\n",
      "sum_x_i_y_i=1116.8899999999999\n",
      "\n",
      "y_i_quad=array([  24.9001,   24.9001,  430.5625, 1278.0625, 1953.64  , 4529.29  ])\n",
      "sum_y_i_quad=8241.3552\n",
      "\n",
      "N=6\n"
     ]
    }
   ],
   "source": [
    "x_i = np.array([0., 1., 3., 5., 6., 9.])\n",
    "print(f'{x_i=}')\n",
    "sum_x_i = sum(x_i)\n",
    "print(f'{sum_x_i=}')\n",
    "print()\n",
    "\n",
    "y_i = np.array([-4.99, 4.99, 20.75, 35.75, 44.20, 67.3])\n",
    "print(f'{y_i=}')\n",
    "sum_y_i = sum(y_i)\n",
    "print(f'{sum_y_i=}')\n",
    "print()\n",
    "\n",
    "x_i_quad = x_i**2\n",
    "print(f'{x_i_quad=}')\n",
    "sum_x_i_quad = sum(x_i_quad)\n",
    "print(f'{sum_x_i_quad=}')\n",
    "print()\n",
    "\n",
    "x_i_y_i = x_i * y_i\n",
    "print(f'{x_i_y_i=}')\n",
    "sum_x_i_y_i = sum(x_i_y_i)\n",
    "print(f'{sum_x_i_y_i=}')\n",
    "print()\n",
    "\n",
    "y_i_quad = y_i**2\n",
    "print(f'{y_i_quad=}')\n",
    "sum_y_i_quad = sum(y_i_quad)\n",
    "print(f'{sum_y_i_quad=}')\n",
    "print()\n",
    "\n",
    "N = x_i.shape[0]\n",
    "print(f'{N=}')"
   ]
  },
  {
   "cell_type": "code",
   "execution_count": 3,
   "id": "42832fc3",
   "metadata": {},
   "outputs": [
    {
     "name": "stdout",
     "output_type": "stream",
     "text": [
      "A=-3.7778571428571337\n",
      "B=7.944464285714283\n"
     ]
    }
   ],
   "source": [
    "A = (sum_x_i_quad * sum_y_i - sum_x_i * sum_x_i_y_i) / (N * sum_x_i_quad - sum_x_i ** 2 )\n",
    "print(f'{A=}')\n",
    "\n",
    "B = (N * sum_x_i_y_i - sum_x_i * sum_y_i ) / (N * sum_x_i_quad - sum_x_i ** 2 )\n",
    "print(f'{B=}')"
   ]
  },
  {
   "cell_type": "code",
   "execution_count": 4,
   "id": "f37e7ac1",
   "metadata": {},
   "outputs": [
    {
     "name": "stdout",
     "output_type": "stream",
     "text": [
      "delta_y_i=array([-1.21214286,  0.82339286,  0.69446429, -0.19446429,  0.31107143,\n",
      "       -0.42232143])\n",
      "delta_y_i_quad=array([1.46929031, 0.6779758 , 0.48228064, 0.03781636, 0.09676543,\n",
      "       0.17835539])\n",
      "sum_delta_y_i_quad=2.942483928571434\n"
     ]
    }
   ],
   "source": [
    "delta_y_i = y_i - A - B * x_i\n",
    "print(f'{delta_y_i=}')\n",
    "\n",
    "delta_y_i_quad = delta_y_i ** 2\n",
    "print(f'{delta_y_i_quad=}')\n",
    "\n",
    "sum_delta_y_i_quad = sum(delta_y_i_quad)\n",
    "print(f'{sum_delta_y_i_quad=}')"
   ]
  },
  {
   "cell_type": "code",
   "execution_count": 5,
   "id": "32065cce",
   "metadata": {},
   "outputs": [
    {
     "name": "stdout",
     "output_type": "stream",
     "text": [
      "sigma_y=0.8576834976510033\n",
      "delta_y=2.729531678199063\n"
     ]
    }
   ],
   "source": [
    "sigma_y = ((sum_delta_y_i_quad) / (N - 2))**0.5\n",
    "print(f'{sigma_y=}')\n",
    "\n",
    "delta_y = student[N - 2] * sigma_y\n",
    "y_i_errors = np.ones(N) * delta_y\n",
    "print(f'{delta_y=}')"
   ]
  },
  {
   "cell_type": "code",
   "execution_count": 6,
   "id": "6a923881",
   "metadata": {},
   "outputs": [
    {
     "name": "stdout",
     "output_type": "stream",
     "text": [
      "sigma_A=0.5768716672650841\n",
      "delta_A=1.8358631061084805\n"
     ]
    }
   ],
   "source": [
    "sigma_A = sigma_y * ((sum_x_i_quad) / (N * sum_x_i_quad - sum_x_i ** 2))**0.5\n",
    "print(f'{sigma_A=}')\n",
    "\n",
    "delta_A = student[N - 2] * sigma_A\n",
    "print(f'{delta_A=}')"
   ]
  },
  {
   "cell_type": "code",
   "execution_count": 7,
   "id": "ff4a3d71",
   "metadata": {},
   "outputs": [
    {
     "name": "stdout",
     "output_type": "stream",
     "text": [
      "sigma_B=0.04679047083690717\n",
      "delta_B=0.14890816103722682\n"
     ]
    }
   ],
   "source": [
    "sigma_B = sigma_y / (N * sum_x_i_quad - sum_x_i ** 2)**0.5\n",
    "print(f'{sigma_B=}')\n",
    "\n",
    "delta_B = student[N - 2] * sigma_B\n",
    "print(f'{delta_B=}')"
   ]
  },
  {
   "cell_type": "code",
   "execution_count": 16,
   "id": "e3075924",
   "metadata": {},
   "outputs": [
    {
     "data": {
      "image/png": "[encoded data removed]",
      "text/plain": [
       "<Figure size 1000x1000 with 1 Axes>"
      ]
     },
     "metadata": {},
     "output_type": "display_data"
    }
   ],
   "source": [
    "fig, ax = plt.subplots(figsize=(10, 10), layout='constrained')\n",
    "\n",
    "ax.errorbar(x_i, y_i, y_i_errors, fmt='.', linewidth=1, capsize=3)\n",
    "\n",
    "x = np.array([-1., 10.])\n",
    "y = A + B*x\n",
    "\n",
    "ax.plot(x, y, label='Теория')\n",
    "\n",
    "\n",
    "# Рисуем оси\n",
    "ax.spines[['top', 'right']].set_visible(False)\n",
    "ax.spines[['top', 'right']].set_visible(False)\n",
    "ax.spines['bottom'].set_position('zero')\n",
    "ax.spines['left'].set_position('zero')\n",
    "\n",
    "# Рисуем стрелочки\n",
    "arrow_fmt = dict(markersize=4, color='black', clip_on=False)\n",
    "ax.plot((1), (0), marker='>', transform=ax.get_yaxis_transform(), **arrow_fmt)\n",
    "ax.plot((0), (1), marker='^', transform=ax.get_xaxis_transform(), **arrow_fmt)\n",
    "\n",
    "# Create 'x' and 'y' labels placed at the end of the axes\n",
    "ax.set_xlabel('x', size=14, labelpad=0, x=1.)\n",
    "ax.set_ylabel('y', size=14, labelpad=0, y=1., rotation=0)\n",
    "\n",
    "# Create custom major ticks to determine position of tick labels\n",
    "x_frequency, y_frequency = 1., 10. \n",
    "xmin, xmax, ymin, ymax = 0., 11., -10., 80\n",
    "\n",
    "x_ticks = np.arange(xmin, xmax, x_frequency)\n",
    "x_ticks_minor = np.arange(xmin, xmax, x_frequency/5)\n",
    "\n",
    "y_ticks = np.arange(ymin, ymax, y_frequency)\n",
    "y_ticks_minor = np.arange(ymin, ymax, y_frequency/5)\n",
    "\n",
    "ax.set_xticks(x_ticks[x_ticks**2 > 0.005])\n",
    "ax.set_yticks(y_ticks[y_ticks**2 > 0.005])\n",
    "ax.set_xticks(x_ticks_minor, minor=True)\n",
    "ax.set_yticks(y_ticks_minor, minor=True)\n",
    "ax.grid(which='both')\n",
    "ax.grid(which='minor', alpha=0.2)\n",
    "ax.grid(which='major', alpha=0.5)\n",
    "\n",
    "\n",
    "# Отображаем\n",
    "ax.set_title('')\n",
    "plt.show()"
   ]
  },
  {
   "cell_type": "markdown",
   "id": "6bb521a4",
   "metadata": {},
   "source": [
    "## Задание 13"
   ]
  },
  {
   "cell_type": "code",
   "execution_count": null,
   "id": "33ca12f2",
   "metadata": {},
   "outputs": [],
   "source": [
    "x_i = np.array([0., 1., 2., 3., 4., 5., 6.])\n",
    "print(f'{x_i=}')\n",
    "sum_x_i = sum(x_i)\n",
    "print(f'{sum_x_i=}')\n",
    "print()\n",
    "\n",
    "P_i = np.array([760.0, 674.8, 598.0, 528.9, 466.6, 410.6, 360.2])\n",
    "y_i = np.log10(P_i)\n",
    "print(f'{y_i=}')\n",
    "sum_y_i = sum(y_i)\n",
    "print(f'{sum_y_i=}')\n",
    "print()\n",
    "\n",
    "x_i_quad = x_i**2\n",
    "print(f'{x_i_quad=}')\n",
    "sum_x_i_quad = sum(x_i_quad)\n",
    "print(f'{sum_x_i_quad=}')\n",
    "print()\n",
    "\n",
    "x_i_y_i = x_i * y_i\n",
    "print(f'{x_i_y_i=}')\n",
    "sum_x_i_y_i = sum(x_i_y_i)\n",
    "print(f'{sum_x_i_y_i=}')\n",
    "print()\n",
    "\n",
    "y_i_quad = y_i**2\n",
    "print(f'{y_i_quad=}')\n",
    "sum_y_i_quad = sum(y_i_quad)\n",
    "print(f'{sum_y_i_quad=}')\n",
    "print()\n",
    "\n",
    "N = x_i.shape[0]\n",
    "print(f'{N=}')"
   ]
  },
  {
   "cell_type": "code",
   "execution_count": null,
   "id": "4cde7c33",
   "metadata": {},
   "outputs": [],
   "source": [
    "A = (sum_x_i_quad * sum_y_i - sum_x_i * sum_x_i_y_i) / (N * sum_x_i_quad - sum_x_i ** 2 )\n",
    "print(f'{A=}')\n",
    "\n",
    "B = (N * sum_x_i_y_i - sum_x_i * sum_y_i ) / (N * sum_x_i_quad - sum_x_i ** 2 )\n",
    "print(f'{B=}')"
   ]
  },
  {
   "cell_type": "code",
   "execution_count": null,
   "id": "f7923e19",
   "metadata": {},
   "outputs": [],
   "source": [
    "delta_y_i = y_i - A - B * x_i\n",
    "print(f'{delta_y_i=}')\n",
    "\n",
    "delta_y_i_quad = delta_y_i ** 2\n",
    "print(f'{delta_y_i_quad=}')\n",
    "\n",
    "sum_delta_y_i_quad = sum(delta_y_i_quad)\n",
    "print(f'{sum_delta_y_i_quad=}')"
   ]
  },
  {
   "cell_type": "code",
   "execution_count": null,
   "id": "01c12af0",
   "metadata": {},
   "outputs": [],
   "source": [
    "sigma_y = ((sum_delta_y_i_quad) / (N - 2))**0.5\n",
    "print(f'{sigma_y=}')\n",
    "\n",
    "delta_y = student[N - 2] * sigma_y\n",
    "y_i_errors = np.ones(N) * delta_y\n",
    "print(f'{delta_y=}')"
   ]
  },
  {
   "cell_type": "code",
   "execution_count": null,
   "id": "25e29f58",
   "metadata": {},
   "outputs": [],
   "source": [
    "sigma_A = sigma_y * ((sum_x_i_quad) / (N * sum_x_i_quad - sum_x_i ** 2))**0.5\n",
    "print(f'{sigma_A=}')\n",
    "\n",
    "delta_A = student[N - 2] * sigma_A\n",
    "print(f'{delta_A=}')"
   ]
  },
  {
   "cell_type": "code",
   "execution_count": null,
   "id": "eaf6d853",
   "metadata": {},
   "outputs": [],
   "source": [
    "sigma_B = sigma_y / (N * sum_x_i_quad - sum_x_i ** 2)**0.5\n",
    "print(f'{sigma_B=}')\n",
    "\n",
    "delta_B = student[N - 2] * sigma_B\n",
    "print(f'{delta_B=}')"
   ]
  },
  {
   "cell_type": "code",
   "execution_count": null,
   "id": "a61c3f5f",
   "metadata": {},
   "outputs": [],
   "source": [
    "fig, ax = plt.subplots(figsize=(10, 10), layout='constrained')\n",
    "\n",
    "ax.errorbar(x_i, y_i, y_i_errors, fmt='.', linewidth=1, capsize=3)\n",
    "\n",
    "x = np.array([-1., 7.])\n",
    "y = A + B*x\n",
    "\n",
    "ax.plot(x, y, label='Теория')\n",
    "\n",
    "\n",
    "# Рисуем оси\n",
    "ax.spines[['top', 'right']].set_visible(False)\n",
    "ax.spines[['top', 'right']].set_visible(False)\n",
    "# ax.spines['bottom'].set_position('zero')\n",
    "ax.spines['left'].set_position('zero')\n",
    "\n",
    "# Рисуем стрелочки\n",
    "arrow_fmt = dict(markersize=4, color='black', clip_on=False)\n",
    "# ax.plot((1), (0), marker='>', transform=ax.get_yaxis_transform(), **arrow_fmt)\n",
    "ax.plot((0), (1), marker='^', transform=ax.get_xaxis_transform(), **arrow_fmt)\n",
    "\n",
    "# Create ' and 'y' labrfe$y=log_{{10}}s placed at the end of the axes\n",
    "ax.set_xlabel(rf'x', size=14, labelpad=0, x=1.)\n",
    "ax.set_ylabel('y', size=14, labelpad=0, y=1., rotation=0)\n",
    "\n",
    "# Create custom major ticks to determine position of tick labels\n",
    "x_frequency, y_frequency = 1., 0.1 \n",
    "xmin, xmax, ymin, ymax = 0., 7., 2.5, 3.\n",
    "x_ticks = np.arange(xmin, xmax, x_frequency)\n",
    "y_ticks = np.arange(ymin, ymax, y_frequency)\n",
    "ax.set_xticks(x_ticks)\n",
    "ax.set_yticks(y_ticks[y_ticks**2 > 0.005])\n",
    "\n",
    "\n",
    "# Отображаем\n",
    "ax.set_title('')\n",
    "# ax.legend()\n",
    "ax.grid(False)"
   ]
  }
 ],
 "metadata": {
  "kernelspec": {
   "display_name": "Python 3 (ipykernel)",
   "language": "python",
   "name": "python3"
  },
  "language_info": {
   "codemirror_mode": {
    "name": "ipython",
    "version": 3
   },
   "file_extension": ".py",
   "mimetype": "text/x-python",
   "name": "python",
   "nbconvert_exporter": "python",
   "pygments_lexer": "ipython3",
   "version": "3.10.6"
  }
 },
 "nbformat": 4,
 "nbformat_minor": 5
}
