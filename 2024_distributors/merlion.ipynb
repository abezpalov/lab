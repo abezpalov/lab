{
 "cells": [
  {
   "cell_type": "markdown",
   "id": "3630513b-0d47-4072-8bc6-e87c234e6f08",
   "metadata": {},
   "source": [
    "# Merlion"
   ]
  },
  {
   "cell_type": "code",
   "execution_count": null,
   "id": "89a0f6cd-b2ff-4545-b960-18ed54e41faa",
   "metadata": {},
   "outputs": [],
   "source": [
    "import numpy as np\n",
    "import pandas as pd\n",
    "import json\n",
    "import lxml.html\n",
    "\n",
    "import datetime"
   ]
  },
  {
   "cell_type": "markdown",
   "id": "7be4b58e-bf89-48e8-a547-62fb77a574ba",
   "metadata": {},
   "source": [
    "## getCatalog"
   ]
  },
  {
   "cell_type": "code",
   "execution_count": null,
   "id": "77017af4-a31c-46e5-b769-95ad3aa1f3df",
   "metadata": {},
   "outputs": [],
   "source": [
    "file = open('/home/abezpalov/data/merlion/categories.json', 'r')\n",
    "response = json.load(file)"
   ]
  },
  {
   "cell_type": "code",
   "execution_count": null,
   "id": "d0769267-10a9-4757-b5d1-fddb55f33061",
   "metadata": {},
   "outputs": [],
   "source": [
    "def get_order(x):\n",
    "    return int(x[-2:])\n",
    "\n",
    "# Преобразуем формат данных\n",
    "data_list = list()\n",
    "for item in response:\n",
    "    row_ = dict()\n",
    "    for key in item:\n",
    "        row_[key] = item[key]\n",
    "    data_list.append(row_)\n",
    "df = pd.DataFrame(data_list)\n",
    "\n",
    "# Чистим данные\n",
    "df = df.rename(columns={'ID': 'key',\n",
    "                        'ID_PARENT': 'parent_key',\n",
    "                        'Description': 'name'})\n",
    "\n",
    "df['order'] = df['key'].apply(get_order)"
   ]
  },
  {
   "cell_type": "code",
   "execution_count": null,
   "id": "2c9869a3-4ed9-4a90-9ef6-00c8d6c27436",
   "metadata": {},
   "outputs": [],
   "source": [
    "df"
   ]
  },
  {
   "cell_type": "markdown",
   "id": "8cc81daf-6de5-41dc-a768-a19e77abeedd",
   "metadata": {},
   "source": [
    "## getItems"
   ]
  },
  {
   "cell_type": "code",
   "execution_count": null,
   "id": "1d54bba3-3be8-444f-8ddb-c41acbae1b34",
   "metadata": {},
   "outputs": [],
   "source": [
    "file = open('/home/abezpalov/data/merlion/products_32.json', 'r')\n",
    "response = json.load(file)"
   ]
  },
  {
   "cell_type": "code",
   "execution_count": null,
   "id": "a2bb3133-f622-4bec-b030-4109c334b2a8",
   "metadata": {},
   "outputs": [],
   "source": [
    "data_list = list()\n",
    "for item in response:\n",
    "    row_ = dict()\n",
    "    for key in item:\n",
    "        row_[key] = item[key]\n",
    "    data_list.append(row_)\n",
    "\n",
    "df = pd.DataFrame(data_list)"
   ]
  },
  {
   "cell_type": "markdown",
   "id": "5e360297-bba7-467b-9b74-c7f6c006c165",
   "metadata": {
    "jp-MarkdownHeadingCollapsed": true
   },
   "source": [
    "### Смотрим данные"
   ]
  },
  {
   "cell_type": "code",
   "execution_count": null,
   "id": "fd6e0bbc-f4c4-4307-a548-f7040168301a",
   "metadata": {},
   "outputs": [],
   "source": [
    "list(df)"
   ]
  },
  {
   "cell_type": "code",
   "execution_count": null,
   "id": "565293b2-78d0-4de1-94b9-f165fa83ca29",
   "metadata": {},
   "outputs": [],
   "source": [
    "display(df['No'].describe())\n",
    "display(df['No'].unique())"
   ]
  },
  {
   "cell_type": "code",
   "execution_count": null,
   "id": "d9b40be1-51ea-4791-b552-ef7ea487d20f",
   "metadata": {},
   "outputs": [],
   "source": [
    "display(df['Min_Packaged'].describe())\n",
    "print(set(df['Min_Packaged'].unique()))"
   ]
  },
  {
   "cell_type": "code",
   "execution_count": null,
   "id": "002d7737-f748-4646-b44b-0b7efcb75361",
   "metadata": {},
   "outputs": [],
   "source": [
    "display(df['Sales_Limit_Type'].describe())\n",
    "print(set(df['Sales_Limit_Type'].unique()))"
   ]
  },
  {
   "cell_type": "code",
   "execution_count": null,
   "id": "be349409-8bfa-4215-854c-da618e6d2474",
   "metadata": {},
   "outputs": [],
   "source": [
    "df[df['Sales_Limit_Type'] != 'Только Упаковками']"
   ]
  },
  {
   "cell_type": "markdown",
   "id": "e353a9d5-bfd9-407b-a152-ead59cb0fae6",
   "metadata": {},
   "source": [
    "### Чистим данные"
   ]
  },
  {
   "cell_type": "code",
   "execution_count": null,
   "id": "52c5a53d-a57f-44e2-a1ed-c819b510c4e3",
   "metadata": {},
   "outputs": [],
   "source": [
    "def get_category_key(row):\n",
    "\n",
    "    if row['GroupCode3']:\n",
    "        return row['GroupCode3']\n",
    "    elif row['GroupCode2']:\n",
    "        return row['GroupCode2']\n",
    "    return row['GroupCode1']\n",
    "\n",
    "def get_min_of_quantity(row):\n",
    "    if not row['Min_Packaged']:\n",
    "        return 1\n",
    "    elif row['Sales_Limit_Type'] in ('Кратно', 'Только Упаковками', 'Не Меньше'):\n",
    "        return row['Min_Packaged']\n",
    "    return 1\n",
    "\n",
    "def get_step_of_quantity(row):\n",
    "    if not row['Min_Packaged']:\n",
    "        return 1\n",
    "    elif row['Sales_Limit_Type'] in ('Кратно', 'Только Упаковками'):\n",
    "        return row['Min_Packaged']\n",
    "    return 1\n",
    "\n",
    "def get_eol(x):\n",
    "    return True if x == 1 else False\n",
    "\n",
    "def get_vat(x):\n",
    "    return None if x is None else int(x)\n",
    "\n",
    "def get_length(row):\n",
    "    return max(row['Length'], row['Width']) if row['Length'] and row['Width'] else None\n",
    "    \n",
    "def get_width(row):\n",
    "    return min(row['Length'], row['Width']) if row['Length'] and row['Width'] else None\n",
    "\n",
    "def get_promo(row):\n",
    "    return True if row['promo_name'] or row['promo_url'] else False\n",
    "\n",
    "def get_metadata(row):\n",
    "    metadata = dict(row[['IsBundle', 'IsNew', 'Last_time_modified']])\n",
    "    return json.dumps(metadata)\n",
    "\n",
    "df.rename(columns = {'No': 'key',\n",
    "                     'Name': 'name',\n",
    "                     'Brand': 'vendor_key',\n",
    "                     'Vendor_part': 'part_number',\n",
    "                     'Warranty': 'warranty',\n",
    "                     'Weight': 'weight',\n",
    "                     'Volume': 'volume',\n",
    "                     'Height': 'height',\n",
    "                     'ActionDesc': 'promo_name',\n",
    "                     'ActionWWW': 'promo_url'}, inplace=True)\n",
    "df['category_key'] = df.apply(get_category_key, axis=1)\n",
    "df['min_of_quantity'] = df.apply(get_min_of_quantity, axis=1)\n",
    "df['step_of_quantity'] = df.apply(get_step_of_quantity, axis=1)\n",
    "df['eol'] = df['EOL'].apply(get_eol)\n",
    "df['vat'] = df['VAT'].apply(get_vat)\n",
    "df['length'] = df.apply(get_length, axis=1)\n",
    "df['width'] = df.apply(get_width, axis=1)\n",
    "df['promo'] = df.apply(get_promo, axis=1)\n",
    "df['metadata'] = df.apply(get_metadata, axis=1)\n",
    "\n",
    "df = df.drop(columns=['Size', 'GroupName1', 'GroupName2', 'GroupName3', 'GroupCode1', 'GroupCode2', 'GroupCode3', 'Sales_Limit_Type',\n",
    "                      'Min_Packaged', 'EOL', 'VAT', 'Length', 'Width', 'IsBundle', 'IsNew', 'Last_time_modified'])"
   ]
  },
  {
   "cell_type": "code",
   "execution_count": null,
   "id": "dded7e18-1265-4839-b1d3-a11cdf68f385",
   "metadata": {},
   "outputs": [],
   "source": [
    "df"
   ]
  },
  {
   "cell_type": "markdown",
   "id": "c6713733-ef74-44e1-b7a4-01e75c6d5c2e",
   "metadata": {},
   "source": [
    "## getItemsAvail"
   ]
  },
  {
   "cell_type": "code",
   "execution_count": null,
   "id": "d11ac30e-b2ae-49b0-b478-3b6249ac1057",
   "metadata": {},
   "outputs": [],
   "source": [
    "file = open('/home/abezpalov/data/merlion/parties_43.json', 'r')\n",
    "response = json.load(file)"
   ]
  },
  {
   "cell_type": "code",
   "execution_count": null,
   "id": "4ea71a58-a0af-4456-9ca7-9d9aeea246a6",
   "metadata": {},
   "outputs": [],
   "source": [
    "data_list = list()\n",
    "for item in response:\n",
    "\n",
    "    row_ = dict()\n",
    "    for key in item:\n",
    "        row_[key] = item[key]\n",
    "    data_list.append(row_)\n",
    "\n",
    "df = pd.DataFrame(data_list)"
   ]
  },
  {
   "cell_type": "markdown",
   "id": "c6fac2c9-f3c6-42f5-836a-bb9ce305bba6",
   "metadata": {
    "jp-MarkdownHeadingCollapsed": true
   },
   "source": [
    "### Смотрим данные"
   ]
  },
  {
   "cell_type": "code",
   "execution_count": null,
   "id": "e04a10cf-e317-4e19-9128-18c01aba7cb9",
   "metadata": {},
   "outputs": [],
   "source": [
    "df"
   ]
  },
  {
   "cell_type": "code",
   "execution_count": null,
   "id": "b46a9c9f-735d-4cfb-bc56-2aad904eafeb",
   "metadata": {},
   "outputs": [],
   "source": [
    "list(df)"
   ]
  },
  {
   "cell_type": "code",
   "execution_count": null,
   "id": "6920c9b2-8b0b-4ee2-818b-833a9f229b0b",
   "metadata": {},
   "outputs": [],
   "source": [
    "display(df['RRP_Date'].describe())\n",
    "display(df['RRP_Date'].unique())"
   ]
  },
  {
   "cell_type": "markdown",
   "id": "88194cac-1288-40f4-ab11-64f6cfa3c438",
   "metadata": {},
   "source": [
    "### Чистим данные"
   ]
  },
  {
   "cell_type": "code",
   "execution_count": null,
   "id": "d1ce2094-99b1-4e19-9059-511df3ee1c01",
   "metadata": {},
   "outputs": [],
   "source": [
    "def get_price_in(row):\n",
    "    if row['PriceClient']:\n",
    "        return row['PriceClient']\n",
    "    elif row['PriceClientRUB']:\n",
    "        return row['PriceClientRUB']\n",
    "    return None\n",
    "\n",
    "def get_currency_key_in(row):\n",
    "    if row['PriceClient']:\n",
    "        return 'USD'\n",
    "    elif row['PriceClientRUB']:\n",
    "        return 'RUB'\n",
    "    return None\n",
    "\n",
    "def get_price_out(row):\n",
    "    return float(row['RRP']) if row['RRP'] and row['RRP'] > row['PriceClientRUB'] else None\n",
    "\n",
    "def get_currency_key_out(row):\n",
    "    return 'RUB' if row['RRP'] and row['RRP'] > row['PriceClientRUB'] else None\n",
    "\n",
    "def get_can_reserve(x):\n",
    "    return True if x == 0.0 else False\n",
    "\n",
    "def get_can_order(x):\n",
    "    return True if  x == 0.0 else False\n",
    "\n",
    "def get_quantity(x):\n",
    "    return int(float(x))\n",
    "\n",
    "def get_expected_date(x):\n",
    "    return None if x is None else datetime.datetime.strptime(x, \"%Y-%m-%d\").date()\n",
    "\n",
    "def get_metadata(row):\n",
    "    metadata = dict(row[['ReserveCost']])\n",
    "    return json.dumps(metadata)\n",
    "\n",
    "df = df.rename(columns = {'No': 'products_key'})\n",
    "df['price_in'] = df.apply(get_price_in, axis=1)\n",
    "df['currency_key_in'] = df.apply(get_currency_key_in, axis=1)\n",
    "df['price_out'] = df.apply(get_price_out, axis=1)\n",
    "df['currency_key_out'] = df.apply(get_currency_key_out, axis=1)\n",
    "df['can_reserve'] = df['Online_Reserve'].apply(get_can_reserve)\n",
    "df['can_order'] = df['Online_Reserve'].apply(get_can_order)\n",
    "df['metadata'] = df.apply(get_metadata, axis=1)\n",
    "\n",
    "dfs = list()\n",
    "\n",
    "# Проверяем наполнение регионального склада\n",
    "df_ = df[df['AvailableClient_RG'] > 0].copy()\n",
    "df_['quantity'] = df_['AvailableClient_RG'].apply(get_quantity)\n",
    "df_ = df_.assign(location_key='Региональный склад')\n",
    "df_ = df_.assign(expected_date=None)\n",
    "dfs.append(df_)\n",
    "\n",
    "# Проверяем наполнение центрального склада\n",
    "df_ = df[df['AvailableClient_MSK'] > 0].copy()\n",
    "df_['quantity'] = df_['AvailableClient_MSK'].apply(get_quantity)\n",
    "df_ = df_.assign(location_key='Московский склад')\n",
    "df_ = df_.assign(expected_date=None)\n",
    "dfs.append(df_)\n",
    "\n",
    "df_ = df[df['AvailableExpected'] > 0].copy()\n",
    "df_['quantity'] = df_['AvailableExpected'].apply(get_quantity)\n",
    "df_ = df_.assign(location_key='Транзит')\n",
    "df_['expected_date'] = df_['DateExpectedNext'].apply(get_expected_date)\n",
    "dfs.append(df_)\n",
    "\n",
    "df_ = df[df['AvailableExpectedNext'] > 0].copy()\n",
    "df_['quantity'] = df_['AvailableExpectedNext'].apply(get_quantity)\n",
    "df_ = df_.assign(location_key='Транзит')\n",
    "df_['expected_date'] = df_['DateExpectedNext'].apply(get_expected_date)\n",
    "dfs.append(df_)\n",
    "\n",
    "df = pd.concat(dfs)\n",
    "\n",
    "\n",
    "df = df.drop(columns=['PriceClient', 'PriceClient_RG', 'PriceClient_MSK', 'PriceClientRUB', 'PriceClientRUB_RG', 'PriceClientRUB_MSK',\n",
    "                     'RRP', 'RRP_Date', 'Online_Reserve', 'AvailableClient', 'AvailableClient_RG', 'AvailableClient_MSK',\n",
    "                      'AvailableExpected', 'AvailableExpectedNext', 'DateExpectedNext', 'ReserveCost'])"
   ]
  },
  {
   "cell_type": "code",
   "execution_count": null,
   "id": "fb0deabb-16ce-4e3b-95c9-f53e192cb7e8",
   "metadata": {},
   "outputs": [],
   "source": [
    "df"
   ]
  },
  {
   "cell_type": "markdown",
   "id": "edc9b2eb-bc21-4f75-aa3a-5e26c9ddf6a9",
   "metadata": {},
   "source": [
    "## getItemsBarcodes"
   ]
  },
  {
   "cell_type": "code",
   "execution_count": null,
   "id": "52734b1f-8b3b-48c1-99a6-892380910934",
   "metadata": {},
   "outputs": [],
   "source": [
    "file = open('/home/abezpalov/data/merlion/barcodes_725.json', 'r')\n",
    "response = json.load(file)\n",
    "\n",
    "data_list = list()\n",
    "for item in response:\n",
    "\n",
    "    row = dict()\n",
    "    for key in item:\n",
    "        row[key] = item[key]\n",
    "    data_list.append(row)\n",
    "\n",
    "df = pd.DataFrame(data_list)"
   ]
  },
  {
   "cell_type": "markdown",
   "id": "bfdc99ac-bd76-4f56-9744-ea1855e92f1b",
   "metadata": {
    "jp-MarkdownHeadingCollapsed": true
   },
   "source": [
    "### Смотрим данные"
   ]
  },
  {
   "cell_type": "code",
   "execution_count": null,
   "id": "de303570-5b69-41f8-907b-bf7326729331",
   "metadata": {},
   "outputs": [],
   "source": [
    "df"
   ]
  },
  {
   "cell_type": "code",
   "execution_count": null,
   "id": "06e083aa-1f1a-4cb3-a9fd-a4b7117423b1",
   "metadata": {},
   "outputs": [],
   "source": [
    "list(df)"
   ]
  },
  {
   "cell_type": "markdown",
   "id": "c69b684d-9e7f-46da-b3c7-5a500c3a6939",
   "metadata": {},
   "source": [
    "### Чистим данные"
   ]
  },
  {
   "cell_type": "code",
   "execution_count": null,
   "id": "1f9bc78f-ab9a-46a2-adf2-dc62ce162037",
   "metadata": {},
   "outputs": [],
   "source": [
    "def get_packaging(x):\n",
    "    result = {'ШТ': 'штучный товар',\n",
    "              'BOX': 'стандартная упаковка (BOX)',\n",
    "              'BOXX': 'упаковка (BOXX)',\n",
    "              'IBOX': 'промежуточная упаковка (IBOX)',\n",
    "              'BBOX': 'альтернативная упаковка (BBOX)',\n",
    "              'BBOXX': 'альтернативная упаковка (BBOXX)'}\n",
    "    try:\n",
    "        return None if x is None else result[x]\n",
    "    except KeyError:\n",
    "        return x\n",
    "\n",
    "df = df.rename(columns = {'ItemNo': 'product_key',\n",
    "                          'Barcode': 'value'})\n",
    "\n",
    "df['checked'] = df['Checked'].apply(bool)\n",
    "df['packaging'] = df['UnitOfMeasure'].apply(get_packaging)\n",
    "df = df.assign(form=\"EAN 128\")\n",
    "df = df.drop(columns=['UnitOfMeasure', 'Checked'])"
   ]
  },
  {
   "cell_type": "code",
   "execution_count": null,
   "id": "d8e6f6d3-a707-4967-b6c4-240574e2c73e",
   "metadata": {},
   "outputs": [],
   "source": [
    "df"
   ]
  },
  {
   "cell_type": "markdown",
   "id": "b579dbf1-6324-48ca-a47e-1c6ab334f06f",
   "metadata": {
    "jp-MarkdownHeadingCollapsed": true
   },
   "source": [
    "## getItemsPropertiesSections"
   ]
  },
  {
   "cell_type": "code",
   "execution_count": null,
   "id": "548744a1-323d-4118-bc2b-cffb5b05845a",
   "metadata": {},
   "outputs": [],
   "source": [
    "file = open('/home/abezpalov/data/merlion/parameter_groups.json', 'r')\n",
    "response = json.load(file)\n",
    "\n",
    "data_list = list()\n",
    "for item in response:\n",
    "\n",
    "    row = dict()\n",
    "    for key in item:\n",
    "        row[key] = item[key]\n",
    "    data_list.append(row)\n",
    "\n",
    "df = pd.DataFrame(data_list)"
   ]
  },
  {
   "cell_type": "code",
   "execution_count": null,
   "id": "e39bfc86-1602-4a3b-b8b5-de61aef06e73",
   "metadata": {},
   "outputs": [],
   "source": [
    "df = df.rename(columns={'id': 'key'})"
   ]
  },
  {
   "cell_type": "code",
   "execution_count": null,
   "id": "c7994438-fcc2-4af7-9d04-c2c89a0c0655",
   "metadata": {},
   "outputs": [],
   "source": []
  },
  {
   "cell_type": "code",
   "execution_count": null,
   "id": "13056992-1fb4-474a-a55a-193b537001e4",
   "metadata": {},
   "outputs": [],
   "source": []
  },
  {
   "cell_type": "code",
   "execution_count": null,
   "id": "bc228c72-470e-40b6-b4eb-41ad7b9a6fed",
   "metadata": {},
   "outputs": [],
   "source": []
  },
  {
   "cell_type": "code",
   "execution_count": null,
   "id": "a44452dc-6c98-48e2-a190-abab09069fee",
   "metadata": {},
   "outputs": [],
   "source": []
  },
  {
   "cell_type": "code",
   "execution_count": null,
   "id": "56b1d6b6-24be-44c9-9eb2-0eeabad2933e",
   "metadata": {},
   "outputs": [],
   "source": []
  },
  {
   "cell_type": "code",
   "execution_count": null,
   "id": "3c543611-3433-4844-ab93-30c896bfb21d",
   "metadata": {},
   "outputs": [],
   "source": []
  },
  {
   "cell_type": "code",
   "execution_count": null,
   "id": "280556cc-bb17-44a5-9272-0f3cae812380",
   "metadata": {},
   "outputs": [],
   "source": [
    "file = open('/home/abezpalov/data/merlion/parameters_32.json', 'r')\n",
    "response = json.load(file)\n",
    "\n",
    "data_list = list()\n",
    "for item in response:\n",
    "\n",
    "    row = dict()\n",
    "    for key in item:\n",
    "        row[key] = item[key]\n",
    "    data_list.append(row)\n",
    "\n",
    "df = pd.DataFrame(data_list)"
   ]
  },
  {
   "cell_type": "code",
   "execution_count": null,
   "id": "b8b5d965-90ca-4bcd-b864-00cece28729a",
   "metadata": {},
   "outputs": [],
   "source": [
    "df"
   ]
  },
  {
   "cell_type": "markdown",
   "id": "bae532a7-b20b-447c-9d3c-b3620e984ace",
   "metadata": {
    "jp-MarkdownHeadingCollapsed": true
   },
   "source": [
    "## getItemsProperties"
   ]
  },
  {
   "cell_type": "code",
   "execution_count": null,
   "id": "6a63468a-2bfd-4a80-a778-979632bdfd29",
   "metadata": {},
   "outputs": [],
   "source": [
    "file = open('/home/abezpalov/data/merlion/parameters_724.json', 'r')\n",
    "response = json.load(file)\n",
    "\n",
    "data_list = list()\n",
    "for item in response:\n",
    "\n",
    "    row = dict()\n",
    "    for key in item:\n",
    "        row[key] = item[key]\n",
    "    data_list.append(row)\n",
    "\n",
    "df = pd.DataFrame(data_list)"
   ]
  },
  {
   "cell_type": "code",
   "execution_count": null,
   "id": "83e7362e-00d1-42cd-bd61-096079e95380",
   "metadata": {},
   "outputs": [],
   "source": [
    "df = df.rename(columns={'No': 'product_key',\n",
    "                        'PropertyID': 'parameter_key',\n",
    "                        'PropertyName': 'name',\n",
    "                        'Sorting': 'order',\n",
    "                        'Value': 'value',\n",
    "                        'Measure_Name': 'unit_key',\n",
    "                        'Section_Id': 'group_key'})\n",
    "\n",
    "df = df.drop(columns=['Last_time_modified'])\n",
    "\n",
    "dfs = dict()\n",
    "\n",
    "dfs['parameters'] = df[['group_key', 'parameter_key', 'name', 'order']]\n",
    "dfs['parameters'] = dfs['parameters'].rename(columns={'parameter_key': 'key'})\n",
    "\n",
    "dfs['values'] = df[['product_key', 'group_key', 'parameter_key', 'value', 'unit_key']]"
   ]
  },
  {
   "cell_type": "code",
   "execution_count": null,
   "id": "7d1789b9-09df-4c27-b61e-af27f178f39b",
   "metadata": {},
   "outputs": [],
   "source": [
    "display(dfs['parameters'])\n",
    "display(dfs['values'])"
   ]
  },
  {
   "cell_type": "markdown",
   "id": "d48c1e77-7e99-4c53-9331-3c28359d6575",
   "metadata": {
    "jp-MarkdownHeadingCollapsed": true
   },
   "source": [
    "## getItemsImages"
   ]
  },
  {
   "cell_type": "code",
   "execution_count": null,
   "id": "c8166198-7880-4a92-b084-8aa9bc41ea47",
   "metadata": {},
   "outputs": [],
   "source": [
    "file = open('/home/abezpalov/data/merlion/images_43.json', 'r')\n",
    "response = json.load(file)\n",
    "\n",
    "data_list = list()\n",
    "for item in response:\n",
    "\n",
    "    row = dict()\n",
    "    for key in item:\n",
    "        row[key] = item[key]\n",
    "    data_list.append(row)\n",
    "\n",
    "df = pd.DataFrame(data_list)"
   ]
  },
  {
   "cell_type": "code",
   "execution_count": null,
   "id": "7475b564-e009-4846-8d06-a39dd661c1f9",
   "metadata": {},
   "outputs": [],
   "source": [
    "def get_source_url(x):\n",
    "    return f'http://img.merlion.ru/items/{x}'\n",
    "\n",
    "df['source_url'] = df['FileName'].apply(get_source_url)\n",
    "df = df.rename(columns={'No': 'product_key',\n",
    "                        'Size': 'size',\n",
    "                        'Width': 'width',\n",
    "                        'Height': 'height'})\n",
    "df = df.drop(columns=['ViewType', 'SizeType', 'FileName', 'Created'])"
   ]
  },
  {
   "cell_type": "code",
   "execution_count": null,
   "id": "7f252d57-ecba-4f93-99d9-07cac48ab43b",
   "metadata": {},
   "outputs": [],
   "source": [
    "df"
   ]
  },
  {
   "cell_type": "code",
   "execution_count": null,
   "id": "9f467bec-98cb-4780-977a-6ea057bc8e5e",
   "metadata": {},
   "outputs": [],
   "source": []
  },
  {
   "cell_type": "code",
   "execution_count": null,
   "id": "0820379b-a557-4011-9a75-bd3e647706e8",
   "metadata": {},
   "outputs": [],
   "source": []
  },
  {
   "cell_type": "code",
   "execution_count": null,
   "id": "0a285677-615a-4628-a8a6-f01664141191",
   "metadata": {},
   "outputs": [],
   "source": []
  },
  {
   "cell_type": "code",
   "execution_count": null,
   "id": "32e09a43-02dd-401e-b636-8fb799e3e939",
   "metadata": {},
   "outputs": [],
   "source": []
  },
  {
   "cell_type": "code",
   "execution_count": null,
   "id": "2abd3d7e-124a-4664-8343-f7346fe3ec94",
   "metadata": {},
   "outputs": [],
   "source": []
  },
  {
   "cell_type": "code",
   "execution_count": null,
   "id": "dd3dee60-8a06-4bf4-b4fb-3d99c7645ab1",
   "metadata": {},
   "outputs": [],
   "source": []
  },
  {
   "cell_type": "code",
   "execution_count": null,
   "id": "5dfe26dd-e249-4296-a6a3-a9a77863d17b",
   "metadata": {},
   "outputs": [],
   "source": []
  },
  {
   "cell_type": "code",
   "execution_count": null,
   "id": "e9ef620b-212e-4cdb-8260-2c97e663fedc",
   "metadata": {},
   "outputs": [],
   "source": []
  }
 ],
 "metadata": {
  "kernelspec": {
   "display_name": "Python 3 (ipykernel)",
   "language": "python",
   "name": "python3"
  },
  "language_info": {
   "codemirror_mode": {
    "name": "ipython",
    "version": 3
   },
   "file_extension": ".py",
   "mimetype": "text/x-python",
   "name": "python",
   "nbconvert_exporter": "python",
   "pygments_lexer": "ipython3",
   "version": "3.10.12"
  }
 },
 "nbformat": 4,
 "nbformat_minor": 5
}
