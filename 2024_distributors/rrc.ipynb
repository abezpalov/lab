{
 "cells": [
  {
   "cell_type": "markdown",
   "id": "283e4abb-4b55-401c-9815-cb91053874b2",
   "metadata": {},
   "source": [
    "# RRC"
   ]
  },
  {
   "cell_type": "code",
   "execution_count": null,
   "id": "e1f04af6-cb0a-42c8-b01f-3de130e3c1d4",
   "metadata": {},
   "outputs": [],
   "source": [
    "import numpy as np\n",
    "import pandas as pd\n",
    "import json\n",
    "\n",
    "import requests\n",
    "import lxml.html\n",
    "import lxml.etree"
   ]
  },
  {
   "cell_type": "markdown",
   "id": "44a5a88a-7ba3-4198-92a0-9bd4a12656e5",
   "metadata": {},
   "source": [
    "## Каталог XML"
   ]
  },
  {
   "cell_type": "code",
   "execution_count": null,
   "id": "71ce0820-2e04-494e-9dfc-f75964a6d784",
   "metadata": {},
   "outputs": [],
   "source": [
    "requests.get('https://thinklink.ru/personal/xml',\n",
    "             params={'code':'__',\n",
    "                     'id':'__',\n",
    "                     'login':'__',\n",
    "                     'pass':'__'},)"
   ]
  },
  {
   "cell_type": "code",
   "execution_count": null,
   "id": "aa3e064c-1a67-42ab-bdf1-d46aa0b2c419",
   "metadata": {},
   "outputs": [],
   "source": [
    "response = requests.get('https://thinklink.ru/personal/xml/__.xml')"
   ]
  },
  {
   "cell_type": "code",
   "execution_count": null,
   "id": "ec52625c-5356-4af1-afb6-4923ea85d528",
   "metadata": {},
   "outputs": [],
   "source": [
    "tree = lxml.etree.fromstring(response.content)\n",
    "tree"
   ]
  },
  {
   "cell_type": "markdown",
   "id": "477f560e-72b0-4448-b697-a5e5f53e257f",
   "metadata": {},
   "source": [
    "### categories_df"
   ]
  },
  {
   "cell_type": "code",
   "execution_count": null,
   "id": "fe745c88-2100-4f97-9a6f-0c9ecd5a06d4",
   "metadata": {},
   "outputs": [],
   "source": [
    "categories_data_list = list()\n",
    "for category_data in tree.xpath('./section_catalog/section'):\n",
    "    \n",
    "    category = dict()\n",
    "\n",
    "    try:\n",
    "        category['key'] = category_data.xpath('./id/text()')[0]\n",
    "    except IndexError:\n",
    "        category['key'] = None\n",
    "    \n",
    "    try:\n",
    "        category['code'] = category_data.xpath('./code/text()')[0]\n",
    "    except IndexError:\n",
    "        category['code'] = None\n",
    "\n",
    "    try:\n",
    "        category['name'] = category_data.xpath('./name/text()')[0]\n",
    "    except IndexError:\n",
    "        category['name'] = None\n",
    "    \n",
    "    try:\n",
    "        category['parent_key'] = category_data.xpath('./section_id/text()')[0]\n",
    "    except IndexError:\n",
    "        category['parent_key'] = None\n",
    "    \n",
    "    try:\n",
    "        category['section_code'] = category_data.xpath('./section_code/text()')[0]\n",
    "    except IndexError:\n",
    "        category['section_code'] = None\n",
    "    \n",
    "    try:\n",
    "        category['depth_level'] = category_data.xpath('./depth_level/text()')[0]\n",
    "    except IndexError:\n",
    "        category['depth_level'] = None\n",
    "    \n",
    "    categories_data_list.append(category)\n",
    "\n",
    "df = pd.DataFrame(categories_data_list)\n",
    "\n",
    "df"
   ]
  },
  {
   "cell_type": "markdown",
   "id": "efb885f7-a3fd-4b21-8550-e55e247c4423",
   "metadata": {
    "jp-MarkdownHeadingCollapsed": true
   },
   "source": [
    "#### Смотрим данные"
   ]
  },
  {
   "cell_type": "code",
   "execution_count": null,
   "id": "144dff0c-4f6d-4d2e-befc-d92acdd30a9c",
   "metadata": {},
   "outputs": [],
   "source": [
    "list(df)"
   ]
  },
  {
   "cell_type": "code",
   "execution_count": null,
   "id": "942d1ece-c17e-436e-8983-ca0088cadcb9",
   "metadata": {},
   "outputs": [],
   "source": [
    "display(df['key'].describe())\n",
    "display(df['key'].unique())"
   ]
  },
  {
   "cell_type": "code",
   "execution_count": null,
   "id": "e4d48970-ccca-45af-955e-2a13e807d3f6",
   "metadata": {},
   "outputs": [],
   "source": [
    "display(df['code'].describe())\n",
    "display(df['code'].unique())"
   ]
  },
  {
   "cell_type": "code",
   "execution_count": null,
   "id": "f59e7c2e-1efe-489b-8ea6-440deb18bfc6",
   "metadata": {},
   "outputs": [],
   "source": [
    "display(df['name'].describe())\n",
    "display(df['name'].unique())"
   ]
  },
  {
   "cell_type": "code",
   "execution_count": null,
   "id": "0968ec77-b5cd-4c15-b67c-4c4eae9263c6",
   "metadata": {},
   "outputs": [],
   "source": [
    "display(df['section_id'].describe())\n",
    "display(df['section_id'].unique())"
   ]
  },
  {
   "cell_type": "code",
   "execution_count": null,
   "id": "68ef9467-267a-4271-87e7-c0769dd90d53",
   "metadata": {},
   "outputs": [],
   "source": [
    "display(df['section_code'].describe())\n",
    "display(df['section_code'].unique())"
   ]
  },
  {
   "cell_type": "code",
   "execution_count": null,
   "id": "ba94e414-155d-4e3c-8561-5741c6820474",
   "metadata": {},
   "outputs": [],
   "source": [
    "display(df['depth_level'].describe())\n",
    "display(df['depth_level'].unique())"
   ]
  },
  {
   "cell_type": "code",
   "execution_count": null,
   "id": "ae6de5e0-e9b2-425f-8e6a-e5ea3616b7c4",
   "metadata": {},
   "outputs": [],
   "source": [
    "df.rename(columns={'section_id': 'parent_key'}, inplace=True)\n",
    "\n",
    "df"
   ]
  },
  {
   "cell_type": "markdown",
   "id": "abb730ca-a81f-41dd-83ac-58bf73ef684b",
   "metadata": {},
   "source": [
    "#### Чистим данные"
   ]
  },
  {
   "cell_type": "code",
   "execution_count": null,
   "id": "fc96657b-86fa-42ab-9cbc-ad2038d3c49a",
   "metadata": {},
   "outputs": [],
   "source": [
    "categories_df = df[['key', 'parent_key', 'name']]\n",
    "categories_df"
   ]
  },
  {
   "cell_type": "code",
   "execution_count": null,
   "id": "57039a76-311e-4b21-b949-44063b9b2270",
   "metadata": {},
   "outputs": [],
   "source": [
    "display(df['parent_key'].describe())\n",
    "display(df['parent_key'].unique())"
   ]
  },
  {
   "cell_type": "markdown",
   "id": "0174c0a1-e38a-4e07-9fa8-227cf7fc072a",
   "metadata": {},
   "source": [
    "### vendors_df, products_df, parties_df"
   ]
  },
  {
   "cell_type": "code",
   "execution_count": null,
   "id": "5339b1e8-4c96-49c9-bf95-6a4eafc4dbe5",
   "metadata": {},
   "outputs": [],
   "source": [
    "products_data_list = list()\n",
    "for products_item in tree.xpath('./catalog_item/item'):\n",
    "    \n",
    "    product = dict()\n",
    "\n",
    "    try:\n",
    "        product['key'] = products_item.xpath('./id/text()')[0]\n",
    "    except IndexError:\n",
    "        product['key'] = None\n",
    "\n",
    "    try:\n",
    "        product['name'] = products_item.xpath('./name/text()')[0]\n",
    "    except IndexError:\n",
    "        product['name'] = None\n",
    "\n",
    "    try:\n",
    "        product['code'] = products_item.xpath('./code/text()')[0]\n",
    "    except IndexError:\n",
    "        product['code'] = None\n",
    "\n",
    "    try:\n",
    "        product['category_key'] = products_item.xpath('./section_id/text()')[0]\n",
    "    except IndexError:\n",
    "        product['category_key'] = None\n",
    "\n",
    "    try:\n",
    "        product['section_code'] = products_item.xpath('./section_code/text()')[0]\n",
    "    except IndexError:\n",
    "        product['section_code'] = None\n",
    "\n",
    "    try:\n",
    "        product['vendor_pn'] = products_item.xpath('./vendor_pn/text()')[0]\n",
    "    except IndexError:\n",
    "        product['vendor_pn'] = None\n",
    "\n",
    "    try:\n",
    "        product['partnumber'] = products_item.xpath('./partnumber/text()')[0]\n",
    "    except IndexError:\n",
    "        product['partnumber'] = None\n",
    "\n",
    "    try:\n",
    "        product['vendor_key'] = products_item.xpath('./vendor/text()')[0]\n",
    "    except IndexError:\n",
    "        product['vendor_key'] = None\n",
    "\n",
    "    try:\n",
    "        product['quantity'] = products_item.xpath('./quantity/text()')[0]\n",
    "    except IndexError:\n",
    "        product['quantity'] = None\n",
    "\n",
    "    try:\n",
    "        product['price_rub'] = products_item.xpath('./price_rub/text()')[0]\n",
    "    except IndexError:\n",
    "        product['price_rub'] = None\n",
    "\n",
    "    try:\n",
    "        product['price_usd'] = products_item.xpath('./price_usd/text()')[0]\n",
    "    except IndexError:\n",
    "        product['price_usd'] = None\n",
    "\n",
    "    try:\n",
    "        product['price_eur'] = products_item.xpath('./price_eur/text()')[0]\n",
    "    except IndexError:\n",
    "        product['price_eur'] = None\n",
    "\n",
    "    try:\n",
    "        product['MSRP_RUR'] = products_item.xpath('./MSRP_RUR/text()')[0]\n",
    "    except IndexError:\n",
    "        product['MSRP_RUR'] = None\n",
    "\n",
    "    try:\n",
    "        product['WithoutVAT'] = products_item.xpath('./WithoutVAT/text()')[0]\n",
    "    except IndexError:\n",
    "        product['WithoutVAT'] = None\n",
    "\n",
    "    \n",
    "    products_data_list.append(product)\n",
    "\n",
    "df = pd.DataFrame(products_data_list)\n",
    "\n",
    "df"
   ]
  },
  {
   "cell_type": "markdown",
   "id": "a02d323d-c994-4ee1-82b1-90efdebb6c95",
   "metadata": {
    "jp-MarkdownHeadingCollapsed": true
   },
   "source": [
    "#### Смотрим данные"
   ]
  },
  {
   "cell_type": "code",
   "execution_count": null,
   "id": "3b13f7fc-5b30-4c8c-80af-fc4be448ee37",
   "metadata": {},
   "outputs": [],
   "source": [
    "list(df)"
   ]
  },
  {
   "cell_type": "code",
   "execution_count": null,
   "id": "59bb6660-55f2-4e5e-af87-ff69f2f2641b",
   "metadata": {},
   "outputs": [],
   "source": [
    "display(df['key'].describe())\n",
    "display(df['key'].unique())"
   ]
  },
  {
   "cell_type": "code",
   "execution_count": null,
   "id": "9a57755c-9a0d-4d40-bc6d-979fb1651497",
   "metadata": {},
   "outputs": [],
   "source": [
    "df[df['key'] == '78808']"
   ]
  },
  {
   "cell_type": "code",
   "execution_count": null,
   "id": "58c80880-0343-4fd7-9cc5-11153c4aee5d",
   "metadata": {},
   "outputs": [],
   "source": [
    "display(df['name'].describe())\n",
    "display(df['name'].unique())"
   ]
  },
  {
   "cell_type": "code",
   "execution_count": null,
   "id": "f1ae6c86-0eba-4f61-a227-c34fffc2d092",
   "metadata": {},
   "outputs": [],
   "source": [
    "display(df['code'].describe())\n",
    "display(df['code'].unique())"
   ]
  },
  {
   "cell_type": "code",
   "execution_count": null,
   "id": "7b440cee-6172-4956-ab26-ccef502dbaf0",
   "metadata": {},
   "outputs": [],
   "source": [
    "display(df['category_key'].describe())\n",
    "display(df['category_key'].unique())"
   ]
  },
  {
   "cell_type": "code",
   "execution_count": null,
   "id": "27e05214-98f7-4e32-abc3-698b4ede61d6",
   "metadata": {},
   "outputs": [],
   "source": [
    "display(df['section_code'].describe())\n",
    "display(df['section_code'].unique())"
   ]
  },
  {
   "cell_type": "code",
   "execution_count": null,
   "id": "929d4459-6b52-4b25-abd7-7c0bd3449f7a",
   "metadata": {},
   "outputs": [],
   "source": [
    "display(df['vendor_pn'].describe())\n",
    "display(df['vendor_pn'].unique())"
   ]
  },
  {
   "cell_type": "code",
   "execution_count": null,
   "id": "c1897572-3573-4dcd-81e2-6623f1aa3c74",
   "metadata": {},
   "outputs": [],
   "source": [
    "display(df['partnumber'].describe())\n",
    "display(df['partnumber'].unique())"
   ]
  },
  {
   "cell_type": "code",
   "execution_count": null,
   "id": "cf36a516-0fc1-40f7-8125-b67751dc1c93",
   "metadata": {},
   "outputs": [],
   "source": [
    "df[df['vendor_pn'] != df['part_number']]"
   ]
  },
  {
   "cell_type": "code",
   "execution_count": null,
   "id": "113d2360-dac1-4926-ba2d-15bd14fee3d6",
   "metadata": {},
   "outputs": [],
   "source": [
    "display(df['vendor_key'].describe())\n",
    "display(df['vendor_key'].unique())"
   ]
  },
  {
   "cell_type": "code",
   "execution_count": null,
   "id": "10248960-36b0-41ab-b750-0071d1f59b5f",
   "metadata": {},
   "outputs": [],
   "source": [
    "display(df['quantity'].describe())\n",
    "display(df['quantity'].unique())"
   ]
  },
  {
   "cell_type": "code",
   "execution_count": null,
   "id": "9ff9c3f0-4441-4ed8-a661-52842b5b25d3",
   "metadata": {},
   "outputs": [],
   "source": [
    "display(df['price_rub'].describe())\n",
    "display(df['price_rub'].unique())"
   ]
  },
  {
   "cell_type": "code",
   "execution_count": null,
   "id": "866827d6-66a7-4644-befa-d1349ed9caa0",
   "metadata": {},
   "outputs": [],
   "source": [
    "display(df['price_usd'].describe())\n",
    "display(df['price_usd'].unique())"
   ]
  },
  {
   "cell_type": "code",
   "execution_count": null,
   "id": "0230c2ed-61fc-4798-b0f8-d8672ac94fc1",
   "metadata": {},
   "outputs": [],
   "source": [
    "display(df['price_eur'].describe())\n",
    "display(df['price_eur'].unique())"
   ]
  },
  {
   "cell_type": "code",
   "execution_count": null,
   "id": "c62809fe-494d-4906-873a-e6ea1969da36",
   "metadata": {},
   "outputs": [],
   "source": [
    "display(df['MSRP_RUR'].describe())\n",
    "display(df['MSRP_RUR'].unique())"
   ]
  },
  {
   "cell_type": "code",
   "execution_count": null,
   "id": "b9ed4e07-35b2-4ccc-b2a4-c8882a851955",
   "metadata": {},
   "outputs": [],
   "source": [
    "display(df['WithoutVAT'].describe())\n",
    "display(df['WithoutVAT'].unique())"
   ]
  },
  {
   "cell_type": "markdown",
   "id": "7b12494b-59c1-4fd2-b0ba-48c0756fee6e",
   "metadata": {},
   "source": [
    "#### Чистим данные"
   ]
  },
  {
   "cell_type": "code",
   "execution_count": null,
   "id": "12fab777-e3aa-403c-a527-214ead3a14b9",
   "metadata": {},
   "outputs": [],
   "source": [
    "def get_part_number(row):\n",
    "    return row['vendor_pn'] if row['vendor_pn'] else row['partnumber']\n",
    "\n",
    "df['part_number'] = df.apply(get_part_number, axis=1)\n",
    "df['part_number']"
   ]
  },
  {
   "cell_type": "code",
   "execution_count": null,
   "id": "35a52e03-bb2f-4848-92b3-03c6a378bb89",
   "metadata": {},
   "outputs": [],
   "source": [
    "df['quantity'] = df['quantity'].apply(int)\n",
    "df['quantity']"
   ]
  },
  {
   "cell_type": "code",
   "execution_count": null,
   "id": "71f171fc-a29e-4728-bfc0-294604160e4e",
   "metadata": {},
   "outputs": [],
   "source": [
    "def get_price_in(row):\n",
    "    if row['price_usd'] is not None and float(row['price_usd']):\n",
    "        return float(row['price_usd'])\n",
    "    if row['price_rub'] is not None and float(row['price_rub']):\n",
    "        return float(row['price_rub'])\n",
    "    if row['price_eur'] is not None and float(row['price_eur']):\n",
    "        return float(row['price_eur'])\n",
    "    return None\n",
    "\n",
    "df['price_in'] = df.apply(get_price_in, axis=1)\n",
    "df['price_in']"
   ]
  },
  {
   "cell_type": "code",
   "execution_count": null,
   "id": "e969cd8f-af27-4d81-a72d-8471fb1b40c9",
   "metadata": {},
   "outputs": [],
   "source": [
    "def get_currency_in(row):\n",
    "    if row['price_usd'] is not None and float(row['price_usd']):\n",
    "        return 'USD'\n",
    "    if row['price_rub'] is not None and float(row['price_rub']):\n",
    "        return 'RUB'\n",
    "    if row['price_eur'] is not None and float(row['price_eur']):\n",
    "        return 'EUR'\n",
    "    return None\n",
    "\n",
    "df['currency_key_in'] = df.apply(get_currency_in, axis=1)\n",
    "df['currency_key_in']"
   ]
  },
  {
   "cell_type": "code",
   "execution_count": null,
   "id": "77493ff5-d65e-4b69-97b0-520473ca683c",
   "metadata": {},
   "outputs": [],
   "source": [
    "display(df['currency_key_in'].describe())\n",
    "display(df['currency_key_in'].unique())"
   ]
  },
  {
   "cell_type": "code",
   "execution_count": null,
   "id": "6a348295-96b2-4a4f-bc8d-6e4a1c03a8d8",
   "metadata": {},
   "outputs": [],
   "source": [
    "def get_price_out(x):\n",
    "    return float(x) if x is not None else None\n",
    "\n",
    "df['price_out'] = df['MSRP_RUR'].apply(get_price_out)\n",
    "df['price_out']"
   ]
  },
  {
   "cell_type": "code",
   "execution_count": null,
   "id": "ded122f9-2db0-4605-9641-6c7290363b03",
   "metadata": {},
   "outputs": [],
   "source": [
    "def get_currency_key_out(x):\n",
    "    return 'RUB' if x is not None else None\n",
    "\n",
    "df['currency_key_out'] = df['MSRP_RUR'].apply(get_currency_key_out)\n",
    "df['currency_key_out']"
   ]
  },
  {
   "cell_type": "code",
   "execution_count": null,
   "id": "eec13e52-769e-4f7e-82cf-a35bfdc4de15",
   "metadata": {},
   "outputs": [],
   "source": [
    "df['product_key'] = df['key']"
   ]
  },
  {
   "cell_type": "code",
   "execution_count": null,
   "id": "32e7f7c9-5251-44fa-98ef-f93fb06c2f24",
   "metadata": {},
   "outputs": [],
   "source": [
    "df = df.assign(location_key='Склады RRC')"
   ]
  },
  {
   "cell_type": "code",
   "execution_count": null,
   "id": "7d270641-1502-420f-b1d9-77024adb3d04",
   "metadata": {},
   "outputs": [],
   "source": [
    "def get_product_metadata(row):\n",
    "    metadata = dict(row[['code', 'vendor_pn', 'partnumber']])\n",
    "    return json.dumps(metadata)\n",
    "\n",
    "df['metadata'] = df.apply(get_product_metadata, axis=1)\n",
    "df['metadata']  "
   ]
  },
  {
   "cell_type": "code",
   "execution_count": null,
   "id": "d03ff567-be61-43ce-86db-a35ba6a8fe6b",
   "metadata": {},
   "outputs": [],
   "source": [
    "list(df)"
   ]
  },
  {
   "cell_type": "code",
   "execution_count": null,
   "id": "a00633a9-cb12-44c4-b433-fd44f0700e88",
   "metadata": {},
   "outputs": [],
   "source": [
    "products_df = df[['key', 'name', 'category_key', 'vendor_key', 'metadata']]\n",
    "products_df"
   ]
  },
  {
   "cell_type": "code",
   "execution_count": null,
   "id": "8e383fd3-62cd-4309-8a75-b55ddf176e83",
   "metadata": {},
   "outputs": [],
   "source": [
    "patries_df = df[['product_key', 'quantity', 'price_in', 'currency_key_in', 'price_out', 'currency_key_out', 'location_key']]\n",
    "patries_df = patries_df[patries_df['quantity'] > 0]\n",
    "patries_df"
   ]
  },
  {
   "cell_type": "code",
   "execution_count": null,
   "id": "0e1ac45f-f04e-41b6-b438-34119ab9a24f",
   "metadata": {},
   "outputs": [],
   "source": []
  }
 ],
 "metadata": {
  "kernelspec": {
   "display_name": "Python 3 (ipykernel)",
   "language": "python",
   "name": "python3"
  },
  "language_info": {
   "codemirror_mode": {
    "name": "ipython",
    "version": 3
   },
   "file_extension": ".py",
   "mimetype": "text/x-python",
   "name": "python",
   "nbconvert_exporter": "python",
   "pygments_lexer": "ipython3",
   "version": "3.10.12"
  }
 },
 "nbformat": 4,
 "nbformat_minor": 5
}
