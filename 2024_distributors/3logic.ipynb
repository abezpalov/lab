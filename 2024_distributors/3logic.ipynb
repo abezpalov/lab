{
 "cells": [
  {
   "cell_type": "markdown",
   "id": "bf724453-5f57-48f7-aa83-e3893ff76b11",
   "metadata": {},
   "source": [
    "# 3Logic"
   ]
  },
  {
   "cell_type": "code",
   "execution_count": null,
   "id": "3d3152b8-f765-4206-a43f-424b3835e769",
   "metadata": {},
   "outputs": [],
   "source": [
    "import numpy as np\n",
    "import pandas as pd\n",
    "import json\n",
    "import lxml.html\n",
    "import datetime"
   ]
  },
  {
   "cell_type": "markdown",
   "id": "3671a974-5d8a-4fea-a8f4-14b289be9681",
   "metadata": {},
   "source": [
    "## Категории"
   ]
  },
  {
   "cell_type": "code",
   "execution_count": null,
   "id": "d7a71681-544e-4bc3-87ac-f051ef09980b",
   "metadata": {},
   "outputs": [],
   "source": [
    "file = open('/home/abezpalov/data/3logic/product-categories.json', 'r')\n",
    "response = json.load(file)"
   ]
  },
  {
   "cell_type": "code",
   "execution_count": null,
   "id": "1561142e-9b14-4302-9c05-ec8ae812f610",
   "metadata": {},
   "outputs": [],
   "source": [
    "df = pd.DataFrame(response)"
   ]
  },
  {
   "cell_type": "code",
   "execution_count": null,
   "id": "912a46f8-e632-40f6-93bb-533ad8a1d39c",
   "metadata": {},
   "outputs": [],
   "source": [
    "file = open('/home/abezpalov/data/3logic/price-categories.json', 'r')\n",
    "response = json.load(file)"
   ]
  },
  {
   "cell_type": "code",
   "execution_count": null,
   "id": "195c0155-3fe9-44f1-bf38-8a1a3c861d6e",
   "metadata": {},
   "outputs": [],
   "source": [
    "def get_category_key(x):\n",
    "    if x[-1] == '/':\n",
    "        x = x[:-1]\n",
    "    return x.split('/')[-1]\n",
    "\n",
    "def get_parent_key(x):\n",
    "    if x[-1] == '/':\n",
    "        x = x[:-1]\n",
    "    x = x.split('/')\n",
    "    return x[-2] if len(x) > 1 else None\n",
    "\n",
    "def get_category_metadata(row):\n",
    "    metadata = dict(row[['price_category_id', 'path', 'is_parent']])\n",
    "    return json.dumps(metadata)\n",
    "\n",
    "categories_df = pd.DataFrame(response)\n",
    "categories_df['key'] = categories_df['path'].apply(get_category_key)\n",
    "categories_df['parent_key'] = categories_df['path'].apply(get_parent_key)\n",
    "categories_df['metadata'] = categories_df.apply(get_category_metadata, axis=1)\n",
    "categories_df = categories_df.drop(['price_category_id', 'path', 'level', 'is_parent'], axis=1)"
   ]
  },
  {
   "cell_type": "markdown",
   "id": "014d0cea-3f7f-4d40-a842-8a598114a5a4",
   "metadata": {},
   "source": [
    "## Производители"
   ]
  },
  {
   "cell_type": "code",
   "execution_count": null,
   "id": "486e44ef-3271-41e0-ad60-a46d96b251dc",
   "metadata": {},
   "outputs": [],
   "source": [
    "file = open('/home/abezpalov/data/3logic/vendors.json', 'r')\n",
    "response = json.load(file)"
   ]
  },
  {
   "cell_type": "code",
   "execution_count": null,
   "id": "9bf7c99d-74d3-46b7-b719-c04fbf650982",
   "metadata": {},
   "outputs": [],
   "source": [
    "vendor_df = pd.DataFrame(response)\n",
    "vendor_df = vendor_df.rename(columns={'brand_id': 'key'})"
   ]
  },
  {
   "cell_type": "markdown",
   "id": "22e72b78-63ca-409d-bb21-6e43433f7c2c",
   "metadata": {},
   "source": [
    "## Продукты"
   ]
  },
  {
   "cell_type": "code",
   "execution_count": null,
   "id": "9030ea28-fe26-4433-8d38-d746c2d0a65a",
   "metadata": {},
   "outputs": [],
   "source": [
    "file = open('/home/abezpalov/data/3logic/products_ext_124.json', 'r')\n",
    "data_list = json.load(file)"
   ]
  },
  {
   "cell_type": "code",
   "execution_count": null,
   "id": "65b349a7-aa93-4acc-bce2-6a4f390ce210",
   "metadata": {},
   "outputs": [],
   "source": [
    "file = open('/home/abezpalov/data/3logic/categories_keys.json', 'r')\n",
    "categories_keys = json.load(file)"
   ]
  },
  {
   "cell_type": "code",
   "execution_count": null,
   "id": "451e25b9-aa39-436c-8b08-96c0fbc0982e",
   "metadata": {},
   "outputs": [],
   "source": [
    "# products_df\n",
    "# barcodes_df\n",
    "\n",
    "products_df = pd.DataFrame(data_list)\n",
    "\n",
    "def get_category_key(x):\n",
    "    try:\n",
    "        return categories_keys[str(x)]\n",
    "    except KeyError:\n",
    "        return None\n",
    "\n",
    "def get_length(row):\n",
    "    if row['product_length'] and row['product_width']:\n",
    "        return max(row['product_length'], row['product_width'])\n",
    "    return None\n",
    "\n",
    "def get_width(row):\n",
    "    if row['product_length'] and row['product_width']:\n",
    "        return min(row['product_length'], row['product_width'])\n",
    "    return None\n",
    "\n",
    "def get_positive_float(x):\n",
    "    x = float(x)\n",
    "    return x if x else None\n",
    "\n",
    "def get_min_of_quantity(x):\n",
    "    return float(x) if x else 1\n",
    "\n",
    "def get_quantity(x):\n",
    "    try:\n",
    "        return x['quantity']\n",
    "    except TypeError:\n",
    "        return None\n",
    "\n",
    "def get_expected_date(x):\n",
    "    try:\n",
    "        return x['arrival_date']\n",
    "    except TypeError:\n",
    "        return None\n",
    "\n",
    "products_df = products_df.rename(columns={'product_id': 'key',\n",
    "                                          'partnumber': 'part_number',\n",
    "                                          'product_name': 'name',\n",
    "                                          'product_height': 'height',\n",
    "                                          'brand_id': 'vendor_key',\n",
    "                                          'package_volume': 'volume',\n",
    "                                          'package_weight': 'weight'})\n",
    "\n",
    "products_df['category_key'] = products_df['price_category_id'].apply(get_category_key)\n",
    "products_df['length'] = products_df.apply(get_length, axis=1)\n",
    "products_df['width'] = products_df.apply(get_width, axis=1)\n",
    "products_df['height'] = products_df['height'].apply(get_positive_float)\n",
    "products_df['weight'] = products_df['weight'].apply(get_positive_float)\n",
    "products_df['volume'] = products_df['volume'].apply(get_positive_float)\n",
    "products_df['min_of_quantity'] = products_df['package_quantity'].apply(get_min_of_quantity)\n",
    "products_df['step_of_quantity'] = products_df['min_of_quantity']\n",
    "products_df = products_df[products_df['product_quality'] == 'good']\n",
    "\n",
    "barcodes_df = products_df[['key', 'barcode']].copy()\n",
    "barcodes_df = barcodes_df.rename(columns={'key': 'product_key',\n",
    "                                          'barcode': 'value'})\n",
    "barcodes_df = barcodes_df[barcodes_df['value'] != '']\n",
    "\n",
    "parties_df = products_df[['key', 'price', 'currency_iso_code', 'remain', 'remain_addinf', 'transit']].copy()\n",
    "parties_df = parties_df.assign(unconditional=False)\n",
    "parties_df = parties_df.rename(columns={'key': 'product_key',\n",
    "                                        'price': 'price_in',\n",
    "                                        'currency_iso_code': 'currency_key_in'})\n",
    "parties_df = parties_df.assign(unit_key='шт')\n",
    "\n",
    "stock_df = parties_df[parties_df['remain'] > 0].copy()\n",
    "stock_df = stock_df.rename(columns={'remain': 'quantity'})\n",
    "stock_df = stock_df.assign(location_key=\"Склад\")\n",
    "stock_df = stock_df.assign(expected_date=None)\n",
    "stock_df = stock_df.drop(['remain_addinf', 'transit'], axis=1)\n",
    "\n",
    "transit_df = parties_df.copy()\n",
    "transit_df['quantity'] = transit_df['transit'].apply(get_quantity)\n",
    "transit_df['expected_date'] = transit_df['transit'].apply(get_expected_date)\n",
    "transit_df = transit_df.assign(location_key=\"Транзит\")\n",
    "transit_df = transit_df.drop(['remain', 'remain_addinf', 'transit'], axis=1)\n",
    "transit_df = transit_df[transit_df['quantity'] > 0]\n",
    "\n",
    "parties_df = pd.concat([stock_df, transit_df])\n",
    "\n",
    "products_df = products_df.drop(['model', 'brand_name', 'photos', 'attributes', 'product_length', 'product_width',\n",
    "                                'package_quantity', 'barcode', 'price', 'currency_iso_code', 'remain', 'remain_addinf',\n",
    "                                'transit', 'product_category', 'product_category_id', 'price_category_id', 'price_category'], axis=1)"
   ]
  },
  {
   "cell_type": "code",
   "execution_count": null,
   "id": "8dc1e862-d9f0-42f3-b9d6-4a5c5f00b769",
   "metadata": {},
   "outputs": [],
   "source": [
    "products_df"
   ]
  },
  {
   "cell_type": "markdown",
   "id": "c1c7f8f7-59db-4e43-94b6-0fbb19b47a54",
   "metadata": {},
   "source": [
    "## Характеристики и продукты"
   ]
  },
  {
   "cell_type": "code",
   "execution_count": null,
   "id": "f0b4a793-a9e9-4c22-9784-2480610f959d",
   "metadata": {},
   "outputs": [],
   "source": [
    "file = open('/home/abezpalov/data/3logic/content_124.json', 'r')\n",
    "data_list = json.load(file)"
   ]
  },
  {
   "cell_type": "code",
   "execution_count": null,
   "id": "5a806956-07c1-40ed-837c-bcc994bea560",
   "metadata": {},
   "outputs": [],
   "source": [
    "data_list"
   ]
  },
  {
   "cell_type": "code",
   "execution_count": null,
   "id": "e8847b37-648f-4ee4-a764-f741bdc0611e",
   "metadata": {},
   "outputs": [],
   "source": [
    "def get_value(x):\n",
    "    return ', '.join(x) if list == type(x) else x\n",
    "\n",
    "images_data = list()\n",
    "values_data = list()\n",
    "\n",
    "for product_item in data_list:\n",
    "    if product_item['photos']:\n",
    "        for item in product_item['photos']:\n",
    "            row_ = dict()\n",
    "            row_['product_key'] = product_item['product_id']\n",
    "            for key in item:\n",
    "                row_[key] = item[key]\n",
    "            images_data.append(row_)\n",
    "\n",
    "    if product_item['attributes']:\n",
    "        for item in product_item['attributes']:\n",
    "            row_ = dict()\n",
    "            row_['product_key'] = product_item['product_id']\n",
    "            for key in item:\n",
    "                row_[key] = item[key]\n",
    "            values_data.append(row_)\n",
    "\n",
    "images_df = pd.DataFrame(images_data)\n",
    "values_df = pd.DataFrame(values_data)\n",
    "\n",
    "images_df = images_df.rename(columns={'large_image_url': 'source_url'})\n",
    "images_df = images_df.drop(['photo_id', 'small_image_url'], axis=1)\n",
    "\n",
    "groups_df = values_df[['group_name']].copy().drop_duplicates()\n",
    "groups_df = groups_df.rename(columns={'group_name': 'name'})\n",
    "groups_df['key'] = groups_df['name']\n",
    "\n",
    "parameters_df = values_df[['group_name', 'attribute_name']]\n",
    "parameters_df = parameters_df.rename(columns={'group_name': 'group_key',\n",
    "                                              'attribute_name': 'name'})\n",
    "parameters_df['key'] = parameters_df['name']\n",
    "parameters_df = parameters_df.drop_duplicates()\n",
    "\n",
    "values_df['value'] = values_df['value'].apply(get_value)\n",
    "values_df = values_df.rename(columns={'group_name': 'group_key',\n",
    "                                      'unit': 'unit_key',\n",
    "                                      'attribute_name': 'parameter_key'})\n",
    "values_df = values_df.drop(['attribute_id', 'type', 'is_multivalue'], axis=1)"
   ]
  },
  {
   "cell_type": "code",
   "execution_count": null,
   "id": "4532494f-fae5-44a7-8917-dec567ba9358",
   "metadata": {},
   "outputs": [],
   "source": [
    "values_df"
   ]
  },
  {
   "cell_type": "code",
   "execution_count": null,
   "id": "f1883daa-a7b0-436e-9ffe-0d175cff5547",
   "metadata": {},
   "outputs": [],
   "source": [
    "parameters_df"
   ]
  },
  {
   "cell_type": "code",
   "execution_count": null,
   "id": "4280a8eb-d343-4aa5-a5be-bb6baac51c1d",
   "metadata": {},
   "outputs": [],
   "source": []
  },
  {
   "cell_type": "code",
   "execution_count": null,
   "id": "455df429-195a-4dd5-80bd-0e29ba2cdd7b",
   "metadata": {},
   "outputs": [],
   "source": []
  },
  {
   "cell_type": "code",
   "execution_count": null,
   "id": "5796bfdb-8c53-4be8-b3f8-0ad0eb2a8603",
   "metadata": {},
   "outputs": [],
   "source": []
  },
  {
   "cell_type": "code",
   "execution_count": null,
   "id": "8f279d93-106a-48a3-84dd-3f041afa640e",
   "metadata": {},
   "outputs": [],
   "source": []
  },
  {
   "cell_type": "code",
   "execution_count": null,
   "id": "bb1268ff-0d3e-43ac-a537-e5174e6a23c5",
   "metadata": {},
   "outputs": [],
   "source": []
  },
  {
   "cell_type": "code",
   "execution_count": null,
   "id": "420237e1-f7f0-409b-b278-f02a87e3e25d",
   "metadata": {},
   "outputs": [],
   "source": []
  },
  {
   "cell_type": "code",
   "execution_count": null,
   "id": "ef6ed1ec-f21a-49ec-bfad-b9327e7cd69f",
   "metadata": {},
   "outputs": [],
   "source": []
  },
  {
   "cell_type": "code",
   "execution_count": null,
   "id": "fa961475-9822-4ba7-b51f-e16367e5a19d",
   "metadata": {},
   "outputs": [],
   "source": []
  },
  {
   "cell_type": "code",
   "execution_count": null,
   "id": "cd640835-d67f-42ad-bea4-63a75f9d6ae0",
   "metadata": {},
   "outputs": [],
   "source": []
  },
  {
   "cell_type": "code",
   "execution_count": null,
   "id": "6311bf48-e4f4-480b-ac92-a16c9ddbbab2",
   "metadata": {},
   "outputs": [],
   "source": []
  },
  {
   "cell_type": "code",
   "execution_count": null,
   "id": "03795dcd-fdc5-452b-9318-39ba308d55e0",
   "metadata": {},
   "outputs": [],
   "source": []
  },
  {
   "cell_type": "code",
   "execution_count": null,
   "id": "75f97d59-384b-4935-a38a-0f857cd3c741",
   "metadata": {},
   "outputs": [],
   "source": []
  },
  {
   "cell_type": "code",
   "execution_count": null,
   "id": "32131fb7-19e7-448c-9df1-a730f879d9a2",
   "metadata": {},
   "outputs": [],
   "source": []
  },
  {
   "cell_type": "code",
   "execution_count": null,
   "id": "1c2b1ab9-bb3f-4c72-8afd-0d1338badead",
   "metadata": {},
   "outputs": [],
   "source": []
  },
  {
   "cell_type": "code",
   "execution_count": null,
   "id": "ac721c1d-f063-4bf4-9d9a-b3db06a1b1f2",
   "metadata": {},
   "outputs": [],
   "source": [
    "file = open('/home/abezpalov/data/3logic/products_25.json', 'r')\n",
    "data_list = json.load(file)\n",
    "df = pd.DataFrame(data_list)\n",
    "\n",
    "df"
   ]
  }
 ],
 "metadata": {
  "kernelspec": {
   "display_name": "Python 3 (ipykernel)",
   "language": "python",
   "name": "python3"
  },
  "language_info": {
   "codemirror_mode": {
    "name": "ipython",
    "version": 3
   },
   "file_extension": ".py",
   "mimetype": "text/x-python",
   "name": "python",
   "nbconvert_exporter": "python",
   "pygments_lexer": "ipython3",
   "version": "3.10.12"
  }
 },
 "nbformat": 4,
 "nbformat_minor": 5
}
