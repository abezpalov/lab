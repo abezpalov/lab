{
 "cells": [
  {
   "cell_type": "markdown",
   "id": "07f47b19-62f1-4c16-82a6-f5d4bce3aa55",
   "metadata": {},
   "source": [
    "# Marvel"
   ]
  },
  {
   "cell_type": "code",
   "execution_count": null,
   "id": "78eede5d-b8ea-4670-ac83-f40ae929b95b",
   "metadata": {},
   "outputs": [],
   "source": [
    "import numpy as np\n",
    "import pandas as pd\n",
    "import json\n",
    "import lxml.html"
   ]
  },
  {
   "cell_type": "markdown",
   "id": "cacddae7-4589-4d86-84a9-bb25f070b0d0",
   "metadata": {
    "jp-MarkdownHeadingCollapsed": true
   },
   "source": [
    "## Api/GetCatalogCategories"
   ]
  },
  {
   "cell_type": "code",
   "execution_count": null,
   "id": "98fb5b11-69c7-4d9f-9be6-897214507733",
   "metadata": {},
   "outputs": [],
   "source": [
    "# file = open('/home/abezpalov/data/marvel/categories_data_error.json', 'r')\n",
    "# categories_data = json.load(file)\n",
    "# categories_data"
   ]
  },
  {
   "cell_type": "code",
   "execution_count": null,
   "id": "da2c294c-18fb-48a5-a7cf-3472bf232770",
   "metadata": {},
   "outputs": [],
   "source": [
    "# if categories_data['Header']['Code'] != 0:\n",
    "#     raise ValueError(categories_data['Header']['Message'])"
   ]
  },
  {
   "cell_type": "code",
   "execution_count": null,
   "id": "74ec232d-3ad6-405a-b7ac-035a5b69ae42",
   "metadata": {},
   "outputs": [],
   "source": []
  },
  {
   "cell_type": "code",
   "execution_count": null,
   "id": "5210f564-cb76-4d47-87a0-a16345082443",
   "metadata": {},
   "outputs": [],
   "source": [
    "###\n",
    "file = open('/home/abezpalov/data/marvel/categories_data.json', 'r')\n",
    "categories_data = json.load(file)\n",
    "###\n",
    "\n",
    "def tree_to_list(data, parent=None):\n",
    "    for category in data:\n",
    "        category['parent_key'] = parent\n",
    "        categories_data_list.append(category)\n",
    "        tree_to_list(category['SubCategories'], parent=str(category['CategoryID']))\n",
    "\n",
    "def get_metadata(row):\n",
    "    return json.dumps({'S_CategoryID': row['S_CategoryID'],\n",
    "                       'ParentCategoryId': row['ParentCategoryId'],\n",
    "                       'Vendors': row['Vendors'],\n",
    "                       'CategoryTreeId': row['CategoryTreeId']})\n",
    "\n",
    "if categories_data['Header']['Code'] != 0:\n",
    "    raise ValueError(categories_data['Header']['Message'])\n",
    "\n",
    "categories_data = categories_data['Body']['Categories']\n",
    "\n",
    "categories_data_list = list()\n",
    "tree_to_list(categories_data)\n",
    "df = pd.DataFrame(categories_data_list)\n",
    "\n",
    "df = df.rename(columns = {'CategoryID': 'key',\n",
    "                          'CategoryName': 'name',\n",
    "                          'CategoryOrder': 'order'})\n",
    "\n",
    "df['metadata'] = df.apply(get_metadata, axis=1)\n",
    "df = df.drop(['S_CategoryID', 'ParentCategoryId', 'S_ParentCategoryId', 'SubCategories', 'Vendors',\n",
    "              'ConfiguratorActive', 'CategoryTreeId', 'PermissionForCategoryView'], axis=1)\n",
    "\n",
    "df"
   ]
  },
  {
   "cell_type": "markdown",
   "id": "e77463cb-1837-4a9d-8816-9bc5a1fc87e1",
   "metadata": {
    "jp-MarkdownHeadingCollapsed": true
   },
   "source": [
    "## Api/GetFullStock"
   ]
  },
  {
   "cell_type": "code",
   "execution_count": null,
   "id": "25b04371-7ebf-4cd3-ac3f-0fe92ec8d377",
   "metadata": {},
   "outputs": [],
   "source": [
    "file = open('/home/abezpalov/data/marvel/GetFullStock.json', 'r')\n",
    "catalog_data = json.load(file)\n",
    "\n",
    "if catalog_data['Header']['Code'] != 0:\n",
    "    raise ValueError(catalog_data['Header']['Message'])\n",
    "\n",
    "catalog_data = catalog_data['Body']['CategoryItem']\n",
    "\n",
    "df = pd.DataFrame(catalog_data)\n",
    "\n",
    "df"
   ]
  },
  {
   "cell_type": "markdown",
   "id": "1b3d6ff3-f0d5-4b30-8ada-dc3644ecc323",
   "metadata": {},
   "source": [
    "### products_df"
   ]
  },
  {
   "cell_type": "markdown",
   "id": "3deed91d-ec4c-4b2a-9a81-a9054a520e33",
   "metadata": {
    "jp-MarkdownHeadingCollapsed": true
   },
   "source": [
    "#### Смотрим на данные"
   ]
  },
  {
   "cell_type": "code",
   "execution_count": null,
   "id": "815cdb06-82a0-496e-b409-691ece9e1e03",
   "metadata": {},
   "outputs": [],
   "source": [
    "list(df)"
   ]
  },
  {
   "cell_type": "code",
   "execution_count": null,
   "id": "6de28ad3-8c45-4a67-b012-765dac119298",
   "metadata": {},
   "outputs": [],
   "source": [
    "# количество, имеющиеся на складах в Москве, доступность отгрузки которых можно выяснить через менеджера.\n",
    "# Положительное число или нуль\n",
    "\n",
    "display(df['AvailableForShippingInMSKCount'].describe())\n",
    "display(df['AvailableForShippingInMSKCount'].unique())"
   ]
  },
  {
   "cell_type": "code",
   "execution_count": null,
   "id": "ee44a9af-1b87-4b50-8cc6-d679d91ef7f6",
   "metadata": {},
   "outputs": [],
   "source": [
    "# количество, имеющиеся на складах в Санкт-Петербурге, доступность отгрузки которых можно выяснить через менеджера.\n",
    "# Положительное число или нуль.\n",
    "\n",
    "display(df['AvailableForShippingInSPBCount'].describe())\n",
    "display(df['AvailableForShippingInSPBCount'].unique())"
   ]
  },
  {
   "cell_type": "code",
   "execution_count": null,
   "id": "4de588ff-23b7-4617-a4fc-6dc9f0359173",
   "metadata": {},
   "outputs": [],
   "source": [
    "# цена прайс-листа, пересчитанная в рубли по текущему курсу ЦБ РФ\n",
    "\n",
    "display(df['WarePriceRUB'].describe())\n",
    "display(df['WarePriceRUB'].unique())"
   ]
  },
  {
   "cell_type": "code",
   "execution_count": null,
   "id": "5d363ae2-6f98-4844-9fb2-13fae13f5d74",
   "metadata": {},
   "outputs": [],
   "source": [
    "# идентификатор артикула\n",
    "# Строка ненулевой длины\n",
    "\n",
    "display(df['WareArticle'].describe())\n",
    "display(df['WareArticle'].unique())"
   ]
  },
  {
   "cell_type": "code",
   "execution_count": null,
   "id": "4b93e701-5dd5-4d97-9edc-1ba252495718",
   "metadata": {},
   "outputs": [],
   "source": [
    "# состояние упаковки\n",
    "# Возможные значения: ОК, мятая, из ремонта, некомплект, с теста, вскрытая\n",
    "\n",
    "display(df['WarePackStatus'].describe())\n",
    "display(df['WarePackStatus'].unique())"
   ]
  },
  {
   "cell_type": "code",
   "execution_count": null,
   "id": "4bdfa53a-ff74-462d-b380-06911b662541",
   "metadata": {},
   "outputs": [],
   "source": [
    "# локация склада\n",
    "# Возможные значения: осн, net, nfr\n",
    "\n",
    "display(df['Dimension'].describe())\n",
    "display(df['Dimension'].unique())"
   ]
  },
  {
   "cell_type": "code",
   "execution_count": null,
   "id": "21137b69-9f65-49ad-8aac-1f35863a7c32",
   "metadata": {},
   "outputs": [],
   "source": [
    "# производитель артикула\n",
    "# Строка ненулевой длины или «» (пустая строка)\n",
    "\n",
    "display(df['WareVendor'].describe())\n",
    "display(df['WareVendor'].unique())"
   ]
  },
  {
   "cell_type": "code",
   "execution_count": null,
   "id": "1249ff4c-d2ba-45ff-835a-0a4ccfdad6c9",
   "metadata": {},
   "outputs": [],
   "source": [
    "# стоимость единицы артикула\n",
    "# Число большее нуля или «» (пустая строка)\n",
    "\n",
    "display(df['WarePrice'].describe())\n",
    "display(df['WarePrice'].unique())"
   ]
  },
  {
   "cell_type": "code",
   "execution_count": null,
   "id": "0e496c6d-d156-43d5-86ef-e37393e32195",
   "metadata": {},
   "outputs": [],
   "source": [
    "# валюта стоимости\n",
    "# Возможные значения: RUR, USD, EUR или «» (пустая строка)\n",
    "\n",
    "display(df['WarePriceCurrency'].describe())\n",
    "display(df['WarePriceCurrency'].unique())"
   ]
  },
  {
   "cell_type": "code",
   "execution_count": null,
   "id": "23fa1d3a-25d7-4103-9be3-fe3942a42b07",
   "metadata": {},
   "outputs": [],
   "source": [
    "# рекомендованная розничная цена\n",
    "# Число больше нуля или пусто\n",
    "\n",
    "display(df['RRPrice'].describe())\n",
    "display(df['RRPrice'].unique())"
   ]
  },
  {
   "cell_type": "code",
   "execution_count": null,
   "id": "fbae173c-0fb2-4c50-8eea-faea24c2c98f",
   "metadata": {},
   "outputs": [],
   "source": [
    "# общее количество товара на складах Марвел\n",
    "# Нуль или положительное число не больше 100. Если значение больше 100, то выводится «100+».\n",
    "\n",
    "display(df['TotalInventQty'].describe())\n",
    "display(df['TotalInventQty'].unique())"
   ]
  },
  {
   "cell_type": "code",
   "execution_count": null,
   "id": "3615ff5f-ec8f-4314-85b5-4f1c1454bcea",
   "metadata": {},
   "outputs": [],
   "source": [
    "# свободное количество, доступное для отгрузки или резервирования в B2B\n",
    "# Нуль или положительное число не больше 100. Если значение больше 100, то выводится «100+».\n",
    "\n",
    "display(df['AvailableForB2BOrderQty'].describe())\n",
    "display(df['AvailableForB2BOrderQty'].unique())"
   ]
  },
  {
   "cell_type": "code",
   "execution_count": null,
   "id": "b2beb7c1-5faf-48b8-a0ff-1a71bbe2ca4b",
   "metadata": {},
   "outputs": [],
   "source": [
    "# товар в транзите, поступит на склады Марвел в течение 1-7 дней.\n",
    "# Нуль или положительное число не больше 100. Если значение больше 100, то выводится «100+».\n",
    "\n",
    "display(df['InNearTransitCount'].describe())\n",
    "display(df['InNearTransitCount'].unique())"
   ]
  },
  {
   "cell_type": "code",
   "execution_count": null,
   "id": "25fa14bd-376d-40f1-8679-7e8f57aff872",
   "metadata": {},
   "outputs": [],
   "source": [
    "# товар в транзите, поступит на склады Марвел в течение 8-30 дней.\n",
    "# Нуль или положительное число не больше 100. Если значение больше 100, то выводится «100+».\n",
    "\n",
    "display(df['InFarTransitCount'].describe())\n",
    "display(df['InFarTransitCount'].unique())"
   ]
  },
  {
   "cell_type": "code",
   "execution_count": null,
   "id": "d1efc0ba-e5db-4f84-a791-850e26c26e43",
   "metadata": {},
   "outputs": [],
   "source": [
    "# вес нетто в килограммах\n",
    "# Число большее нуля или «» (пустая строка)\n",
    "\n",
    "display(df['NetWeight'].describe())\n",
    "display(df['NetWeight'].unique())"
   ]
  },
  {
   "cell_type": "code",
   "execution_count": null,
   "id": "7faa935f-a96a-4345-93e9-01bc72449db0",
   "metadata": {},
   "outputs": [],
   "source": [
    "# вес брутто в килограммах\n",
    "# Число большее нуля или «» (пустая строка)\n",
    "\n",
    "display(df['Weight'].describe())\n",
    "display(df['Weight'].unique())"
   ]
  },
  {
   "cell_type": "code",
   "execution_count": null,
   "id": "918429f2-658d-490b-8ce6-3eb2fc66a6e9",
   "metadata": {},
   "outputs": [],
   "source": [
    "# объем в кубических метрах\n",
    "# Число большее нуля или «» (пустая строка)\n",
    "\n",
    "display(df['UnitVolume'].describe())\n",
    "display(df['UnitVolume'].unique())"
   ]
  },
  {
   "cell_type": "code",
   "execution_count": null,
   "id": "cd495360-2d96-4362-b83d-f90c522383d8",
   "metadata": {},
   "outputs": [],
   "source": [
    "# ширина упаковки в сантиметрах\n",
    "# Число большее нуля или «» (пустая строка)\n",
    "\n",
    "display(df['Width'].describe())\n",
    "display(df['Width'].unique())"
   ]
  },
  {
   "cell_type": "code",
   "execution_count": null,
   "id": "2420ff08-becb-47c6-9443-a7bdf14ae434",
   "metadata": {},
   "outputs": [],
   "source": [
    "# высота упаковки в сантиметрах\n",
    "# Число большее нуля или «» (пустая строка)\n",
    "\n",
    "display(df['Height'].describe())\n",
    "display(df['Height'].unique())"
   ]
  },
  {
   "cell_type": "code",
   "execution_count": null,
   "id": "f7a2bdde-48c0-40d1-aa3f-b984cf4e7415",
   "metadata": {},
   "outputs": [],
   "source": [
    "# глубина упаковки в сантиметрах\n",
    "# Число большее нуля или «» (пустая строка)\n",
    "\n",
    "display(df['Depth'].describe())\n",
    "display(df['Depth'].unique())"
   ]
  },
  {
   "cell_type": "code",
   "execution_count": null,
   "id": "02b94436-7620-4572-ba0d-4b016d0e1ad2",
   "metadata": {},
   "outputs": [],
   "source": [
    "# количество артикулов в упаковке. Число большее нуля или «» (пустая строка).\n",
    "\n",
    "display(df['TaxPackagingCount'].describe())\n",
    "display(df['TaxPackagingCount'].unique())"
   ]
  },
  {
   "cell_type": "code",
   "execution_count": null,
   "id": "4f424c68-96f2-492c-9521-145a38a3bc4a",
   "metadata": {},
   "outputs": [],
   "source": [
    "# количество артикулов для единовременного заказа\n",
    "# Число большее нуля или «» (пустая строка)\n",
    "\n",
    "display(df['PurchaseQty'].describe())\n",
    "display(df['PurchaseQty'].unique())"
   ]
  },
  {
   "cell_type": "code",
   "execution_count": null,
   "id": "7e90168f-a261-4072-a740-df430f0f452b",
   "metadata": {},
   "outputs": [],
   "source": [
    "# полное наименование артикула\n",
    "\n",
    "display(df['WareFullName'].describe())\n",
    "display(df['WareFullName'].unique())"
   ]
  },
  {
   "cell_type": "code",
   "execution_count": null,
   "id": "f1db786d-25c6-4e6a-afa4-82b649e37a03",
   "metadata": {},
   "outputs": [],
   "source": [
    "# цена прайс-листа, пересчитанная в USD по текущему курсу ЦБ РФ\n",
    "\n",
    "display(df['WarePriceUSD'].describe())\n",
    "display(df['WarePriceUSD'].unique())"
   ]
  },
  {
   "cell_type": "code",
   "execution_count": null,
   "id": "1bec5fdf-3472-4015-8c79-92f2094b49ea",
   "metadata": {},
   "outputs": [],
   "source": [
    "# артикул может быть автоматически заказан/зарезервирован.\n",
    "# Возможные значения:\n",
    "# true – доступен для заказа/резерва и на складе есть ненулевое свободное количество;\n",
    "# false – недоступен для заказа/резерва.\n",
    "\n",
    "display(df['CanBeOrdered'].describe())\n",
    "display(df['CanBeOrdered'].unique())"
   ]
  },
  {
   "cell_type": "code",
   "execution_count": null,
   "id": "44cefd44-cc3f-43ea-98ce-c783681e4b3b",
   "metadata": {},
   "outputs": [],
   "source": [
    "# содержит суммарное зарезервированное количество данногоартикула в пуле резерва пользователя\n",
    "\n",
    "display(df['APIReservedQty'].describe())\n",
    "display(df['APIReservedQty'].unique())"
   ]
  },
  {
   "cell_type": "code",
   "execution_count": null,
   "id": "9d57b860-9b80-4947-b6e7-abe824ad3605",
   "metadata": {},
   "outputs": [],
   "source": [
    "# содержит суммарное зарезервированное количество данного артикула в пуле резерва пользователя, не выделенное под внешний идентификатор\n",
    "\n",
    "display(df['APIAvailableReservedQty'].describe())\n",
    "display(df['APIAvailableReservedQty'].unique())"
   ]
  },
  {
   "cell_type": "code",
   "execution_count": null,
   "id": "6488ce1d-0f36-46ba-976d-81165a2f0a5d",
   "metadata": {},
   "outputs": [],
   "source": [
    "# уникальный идентификатор категории, к которой привязан артикул\n",
    "\n",
    "display(df['CategoryId'].describe())\n",
    "display(df['CategoryId'].unique())"
   ]
  },
  {
   "cell_type": "code",
   "execution_count": null,
   "id": "834b406e-7425-43e2-853e-09881289d2d3",
   "metadata": {},
   "outputs": [],
   "source": [
    "# название категории, к которой привязан артикул\n",
    "\n",
    "display(df['CategoryName'].describe())\n",
    "display(df['CategoryName'].unique())"
   ]
  },
  {
   "cell_type": "code",
   "execution_count": null,
   "id": "828b04d9-415f-432d-abdc-7013eacc2433",
   "metadata": {},
   "outputs": [],
   "source": [
    "# если по артикулу есть промо-акция, то содержит краткое описание акции\n",
    "\n",
    "display(df['PromoDescription'].describe())\n",
    "display(df['PromoDescription'].unique())"
   ]
  },
  {
   "cell_type": "code",
   "execution_count": null,
   "id": "db35717f-7a92-4d59-9549-ceb144bfc7ed",
   "metadata": {},
   "outputs": [],
   "source": [
    "# если по артикулу есть промо-акция, то содержит ссылку (URL) на сайт и страницу с описанием акции.\n",
    "\n",
    "display(df['PromoURL'].describe())\n",
    "display(df['PromoURL'].unique())"
   ]
  },
  {
   "cell_type": "code",
   "execution_count": null,
   "id": "857419d2-670e-487e-a889-ce1672bd4687",
   "metadata": {},
   "outputs": [],
   "source": [
    "# может содержать один или несколько тэгов ExtraSet.\n",
    "# <ExtraSet>: содержит информацию о перечне сопутствующих артикулов.\n",
    "# <ExtraItems>: содержит один или несколько тэгов ExtraItem.\n",
    "#     <ExtraItem>: информация о сопутствующем артикуле:\n",
    "#     <WareArticle>: идентификатор артикула. Строка ненулевой длины.\n",
    "#     <PurchaseQty>: количество артикулов для единовременного заказа. Число большее нуля или «» (пустая строка).\n",
    "# <Type>: тип сопутствующих артикулов. Возможные значения:\n",
    "#     ExtraOne – любой из сопутствующих артикулов, переданный в тэге ExtraItem, должен быть куплен в одном заказе\n",
    "#                в комплекте с исходным артикулом в количестве кратном значению тэга PurchaseQty.\n",
    "#     ExtraAll – все артикулы, переданные в тэге ExtraItem, должны быть куплены в одном заказе в комплекте\n",
    "#                с исходным артикулом в количестве кратном значению тэга PurchaseQty.\n",
    "\n",
    "display(df['ExtraSets'].describe())\n",
    "\n",
    "for item in df['ExtraSets'].copy().drop_duplicates():\n",
    "    if item:\n",
    "        display(item)"
   ]
  },
  {
   "cell_type": "code",
   "execution_count": null,
   "id": "bc89045a-11cf-4477-b694-ed5d55ea6993",
   "metadata": {},
   "outputs": [],
   "source": [
    "display(df['IsAvailablePreOrder'].describe())\n",
    "display(df['IsAvailablePreOrder'].unique())"
   ]
  },
  {
   "cell_type": "code",
   "execution_count": null,
   "id": "61f5a3ef-e3b6-4f09-b4d0-1c3bf2629583",
   "metadata": {},
   "outputs": [],
   "source": [
    "display(df['IsForOrder'].describe())\n",
    "display(df['IsForOrder'].unique())"
   ]
  },
  {
   "cell_type": "code",
   "execution_count": null,
   "id": "d304bc18-f0a7-4efc-9137-a3829497cf32",
   "metadata": {},
   "outputs": [],
   "source": [
    "# свободное количество, доступное для немедленной отгрузки или резервирования через B2B на складах в Москве\n",
    "# Положительное число или нуль\n",
    "\n",
    "display(df['AvailableForB2BOrderQtyInMSK'].describe())\n",
    "display(df['AvailableForB2BOrderQtyInMSK'].unique())"
   ]
  },
  {
   "cell_type": "code",
   "execution_count": null,
   "id": "8cc95409-c006-4fe8-b104-935f3beccf97",
   "metadata": {},
   "outputs": [],
   "source": [
    "# свободное количество, доступное для немедленной отгрузки или резервирования через B2B на складах в Санкт-Петербурге\n",
    "# Положительное число или нуль\n",
    "\n",
    "display(df['AvailableForB2BOrderQtyInSPB'].describe())\n",
    "display(df['AvailableForB2BOrderQtyInSPB'].unique())"
   ]
  },
  {
   "cell_type": "code",
   "execution_count": null,
   "id": "b6a457fd-001e-491e-a57d-611c8ae0cc7f",
   "metadata": {},
   "outputs": [],
   "source": [
    "# стоимость единицы артикула без учета промо-акций\n",
    "# Число большее нуля или «» (пустая строка)\n",
    "\n",
    "display(df['BaseWarePrice'].describe())\n",
    "display(df['BaseWarePrice'].unique())"
   ]
  },
  {
   "cell_type": "code",
   "execution_count": null,
   "id": "debd6987-92ec-494f-b0fd-fad33136575b",
   "metadata": {},
   "outputs": [],
   "source": [
    "# валюта стоимости без учета промо-акций\n",
    "# Возможные значения: RUR, USD, EUR или «» (пустая строка)\n",
    "\n",
    "display(df['BaseWarePriceCurrency'].describe())\n",
    "display(df['BaseWarePriceCurrency'].unique())"
   ]
  },
  {
   "cell_type": "code",
   "execution_count": null,
   "id": "b070345f-1bb6-45b1-ad18-7134df7a2f61",
   "metadata": {},
   "outputs": [],
   "source": [
    "display(df['PromoId'].describe())\n",
    "display(df['PromoId'].unique())"
   ]
  },
  {
   "cell_type": "code",
   "execution_count": null,
   "id": "5ed9280c-737e-4cfd-9220-17dbc99b43d3",
   "metadata": {},
   "outputs": [],
   "source": [
    "display(df['Categories'].describe())\n",
    "\n",
    "for item in df['Categories'].copy().drop_duplicates():\n",
    "    if item:\n",
    "        display(item)"
   ]
  },
  {
   "cell_type": "markdown",
   "id": "a1bdb158-b207-459f-aa0d-444a3b76fa49",
   "metadata": {},
   "source": [
    "#### Чистим данные"
   ]
  },
  {
   "cell_type": "code",
   "execution_count": null,
   "id": "52223e3c-e810-4f44-bc06-e5abb67d9d95",
   "metadata": {},
   "outputs": [],
   "source": []
  },
  {
   "cell_type": "code",
   "execution_count": null,
   "id": "fec4ca86-00c7-4fc9-9b83-ab4274bfeb6d",
   "metadata": {},
   "outputs": [],
   "source": [
    "def get_product_metadata(row):\n",
    "    metadata = dict(row[['TaxPackagingCount', 'ExtraSets']])\n",
    "    return json.dumps(metadata)\n",
    "\n",
    "def to_meters(x):\n",
    "    if x is None:\n",
    "        return None\n",
    "    return float(x) / 100\n",
    "\n",
    "def get_length(row):\n",
    "    if row['width_'] is None or row['depth_'] is None:\n",
    "        return None\n",
    "    return max(float(row['width_']), float(row['depth_'])) / 100\n",
    "\n",
    "def get_width(row):\n",
    "    if row['width_'] is None or row['depth_'] is None:\n",
    "        return None\n",
    "    return min(float(row['width_']), float(row['depth_'])) / 100\n",
    "\n",
    "def get_promo_description(row):\n",
    "    return f\"{row['PromoId']}: {row['PromoDescription']}\" if row['PromoId'] or row['PromoDescription'] else None\n",
    "\n",
    "def get_promo(x):\n",
    "    return True if x else False\n",
    "\n",
    "df['metadata'] = df.apply(get_product_metadata, axis=1)\n",
    "df.rename(columns = {'WareVendor': 'vendor_key',\n",
    "                     'WareArticle': 'part_number',\n",
    "                     'CategoryId': 'category_key',\n",
    "                     'Weight': 'weight',\n",
    "                     'Width': 'width_',\n",
    "                     'Depth': 'depth_',\n",
    "                     'Height': 'height',\n",
    "                     'UnitVolume': 'volume',\n",
    "                     'WareFullName': 'name'}, inplace = True )\n",
    "df['key'] = df['part_number']\n",
    "df['length'] = df.apply(get_length, axis=1)\n",
    "df['width'] = df.apply(get_width, axis=1)\n",
    "df['height'] = df['height'].apply(to_meters)\n",
    "df['volume'] = df['length'] * df['width'] * df['height']\n",
    "df['promo_description'] = df.apply(get_promo_description, axis=1)\n",
    "df['promo'] = df['promo_description'].apply(get_promo)\n",
    "\n",
    "products_df = df[['key', 'category_key', 'part_number', 'vendor_key', 'name', 'weight', 'length', 'width', 'height',\n",
    "                  'volume', 'metadata', 'promo', 'promo_description']]"
   ]
  },
  {
   "cell_type": "code",
   "execution_count": null,
   "id": "edd8436f-d91c-492e-94f2-9eddc2dc2fa1",
   "metadata": {},
   "outputs": [],
   "source": [
    "products_df['weight']"
   ]
  },
  {
   "cell_type": "markdown",
   "id": "4dd0cc7c-dec4-46a0-90e1-f9feed8039e6",
   "metadata": {},
   "source": [
    "### parties_df"
   ]
  },
  {
   "cell_type": "markdown",
   "id": "534d2b87-b1d5-480f-9f54-f6c3ae21a9db",
   "metadata": {
    "jp-MarkdownHeadingCollapsed": true
   },
   "source": [
    "#### Смотрим данные"
   ]
  },
  {
   "cell_type": "code",
   "execution_count": null,
   "id": "cb99a0ec-822b-45d0-9999-6b406fd4d564",
   "metadata": {},
   "outputs": [],
   "source": [
    "list(df)"
   ]
  },
  {
   "cell_type": "code",
   "execution_count": null,
   "id": "a7952ed5-188b-48aa-a6e6-837fb71be2cd",
   "metadata": {},
   "outputs": [],
   "source": [
    "display(df['AvailableForShippingInMSKCount'].describe())\n",
    "display(df['AvailableForShippingInMSKCount'].unique())"
   ]
  },
  {
   "cell_type": "code",
   "execution_count": null,
   "id": "58872a79-f26d-4388-8c81-c0b774657a8f",
   "metadata": {},
   "outputs": [],
   "source": [
    "display(df['AvailableForShippingInSPBCount'].describe())\n",
    "display(df['AvailableForShippingInSPBCount'].unique())"
   ]
  },
  {
   "cell_type": "code",
   "execution_count": null,
   "id": "e89e9060-8fbb-4d06-8eb2-fa48cfa58ee9",
   "metadata": {},
   "outputs": [],
   "source": [
    "display(df['WarePriceRUB'].describe())\n",
    "display(df['WarePriceRUB'].unique())"
   ]
  },
  {
   "cell_type": "code",
   "execution_count": null,
   "id": "f4fd6f63-6be1-42e8-b817-e632975bff83",
   "metadata": {},
   "outputs": [],
   "source": [
    "display(df['part_number'].describe())\n",
    "display(df['part_number'].unique())"
   ]
  },
  {
   "cell_type": "code",
   "execution_count": null,
   "id": "5e42047b-0e4c-4754-9c92-4bb0df7383f4",
   "metadata": {},
   "outputs": [],
   "source": [
    "display(df['WarePackStatus'].describe())\n",
    "display(df['WarePackStatus'].unique())"
   ]
  },
  {
   "cell_type": "code",
   "execution_count": null,
   "id": "54b059e8-a217-48c4-9c30-b526775bfb71",
   "metadata": {},
   "outputs": [],
   "source": [
    "display(df['Dimension'].describe())\n",
    "display(df['Dimension'].unique())"
   ]
  },
  {
   "cell_type": "code",
   "execution_count": null,
   "id": "8f3df1f9-9871-482e-adf3-5440c627e7b5",
   "metadata": {},
   "outputs": [],
   "source": [
    "display(df['vendor_key'].describe())\n",
    "display(df['vendor_key'].unique())"
   ]
  },
  {
   "cell_type": "code",
   "execution_count": null,
   "id": "d9fed8e6-0ba3-44ab-a84f-ac237b322bd3",
   "metadata": {},
   "outputs": [],
   "source": [
    "display(df['WarePrice'].describe())\n",
    "display(df['WarePrice'].unique())"
   ]
  },
  {
   "cell_type": "code",
   "execution_count": null,
   "id": "6a5fd565-5253-4069-a62d-c24c2c814801",
   "metadata": {},
   "outputs": [],
   "source": [
    "display(df['WarePriceCurrency'].describe())\n",
    "display(df['WarePriceCurrency'].unique())"
   ]
  },
  {
   "cell_type": "code",
   "execution_count": null,
   "id": "a13cbed0-ed25-4a6c-be09-4c880406323f",
   "metadata": {},
   "outputs": [],
   "source": [
    "display(df['RRPrice'].describe())\n",
    "display(df['RRPrice'].unique())"
   ]
  },
  {
   "cell_type": "code",
   "execution_count": null,
   "id": "17dbe81e-9935-4343-bc80-7c798d5c4ee5",
   "metadata": {},
   "outputs": [],
   "source": [
    "display(df['TotalInventQty'].describe())\n",
    "display(df['TotalInventQty'].unique())"
   ]
  },
  {
   "cell_type": "code",
   "execution_count": null,
   "id": "70890ebb-051a-4127-b401-68621afc726a",
   "metadata": {},
   "outputs": [],
   "source": [
    "display(df['AvailableForB2BOrderQty'].describe())\n",
    "display(df['AvailableForB2BOrderQty'].unique())"
   ]
  },
  {
   "cell_type": "code",
   "execution_count": null,
   "id": "14955b3e-e56c-4e0d-a99b-0b9c458a81e3",
   "metadata": {},
   "outputs": [],
   "source": [
    "display(df['InNearTransitCount'].describe())\n",
    "display(df['InNearTransitCount'].unique())"
   ]
  },
  {
   "cell_type": "code",
   "execution_count": null,
   "id": "a063082f-e8ba-4972-9d1b-25abb6baf85a",
   "metadata": {},
   "outputs": [],
   "source": [
    "display(df['InFarTransitCount'].describe())\n",
    "display(df['InFarTransitCount'].unique())"
   ]
  },
  {
   "cell_type": "code",
   "execution_count": null,
   "id": "a3909d61-30d8-46fe-884f-8cb1c3e1172f",
   "metadata": {},
   "outputs": [],
   "source": [
    "display(df['NetWeight'].describe())\n",
    "display(df['NetWeight'].unique())"
   ]
  },
  {
   "cell_type": "code",
   "execution_count": null,
   "id": "c9d08448-62ed-472b-9562-c75e817b2a02",
   "metadata": {},
   "outputs": [],
   "source": [
    "display(df['weight'].describe())\n",
    "display(df['weight'].unique())"
   ]
  },
  {
   "cell_type": "code",
   "execution_count": null,
   "id": "51f1a96d-bc62-4cad-a90d-f77c41ea02ad",
   "metadata": {},
   "outputs": [],
   "source": [
    "display(df['volume'].describe())\n",
    "display(df['volume'].unique())"
   ]
  },
  {
   "cell_type": "code",
   "execution_count": null,
   "id": "d04299db-4cc1-438c-9c85-226d3c21b187",
   "metadata": {},
   "outputs": [],
   "source": [
    "display(df['width'].describe())\n",
    "display(df['width'].unique())"
   ]
  },
  {
   "cell_type": "code",
   "execution_count": null,
   "id": "acee9970-04a5-4f2d-891f-45c9532d1be1",
   "metadata": {},
   "outputs": [],
   "source": [
    "display(df['height'].describe())\n",
    "display(df['height'].unique())"
   ]
  },
  {
   "cell_type": "code",
   "execution_count": null,
   "id": "3bb52656-34a8-44d8-b21b-d1d362ee3f3c",
   "metadata": {},
   "outputs": [],
   "source": [
    "display(df['depth'].describe())\n",
    "display(df['depth'].unique())"
   ]
  },
  {
   "cell_type": "code",
   "execution_count": null,
   "id": "0e40c051-c718-46f0-aeb6-7e07bd84c3ba",
   "metadata": {},
   "outputs": [],
   "source": [
    "display(df['TaxPackagingCount'].describe())\n",
    "display(df['TaxPackagingCount'].unique())"
   ]
  },
  {
   "cell_type": "code",
   "execution_count": null,
   "id": "072b0619-5d74-4b31-88af-c7ba91cb0894",
   "metadata": {},
   "outputs": [],
   "source": [
    "display(df['PurchaseQty'].describe())\n",
    "display(df['PurchaseQty'].unique())"
   ]
  },
  {
   "cell_type": "code",
   "execution_count": null,
   "id": "584b9c8e-8a55-466e-b3cc-96db5f81b867",
   "metadata": {},
   "outputs": [],
   "source": [
    "display(df['name'].describe())\n",
    "display(df['name'].unique())"
   ]
  },
  {
   "cell_type": "code",
   "execution_count": null,
   "id": "a89a3b20-302e-44a1-864f-9234e1845261",
   "metadata": {},
   "outputs": [],
   "source": [
    "display(df['WarePriceUSD'].describe())\n",
    "display(df['WarePriceUSD'].unique())"
   ]
  },
  {
   "cell_type": "code",
   "execution_count": null,
   "id": "2e5e8812-a025-4432-b685-72b56ab3d8f0",
   "metadata": {},
   "outputs": [],
   "source": [
    "display(df['CanBeOrdered'].describe())\n",
    "display(df['CanBeOrdered'].unique())"
   ]
  },
  {
   "cell_type": "code",
   "execution_count": null,
   "id": "4e2e0a33-592a-44fd-9070-189e30c8dda9",
   "metadata": {},
   "outputs": [],
   "source": [
    "display(df['APIReservedQty'].describe())\n",
    "display(df['APIReservedQty'].unique())"
   ]
  },
  {
   "cell_type": "code",
   "execution_count": null,
   "id": "18f7f374-f142-44c0-8060-175ed64abd84",
   "metadata": {},
   "outputs": [],
   "source": [
    "display(df['APIAvailableReservedQty'].describe())\n",
    "display(df['APIAvailableReservedQty'].unique())"
   ]
  },
  {
   "cell_type": "code",
   "execution_count": null,
   "id": "04e766af-949e-4c3c-ab5c-894d2f5d55cb",
   "metadata": {},
   "outputs": [],
   "source": [
    "display(df['category_key'].describe())\n",
    "display(df['category_key'].unique())"
   ]
  },
  {
   "cell_type": "code",
   "execution_count": null,
   "id": "7c4dfb10-7bf9-4f83-ab00-6282cf9a5eef",
   "metadata": {},
   "outputs": [],
   "source": [
    "display(df['CategoryName'].describe())\n",
    "display(df['CategoryName'].unique())"
   ]
  },
  {
   "cell_type": "code",
   "execution_count": null,
   "id": "a9091b2e-f21d-4d11-8730-62da8041b0e2",
   "metadata": {},
   "outputs": [],
   "source": [
    "display(df['PromoDescription'].describe())\n",
    "display(df['PromoDescription'].unique())"
   ]
  },
  {
   "cell_type": "code",
   "execution_count": null,
   "id": "ed8ec441-a4fc-4d70-bdb0-b3ac957feaad",
   "metadata": {},
   "outputs": [],
   "source": [
    "display(df['PromoURL'].describe())\n",
    "display(df['PromoURL'].unique())"
   ]
  },
  {
   "cell_type": "code",
   "execution_count": null,
   "id": "d9ce55b5-ffa6-44be-be5d-5926e9e98e1c",
   "metadata": {},
   "outputs": [],
   "source": [
    "display(df['ExtraSets'].describe())"
   ]
  },
  {
   "cell_type": "code",
   "execution_count": null,
   "id": "be751553-ff76-432f-b302-7ccf41b0a953",
   "metadata": {},
   "outputs": [],
   "source": [
    "display(df['IsAvailablePreOrder'].describe())\n",
    "display(df['IsAvailablePreOrder'].unique())"
   ]
  },
  {
   "cell_type": "code",
   "execution_count": null,
   "id": "ed48054a-c4c8-4567-b3b7-d6f94d07d31d",
   "metadata": {},
   "outputs": [],
   "source": [
    "display(df['IsForOrder'].describe())\n",
    "display(df['IsForOrder'].unique())"
   ]
  },
  {
   "cell_type": "code",
   "execution_count": null,
   "id": "cc207cfd-a286-4a4b-b3ac-72006e29184c",
   "metadata": {},
   "outputs": [],
   "source": [
    "display(df['AvailableForB2BOrderQtyInMSK'].describe())\n",
    "display(df['AvailableForB2BOrderQtyInMSK'].unique())"
   ]
  },
  {
   "cell_type": "code",
   "execution_count": null,
   "id": "f7ebbc26-b6a7-4fd8-993c-6b56407b4eb5",
   "metadata": {},
   "outputs": [],
   "source": [
    "display(df['AvailableForB2BOrderQtyInSPB'].describe())\n",
    "display(df['AvailableForB2BOrderQtyInSPB'].unique())"
   ]
  },
  {
   "cell_type": "code",
   "execution_count": null,
   "id": "c6534a5c-af48-4510-b7a0-6a4aec718277",
   "metadata": {},
   "outputs": [],
   "source": [
    "display(df['BaseWarePrice'].describe())\n",
    "display(df['BaseWarePrice'].unique())"
   ]
  },
  {
   "cell_type": "code",
   "execution_count": null,
   "id": "2b694c23-72c7-47b1-839a-0e940e0d93fd",
   "metadata": {},
   "outputs": [],
   "source": [
    "display(df['BaseWarePriceCurrency'].describe())\n",
    "display(df['BaseWarePriceCurrency'].unique())"
   ]
  },
  {
   "cell_type": "code",
   "execution_count": null,
   "id": "94560f5c-17c8-4798-823f-9da68f04b118",
   "metadata": {},
   "outputs": [],
   "source": [
    "display(df['PromoId'].describe())\n",
    "display(df['PromoId'].unique())"
   ]
  },
  {
   "cell_type": "code",
   "execution_count": null,
   "id": "482514c5-45b7-427c-899b-123fd2dd1eb9",
   "metadata": {},
   "outputs": [],
   "source": [
    "display(df['Categories'].describe())"
   ]
  },
  {
   "cell_type": "code",
   "execution_count": null,
   "id": "762a5861-e0aa-4cd1-b2df-7788ea2c3d58",
   "metadata": {},
   "outputs": [],
   "source": [
    "display(df['metadata'].describe())\n",
    "display(df['metadata'].unique())"
   ]
  },
  {
   "cell_type": "code",
   "execution_count": null,
   "id": "01bd0b5f-57c4-4182-b08d-0da5866e163e",
   "metadata": {},
   "outputs": [],
   "source": [
    "display(df['key'].describe())\n",
    "display(df['key'].unique())"
   ]
  },
  {
   "cell_type": "code",
   "execution_count": null,
   "id": "217754d2-74b3-4cac-9fca-9f659f1dacd7",
   "metadata": {},
   "outputs": [],
   "source": []
  },
  {
   "cell_type": "code",
   "execution_count": null,
   "id": "7a036f28-b6ed-4a5a-a6e3-855dae2afb9c",
   "metadata": {},
   "outputs": [],
   "source": []
  },
  {
   "cell_type": "code",
   "execution_count": null,
   "id": "258e25e3-d2b8-44c8-aff7-cc4b661f43d5",
   "metadata": {},
   "outputs": [],
   "source": []
  },
  {
   "cell_type": "code",
   "execution_count": null,
   "id": "fc25f5e7-67fe-4d76-99cc-8c74131262b2",
   "metadata": {},
   "outputs": [],
   "source": []
  },
  {
   "cell_type": "code",
   "execution_count": null,
   "id": "03795312-9733-40c7-9afa-f5b0f4732658",
   "metadata": {},
   "outputs": [],
   "source": []
  },
  {
   "cell_type": "code",
   "execution_count": null,
   "id": "455391f7-2ae0-41cf-9230-30e7f1995ff7",
   "metadata": {},
   "outputs": [],
   "source": []
  },
  {
   "cell_type": "code",
   "execution_count": null,
   "id": "7cda4a2a-2fbe-4c1d-a0f6-9459f24ac635",
   "metadata": {},
   "outputs": [],
   "source": []
  },
  {
   "cell_type": "code",
   "execution_count": null,
   "id": "1d741e1b-0d1d-4296-a790-bea5ce50c87f",
   "metadata": {},
   "outputs": [],
   "source": []
  },
  {
   "cell_type": "markdown",
   "id": "4352265d-e628-442d-85e6-e65ebbcb3e6e",
   "metadata": {},
   "source": [
    "#### Чистим данные"
   ]
  },
  {
   "cell_type": "code",
   "execution_count": null,
   "id": "febea8e6-d71d-4fd6-877e-e1ba6c5e6c14",
   "metadata": {},
   "outputs": [],
   "source": [
    "def get_price(x):\n",
    "    x = float(x.replace(',', '.')) if str == type(x) else None\n",
    "    return x if x else None\n",
    "\n",
    "def get_currency(x):\n",
    "    if not x:\n",
    "        return None\n",
    "    return 'RUB' if x == 'RUR' else x\n",
    "\n",
    "def fix_price_out(row):\n",
    "    return None if row['price_out'] < row['price_in'] or row['price_out'] > row['price_in']*2 else row['price_out']\n",
    "\n",
    "def fix_currency_key_out(row):\n",
    "    return None if row['price_out'] < row['price_in'] or row['price_out'] > row['price_in']*2 else row['currency_key_out']\n",
    "\n",
    "def get_unconditional(x):\n",
    "    return False if x == 'OK' else True\n",
    "\n",
    "def get_condition_description(x):\n",
    "    return None if x == 'OK' else x\n",
    "\n",
    "def get_party_metadata(row):\n",
    "    metadata = dict(row[['CanBeOrdered', 'APIAvailableReservedQty', 'ExtraSets']])\n",
    "    return json.dumps(metadata)\n",
    "\n",
    "def get_quantity(x):\n",
    "    x = x.replace('+', '')\n",
    "    x = float(x)\n",
    "    return x if x else None\n",
    "\n",
    "def get_quantity_great_than(x):\n",
    "    return True if '+' in x else False\n",
    "\n",
    "df.rename(columns = {'key': 'product_key',\n",
    "                     'IsForOrder': 'can_reserve',\n",
    "                     'IsAvailablePreOrder': 'is_available_for_order'}, inplace = True )\n",
    "\n",
    "df['price_in'] = df['WarePrice'].apply(get_price)\n",
    "df['price_out'] = df['RRPrice'].apply(get_price)\n",
    "df['currency_key_in'] = df['WarePriceCurrency'].apply(get_currency)\n",
    "df['currency_key_out'] = df['currency_key_in']\n",
    "df['price_out'] = df.apply(fix_price_out, axis=1)\n",
    "df['currency_key_out'] = df.apply(fix_currency_key_out, axis=1)\n",
    "df['unconditional'] = df['WarePackStatus'].apply(get_unconditional)\n",
    "df['condition_description'] = df['WarePackStatus'].apply(get_condition_description)\n",
    "df['metadata'] = df.apply(get_party_metadata, axis=1)\n",
    "\n",
    "# Обрабатываем количество по складам и транзитам\n",
    "dfs = list()\n",
    "\n",
    "df_ = df.copy()\n",
    "df_['quantity'] = df_['AvailableForShippingInMSKCount'].apply(get_quantity)\n",
    "df_['quantity_great_than'] = df_['AvailableForShippingInMSKCount'].apply(get_quantity_great_than)\n",
    "df_ = df_.assign(location_key=\"МСК\")\n",
    "dfs.append(df_.copy())\n",
    "\n",
    "df_ = df.copy()\n",
    "df_['quantity'] = df_['AvailableForShippingInSPBCount'].apply(get_quantity)\n",
    "df_['quantity_great_than'] = df_['AvailableForShippingInSPBCount'].apply(get_quantity_great_than)\n",
    "df_ = df_.assign(location_key=\"СПБ\")\n",
    "dfs.append(df_.copy())\n",
    "\n",
    "df_ = df.copy()\n",
    "df_['quantity'] = df_['InNearTransitCount'].apply(get_quantity)\n",
    "df_['quantity_great_than'] = df_['InNearTransitCount'].apply(get_quantity_great_than)\n",
    "df_ = df_.assign(location_key=\"БТ\")\n",
    "dfs.append(df_.copy())\n",
    "\n",
    "df_ = df.copy()\n",
    "df_['quantity'] = df_['InFarTransitCount'].apply(get_quantity)\n",
    "df_['quantity_great_than'] = df_['InFarTransitCount'].apply(get_quantity_great_than)\n",
    "dfs.append(df_.copy())\n",
    "\n",
    "parties_df = pd.concat(dfs)\n",
    "\n",
    "parties_df = parties_df[parties_df['quantity']>0]\n",
    "\n",
    "parties_df = parties_df[['product_key', 'price_in', 'currency_key_in', 'price_out', 'currency_key_out',\n",
    "                         'location_key', 'quantity', 'quantity_great_than', 'can_reserve', 'is_available_for_order',\n",
    "                         'unconditional', 'condition_description', 'metadata']]"
   ]
  },
  {
   "cell_type": "code",
   "execution_count": null,
   "id": "e06d978a-e2b9-4f90-9470-bd86deeb0c52",
   "metadata": {},
   "outputs": [],
   "source": [
    "parties_df"
   ]
  },
  {
   "cell_type": "code",
   "execution_count": null,
   "id": "102eca9c-d9e4-45cc-92e4-e09098e94e73",
   "metadata": {},
   "outputs": [],
   "source": [
    "stocks_df = pd.DataFrame([{'key': 'МСК',\n",
    "                           'name': 'Склад в Москве',\n",
    "                           'is_stock': True,\n",
    "                           'is_transit': False,\n",
    "                           'is_on_order': False},\n",
    "                          {'key': 'СПБ',\n",
    "                           'name': 'Склад в Санкт-Петербурге',\n",
    "                           'is_stock': True,\n",
    "                           'is_transit': False,\n",
    "                           'is_on_order': False},\n",
    "                          {'key': 'БТ',\n",
    "                           'name': 'Ближний транзит',\n",
    "                           'is_stock': False,\n",
    "                           'is_transit': True,\n",
    "                           'is_on_order': False},\n",
    "                          {'key': 'ДТ',\n",
    "                           'name': 'Дальний транзит',\n",
    "                           'is_stock': False,\n",
    "                           'is_transit': True,\n",
    "                           'is_on_order': False}])\n",
    "\n",
    "stocks_df"
   ]
  },
  {
   "cell_type": "markdown",
   "id": "ca961ac9-923b-40f3-ad70-1072e9bec91f",
   "metadata": {},
   "source": [
    "## Api/GetItems"
   ]
  },
  {
   "cell_type": "code",
   "execution_count": null,
   "id": "530e6232-7051-4613-8c53-3754d9c282be",
   "metadata": {},
   "outputs": [],
   "source": [
    "file = open('/home/abezpalov/data/marvel/content_1.json', 'r')\n",
    "data_list = json.load(file)\n",
    "data_list"
   ]
  },
  {
   "cell_type": "code",
   "execution_count": null,
   "id": "139955ac-4b68-413b-b384-fe18e5d69a34",
   "metadata": {},
   "outputs": [],
   "source": [
    "df = pd.DataFrame(data_list)\n",
    "\n",
    "\n",
    "df"
   ]
  },
  {
   "cell_type": "code",
   "execution_count": null,
   "id": "527e1362-1495-4d58-a8fa-acafdaa9eddd",
   "metadata": {},
   "outputs": [],
   "source": [
    "list(df)"
   ]
  },
  {
   "cell_type": "code",
   "execution_count": null,
   "id": "5e5d7134-06c2-45d8-90a8-5d8b0767df38",
   "metadata": {},
   "outputs": [],
   "source": [
    "parameter_list = list()\n",
    "for product_item in content_data:\n",
    "    product = dict()\n",
    "    product['product_key'] = product_item['WareArticle']\n",
    "\n",
    "    for parameter_item in product_item['ExtendedInfo']['Parameter']:\n",
    "        parameter = dict(product)\n",
    "        parameter['parameter_key'] = parameter_item['ParameterName']\n",
    "        parameter['value'] = parameter_item['ParameterValue']\n",
    "        \n",
    "        parameter_list.append(parameter)\n",
    "\n",
    "df = pd.DataFrame(parameter_list)\n",
    "df"
   ]
  },
  {
   "cell_type": "code",
   "execution_count": null,
   "id": "ba50b7b8-4b33-41d0-8ecc-3448a051357f",
   "metadata": {},
   "outputs": [],
   "source": [
    "df = df.assign(group_key=None)\n",
    "\n",
    "\n",
    "parameters_df = df[['parameter_key', 'group_key']].copy().drop_duplicates()\n",
    "parameters_df['name'] = df[['parameter_key']]\n",
    "parameters_df"
   ]
  },
  {
   "cell_type": "code",
   "execution_count": null,
   "id": "02a8355e-fcf4-4a37-beba-96346fcac213",
   "metadata": {},
   "outputs": [],
   "source": [
    "values_df = df\n",
    "\n",
    "values_df"
   ]
  },
  {
   "cell_type": "markdown",
   "id": "aa8dca5c-4878-4bd2-9c61-bc2bfdd6a10f",
   "metadata": {
    "jp-MarkdownHeadingCollapsed": true
   },
   "source": [
    "## Api/GetItemPhotos"
   ]
  },
  {
   "cell_type": "code",
   "execution_count": null,
   "id": "788468b5-af64-4858-bdb1-78c55189e7ec",
   "metadata": {},
   "outputs": [],
   "source": [
    "file = open('/home/abezpalov/data/marvel/images_0_data.json', 'r')\n",
    "images_data = json.load(file)\n",
    "images_data"
   ]
  },
  {
   "cell_type": "code",
   "execution_count": null,
   "id": "61ce50f1-5063-4dd9-892c-5f5e3bbf6c5a",
   "metadata": {},
   "outputs": [],
   "source": [
    "if images_data['Header']['Code'] != 0:\n",
    "    raise ValueError(images_data['Header']['Message'])\n",
    "\n",
    "images_data = images_data['Body']['Photo']"
   ]
  },
  {
   "cell_type": "code",
   "execution_count": null,
   "id": "c4677085-eac6-4626-a4f0-f9c1d9ff9289",
   "metadata": {},
   "outputs": [],
   "source": [
    "images_data_list = list()\n",
    "\n",
    "for item in images_data:\n",
    "    images_data_list.append(item['BigImage'])\n",
    "\n",
    "df = pd.DataFrame(images_data_list)\n",
    "df"
   ]
  },
  {
   "cell_type": "code",
   "execution_count": null,
   "id": "2693d1a2-0eef-4087-881c-0bfb98e1a908",
   "metadata": {},
   "outputs": [],
   "source": [
    "df.rename(columns={'WareArticle': 'product_key',\n",
    "                   'URL': 'source_url',\n",
    "                   'Width': 'width',\n",
    "                   'Height': 'height'}, inplace=True)\n",
    "\n",
    "df"
   ]
  },
  {
   "cell_type": "code",
   "execution_count": null,
   "id": "e8855259-757e-4f4c-8cd5-b4efc98f41d6",
   "metadata": {},
   "outputs": [],
   "source": [
    "images"
   ]
  },
  {
   "cell_type": "code",
   "execution_count": null,
   "id": "8004e686-9141-4754-b4b5-a4324d9c06e4",
   "metadata": {},
   "outputs": [],
   "source": []
  },
  {
   "cell_type": "code",
   "execution_count": null,
   "id": "fc8f6b7d-b475-436d-9754-a5cb295eeca2",
   "metadata": {},
   "outputs": [],
   "source": []
  },
  {
   "cell_type": "code",
   "execution_count": null,
   "id": "f6aa06f8-3210-4f31-babd-8fa75f9b2ede",
   "metadata": {},
   "outputs": [],
   "source": []
  },
  {
   "cell_type": "code",
   "execution_count": null,
   "id": "227556aa-5d33-4445-9e73-6e246b4c5a1a",
   "metadata": {},
   "outputs": [],
   "source": []
  },
  {
   "cell_type": "code",
   "execution_count": null,
   "id": "5c60853e-fe14-44e8-a485-a629960e8019",
   "metadata": {},
   "outputs": [],
   "source": []
  },
  {
   "cell_type": "code",
   "execution_count": null,
   "id": "299fff5c-1bb9-4baf-9152-e9d5c6f9801e",
   "metadata": {},
   "outputs": [],
   "source": []
  },
  {
   "cell_type": "code",
   "execution_count": null,
   "id": "09baa0e2-b659-4bde-be7e-372928f604ae",
   "metadata": {},
   "outputs": [],
   "source": []
  },
  {
   "cell_type": "code",
   "execution_count": null,
   "id": "9d78fc5a-f9cb-412f-a90c-f3ffdfd25281",
   "metadata": {},
   "outputs": [],
   "source": []
  },
  {
   "cell_type": "code",
   "execution_count": null,
   "id": "9e1385a2-67a3-4143-a258-bf68572582d9",
   "metadata": {},
   "outputs": [],
   "source": []
  },
  {
   "cell_type": "code",
   "execution_count": null,
   "id": "d2f05899-7535-42b8-aea2-b71091075e01",
   "metadata": {},
   "outputs": [],
   "source": []
  },
  {
   "cell_type": "code",
   "execution_count": null,
   "id": "917b3f94-acfa-42fe-9413-42438b8601e7",
   "metadata": {},
   "outputs": [],
   "source": []
  },
  {
   "cell_type": "code",
   "execution_count": null,
   "id": "9d2137d8-d16d-4b14-b0f8-7e804ac7f090",
   "metadata": {},
   "outputs": [],
   "source": []
  }
 ],
 "metadata": {
  "kernelspec": {
   "display_name": "Python 3 (ipykernel)",
   "language": "python",
   "name": "python3"
  },
  "language_info": {
   "codemirror_mode": {
    "name": "ipython",
    "version": 3
   },
   "file_extension": ".py",
   "mimetype": "text/x-python",
   "name": "python",
   "nbconvert_exporter": "python",
   "pygments_lexer": "ipython3",
   "version": "3.10.12"
  }
 },
 "nbformat": 4,
 "nbformat_minor": 5
}
