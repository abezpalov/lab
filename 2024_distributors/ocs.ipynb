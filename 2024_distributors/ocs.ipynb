{
 "cells": [
  {
   "cell_type": "markdown",
   "id": "be70bdd3-acb7-49e2-8a52-144dd4d431f2",
   "metadata": {},
   "source": [
    "# OCS"
   ]
  },
  {
   "cell_type": "code",
   "execution_count": null,
   "id": "63663c22-faf7-4bf2-bd5b-822570b8176a",
   "metadata": {},
   "outputs": [],
   "source": [
    "import numpy as np\n",
    "import pandas as pd\n",
    "import json\n",
    "import lxml.html\n",
    "import datetime"
   ]
  },
  {
   "cell_type": "markdown",
   "id": "630b6ba7-35d6-40fa-9e45-99334db45a22",
   "metadata": {
    "jp-MarkdownHeadingCollapsed": true
   },
   "source": [
    "## logistic/stocks/locations"
   ]
  },
  {
   "cell_type": "code",
   "execution_count": null,
   "id": "ab4d14e1-82e1-4c83-87ab-ef4133011a95",
   "metadata": {},
   "outputs": [],
   "source": [
    "file = open('/home/abezpalov/data/ocs/locations.json', 'r')\n",
    "response = json.load(file)\n",
    "\n",
    "df = pd.DataFrame(response)"
   ]
  },
  {
   "cell_type": "code",
   "execution_count": null,
   "id": "f22b6f26-4ed4-4c45-8a14-ede766c6124b",
   "metadata": {},
   "outputs": [],
   "source": [
    "def get_is_stock(row):\n",
    "    return True if row['type'] in ('Local', 'ShipmentCity', 'CO') else False\n",
    "\n",
    "def get_is_transit(row):\n",
    "    return True if row['type'] in ('InternalMovement', 'TransitCO', 'OuterTransit') else False\n",
    "\n",
    "def get_is_on_order(row):\n",
    "    return False\n",
    "\n",
    "df = df.rename(columns={'location': 'key',\n",
    "                        'reservationAvailable': 'reservation_available'})\n",
    "df['is_stock'] = df.apply(get_is_stock, axis=1)\n",
    "df['is_transit'] = df.apply(get_is_transit, axis=1)\n",
    "df['is_on_order'] = df.apply(get_is_on_order, axis=1)"
   ]
  },
  {
   "cell_type": "code",
   "execution_count": null,
   "id": "f940be7c-1e90-4a85-9698-86202e3c0ff7",
   "metadata": {},
   "outputs": [],
   "source": [
    "df.head()"
   ]
  },
  {
   "cell_type": "markdown",
   "id": "42571901-6cbd-4cd7-961c-80f5f0c97947",
   "metadata": {
    "jp-MarkdownHeadingCollapsed": true
   },
   "source": [
    "## catalog/categories"
   ]
  },
  {
   "cell_type": "code",
   "execution_count": null,
   "id": "319d15c8-7744-4213-b159-8966940a55d4",
   "metadata": {},
   "outputs": [],
   "source": [
    "file = open('/home/abezpalov/data/ocs/categories.json', 'r')\n",
    "response = json.load(file)"
   ]
  },
  {
   "cell_type": "code",
   "execution_count": null,
   "id": "7d495638-c88e-4977-abb9-3e0e56d5bb7e",
   "metadata": {},
   "outputs": [],
   "source": [
    "def tree_to_list(data, parent=None):\n",
    "    for category in data:\n",
    "        category['parent_key'] = parent\n",
    "        data_list.append(category)\n",
    "        tree_to_list(category['children'], parent=category['category'])\n",
    "\n",
    "def get_order(x):\n",
    "    return int(x[-2:])\n",
    "\n",
    "data_list = list()\n",
    "tree_to_list(response)\n",
    "\n",
    "df = pd.DataFrame(data_list)\n",
    "df = df.rename(columns={'category': 'key'})\n",
    "df['order'] = df['key'].apply(get_order)\n",
    "df = df.drop(columns=['children'])"
   ]
  },
  {
   "cell_type": "code",
   "execution_count": null,
   "id": "bdcf1890-b490-4ea2-adbf-885700b6e9bf",
   "metadata": {},
   "outputs": [],
   "source": [
    "df.head()"
   ]
  },
  {
   "cell_type": "markdown",
   "id": "c841e391-623b-4bf8-af73-82f2a992c5fb",
   "metadata": {},
   "source": [
    "## catalog/categories/all/products"
   ]
  },
  {
   "cell_type": "code",
   "execution_count": null,
   "id": "55aeb63d-6b5a-474e-9625-60871dcaeff6",
   "metadata": {},
   "outputs": [],
   "source": [
    "file = open('/home/abezpalov/data/ocs/products.json', 'r')\n",
    "response = json.load(file)\n",
    "response"
   ]
  },
  {
   "cell_type": "code",
   "execution_count": null,
   "id": "2525bd34-739a-45cd-9600-6ada0c399290",
   "metadata": {},
   "outputs": [],
   "source": [
    "def get_product_metadata(row):\n",
    "    return json.dumps({'itemNameRus': row['itemNameRus'],\n",
    "                       'productName': row['productName']})\n",
    "\n",
    "def fix_description(x):\n",
    "    if str == type(x):\n",
    "        x = x.replace('\\n', ' ')\n",
    "        x = x.replace('\\r', ' ')\n",
    "        tree = lxml.html.fromstring(x)\n",
    "        return '\\n'.join(tree.xpath('.//text()'))\n",
    "    return None\n",
    "\n",
    "def get_length(row):\n",
    "    if row['width_temp'] and row['depth_temp']:\n",
    "        return max(float(row['width_temp']), float(row['depth_temp']))\n",
    "    return None\n",
    "    \n",
    "def get_width(row):\n",
    "    if row['width_temp'] and row['depth_temp']:\n",
    "        return min(float(row['width_temp']), float(row['depth_temp']))\n",
    "    return None\n",
    "    \n",
    "def get_height(row):\n",
    "    if row['height_temp']:\n",
    "        return float(row['height_temp'])\n",
    "    return None\n",
    "\n",
    "def fix_weight(x):\n",
    "    return x if x else None\n",
    "    \n",
    "def fix_volume(x):\n",
    "    return x if x else None\n",
    "\n",
    "def get_price_in(row):\n",
    "    if dict == type(row['order']):\n",
    "        return row['order']['value']\n",
    "    elif dict == type(row['priceList']):\n",
    "        return row['priceList']['value']\n",
    "    return None\n",
    "\n",
    "def get_currency_key_in(row):\n",
    "    if dict == type(row['order']):\n",
    "        return 'RUB' if row['order']['currency'] == 'RUR' else row['order']['currency']\n",
    "    elif dict == type(row['priceList']):\n",
    "        return 'RUB' if row['priceList']['currency'] == 'RUR' else row['priceList']['currency']\n",
    "    return None\n",
    "\n",
    "def get_price_out(row):\n",
    "    if dict == type(row['endUserWeb']):\n",
    "        return row['endUserWeb']['value']\n",
    "    elif dict == type(row['endUser']):\n",
    "        return row['endUser']['value']\n",
    "    return None\n",
    "\n",
    "def get_currency_key_out(row):\n",
    "    if dict == type(row['endUserWeb']):\n",
    "        return 'RUB' if row['endUserWeb']['currency'] == 'RUR' else row['endUserWeb']['currency']\n",
    "    elif dict == type(row['endUser']):\n",
    "        return 'RUB' if row['endUser']['currency'] == 'RUR' else row['endUser']['currency']\n",
    "    return None\n",
    "\n",
    "def get_sale(x):\n",
    "    return True if x == 'Sale' else False\n",
    "\n",
    "def get_unconditional(x):\n",
    "    return True if x == 'Unconditional' else False\n",
    "\n",
    "def get_party_metadata(row):\n",
    "    return json.dumps({'discountB2B': row['discountB2B'],\n",
    "                       'deliveryDate': row['deliveryDate']})\n",
    "\n",
    "def get_quantity(x):\n",
    "    return int(x['value'])\n",
    "    \n",
    "def get_quantity_great_than(x):\n",
    "    return bool(x['isGreatThan'])\n",
    "\n",
    "def get_bool(x):\n",
    "    return True if x is True else False\n",
    "\n",
    "def get_expected_date(x):\n",
    "    return datetime.datetime.strptime(x, \"%Y-%m-%dT00:00:00\").date() if str == type(x) else None\n",
    "\n",
    "def get_warranty(x):\n",
    "    to_m = {'Гарантия дистрибьютора 12 мес. с даты отгрузки': 12,\n",
    "            'Гарантии нет. Условия уточняются у сейл-менеджера': None,\n",
    "            'Срок гарантии 1 год': 12,\n",
    "            'Срок гарантии 5 лет': 60,\n",
    "            'Срок гарантии 2 года': 24,\n",
    "            'Срок гарантии 3 года': 36,\n",
    "            'Срок гарантии 6 мес.': 6,\n",
    "            'Гарантия дистрибьютора 24 мес. с даты отгрузки': 24,\n",
    "            'Гарантия дистрибьютора 60 мес. с даты отгрузки': 60,\n",
    "            'Гарантия дистрибьютора 36 мес. с даты отгрузки': 36,\n",
    "            'Гарантия дистрибьютора 120 мес. с даты отгрузки': 120,\n",
    "            'Срок гарантии 4 года': 48,\n",
    "            'Срок гарантии 7 лет.': 84,\n",
    "            'Гарантия дистрибьютора 1 мес. с даты отгрузки': 1,\n",
    "            'Гарантия дистрибьютора 3 мес. с даты отгрузки': 3,\n",
    "            'Гарантия дистрибьютора 12 мес. с даты ввода в эксплуатацию': 12,\n",
    "            'Гарантия дистрибьютора 24 мес. с даты ввода в эксплуатацию': 24,\n",
    "            'Пожизненная гарантия': 0,\n",
    "            'Срок гарантии 2 мес.': 2,\n",
    "            'Гарантия дистрибьютора 84 мес. с даты отгрузки': 84,\n",
    "            'Срок гарантии 1 мес.': 1,\n",
    "            'Гарантия дистрибьютора 15 мес. с даты отгрузки': 15}\n",
    "    return to_m[x] if x in to_m else None\n",
    "\n",
    "products_data_list = list()\n",
    "parties_data_list = list()\n",
    "barcodes_data_list = list()\n",
    "\n",
    "for item in response['result']:\n",
    "\n",
    "    product_row_ = dict()\n",
    "    \n",
    "    for key in item['product']:\n",
    "        product_row_[key] = item['product'][key]\n",
    "\n",
    "    for key in item['packageInformation']:\n",
    "        product_row_[key] = item['packageInformation'][key]\n",
    "\n",
    "    products_data_list.append(product_row_)\n",
    "\n",
    "    for party_item in item['locations']:\n",
    "\n",
    "        party_row_ = dict()\n",
    "        party_row_['product_key'] = item['product']['itemId']\n",
    "        party_row_['condition'] = item['product']['condition']\n",
    "        \n",
    "        if item.get('price', None):\n",
    "            for key in item['price']:\n",
    "                party_row_[key] = item['price'][key]\n",
    "        \n",
    "\n",
    "        for key in party_item:\n",
    "            party_row_[key] = party_item[key]\n",
    "            \n",
    "        parties_data_list.append(party_row_)\n",
    "\n",
    "    forms = {'eaN128': 'EAN 128', 'upc': 'UPC', 'hsCode': 'HS Code', 'pnc': 'PNC'}\n",
    "    for key in forms:\n",
    "        for code in item['product'].get(key, '').split(','):\n",
    "            code_row_ = dict()\n",
    "            code_row_['product_key'] = item['product']['itemId']\n",
    "            code_row_['value'] = code\n",
    "            code_row_['form'] = forms[key]\n",
    "            barcodes_data_list.append(code_row_)\n",
    "            \n",
    "df = pd.DataFrame(products_data_list)\n",
    "parties_df = pd.DataFrame(parties_data_list)\n",
    "barcodes_df = pd.DataFrame(barcodes_data_list)\n",
    "\n",
    "df = df.rename(columns={'itemId': 'key',\n",
    "                        'partNumber': 'part_number',\n",
    "                        'producer': 'vendor_key',\n",
    "                        'category': 'category_key',\n",
    "                        'itemName': 'name',\n",
    "                        'vatPercent': 'vat',\n",
    "                        'originalCountryISOCode': 'country_key',\n",
    "                        'width': 'width_temp',\n",
    "                        'height': 'height_temp',\n",
    "                        'depth': 'depth_temp',\n",
    "                        'units': 'unit_key',\n",
    "                        'productDescription': 'description',\n",
    "                        'multiplicity': 'min_of_quantity',\n",
    "                        'warranty': 'warranty_description'})\n",
    "\n",
    "df['metadata'] = df.apply(get_product_metadata, axis=1)\n",
    "df['length'] = df.apply(get_length, axis=1)\n",
    "df['width'] = df.apply(get_width, axis=1)\n",
    "df['height'] = df.apply(get_height, axis=1)\n",
    "df['step_of_quantity'] = df['min_of_quantity']\n",
    "df['description'] = df['description'].apply(fix_description)\n",
    "df['weight'] = df['weight'].apply(fix_weight)\n",
    "df['volume'] = df['volume'].apply(fix_volume)\n",
    "df['warranty'] = df['warranty_description'].apply(get_warranty)\n",
    "\n",
    "df = df.drop(columns=['itemNameRus', 'productName', 'catalogPath', 'condition', 'conditionDescription', 'serialNumberAvailability',\n",
    "                      'width_temp', 'height_temp', 'depth_temp', 'productKey'])\n",
    "\n",
    "\n",
    "parties_df = parties_df.rename(columns={'location': 'location_key', \n",
    "                                        'quantity': 'quantity_temp',\n",
    "                                        'canReserve': 'can_reserve',\n",
    "                                        'mustKeepEndUserPrice': 'must_keep_end_user_price'})\n",
    "parties_df['quantity'] = parties_df['quantity_temp'].apply(get_quantity)\n",
    "parties_df['quantity_great_than'] = parties_df['quantity_temp'].apply(get_quantity_great_than)\n",
    "parties_df['must_keep_end_user_price'] = parties_df['must_keep_end_user_price'].apply(get_bool)\n",
    "parties_df['expected_date'] = parties_df['arrivalDate'].apply(get_expected_date)\n",
    "\n",
    "parties_df['price_in'] = parties_df.apply(get_price_in, axis=1)\n",
    "parties_df['currency_key_in'] = parties_df.apply(get_currency_key_in, axis=1)\n",
    "parties_df['price_out'] = parties_df.apply(get_price_out, axis=1)\n",
    "parties_df['currency_key_out'] = parties_df.apply(get_currency_key_out, axis=1)\n",
    "parties_df['unconditional'] = parties_df['condition'].apply(get_unconditional)\n",
    "parties_df['metadata'] = parties_df.apply(get_party_metadata, axis=1)\n",
    "\n",
    "\n",
    "parties_df = parties_df.drop(columns=['description', 'type', 'quantity_temp', 'priceList', 'order', 'discountB2B',\n",
    "                                      'deliveryDate', 'endUser', 'arrivalDate', 'endUserWeb', 'departureDate'])\n",
    "\n",
    "dfs = {'products': df,\n",
    "       'barcodes': barcodes_df,\n",
    "       'parties': parties_df}"
   ]
  },
  {
   "cell_type": "code",
   "execution_count": null,
   "id": "01531def-7e3c-4bd5-9525-fd2fbcc1a313",
   "metadata": {},
   "outputs": [],
   "source": [
    "dfs['products'].head()"
   ]
  },
  {
   "cell_type": "code",
   "execution_count": null,
   "id": "4d47f7b1-dc42-4a68-a42d-b7308e13edb8",
   "metadata": {},
   "outputs": [],
   "source": [
    "dfs['barcodes']['value'].unique()"
   ]
  },
  {
   "cell_type": "code",
   "execution_count": null,
   "id": "2d3d69fe-a064-473e-8fe5-b4add3182899",
   "metadata": {},
   "outputs": [],
   "source": [
    "dfs['parties'].head()"
   ]
  },
  {
   "cell_type": "markdown",
   "id": "bb24e9f4-3b24-4291-bb99-8088b555f82e",
   "metadata": {
    "jp-MarkdownHeadingCollapsed": true
   },
   "source": [
    "## content/batch"
   ]
  },
  {
   "cell_type": "code",
   "execution_count": null,
   "id": "526a0226-f201-4bdf-9792-67d48cd2fd87",
   "metadata": {},
   "outputs": [],
   "source": [
    "file = open('/home/abezpalov/data/ocs/content_data_4_of_67.json', 'r')\n",
    "data = json.load(file)\n",
    "data"
   ]
  },
  {
   "cell_type": "code",
   "execution_count": null,
   "id": "a145b4ba-b1ab-4697-8a1f-88235831005c",
   "metadata": {},
   "outputs": [],
   "source": [
    "# Инициируем переменные\n",
    "parameter_groups_df = None\n",
    "parameters_df = None\n",
    "values_df = None\n",
    "images_df = None\n",
    "\n",
    "# Properties\n",
    "properties_data = list()\n",
    "\n",
    "for product_item in data['result']:\n",
    "\n",
    "    if list == type(product_item.get('properties', None)):\n",
    "        for property_item in product_item['properties']:\n",
    "            property = dict()\n",
    "            property['product_key'] = product_item['itemId']\n",
    "            property['group_key'] = property_item.get('group', None)\n",
    "            property['parameter_key'] = property_item['id']\n",
    "            property['name'] = property_item['name']\n",
    "            property['type'] = property_item['type']\n",
    "            property['value'] = property_item['value']\n",
    "            property['unit_key'] = property_item.get('unit', None)\n",
    "            properties_data.append(property)\n",
    "\n",
    "if properties_data:\n",
    "    df = pd.DataFrame(properties_data)\n",
    "\n",
    "    # parameter_groups_df\n",
    "    df['key'] = df['group_key']\n",
    "    parameter_groups_df = df[['key']] if parameter_groups_df is None \\\n",
    "        else pd.concat([parameter_groups_df, df[['key']]]).copy().drop_duplicates()\n",
    "\n",
    "    # parameters\n",
    "    df['key'] = df['parameter_key']\n",
    "    parameters_df = df[['key', 'group_key', 'name']].copy().drop_duplicates() if parameters_df is None \\\n",
    "        else pd.concat([parameters_df, df[['key', 'group_key', 'name']]]).copy().drop_duplicates()\n",
    "\n",
    "    # values\n",
    "    values_df = df[['product_key', 'group_key',  'parameter_key', 'value', 'unit_key']] \\\n",
    "        if values_df is None \\\n",
    "        else pd.concat([values_df, df[['product_key', 'group_key',  'parameter_key', 'value', 'unit_key']]])"
   ]
  },
  {
   "cell_type": "code",
   "execution_count": null,
   "id": "a084ca91-8af6-4a12-9bb3-46486e99c11c",
   "metadata": {},
   "outputs": [],
   "source": [
    "parameter_groups_df"
   ]
  },
  {
   "cell_type": "code",
   "execution_count": null,
   "id": "74747253-eb37-437b-a313-3a4fefdda95d",
   "metadata": {},
   "outputs": [],
   "source": [
    "parameters_df"
   ]
  },
  {
   "cell_type": "code",
   "execution_count": null,
   "id": "822c4f00-d2e4-4966-8837-30c8b695e2ab",
   "metadata": {},
   "outputs": [],
   "source": [
    "values_df"
   ]
  },
  {
   "cell_type": "code",
   "execution_count": null,
   "id": "8da65bd9-b2b5-48e1-9472-9422bf36094c",
   "metadata": {},
   "outputs": [],
   "source": []
  },
  {
   "cell_type": "code",
   "execution_count": null,
   "id": "cf2f40a3-d6bf-4a46-9811-26ab6690e5bb",
   "metadata": {},
   "outputs": [],
   "source": []
  },
  {
   "cell_type": "code",
   "execution_count": null,
   "id": "a78ca750-ec69-4ef1-b540-c009f8af1a60",
   "metadata": {},
   "outputs": [],
   "source": []
  },
  {
   "cell_type": "code",
   "execution_count": null,
   "id": "e6d5e29f-d15c-4941-9f0e-b8235e4369af",
   "metadata": {},
   "outputs": [],
   "source": []
  },
  {
   "cell_type": "code",
   "execution_count": null,
   "id": "c48effdc-c141-4a15-9129-8f707c771755",
   "metadata": {},
   "outputs": [],
   "source": [
    "# test\n",
    "\n",
    "properties_data = list()\n",
    "images_data = list()\n",
    "\n",
    "for product_item in contents_data['result']:\n",
    "\n",
    "    if list == type(product_item.get('properties', None)):\n",
    "        for property_item in product_item['properties']:\n",
    "            property = dict()\n",
    "            property['product_key'] = product_item['itemId']\n",
    "            property['parameter_key'] = property_item['id']\n",
    "            property['name'] = property_item['name']\n",
    "            property['type'] = property_item['type']\n",
    "            property['value'] = property_item['value']\n",
    "            properties_data.append(property)\n",
    "    \n",
    "    if list == type(product_item.get('images', None)):\n",
    "        for image_item in product_item['images']:\n",
    "            image = dict()\n",
    "            image['product_key'] = product_item['itemId']\n",
    "            image['url'] = image_item['url']\n",
    "            image['size'] = image_item['size']\n",
    "            image['width'] = image_item['width']\n",
    "            image['height'] = image_item['height']\n",
    "            image['order'] = image_item['order']\n",
    "            images_data.append(image)\n",
    "\n",
    "properties_df = pd.DataFrame(properties_data)\n",
    "images_df = pd.DataFrame(images_data)"
   ]
  },
  {
   "cell_type": "code",
   "execution_count": null,
   "id": "092b61af-40c4-4f2e-b4a0-960574677d17",
   "metadata": {},
   "outputs": [],
   "source": [
    "properties_df"
   ]
  },
  {
   "cell_type": "code",
   "execution_count": null,
   "id": "af2f6e46-a377-4fca-8e0f-b1332bb609a1",
   "metadata": {},
   "outputs": [],
   "source": [
    "images_df"
   ]
  },
  {
   "cell_type": "markdown",
   "id": "eeb4f08e-8008-4c54-aef1-df99f765f17c",
   "metadata": {},
   "source": [
    "### parameters_df"
   ]
  },
  {
   "cell_type": "code",
   "execution_count": null,
   "id": "15465f1d-d03f-43ff-b946-0bc78e9ff957",
   "metadata": {},
   "outputs": [],
   "source": [
    "properties_data = list()\n",
    "\n",
    "for product_item in contents_data['result']:\n",
    "\n",
    "    if list == type(product_item.get('properties', None)):\n",
    "        for property_item in product_item['properties']:\n",
    "            property = dict()\n",
    "            property['product_key'] = product_item['itemId']\n",
    "            property['group_key'] = property_item.get('group', None)\n",
    "            property['parameter_key'] = property_item['id']\n",
    "            property['name'] = property_item['name']\n",
    "            property['type'] = property_item['type']\n",
    "            property['value'] = property_item['value']\n",
    "            property['unit_key'] = property_item.get('unit', None)\n",
    "            properties_data.append(property)\n",
    "\n",
    "df = pd.DataFrame(properties_data)\n",
    "df"
   ]
  },
  {
   "cell_type": "code",
   "execution_count": null,
   "id": "49af9dd1-3c0a-49bb-bc42-9d6de8d0b618",
   "metadata": {},
   "outputs": [],
   "source": [
    "df['key'] = df['group_key']\n",
    "groups_df = df['key']\n",
    "groups_df"
   ]
  },
  {
   "cell_type": "code",
   "execution_count": null,
   "id": "af0f3b24-8b63-45a5-9126-ac46da1c34b3",
   "metadata": {},
   "outputs": [],
   "source": [
    "df['key'] = df['parameter_key']\n",
    "parameters_df = df[['key', 'group_key', 'name']].copy().drop_duplicates()\n",
    "parameters_df"
   ]
  },
  {
   "cell_type": "code",
   "execution_count": null,
   "id": "fe5ce5f4-650d-48d3-944e-f31c6483d6c1",
   "metadata": {},
   "outputs": [],
   "source": [
    "values_df = df[['product_key', 'group_key', 'parameter_key', 'value', 'unit_key']]\n",
    "values_df"
   ]
  },
  {
   "cell_type": "code",
   "execution_count": null,
   "id": "13a4837d-44fc-4d0b-9be0-f0687ee6635a",
   "metadata": {},
   "outputs": [],
   "source": [
    "images_data = list()\n",
    "\n",
    "for product_item in contents_data['result']:\n",
    "\n",
    "    if list == type(product_item.get('images', None)):\n",
    "        for image_item in product_item['images']:\n",
    "            image = dict()\n",
    "            image['product_key'] = product_item['itemId']\n",
    "            image['url'] = image_item['url']\n",
    "            image['size'] = image_item['size']\n",
    "            image['width'] = image_item['width']\n",
    "            image['height'] = image_item['height']\n",
    "            image['order'] = image_item['order']\n",
    "            images_data.append(image)\n",
    "\n",
    "df = pd.DataFrame(images_data)\n",
    "df"
   ]
  }
 ],
 "metadata": {
  "kernelspec": {
   "display_name": "Python 3 (ipykernel)",
   "language": "python",
   "name": "python3"
  },
  "language_info": {
   "codemirror_mode": {
    "name": "ipython",
    "version": 3
   },
   "file_extension": ".py",
   "mimetype": "text/x-python",
   "name": "python",
   "nbconvert_exporter": "python",
   "pygments_lexer": "ipython3",
   "version": "3.10.12"
  }
 },
 "nbformat": 4,
 "nbformat_minor": 5
}
