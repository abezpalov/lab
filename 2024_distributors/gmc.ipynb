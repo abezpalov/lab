{
 "cells": [
  {
   "cell_type": "markdown",
   "id": "2b06bfbd-4769-4af9-b342-3bf52053e25c",
   "metadata": {},
   "source": [
    "# GMC"
   ]
  },
  {
   "cell_type": "code",
   "execution_count": null,
   "id": "67874134-ceb1-4a57-bf73-4a08d753c48e",
   "metadata": {},
   "outputs": [],
   "source": [
    "import numpy as np\n",
    "import pandas as pd\n",
    "import json\n",
    "\n",
    "import requests\n",
    "import lxml.html\n",
    "import lxml.etree"
   ]
  },
  {
   "cell_type": "code",
   "execution_count": null,
   "id": "8526f2b3-c27c-48b8-8391-9793c7c5f3e6",
   "metadata": {},
   "outputs": [],
   "source": [
    "response = requests.get('https://bs-opt.ru/bitrix/catalog_export/export_yJ0.xml')\n",
    "tree = lxml.etree.fromstring(response.content)\n",
    "\n",
    "tree"
   ]
  },
  {
   "cell_type": "code",
   "execution_count": null,
   "id": "a85cbbdf-61c6-4881-b06a-3506fc9bde58",
   "metadata": {},
   "outputs": [],
   "source": [
    "categories_data_list = list()\n",
    "for category_data in tree.xpath('./shop/categories/category'):\n",
    "    \n",
    "    category = dict()\n",
    "\n",
    "    try:\n",
    "        category['key'] = category_data.xpath('@id')[0]\n",
    "    except IndexError:\n",
    "        category['key'] = None\n",
    "\n",
    "    try:\n",
    "        category['parent_key'] = category_data.xpath('@parentId')[0]\n",
    "    except IndexError:\n",
    "        category['parent_key'] = None\n",
    "\n",
    "    try:\n",
    "        category['name'] = category_data.xpath('./text()')[0]\n",
    "    except IndexError:\n",
    "        category['name'] = None\n",
    "\n",
    "\n",
    "    categories_data_list.append(category)\n",
    "\n",
    "categories_df = pd.DataFrame(categories_data_list)\n",
    "categories_df"
   ]
  },
  {
   "cell_type": "code",
   "execution_count": null,
   "id": "964bc697-4b7f-4096-aed7-d267dd79580d",
   "metadata": {},
   "outputs": [],
   "source": [
    "products_data_list = list()\n",
    "for product_item in tree.xpath('./shop/offers/offer'):\n",
    "\n",
    "    product = dict()\n",
    "\n",
    "    try:\n",
    "        product['key'] = product_item.xpath('@id')[0]\n",
    "    except IndexError:\n",
    "        product['key'] = None\n",
    "\n",
    "    try:\n",
    "        product['type'] = product_item.xpath('@type')[0]\n",
    "    except IndexError:\n",
    "        product['type'] = None\n",
    "\n",
    "    try:\n",
    "        product['available'] = product_item.xpath('@available')[0]\n",
    "    except IndexError:\n",
    "        product['available'] = None\n",
    "\n",
    "    try:\n",
    "        product['source_url'] = product_item.xpath('./url/text()')[0]\n",
    "    except IndexError:\n",
    "        product['source_url'] = None\n",
    "\n",
    "    try:\n",
    "        product['price_in'] = product_item.xpath('./price/text()')[0]\n",
    "    except IndexError:\n",
    "        product['price_in'] = None\n",
    "\n",
    "    try:\n",
    "        product['vat'] = product_item.xpath('./vat/text()')[0]\n",
    "    except IndexError:\n",
    "        product['vat'] = None\n",
    "\n",
    "    try:\n",
    "        product['currency_key_in'] = product_item.xpath('./currencyId/text()')[0]\n",
    "    except IndexError:\n",
    "        product['currency_key_in'] = None\n",
    "\n",
    "    try:\n",
    "        product['category_key'] = product_item.xpath('./categoryId/text()')[0]\n",
    "    except IndexError:\n",
    "        product['category_key'] = None\n",
    "\n",
    "    try:\n",
    "        product['picture'] = product_item.xpath('./picture/text()')[0]\n",
    "    except IndexError:\n",
    "        product['picture'] = None\n",
    "\n",
    "    try:\n",
    "        product['vendor_key'] = product_item.xpath('./vendor/text()')[0]\n",
    "    except IndexError:\n",
    "        product['vendor_key'] = None\n",
    "\n",
    "    try:\n",
    "        product['name'] = product_item.xpath('./model/text()')[0]\n",
    "    except IndexError:\n",
    "        product['name'] = None\n",
    "\n",
    "    try:\n",
    "        product['part_number'] = product_item.xpath('./vendorCode/text()')[0]\n",
    "    except IndexError:\n",
    "        product['part_number'] = None\n",
    "\n",
    "    try:\n",
    "        product['typePrefix'] = product_item.xpath('./typePrefix/text()')[0]\n",
    "    except IndexError:\n",
    "        product['typePrefix'] = None\n",
    "\n",
    "    try:\n",
    "        product['sales_notes'] = product_item.xpath('./sales_notes/text()')[0]\n",
    "    except IndexError:\n",
    "        product['sales_notes'] = None\n",
    "\n",
    "    try:\n",
    "        product['barcode'] = product_item.xpath('./barcode/text()')[0]\n",
    "    except IndexError:\n",
    "        product['barcode'] = None\n",
    "\n",
    "    try:\n",
    "        product['quantity'] = product_item.xpath('./count/text()')[0]\n",
    "    except IndexError:\n",
    "        product['quantity'] = None\n",
    "\n",
    "\n",
    "\n",
    "    products_data_list.append(product)\n",
    "\n",
    "df = pd.DataFrame(products_data_list)\n",
    "df"
   ]
  },
  {
   "cell_type": "markdown",
   "id": "2e72e9f4-c9ed-4f29-b89d-fcae3e82dc48",
   "metadata": {},
   "source": [
    "### Смотрим данные"
   ]
  },
  {
   "cell_type": "code",
   "execution_count": null,
   "id": "646290fe-d0b1-43df-bc84-1ff13a99cf79",
   "metadata": {},
   "outputs": [],
   "source": [
    "list(df)"
   ]
  },
  {
   "cell_type": "code",
   "execution_count": null,
   "id": "5bae112a-3604-4462-8b01-053e6e6bb272",
   "metadata": {},
   "outputs": [],
   "source": [
    "display(df['key'].describe())\n",
    "display(df['key'].unique())"
   ]
  },
  {
   "cell_type": "code",
   "execution_count": null,
   "id": "a25e618a-82ab-4f9b-af1a-c5d6d0e384b2",
   "metadata": {},
   "outputs": [],
   "source": [
    "display(df['type'].describe())\n",
    "display(df['type'].unique())"
   ]
  },
  {
   "cell_type": "code",
   "execution_count": null,
   "id": "9b11e8a1-d9f1-4f70-8ca3-303e30f53ee9",
   "metadata": {},
   "outputs": [],
   "source": [
    "display(df['available'].describe())\n",
    "display(df['available'].unique())"
   ]
  },
  {
   "cell_type": "code",
   "execution_count": null,
   "id": "ec471f1e-4e66-4d91-8570-20db61b71297",
   "metadata": {},
   "outputs": [],
   "source": [
    "display(df['url'].describe())\n",
    "display(df['url'].unique())"
   ]
  },
  {
   "cell_type": "code",
   "execution_count": null,
   "id": "09ddfb4a-064c-49d4-92c6-4d99d05ef78a",
   "metadata": {},
   "outputs": [],
   "source": [
    "display(df['price_in'].describe())\n",
    "display(df['price_in'].unique())"
   ]
  },
  {
   "cell_type": "code",
   "execution_count": null,
   "id": "1ca633ed-3df4-486a-9e40-013e9fe788c8",
   "metadata": {},
   "outputs": [],
   "source": [
    "display(df['vat'].describe())\n",
    "display(df['vat'].unique())"
   ]
  },
  {
   "cell_type": "code",
   "execution_count": null,
   "id": "414b3107-52e8-4ff9-abea-9aec2d289627",
   "metadata": {},
   "outputs": [],
   "source": [
    "display(df['currencyId'].describe())\n",
    "display(df['currencyId'].unique())"
   ]
  },
  {
   "cell_type": "code",
   "execution_count": null,
   "id": "61515397-bac1-4146-b29c-7a29b71e1e7d",
   "metadata": {},
   "outputs": [],
   "source": [
    "display(df['categoryId'].describe())\n",
    "display(df['categoryId'].unique())"
   ]
  },
  {
   "cell_type": "code",
   "execution_count": null,
   "id": "69d81382-3d2d-42e7-9e7c-fbe9ca0952bb",
   "metadata": {},
   "outputs": [],
   "source": [
    "display(df['picture'].describe())\n",
    "display(df['picture'].unique())"
   ]
  },
  {
   "cell_type": "code",
   "execution_count": null,
   "id": "22d49a3e-4c7c-4035-a896-9caa91ae4a21",
   "metadata": {},
   "outputs": [],
   "source": [
    "display(df['vendor'].describe())\n",
    "display(df['vendor'].unique())"
   ]
  },
  {
   "cell_type": "code",
   "execution_count": null,
   "id": "e620b0c5-54d7-46a0-a604-4d20814155ce",
   "metadata": {},
   "outputs": [],
   "source": [
    "display(df['model'].describe())\n",
    "display(df['model'].unique())"
   ]
  },
  {
   "cell_type": "code",
   "execution_count": null,
   "id": "8f042e5a-155f-48ec-9540-23fc0278c69d",
   "metadata": {},
   "outputs": [],
   "source": [
    "display(df['vendorCode'].describe())\n",
    "display(df['vendorCode'].unique())"
   ]
  },
  {
   "cell_type": "code",
   "execution_count": null,
   "id": "afd5dda9-82d4-4ec6-b33f-92792b446bde",
   "metadata": {},
   "outputs": [],
   "source": [
    "display(df['typePrefix'].describe())\n",
    "display(df['typePrefix'].unique())"
   ]
  },
  {
   "cell_type": "code",
   "execution_count": null,
   "id": "acab11b8-353c-4ac7-b828-6cbad130d9e1",
   "metadata": {},
   "outputs": [],
   "source": [
    "display(df['sales_notes'].describe())\n",
    "display(df['sales_notes'].unique())"
   ]
  },
  {
   "cell_type": "code",
   "execution_count": null,
   "id": "6a05b6af-9e09-4aad-83a0-6d5c8d4912e1",
   "metadata": {},
   "outputs": [],
   "source": [
    "display(df['barcode'].describe())\n",
    "display(df['barcode'].unique())"
   ]
  },
  {
   "cell_type": "code",
   "execution_count": null,
   "id": "47d27793-11c6-472b-a13d-b17a6b2794f6",
   "metadata": {},
   "outputs": [],
   "source": [
    "display(df['count'].describe())\n",
    "display(df['count'].unique())"
   ]
  },
  {
   "cell_type": "markdown",
   "id": "2a2519ac-e019-4aeb-afe3-ec01c5787d5e",
   "metadata": {},
   "source": [
    "### Чистим данные"
   ]
  },
  {
   "cell_type": "code",
   "execution_count": null,
   "id": "83baea29-7329-4bd6-a3ab-bc6b7d73d340",
   "metadata": {},
   "outputs": [],
   "source": [
    "list(df)"
   ]
  },
  {
   "cell_type": "code",
   "execution_count": null,
   "id": "24ba7965-a70d-45a7-86bb-9d3540ae27a6",
   "metadata": {},
   "outputs": [],
   "source": [
    "df['product_key'] = df['key']\n",
    "df = df.assign(location_key='GMC')\n",
    "df = df.assign(unit_key='шт')"
   ]
  },
  {
   "cell_type": "code",
   "execution_count": null,
   "id": "63d0b872-840d-495f-aa7b-0d4712d98e60",
   "metadata": {},
   "outputs": [],
   "source": [
    "def get_nds(x):\n",
    "    return None if x is None else float(x.split('_')[1])*0.01\n",
    "    \n",
    "df['nds'] = df['vat'].apply(get_nds)\n",
    "df['nds']"
   ]
  },
  {
   "cell_type": "code",
   "execution_count": null,
   "id": "69f63ac4-b90c-4c03-b3cc-2cd7437a8b2d",
   "metadata": {},
   "outputs": [],
   "source": [
    "def fix_currency_key(x):\n",
    "    return 'RUB' if x == 'RUR' else x\n",
    "\n",
    "df['currency_key_in'] = df['currency_key_in'].apply(fix_currency_key)\n",
    "df['currency_key_in']"
   ]
  },
  {
   "cell_type": "code",
   "execution_count": null,
   "id": "b2970768-2b14-4d0e-bb88-40c0239b0ef4",
   "metadata": {},
   "outputs": [],
   "source": [
    "product_df = df[['key', 'category_key', 'vendor_key', 'part_number', 'name', 'source_url']]\n",
    "product_df"
   ]
  },
  {
   "cell_type": "code",
   "execution_count": null,
   "id": "f3231a11-f416-44df-8d51-fe01d23a92d7",
   "metadata": {},
   "outputs": [],
   "source": [
    "parties_df = df[['product_key', 'quantity', 'price_in', 'currency_key_in', 'nds', 'location_key', 'unit_key']]\n",
    "parties_df"
   ]
  },
  {
   "cell_type": "code",
   "execution_count": null,
   "id": "5e866371-f7b0-4c9e-93e1-df0765d326ef",
   "metadata": {},
   "outputs": [],
   "source": [
    "images_df = df[['product_key', 'picture']]\n",
    "images_df = images_df.rename(columns = {'picture': 'source_url'})\n",
    "\n",
    "images_df"
   ]
  },
  {
   "cell_type": "code",
   "execution_count": null,
   "id": "b4496bb8-e75d-4fef-99e9-4fc9a5c1e028",
   "metadata": {},
   "outputs": [],
   "source": []
  },
  {
   "cell_type": "markdown",
   "id": "8af4a859-098e-4559-9ab9-781d80674931",
   "metadata": {},
   "source": [
    "## Контент"
   ]
  },
  {
   "cell_type": "code",
   "execution_count": null,
   "id": "79d6fe53-444d-4164-b9fd-49a869ac7300",
   "metadata": {},
   "outputs": [],
   "source": [
    "response = requests.get('https://bs-opt.ru/servernye-komplektuyushchie/operativnaya-pamyat/operativnaya-pamyat-ibm-8gb-1-35v-pc3l-10600-cl9-ecc-ddr3-1333mhz-lp-49y1415/')\n",
    "tree = lxml.html.fromstring(response.text)\n",
    "\n",
    "tree"
   ]
  },
  {
   "cell_type": "code",
   "execution_count": null,
   "id": "ce2fdfe6-10f1-481e-888a-0e43a44297bf",
   "metadata": {},
   "outputs": [],
   "source": [
    "parameters_list = list()       \n",
    "\n",
    "for item in tree.xpath('.//ul[contains(@class, \"product-info\")]/li'):\n",
    "    print(item)\n",
    "\n",
    "    parameter = dict()\n",
    "\n",
    "    parameter['parameter_key'] = item.xpath('./div[contains(@class, \"product-info-title\")]/text()')[0]\n",
    "    parameter['key'] = item.xpath('./div[contains(@class, \"product-info-title\")]/text()')[0]\n",
    "    parameter['name'] = item.xpath('./div[contains(@class, \"product-info-title\")]/text()')[0]\n",
    "    parameter['value'] = item.xpath('./a[contains(@class, \"product-info-data\")]/text()')[0]\n",
    "\n",
    "    parameters_list.append(parameter)\n",
    "\n",
    "for item in tree.xpath('.//table[contains(@class, \"product-specifications-table\")]//tr'):\n",
    "    print(item)\n",
    "\n",
    "    parameter = dict()\n",
    "\n",
    "    parameter['parameter_key'] = item.xpath('.//td/text()')[0]\n",
    "    parameter['key'] = item.xpath('.//td/text()')[0]\n",
    "    parameter['name'] = item.xpath('.//td/text()')[0]\n",
    "    parameter['value'] = item.xpath('.//td/text()')[1]\n",
    "\n",
    "    parameters_list.append(parameter)\n",
    "\n",
    "if parameters_list:\n",
    "    df = pd.DataFrame(parameters_list)\n",
    "    df = df.assign(group_key=None)\n",
    "    parameters_df = df[['group_key', 'key', 'name']]\n",
    "    values_df = df[['group_key', 'parameter_key', 'value']]\n",
    "else:\n",
    "    parameters_df, values_df = None, None\n",
    "\n",
    "df"
   ]
  },
  {
   "cell_type": "code",
   "execution_count": null,
   "id": "bb4e12c8-0eb8-4827-af7b-9a0867663c70",
   "metadata": {},
   "outputs": [],
   "source": [
    "parameters_df"
   ]
  },
  {
   "cell_type": "code",
   "execution_count": null,
   "id": "33cd1f85-2f06-4aa8-a23a-20053e9592d1",
   "metadata": {},
   "outputs": [],
   "source": [
    "values_df"
   ]
  }
 ],
 "metadata": {
  "kernelspec": {
   "display_name": "Python 3 (ipykernel)",
   "language": "python",
   "name": "python3"
  },
  "language_info": {
   "codemirror_mode": {
    "name": "ipython",
    "version": 3
   },
   "file_extension": ".py",
   "mimetype": "text/x-python",
   "name": "python",
   "nbconvert_exporter": "python",
   "pygments_lexer": "ipython3",
   "version": "3.10.12"
  }
 },
 "nbformat": 4,
 "nbformat_minor": 5
}
