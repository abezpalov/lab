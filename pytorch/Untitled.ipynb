{
 "cells": [
  {
   "cell_type": "markdown",
   "id": "a96ce74b-2bd3-4e54-bf20-02784e3e640d",
   "metadata": {},
   "source": [
    "# PyTorch"
   ]
  },
  {
   "cell_type": "code",
   "execution_count": 5,
   "id": "30915b61-7b1b-4f41-ace6-0758ad390e26",
   "metadata": {},
   "outputs": [
    {
     "data": {
      "text/plain": [
       "True"
      ]
     },
     "metadata": {},
     "output_type": "display_data"
    },
    {
     "data": {
      "text/plain": [
       "tensor([[0.9259, 0.6924],\n",
       "        [0.2411, 0.0517]])"
      ]
     },
     "metadata": {},
     "output_type": "display_data"
    }
   ],
   "source": [
    "import torch\n",
    "\n",
    "display(torch.cuda.is_available())\n",
    "display(torch.rand(2, 2))"
   ]
  },
  {
   "cell_type": "markdown",
   "id": "ba0855ec-9ef9-4b73-ba25-6e06cbf09253",
   "metadata": {},
   "source": [
    "## Создание тензоров"
   ]
  },
  {
   "cell_type": "code",
   "execution_count": 7,
   "id": "29d3a70b-7e76-44ca-94da-4036c0da858b",
   "metadata": {},
   "outputs": [
    {
     "data": {
      "text/plain": [
       "tensor([[5, 0, 1],\n",
       "        [4, 8, 1],\n",
       "        [0, 0, 1]])"
      ]
     },
     "metadata": {},
     "output_type": "display_data"
    }
   ],
   "source": [
    "# создание тензора\n",
    "x = torch.tensor([[5, 0, 1], [4, 8, 1], [0, 0, 1]])\n",
    "display(x)"
   ]
  },
  {
   "cell_type": "code",
   "execution_count": 8,
   "id": "399b4ff9-9a51-4ee7-b2e9-7af4940b0cc4",
   "metadata": {},
   "outputs": [
    {
     "data": {
      "text/plain": [
       "tensor([[42,  0,  1],\n",
       "        [ 4,  8,  1],\n",
       "        [ 0,  0,  1]])"
      ]
     },
     "metadata": {},
     "output_type": "display_data"
    }
   ],
   "source": [
    "# Изменение элемента тензора\n",
    "x[0][0] = 42\n",
    "display(x)"
   ]
  },
  {
   "cell_type": "code",
   "execution_count": 10,
   "id": "b5274834-1635-4634-942e-d5521116bab4",
   "metadata": {},
   "outputs": [
    {
     "data": {
      "text/plain": [
       "tensor([[0., 0., 0.],\n",
       "        [0., 0., 0.],\n",
       "        [0., 0., 0.]])"
      ]
     },
     "metadata": {},
     "output_type": "display_data"
    },
    {
     "data": {
      "text/plain": [
       "tensor([[1., 1., 1.],\n",
       "        [1., 1., 1.],\n",
       "        [1., 1., 1.]])"
      ]
     },
     "metadata": {},
     "output_type": "display_data"
    }
   ],
   "source": [
    "# Создание нулевых и единичных тензоров\n",
    "\n",
    "x0 = torch.zeros(3, 3)\n",
    "display(x0)\n",
    "\n",
    "x1 = torch.ones(3, 3)\n",
    "display(x1)"
   ]
  },
  {
   "cell_type": "code",
   "execution_count": 51,
   "id": "1d304d9b-b5f2-4c29-b0f3-c67ebc5b2cbc",
   "metadata": {},
   "outputs": [
    {
     "data": {
      "text/plain": [
       "0.4288950562477112"
      ]
     },
     "execution_count": 51,
     "metadata": {},
     "output_type": "execute_result"
    }
   ],
   "source": [
    "# Извлечение данных из тензора нулевого ранга\n",
    "torch.rand(1).item()"
   ]
  },
  {
   "cell_type": "markdown",
   "id": "132884e7-954c-4c1b-a13a-d3c965ab495c",
   "metadata": {},
   "source": [
    "## Операции над тензорами"
   ]
  },
  {
   "cell_type": "code",
   "execution_count": 69,
   "id": "92f872dd-d75e-4045-8832-537cf78fd093",
   "metadata": {},
   "outputs": [
    {
     "data": {
      "text/plain": [
       "tensor(0.9864)"
      ]
     },
     "metadata": {},
     "output_type": "display_data"
    },
    {
     "data": {
      "text/plain": [
       "tensor(0.0285)"
      ]
     },
     "metadata": {},
     "output_type": "display_data"
    },
    {
     "data": {
      "text/plain": [
       "tensor(32.9515)"
      ]
     },
     "metadata": {},
     "output_type": "display_data"
    }
   ],
   "source": [
    "# Максимальные, минимальные элементы и сумма элементов\n",
    "display(torch.rand(8, 8).max())\n",
    "display(torch.rand(8, 8).min())\n",
    "display(torch.rand(8, 8).sum())"
   ]
  },
  {
   "cell_type": "code",
   "execution_count": null,
   "id": "bad73edf-3daf-4883-8b9c-a6d1c6cb8018",
   "metadata": {},
   "outputs": [],
   "source": []
  }
 ],
 "metadata": {
  "kernelspec": {
   "display_name": "Python 3 (ipykernel)",
   "language": "python",
   "name": "python3"
  },
  "language_info": {
   "codemirror_mode": {
    "name": "ipython",
    "version": 3
   },
   "file_extension": ".py",
   "mimetype": "text/x-python",
   "name": "python",
   "nbconvert_exporter": "python",
   "pygments_lexer": "ipython3",
   "version": "3.10.12"
  }
 },
 "nbformat": 4,
 "nbformat_minor": 5
}
