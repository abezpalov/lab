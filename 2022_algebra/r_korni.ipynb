{
 "cells": [
  {
   "cell_type": "code",
   "execution_count": 118,
   "id": "a1de40db",
   "metadata": {},
   "outputs": [],
   "source": [
    "import math\n",
    "from IPython.display import display, HTML, Math, Markdown"
   ]
  },
  {
   "cell_type": "code",
   "execution_count": 138,
   "id": "3d1d9718",
   "metadata": {},
   "outputs": [
    {
     "data": {
      "text/markdown": [
       "$6x^4$ +$19x^3$$-7x^2$$-26x$ +$12$"
      ],
      "text/plain": [
       "<IPython.core.display.Markdown object>"
      ]
     },
     "metadata": {},
     "output_type": "display_data"
    }
   ],
   "source": [
    "# Задаём многочлен\n",
    "\n",
    "A = [6, 19, -7, -26, 12]\n",
    "\n",
    "text = rf''\n",
    "for i, a in enumerate(A):\n",
    "    if i and a>0:\n",
    "        text = rf'{text} +'\n",
    "    if len(A)-i-1 == 0:\n",
    "        text = rf'{text}${a}$'\n",
    "    elif len(A)-i-1 == 1:\n",
    "        text = rf'{text}${a}x$'\n",
    "    else:\n",
    "        text = rf'{text}${a}x^{len(A)-i-1}$'\n",
    "display(Markdown(text))"
   ]
  },
  {
   "cell_type": "code",
   "execution_count": 139,
   "id": "2cef0be3",
   "metadata": {},
   "outputs": [
    {
     "data": {
      "text/markdown": [
       "$a_0 = 6$"
      ],
      "text/plain": [
       "<IPython.core.display.Markdown object>"
      ]
     },
     "metadata": {},
     "output_type": "display_data"
    },
    {
     "data": {
      "text/markdown": [
       "$a_4 = 12$"
      ],
      "text/plain": [
       "<IPython.core.display.Markdown object>"
      ]
     },
     "metadata": {},
     "output_type": "display_data"
    }
   ],
   "source": [
    "# Фиксируем a_0 и a_n\n",
    "\n",
    "a_0 = A[0]\n",
    "display(Markdown(rf'$a_0 = {a_0}$'))\n",
    "\n",
    "a_n = A[len(A)-1]\n",
    "display(Markdown(rf'$a_{len(A)-1} = {a_n}$'))"
   ]
  },
  {
   "cell_type": "code",
   "execution_count": 140,
   "id": "113faa99",
   "metadata": {},
   "outputs": [
    {
     "name": "stdout",
     "output_type": "stream",
     "text": [
      "[1, -1, 2, -2, 3, -3, 4, -4, 6, -6, 12, -12]\n",
      "[1, 2, 3, 6]\n"
     ]
    }
   ],
   "source": [
    "# Фиксируем все возможные P и Q\n",
    "\n",
    "P = []\n",
    "Q = []\n",
    "\n",
    "for p in range(1, abs(a_n)+1):\n",
    "    if a_n % p == 0:\n",
    "        P.append(p)\n",
    "        P.append(-1*p)\n",
    "\n",
    "for q in range(1, abs(a_0)+1):\n",
    "    if a_0 % q == 0:\n",
    "        Q.append(q)\n",
    "\n",
    "print(P)\n",
    "print(Q)"
   ]
  },
  {
   "cell_type": "code",
   "execution_count": 141,
   "id": "c83e5f53",
   "metadata": {},
   "outputs": [
    {
     "data": {
      "text/html": [
       "<table><tr><th><th>6</th><th>19</th><th>-7</th><th>-26</th><th>12</th></tr><tr><td>1</td><td>6</td><td>25</td><td>18</td><td>-8</td><td>4</td></tr><tr><td>-1</td><td>6</td><td>13</td><td>-20</td><td>-6</td><td>18</td></tr><tr><td>2</td><td>6</td><td>31</td><td>55</td><td>84</td><td>180</td></tr><tr><td>-2</td><td>6</td><td>7</td><td>-21</td><td>16</td><td>-20</td></tr></tr></table>"
      ],
      "text/plain": [
       "<IPython.core.display.HTML object>"
      ]
     },
     "metadata": {},
     "output_type": "display_data"
    }
   ],
   "source": [
    "# Определяем значение многочлена при значении аргумента x = 1, -1, 2, -2\n",
    "\n",
    "X_test = [1, -1, 2, -2]\n",
    "F_values = []\n",
    "\n",
    "table = '<table>'\n",
    "table += '<tr><th>'\n",
    "for a in A:\n",
    "    table += f'<th>{a}</th>'\n",
    "table += '</tr>'\n",
    "\n",
    "for x in X_test:\n",
    "    table += f'<tr><td>{x}</td>'\n",
    "    prev = 0\n",
    "    last = 0\n",
    "    for a in A:\n",
    "        current = x*prev + a\n",
    "        table += f'<td>{current}</td>'\n",
    "        prev = current\n",
    "        last = current\n",
    "    \n",
    "    F_values.append(last)\n",
    "    table += '</tr>'\n",
    "    \n",
    "\n",
    "table += '</tr></table>'\n",
    "\n",
    "display(HTML(table))"
   ]
  },
  {
   "cell_type": "code",
   "execution_count": 142,
   "id": "1e902419",
   "metadata": {},
   "outputs": [
    {
     "data": {
      "text/html": [
       "<h2>p = 1</h2>"
      ],
      "text/plain": [
       "<IPython.core.display.HTML object>"
      ]
     },
     "metadata": {},
     "output_type": "display_data"
    },
    {
     "data": {
      "text/html": [
       "<table><tr><th>q</th><th>1</th><th>2</th><th>3</th><th>6</th></tr><tr><td>Испытание 1: p-1q | 4</td><td>-</td><td>+</td><td>+</td><td>-</td></tr><tr><td>Испытание 2: p+1q | 18</td><td></td><td>+</td><td>-</td><td></td></tr><tr><td>Испытание 3: p-2q | 180</td><td></td><td>+</td><td></td><td></td></tr><tr><td>Испытание 4: p+2q | -20</td><td></td><td>+</td><td></td><td></td></tr></table>"
      ],
      "text/plain": [
       "<IPython.core.display.HTML object>"
      ]
     },
     "metadata": {},
     "output_type": "display_data"
    },
    {
     "data": {
      "text/plain": [
       "'Потенциальные корни: [0.5]'"
      ]
     },
     "metadata": {},
     "output_type": "display_data"
    },
    {
     "data": {
      "text/html": [
       "<table><tr><th><th>6</th><th>19</th><th>-7</th><th>-26</th><th>12</th></tr><tr><td>0.5</td><td>6.0</td><td>22.0</td><td>4.0</td><td>-24.0</td><td>0.0</td></tr></tr></table>"
      ],
      "text/plain": [
       "<IPython.core.display.HTML object>"
      ]
     },
     "metadata": {},
     "output_type": "display_data"
    },
    {
     "data": {
      "text/html": [
       "<h2>p = -1</h2>"
      ],
      "text/plain": [
       "<IPython.core.display.HTML object>"
      ]
     },
     "metadata": {},
     "output_type": "display_data"
    },
    {
     "data": {
      "text/html": [
       "<table><tr><th>q</th><th>1</th><th>2</th><th>3</th><th>6</th></tr><tr><td>Испытание 1: p-1q | 4</td><td>+</td><td>-</td><td>+</td><td>-</td></tr><tr><td>Испытание 2: p+1q | 18</td><td>-</td><td></td><td>+</td><td></td></tr><tr><td>Испытание 3: p-2q | 180</td><td></td><td></td><td>-</td><td></td></tr><tr><td>Испытание 4: p+2q | -20</td><td></td><td></td><td></td><td></td></tr></table>"
      ],
      "text/plain": [
       "<IPython.core.display.HTML object>"
      ]
     },
     "metadata": {},
     "output_type": "display_data"
    },
    {
     "data": {
      "text/html": [
       "<h2>p = 2</h2>"
      ],
      "text/plain": [
       "<IPython.core.display.HTML object>"
      ]
     },
     "metadata": {},
     "output_type": "display_data"
    },
    {
     "data": {
      "text/html": [
       "<table><tr><th>q</th><th>1</th><th>3</th></tr><tr><td>Испытание 1: p-1q | 4</td><td>+</td><td>+</td></tr><tr><td>Испытание 2: p+1q | 18</td><td>+</td><td>-</td></tr><tr><td>Испытание 3: p-2q | 180</td><td>-</td><td></td></tr><tr><td>Испытание 4: p+2q | -20</td><td></td><td></td></tr></table>"
      ],
      "text/plain": [
       "<IPython.core.display.HTML object>"
      ]
     },
     "metadata": {},
     "output_type": "display_data"
    },
    {
     "data": {
      "text/html": [
       "<h2>p = -2</h2>"
      ],
      "text/plain": [
       "<IPython.core.display.HTML object>"
      ]
     },
     "metadata": {},
     "output_type": "display_data"
    },
    {
     "data": {
      "text/html": [
       "<table><tr><th>q</th><th>1</th><th>3</th></tr><tr><td>Испытание 1: p-1q | 4</td><td>-</td><td>-</td></tr><tr><td>Испытание 2: p+1q | 18</td><td></td><td></td></tr><tr><td>Испытание 3: p-2q | 180</td><td></td><td></td></tr><tr><td>Испытание 4: p+2q | -20</td><td></td><td></td></tr></table>"
      ],
      "text/plain": [
       "<IPython.core.display.HTML object>"
      ]
     },
     "metadata": {},
     "output_type": "display_data"
    },
    {
     "data": {
      "text/html": [
       "<h2>p = 3</h2>"
      ],
      "text/plain": [
       "<IPython.core.display.HTML object>"
      ]
     },
     "metadata": {},
     "output_type": "display_data"
    },
    {
     "data": {
      "text/html": [
       "<table><tr><th>q</th><th>1</th><th>2</th></tr><tr><td>Испытание 1: p-1q | 4</td><td>+</td><td>+</td></tr><tr><td>Испытание 2: p+1q | 18</td><td>-</td><td>-</td></tr><tr><td>Испытание 3: p-2q | 180</td><td></td><td></td></tr><tr><td>Испытание 4: p+2q | -20</td><td></td><td></td></tr></table>"
      ],
      "text/plain": [
       "<IPython.core.display.HTML object>"
      ]
     },
     "metadata": {},
     "output_type": "display_data"
    },
    {
     "data": {
      "text/html": [
       "<h2>p = -3</h2>"
      ],
      "text/plain": [
       "<IPython.core.display.HTML object>"
      ]
     },
     "metadata": {},
     "output_type": "display_data"
    },
    {
     "data": {
      "text/html": [
       "<table><tr><th>q</th><th>1</th><th>2</th></tr><tr><td>Испытание 1: p-1q | 4</td><td>+</td><td>-</td></tr><tr><td>Испытание 2: p+1q | 18</td><td>+</td><td></td></tr><tr><td>Испытание 3: p-2q | 180</td><td>+</td><td></td></tr><tr><td>Испытание 4: p+2q | -20</td><td>+</td><td></td></tr></table>"
      ],
      "text/plain": [
       "<IPython.core.display.HTML object>"
      ]
     },
     "metadata": {},
     "output_type": "display_data"
    },
    {
     "data": {
      "text/plain": [
       "'Потенциальные корни: [-3.0]'"
      ]
     },
     "metadata": {},
     "output_type": "display_data"
    },
    {
     "data": {
      "text/html": [
       "<table><tr><th><th>6</th><th>19</th><th>-7</th><th>-26</th><th>12</th></tr><tr><td>-3.0</td><td>6.0</td><td>1.0</td><td>-10.0</td><td>4.0</td><td>0.0</td></tr></tr></table>"
      ],
      "text/plain": [
       "<IPython.core.display.HTML object>"
      ]
     },
     "metadata": {},
     "output_type": "display_data"
    },
    {
     "data": {
      "text/html": [
       "<h2>p = 4</h2>"
      ],
      "text/plain": [
       "<IPython.core.display.HTML object>"
      ]
     },
     "metadata": {},
     "output_type": "display_data"
    },
    {
     "data": {
      "text/html": [
       "<table><tr><th>q</th><th>1</th><th>3</th></tr><tr><td>Испытание 1: p-1q | 4</td><td>-</td><td>+</td></tr><tr><td>Испытание 2: p+1q | 18</td><td></td><td>-</td></tr><tr><td>Испытание 3: p-2q | 180</td><td></td><td></td></tr><tr><td>Испытание 4: p+2q | -20</td><td></td><td></td></tr></table>"
      ],
      "text/plain": [
       "<IPython.core.display.HTML object>"
      ]
     },
     "metadata": {},
     "output_type": "display_data"
    },
    {
     "data": {
      "text/html": [
       "<h2>p = -4</h2>"
      ],
      "text/plain": [
       "<IPython.core.display.HTML object>"
      ]
     },
     "metadata": {},
     "output_type": "display_data"
    },
    {
     "data": {
      "text/html": [
       "<table><tr><th>q</th><th>1</th><th>3</th></tr><tr><td>Испытание 1: p-1q | 4</td><td>-</td><td>-</td></tr><tr><td>Испытание 2: p+1q | 18</td><td></td><td></td></tr><tr><td>Испытание 3: p-2q | 180</td><td></td><td></td></tr><tr><td>Испытание 4: p+2q | -20</td><td></td><td></td></tr></table>"
      ],
      "text/plain": [
       "<IPython.core.display.HTML object>"
      ]
     },
     "metadata": {},
     "output_type": "display_data"
    },
    {
     "data": {
      "text/html": [
       "<h2>p = 6</h2>"
      ],
      "text/plain": [
       "<IPython.core.display.HTML object>"
      ]
     },
     "metadata": {},
     "output_type": "display_data"
    },
    {
     "data": {
      "text/html": [
       "<table><tr><th>q</th><th>1</th></tr><tr><td>Испытание 1: p-1q | 4</td><td>-</td></tr><tr><td>Испытание 2: p+1q | 18</td><td></td></tr><tr><td>Испытание 3: p-2q | 180</td><td></td></tr><tr><td>Испытание 4: p+2q | -20</td><td></td></tr></table>"
      ],
      "text/plain": [
       "<IPython.core.display.HTML object>"
      ]
     },
     "metadata": {},
     "output_type": "display_data"
    },
    {
     "data": {
      "text/html": [
       "<h2>p = -6</h2>"
      ],
      "text/plain": [
       "<IPython.core.display.HTML object>"
      ]
     },
     "metadata": {},
     "output_type": "display_data"
    },
    {
     "data": {
      "text/html": [
       "<table><tr><th>q</th><th>1</th></tr><tr><td>Испытание 1: p-1q | 4</td><td>-</td></tr><tr><td>Испытание 2: p+1q | 18</td><td></td></tr><tr><td>Испытание 3: p-2q | 180</td><td></td></tr><tr><td>Испытание 4: p+2q | -20</td><td></td></tr></table>"
      ],
      "text/plain": [
       "<IPython.core.display.HTML object>"
      ]
     },
     "metadata": {},
     "output_type": "display_data"
    },
    {
     "data": {
      "text/html": [
       "<h2>p = 12</h2>"
      ],
      "text/plain": [
       "<IPython.core.display.HTML object>"
      ]
     },
     "metadata": {},
     "output_type": "display_data"
    },
    {
     "data": {
      "text/html": [
       "<table><tr><th>q</th><th>1</th></tr><tr><td>Испытание 1: p-1q | 4</td><td>-</td></tr><tr><td>Испытание 2: p+1q | 18</td><td></td></tr><tr><td>Испытание 3: p-2q | 180</td><td></td></tr><tr><td>Испытание 4: p+2q | -20</td><td></td></tr></table>"
      ],
      "text/plain": [
       "<IPython.core.display.HTML object>"
      ]
     },
     "metadata": {},
     "output_type": "display_data"
    },
    {
     "data": {
      "text/html": [
       "<h2>p = -12</h2>"
      ],
      "text/plain": [
       "<IPython.core.display.HTML object>"
      ]
     },
     "metadata": {},
     "output_type": "display_data"
    },
    {
     "data": {
      "text/html": [
       "<table><tr><th>q</th><th>1</th></tr><tr><td>Испытание 1: p-1q | 4</td><td>-</td></tr><tr><td>Испытание 2: p+1q | 18</td><td></td></tr><tr><td>Испытание 3: p-2q | 180</td><td></td></tr><tr><td>Испытание 4: p+2q | -20</td><td></td></tr></table>"
      ],
      "text/plain": [
       "<IPython.core.display.HTML object>"
      ]
     },
     "metadata": {},
     "output_type": "display_data"
    }
   ],
   "source": [
    "for p in P:\n",
    "    display(HTML(f'<h2>p = {p}</h2>'))\n",
    "    \n",
    "    # Заголовок таблицы\n",
    "    table = '<table><tr>'\n",
    "    table += '<th>q</th>'\n",
    "\n",
    "    Q_now = [Q[i] for i in range(len(Q)) if math.gcd(p, Q[i]) == 1]\n",
    "    \n",
    "    for q in Q_now:\n",
    "        table += f'<th>{q}</th>'\n",
    "    table += '</tr>'\n",
    "    \n",
    "    results = [True for q in Q_now]\n",
    "    \n",
    "    # Проходим по всем испытаниям\n",
    "    for i, f_value in enumerate(F_values):\n",
    "\n",
    "        sign = '+' if i%2 else '-'\n",
    "        n_of_q = int((i+2)/2)\n",
    "        table += f'<tr><td>Испытание {i+1}: p{sign}{n_of_q}q | {f_value}</td>'\n",
    "    \n",
    "        for j, q in enumerate(Q_now):\n",
    "        \n",
    "            if results[j]:\n",
    "            \n",
    "                calculate = p + n_of_q * q if sign == '+' else p - n_of_q * q\n",
    "                if calculate == 0 or f_value % calculate:\n",
    "                    result = '-'\n",
    "                    results[j] = False\n",
    "                else:\n",
    "                    result = '+'\n",
    "                table += f'<td>{result}</td>'\n",
    "            else:\n",
    "                table += f'<td></td>'\n",
    "                \n",
    "\n",
    "        table += '</tr>'\n",
    "    # Закрываем таблицу\n",
    "    table += '</table>'\n",
    "    display(HTML(table))\n",
    "    \n",
    "    if True in results:\n",
    "        pot_x = [p / Q_now[i] for i in range(len(results)) if results[i]]\n",
    "        display(f'Потенциальные корни: {pot_x}')\n",
    "        \n",
    "        if pot_x:\n",
    "            table = '<table>'\n",
    "            table += '<tr><th>'\n",
    "            for a in A:\n",
    "                table += f'<th>{a}</th>'\n",
    "            table += '</tr>'\n",
    "\n",
    "            for x in pot_x:\n",
    "                table += f'<tr><td>{x}</td>'\n",
    "                prev = 0\n",
    "                last = 0\n",
    "                for a in A:\n",
    "                    current = x*prev + a\n",
    "                    table += f'<td>{current}</td>'\n",
    "                    prev = current\n",
    "                    last = current\n",
    "    \n",
    "            table += '</tr>'\n",
    "            table += '</tr></table>'\n",
    "\n",
    "            display(HTML(table))"
   ]
  },
  {
   "cell_type": "code",
   "execution_count": 137,
   "id": "d3bc1a58",
   "metadata": {},
   "outputs": [
    {
     "data": {
      "text/html": [
       "<table><tr><th><th>1</th><th>-2</th><th>-8</th><th>13</th><th>-24</th></tr><tr><td>-1</td><td>1</td><td>-3</td><td>-5</td><td>18</td><td>-42</td><tr><td>2</td><td>1</td><td>0</td><td>-8</td><td>-3</td><td>-30</td><tr><td>3</td><td>1</td><td>1</td><td>-5</td><td>-2</td><td>-30</td><tr><td>6</td><td>1</td><td>4</td><td>16</td><td>109</td><td>630</td></tr></tr></table>"
      ],
      "text/plain": [
       "<IPython.core.display.HTML object>"
      ]
     },
     "metadata": {},
     "output_type": "display_data"
    },
    {
     "name": "stdout",
     "output_type": "stream",
     "text": [
      "-42\n",
      "-30\n",
      "-30\n",
      "630\n"
     ]
    }
   ],
   "source": [
    "# Проверим другие \"подозрительные\" значения\n",
    "\n",
    "table = '<table>'\n",
    "table += '<tr><th>'\n",
    "for a in A:\n",
    "    table += f'<th>{a}</th>'\n",
    "table += '</tr>'\n",
    "\n",
    "for x in pot_x:\n",
    "    table += f'<tr><td>{x}</td>'\n",
    "    prev = 0\n",
    "    last = 0\n",
    "    for a in A:\n",
    "        current = x*prev + a\n",
    "        table += f'<td>{current}</td>'\n",
    "        prev = current\n",
    "        last = current\n",
    "\n",
    "table += '</tr>'\n",
    "table += '</tr></table>'\n",
    "\n",
    "display(HTML(table))\n",
    "for x in pot_x:\n",
    "    value = 0\n",
    "    for i, a in enumerate(A):\n",
    "        value += a * x ** (len(A)-i-1)\n",
    "    print(value)\n",
    "\n"
   ]
  },
  {
   "cell_type": "code",
   "execution_count": null,
   "id": "63ceb030",
   "metadata": {},
   "outputs": [],
   "source": [
    "\n"
   ]
  },
  {
   "cell_type": "code",
   "execution_count": null,
   "id": "1f87eec4",
   "metadata": {},
   "outputs": [],
   "source": []
  }
 ],
 "metadata": {
  "kernelspec": {
   "display_name": "Python 3 (ipykernel)",
   "language": "python",
   "name": "python3"
  },
  "language_info": {
   "codemirror_mode": {
    "name": "ipython",
    "version": 3
   },
   "file_extension": ".py",
   "mimetype": "text/x-python",
   "name": "python",
   "nbconvert_exporter": "python",
   "pygments_lexer": "ipython3",
   "version": "3.10.6"
  }
 },
 "nbformat": 4,
 "nbformat_minor": 5
}
