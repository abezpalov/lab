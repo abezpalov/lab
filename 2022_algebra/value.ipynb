{
 "cells": [
  {
   "cell_type": "code",
   "execution_count": 1,
   "id": "a1de40db",
   "metadata": {},
   "outputs": [],
   "source": [
    "import math\n",
    "from IPython.display import display, HTML, Math, Markdown"
   ]
  },
  {
   "cell_type": "code",
   "execution_count": 3,
   "id": "3d1d9718",
   "metadata": {},
   "outputs": [
    {
     "data": {
      "text/markdown": [
       "$1x^4$$-2x^3$$-11x^2$ +$12x$ +$36$"
      ],
      "text/plain": [
       "<IPython.core.display.Markdown object>"
      ]
     },
     "metadata": {},
     "output_type": "display_data"
    },
    {
     "data": {
      "text/html": [
       "<table><tr><th><th>1</th><th>-2</th><th>-11</th><th>12</th><th>36</th></tr><tr><td>-1</td><td>1</td><td>-3</td><td>-8</td><td>20</td><td>16</td></tr></table>"
      ],
      "text/plain": [
       "<IPython.core.display.HTML object>"
      ]
     },
     "metadata": {},
     "output_type": "display_data"
    }
   ],
   "source": [
    "# Задаём многочлен\n",
    "\n",
    "A = [1, -2, -11, 12, 36]\n",
    "B = list()\n",
    "\n",
    "text = rf''\n",
    "for i, a in enumerate(A):\n",
    "    if i and a>0:\n",
    "        text = rf'{text} +'\n",
    "    if len(A)-i-1 == 0:\n",
    "        text = rf'{text}${a}$'\n",
    "    elif len(A)-i-1 == 1:\n",
    "        text = rf'{text}${a}x$'\n",
    "    else:\n",
    "        text = rf'{text}${a}x^{len(A)-i-1}$'\n",
    "display(Markdown(text))\n",
    "\n",
    "x_0 = -1\n",
    "\n",
    "table = '<table>'\n",
    "table += '<tr><th>'\n",
    "for a in A:\n",
    "    table += f'<th>{a}</th>'\n",
    "table += '</tr>'\n",
    "\n",
    "table += f'<tr><td>{x_0}</td>'\n",
    "prev = 0\n",
    "last = 0\n",
    "for a in A:\n",
    "    current = x_0*prev + a\n",
    "    B.append(current)\n",
    "    table += f'<td>{current}</td>'\n",
    "    prev = current\n",
    "    last = current\n",
    "    \n",
    "table += '</tr></table>'\n",
    "\n",
    "display(HTML(table))"
   ]
  },
  {
   "cell_type": "code",
   "execution_count": 33,
   "id": "c83e5f53",
   "metadata": {},
   "outputs": [
    {
     "data": {
      "text/markdown": [
       "$1x^4$ +$2x^3$$0x^2$ +$6x$ +$4$"
      ],
      "text/plain": [
       "<IPython.core.display.Markdown object>"
      ]
     },
     "metadata": {},
     "output_type": "display_data"
    },
    {
     "data": {
      "text/html": [
       "<table><tr><th><th>1</th><th>2</th><th>0</th><th>6</th><th>4</th></tr><tr><td>2</td><td>1</td><td>4</td><td>8</td><td>22</td><td>48</td></tr></table>"
      ],
      "text/plain": [
       "<IPython.core.display.HTML object>"
      ]
     },
     "metadata": {},
     "output_type": "display_data"
    }
   ],
   "source": [
    "# Задаём многочлен\n",
    "\n",
    "A = list(B[:-1])\n",
    "B = list()\n",
    "\n",
    "text = rf''\n",
    "for i, a in enumerate(A):\n",
    "    if i and a>0:\n",
    "        text = rf'{text} +'\n",
    "    if len(A)-i-1 == 0:\n",
    "        text = rf'{text}${a}$'\n",
    "    elif len(A)-i-1 == 1:\n",
    "        text = rf'{text}${a}x$'\n",
    "    else:\n",
    "        text = rf'{text}${a}x^{len(A)-i-1}$'\n",
    "display(Markdown(text))\n",
    "\n",
    "x_0 = 2\n",
    "\n",
    "table = '<table>'\n",
    "table += '<tr><th>'\n",
    "for a in A:\n",
    "    table += f'<th>{a}</th>'\n",
    "table += '</tr>'\n",
    "\n",
    "table += f'<tr><td>{x_0}</td>'\n",
    "prev = 0\n",
    "last = 0\n",
    "for a in A:\n",
    "    current = x_0*prev + a\n",
    "    B.append(current)\n",
    "    table += f'<td>{current}</td>'\n",
    "    prev = current\n",
    "    last = current\n",
    "    \n",
    "table += '</tr></table>'\n",
    "\n",
    "display(HTML(table))"
   ]
  },
  {
   "cell_type": "code",
   "execution_count": 34,
   "id": "b644347b",
   "metadata": {},
   "outputs": [
    {
     "data": {
      "text/markdown": [
       "$1x^3$ +$4x^2$ +$8x$ +$22$"
      ],
      "text/plain": [
       "<IPython.core.display.Markdown object>"
      ]
     },
     "metadata": {},
     "output_type": "display_data"
    },
    {
     "data": {
      "text/html": [
       "<table><tr><th><th>1</th><th>4</th><th>8</th><th>22</th></tr><tr><td>2</td><td>1</td><td>6</td><td>20</td><td>62</td></tr></table>"
      ],
      "text/plain": [
       "<IPython.core.display.HTML object>"
      ]
     },
     "metadata": {},
     "output_type": "display_data"
    }
   ],
   "source": [
    "# Задаём многочлен\n",
    "\n",
    "A = list(B[:-1])\n",
    "B = list()\n",
    "\n",
    "text = rf''\n",
    "for i, a in enumerate(A):\n",
    "    if i and a>0:\n",
    "        text = rf'{text} +'\n",
    "    if len(A)-i-1 == 0:\n",
    "        text = rf'{text}${a}$'\n",
    "    elif len(A)-i-1 == 1:\n",
    "        text = rf'{text}${a}x$'\n",
    "    else:\n",
    "        text = rf'{text}${a}x^{len(A)-i-1}$'\n",
    "display(Markdown(text))\n",
    "\n",
    "x_0 = 2\n",
    "\n",
    "table = '<table>'\n",
    "table += '<tr><th>'\n",
    "for a in A:\n",
    "    table += f'<th>{a}</th>'\n",
    "table += '</tr>'\n",
    "\n",
    "table += f'<tr><td>{x_0}</td>'\n",
    "prev = 0\n",
    "last = 0\n",
    "for a in A:\n",
    "    current = x_0*prev + a\n",
    "    B.append(current)\n",
    "    table += f'<td>{current}</td>'\n",
    "    prev = current\n",
    "    last = current\n",
    "    \n",
    "table += '</tr></table>'\n",
    "\n",
    "display(HTML(table))"
   ]
  },
  {
   "cell_type": "code",
   "execution_count": 35,
   "id": "2fa41f08",
   "metadata": {},
   "outputs": [
    {
     "data": {
      "text/markdown": [
       "$1x^2$ +$6x$ +$20$"
      ],
      "text/plain": [
       "<IPython.core.display.Markdown object>"
      ]
     },
     "metadata": {},
     "output_type": "display_data"
    },
    {
     "data": {
      "text/html": [
       "<table><tr><th><th>1</th><th>6</th><th>20</th></tr><tr><td>2</td><td>1</td><td>8</td><td>36</td></tr></table>"
      ],
      "text/plain": [
       "<IPython.core.display.HTML object>"
      ]
     },
     "metadata": {},
     "output_type": "display_data"
    }
   ],
   "source": [
    "# Задаём многочлен\n",
    "\n",
    "A = list(B[:-1])\n",
    "B = list()\n",
    "\n",
    "text = rf''\n",
    "for i, a in enumerate(A):\n",
    "    if i and a>0:\n",
    "        text = rf'{text} +'\n",
    "    if len(A)-i-1 == 0:\n",
    "        text = rf'{text}${a}$'\n",
    "    elif len(A)-i-1 == 1:\n",
    "        text = rf'{text}${a}x$'\n",
    "    else:\n",
    "        text = rf'{text}${a}x^{len(A)-i-1}$'\n",
    "display(Markdown(text))\n",
    "\n",
    "x_0 = 2\n",
    "\n",
    "table = '<table>'\n",
    "table += '<tr><th>'\n",
    "for a in A:\n",
    "    table += f'<th>{a}</th>'\n",
    "table += '</tr>'\n",
    "\n",
    "table += f'<tr><td>{x_0}</td>'\n",
    "prev = 0\n",
    "last = 0\n",
    "for a in A:\n",
    "    current = x_0*prev + a\n",
    "    B.append(current)\n",
    "    table += f'<td>{current}</td>'\n",
    "    prev = current\n",
    "    last = current\n",
    "    \n",
    "table += '</tr></table>'\n",
    "\n",
    "display(HTML(table))"
   ]
  },
  {
   "cell_type": "code",
   "execution_count": 36,
   "id": "ee6a4cad",
   "metadata": {},
   "outputs": [
    {
     "data": {
      "text/markdown": [
       "$1x$ +$8$"
      ],
      "text/plain": [
       "<IPython.core.display.Markdown object>"
      ]
     },
     "metadata": {},
     "output_type": "display_data"
    },
    {
     "data": {
      "text/html": [
       "<table><tr><th><th>1</th><th>8</th></tr><tr><td>2</td><td>1</td><td>10</td></tr></table>"
      ],
      "text/plain": [
       "<IPython.core.display.HTML object>"
      ]
     },
     "metadata": {},
     "output_type": "display_data"
    }
   ],
   "source": [
    "# Задаём многочлен\n",
    "\n",
    "A = list(B[:-1])\n",
    "B = list()\n",
    "\n",
    "text = rf''\n",
    "for i, a in enumerate(A):\n",
    "    if i and a>0:\n",
    "        text = rf'{text} +'\n",
    "    if len(A)-i-1 == 0:\n",
    "        text = rf'{text}${a}$'\n",
    "    elif len(A)-i-1 == 1:\n",
    "        text = rf'{text}${a}x$'\n",
    "    else:\n",
    "        text = rf'{text}${a}x^{len(A)-i-1}$'\n",
    "display(Markdown(text))\n",
    "\n",
    "x_0 = 2\n",
    "\n",
    "table = '<table>'\n",
    "table += '<tr><th>'\n",
    "for a in A:\n",
    "    table += f'<th>{a}</th>'\n",
    "table += '</tr>'\n",
    "\n",
    "table += f'<tr><td>{x_0}</td>'\n",
    "prev = 0\n",
    "last = 0\n",
    "for a in A:\n",
    "    current = x_0*prev + a\n",
    "    B.append(current)\n",
    "    table += f'<td>{current}</td>'\n",
    "    prev = current\n",
    "    last = current\n",
    "    \n",
    "table += '</tr></table>'\n",
    "\n",
    "display(HTML(table))"
   ]
  },
  {
   "cell_type": "code",
   "execution_count": 37,
   "id": "9246f4a2",
   "metadata": {},
   "outputs": [
    {
     "data": {
      "text/markdown": [
       "$1$"
      ],
      "text/plain": [
       "<IPython.core.display.Markdown object>"
      ]
     },
     "metadata": {},
     "output_type": "display_data"
    },
    {
     "data": {
      "text/html": [
       "<table><tr><th><th>1</th></tr><tr><td>2</td><td>1</td></tr></table>"
      ],
      "text/plain": [
       "<IPython.core.display.HTML object>"
      ]
     },
     "metadata": {},
     "output_type": "display_data"
    }
   ],
   "source": [
    "# Задаём многочлен\n",
    "\n",
    "A = list(B[:-1])\n",
    "B = list()\n",
    "\n",
    "text = rf''\n",
    "for i, a in enumerate(A):\n",
    "    if i and a>0:\n",
    "        text = rf'{text} +'\n",
    "    if len(A)-i-1 == 0:\n",
    "        text = rf'{text}${a}$'\n",
    "    elif len(A)-i-1 == 1:\n",
    "        text = rf'{text}${a}x$'\n",
    "    else:\n",
    "        text = rf'{text}${a}x^{len(A)-i-1}$'\n",
    "display(Markdown(text))\n",
    "\n",
    "x_0 = 2\n",
    "\n",
    "table = '<table>'\n",
    "table += '<tr><th>'\n",
    "for a in A:\n",
    "    table += f'<th>{a}</th>'\n",
    "table += '</tr>'\n",
    "\n",
    "table += f'<tr><td>{x_0}</td>'\n",
    "prev = 0\n",
    "last = 0\n",
    "for a in A:\n",
    "    current = x_0*prev + a\n",
    "    B.append(current)\n",
    "    table += f'<td>{current}</td>'\n",
    "    prev = current\n",
    "    last = current\n",
    "    \n",
    "table += '</tr></table>'\n",
    "\n",
    "display(HTML(table))"
   ]
  }
 ],
 "metadata": {
  "kernelspec": {
   "display_name": "Python 3 (ipykernel)",
   "language": "python",
   "name": "python3"
  },
  "language_info": {
   "codemirror_mode": {
    "name": "ipython",
    "version": 3
   },
   "file_extension": ".py",
   "mimetype": "text/x-python",
   "name": "python",
   "nbconvert_exporter": "python",
   "pygments_lexer": "ipython3",
   "version": "3.10.6"
  }
 },
 "nbformat": 4,
 "nbformat_minor": 5
}
