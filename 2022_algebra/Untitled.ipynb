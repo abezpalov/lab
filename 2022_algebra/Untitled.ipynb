{
 "cells": [
  {
   "cell_type": "code",
   "execution_count": 1,
   "id": "d7cdd7fa",
   "metadata": {},
   "outputs": [],
   "source": [
    "import numpy as np\n",
    "from IPython.display import display, Math, Markdown"
   ]
  },
  {
   "cell_type": "code",
   "execution_count": 65,
   "id": "1a1d06ac",
   "metadata": {},
   "outputs": [
    {
     "data": {
      "text/plain": [
       "array([[ 17, -28,  45,  11,  39],\n",
       "       [ 24, -37,  61,  13,  50],\n",
       "       [ 25,  -7,  32, -18, -11],\n",
       "       [ 31,  12,  19, -43, -55],\n",
       "       [ 42,  13,  29, -55, -68]])"
      ]
     },
     "metadata": {},
     "output_type": "display_data"
    },
    {
     "data": {
      "text/plain": [
       "2"
      ]
     },
     "metadata": {},
     "output_type": "display_data"
    }
   ],
   "source": [
    "a = np.array([[17, -28, 45, 11, 39],\n",
    "              [24, -37, 61, 13, 50],\n",
    "              [25, -7, 32, -18, -11],\n",
    "              [31, 12, 19, -43, -55],\n",
    "              [42, 13, 29, -55, -68]])\n",
    "display(a)\n",
    "display(np.linalg.matrix_rank(a))"
   ]
  },
  {
   "cell_type": "code",
   "execution_count": 63,
   "id": "dd6f031b",
   "metadata": {},
   "outputs": [
    {
     "data": {
      "text/plain": [
       "array([[  17,  -28,   45,   11,   39],\n",
       "       [   7,   -9,   16,    2,   11],\n",
       "       [  59,  -63,  122,    4,   67],\n",
       "       [  99, -100,  199,    1,  101],\n",
       "       [ 127, -127,  254,    0,  127]])"
      ]
     },
     "metadata": {},
     "output_type": "display_data"
    }
   ],
   "source": [
    "a[1] = a[1] - a[0]\n",
    "a[2] = a[2] + 2*a[0]\n",
    "a[3] = a[3] + 4*a[0]\n",
    "a[4] = a[4] + 5*a[0]\n",
    "\n",
    "\n",
    "display(a)"
   ]
  },
  {
   "cell_type": "code",
   "execution_count": null,
   "id": "f219b950",
   "metadata": {},
   "outputs": [],
   "source": []
  }
 ],
 "metadata": {
  "kernelspec": {
   "display_name": "Python 3 (ipykernel)",
   "language": "python",
   "name": "python3"
  },
  "language_info": {
   "codemirror_mode": {
    "name": "ipython",
    "version": 3
   },
   "file_extension": ".py",
   "mimetype": "text/x-python",
   "name": "python",
   "nbconvert_exporter": "python",
   "pygments_lexer": "ipython3",
   "version": "3.10.6"
  }
 },
 "nbformat": 4,
 "nbformat_minor": 5
}
