{
 "cells": [
  {
   "cell_type": "code",
   "execution_count": 1,
   "id": "7dec19a0",
   "metadata": {},
   "outputs": [],
   "source": [
    "import numpy as np\n",
    "import pandas as pd\n",
    "import math\n",
    "import matplotlib.pyplot as plt\n",
    "from IPython.display import display, Math, Markdown"
   ]
  },
  {
   "cell_type": "code",
   "execution_count": 2,
   "id": "37bd559f",
   "metadata": {},
   "outputs": [],
   "source": [
    "# Прямые измерения\n",
    "\n",
    "la = 1.2\n",
    "\n",
    "rho_0 = 997.80\n",
    "delta_rho_0 = 0.1\n",
    "\n",
    "m_1 = 131.570*10**-3\n",
    "delta_m_1 = 0.01*10**-3\n",
    "\n",
    "m = 39.100*10**-3\n",
    "delta_m = 0.01*10**-3\n",
    "\n",
    "m_2 = 167.220*10**-3\n",
    "delta_m_2 = 0.01*10**-3"
   ]
  },
  {
   "cell_type": "code",
   "execution_count": 3,
   "id": "9f76a382",
   "metadata": {},
   "outputs": [
    {
     "data": {
      "text/markdown": [
       "$\\rho = 11308.4 \\frac{кг}{м^3}$"
      ],
      "text/plain": [
       "<IPython.core.display.Markdown object>"
      ]
     },
     "metadata": {},
     "output_type": "display_data"
    },
    {
     "data": {
      "text/markdown": [
       "$\\rho_{тела} = 11296.0 \\frac{кг}{м^3}$"
      ],
      "text/plain": [
       "<IPython.core.display.Markdown object>"
      ]
     },
     "metadata": {},
     "output_type": "display_data"
    }
   ],
   "source": [
    "rho = round((m*rho_0) / (m_1 + m - m_2), 2)\n",
    "display(Markdown(rf'$\\rho = {rho} \\frac{{кг}}{{м^3}}$'))\n",
    "\n",
    "rho = rho + la * (1 - rho/rho_0)\n",
    "display(Markdown(rf'$\\rho_{{тела}} = {rho} \\frac{{кг}}{{м^3}}$'))"
   ]
  },
  {
   "cell_type": "code",
   "execution_count": 8,
   "id": "c5ef154b",
   "metadata": {},
   "outputs": [
    {
     "data": {
      "text/markdown": [
       "$\\Delta \\rho = 46.37 \\frac{кг}{м^3}$"
      ],
      "text/plain": [
       "<IPython.core.display.Markdown object>"
      ]
     },
     "metadata": {},
     "output_type": "display_data"
    }
   ],
   "source": [
    "delta_rho = (\n",
    "(-rho_0*(m_1 - m_2)/(m_1 + m - m_2)*delta_m)**2 + \n",
    "(-rho_0*m/(m_1 + m - m_2)**2 * delta_m_1)**2 + \n",
    "(-rho_0*m/(m_1 + m - m_2)**2 * delta_m_2)**2 + \n",
    "(m/(m_1 + m - m_2)*delta_rho_0)**2\n",
    ")**0.5\n",
    "delta_rho = round(delta_rho, 2)\n",
    "display(Markdown(rf'$\\Delta \\rho = {delta_rho} \\frac{{кг}}{{м^3}}$'))"
   ]
  },
  {
   "cell_type": "code",
   "execution_count": 10,
   "id": "3d5ebb4d",
   "metadata": {},
   "outputs": [
    {
     "data": {
      "text/markdown": [
       "$\\rho_{тела} = 2551.61 \\frac{кг}{м^3}$"
      ],
      "text/plain": [
       "<IPython.core.display.Markdown object>"
      ]
     },
     "metadata": {},
     "output_type": "display_data"
    }
   ],
   "source": [
    "m_1 = 28.790*10**-3\n",
    "delta_m_1 = 0.01*10**-3\n",
    "m_2 = 17.540*10**-3\n",
    "delta_m_2 = 0.01*10**-3\n",
    "rho_0 = 997.80\n",
    "la = 1.2\n",
    "\n",
    "rho = m_1 * (rho_0 - la)/(m_1 - m_2) + la\n",
    "rho = round(rho, 2)\n",
    "display(Markdown(rf'$\\rho_{{тела}} = {rho} \\frac{{кг}}{{м^3}}$'))"
   ]
  },
  {
   "cell_type": "code",
   "execution_count": 15,
   "id": "443deeb9",
   "metadata": {},
   "outputs": [
    {
     "data": {
      "text/markdown": [
       "$\\Delta \\rho = 2.65 \\frac{кг}{м^3}$"
      ],
      "text/plain": [
       "<IPython.core.display.Markdown object>"
      ]
     },
     "metadata": {},
     "output_type": "display_data"
    }
   ],
   "source": [
    "delta_rho = (\n",
    "(m_2*(rho_0 - la)*delta_m_1/(m_1 - m_2)**2)**2 +\n",
    "(m_1*(rho_0 - la)*delta_m_2/(m_1 - m_2)**2)**2\n",
    ")**0.5\n",
    "delta_rho = round(delta_rho, 2)\n",
    "display(Markdown(rf'$\\Delta \\rho = {delta_rho} \\frac{{кг}}{{м^3}}$'))"
   ]
  }
 ],
 "metadata": {
  "kernelspec": {
   "display_name": "Python 3 (ipykernel)",
   "language": "python",
   "name": "python3"
  },
  "language_info": {
   "codemirror_mode": {
    "name": "ipython",
    "version": 3
   },
   "file_extension": ".py",
   "mimetype": "text/x-python",
   "name": "python",
   "nbconvert_exporter": "python",
   "pygments_lexer": "ipython3",
   "version": "3.10.6"
  }
 },
 "nbformat": 4,
 "nbformat_minor": 5
}
