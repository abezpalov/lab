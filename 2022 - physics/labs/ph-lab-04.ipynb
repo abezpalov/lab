{
 "cells": [
  {
   "cell_type": "code",
   "execution_count": 1,
   "id": "4528e71a",
   "metadata": {},
   "outputs": [],
   "source": [
    "import numpy as np\n",
    "import pandas as pd\n",
    "import math\n",
    "import matplotlib.pyplot as plt\n",
    "from IPython.display import display, Math, Markdown\n",
    "\n",
    "# Коэффициенты Стьюдента\n",
    "student = {\n",
    "    2: 12.7062047364,\n",
    "    3: 4.30265272991,\n",
    "    4: 3.18244630528,\n",
    "    5: 2.7764451052,\n",
    "    6: 2.57058183661,\n",
    "    7: 2.44691184879,\n",
    "    8: 2.36462425101,\n",
    "    9: 2.30600413503,\n",
    "    10: 2.26215716274,\n",
    "    11: 2.22813885196,\n",
    "    12: 2.20098516008,\n",
    "    13: 2.17881282966,\n",
    "    14: 2.16036865646,\n",
    "    15: 2.14478668792,\n",
    "    16: 2.13144954556,\n",
    "    17: 2.11990529922,\n",
    "    18: 2.10981557783,\n",
    "    19: 2.10092204024,\n",
    "    20: 2.09302405441,\n",
    "}"
   ]
  },
  {
   "cell_type": "code",
   "execution_count": 2,
   "id": "c7d9dfdb",
   "metadata": {},
   "outputs": [
    {
     "data": {
      "text/markdown": [
       "# Обработка прямых измерений времени 20 колебаний (опыт № 1)"
      ],
      "text/plain": [
       "<IPython.core.display.Markdown object>"
      ]
     },
     "metadata": {},
     "output_type": "display_data"
    },
    {
     "data": {
      "text/markdown": [
       "## 1. Отображаем исходные значения"
      ],
      "text/plain": [
       "<IPython.core.display.Markdown object>"
      ]
     },
     "metadata": {},
     "output_type": "display_data"
    },
    {
     "data": {
      "text/markdown": [
       "$t_i$ = [22.18  22.178 22.181] $с$"
      ],
      "text/plain": [
       "<IPython.core.display.Markdown object>"
      ]
     },
     "metadata": {},
     "output_type": "display_data"
    },
    {
     "data": {
      "text/markdown": [
       "N = 3"
      ],
      "text/plain": [
       "<IPython.core.display.Markdown object>"
      ]
     },
     "metadata": {},
     "output_type": "display_data"
    },
    {
     "data": {
      "text/markdown": [
       "Порядок округления $t_i$ = $10^{-3}$"
      ],
      "text/plain": [
       "<IPython.core.display.Markdown object>"
      ]
     },
     "metadata": {},
     "output_type": "display_data"
    },
    {
     "data": {
      "text/markdown": [
       "## 2. Расcчитываем среднее"
      ],
      "text/plain": [
       "<IPython.core.display.Markdown object>"
      ]
     },
     "metadata": {},
     "output_type": "display_data"
    },
    {
     "data": {
      "text/markdown": [],
      "text/plain": [
       "<IPython.core.display.Markdown object>"
      ]
     },
     "metadata": {},
     "output_type": "display_data"
    },
    {
     "data": {
      "text/markdown": [
       "$t_{ср} = \\frac{\\sum { t_i  }}{N} = 22.17967 с$"
      ],
      "text/plain": [
       "<IPython.core.display.Markdown object>"
      ]
     },
     "metadata": {},
     "output_type": "display_data"
    },
    {
     "data": {
      "text/markdown": [
       "## 3. Расcчитываем отклонение от среднего"
      ],
      "text/plain": [
       "<IPython.core.display.Markdown object>"
      ]
     },
     "metadata": {},
     "output_type": "display_data"
    },
    {
     "data": {
      "text/markdown": [
       "$\\Delta t_i = t_i - t_{ср} =$ [ 0.00033 -0.00167  0.00133] $с$"
      ],
      "text/plain": [
       "<IPython.core.display.Markdown object>"
      ]
     },
     "metadata": {},
     "output_type": "display_data"
    },
    {
     "data": {
      "text/markdown": [
       "$\\sum \\Delta t_i = -0.0 с$"
      ],
      "text/plain": [
       "<IPython.core.display.Markdown object>"
      ]
     },
     "metadata": {},
     "output_type": "display_data"
    },
    {
     "data": {
      "text/markdown": [
       "## 4. Расcчитываем квадрат отклонения для каждого измерения и проверяем на выбросы"
      ],
      "text/plain": [
       "<IPython.core.display.Markdown object>"
      ]
     },
     "metadata": {},
     "output_type": "display_data"
    },
    {
     "data": {
      "text/markdown": [
       "$(\\Delta t_i)^2$ = [1.0890e-07 2.7889e-06 1.7689e-06] $с^2$"
      ],
      "text/plain": [
       "<IPython.core.display.Markdown object>"
      ]
     },
     "metadata": {},
     "output_type": "display_data"
    },
    {
     "data": {
      "text/markdown": [
       "$S_i$ = $ \\sqrt { \\frac{\\sum { (\\Delta t_i)^2 }}{ N - 1}  } $ = 0.00153 $с$"
      ],
      "text/plain": [
       "<IPython.core.display.Markdown object>"
      ]
     },
     "metadata": {},
     "output_type": "display_data"
    },
    {
     "data": {
      "text/markdown": [
       "$3S_i$ = 0.00458 $с$"
      ],
      "text/plain": [
       "<IPython.core.display.Markdown object>"
      ]
     },
     "metadata": {},
     "output_type": "display_data"
    },
    {
     "data": {
      "text/markdown": [
       "Выбросов нет."
      ],
      "text/plain": [
       "<IPython.core.display.Markdown object>"
      ]
     },
     "metadata": {},
     "output_type": "display_data"
    },
    {
     "data": {
      "text/markdown": [
       "## 5. Расcчитываем среднеквадратичное отклонение для всей серии измерений"
      ],
      "text/plain": [
       "<IPython.core.display.Markdown object>"
      ]
     },
     "metadata": {},
     "output_type": "display_data"
    },
    {
     "data": {
      "text/markdown": [
       "$S$ = $ \\sqrt { \\frac{\\sum { (\\Delta t_i)^2 }}{ N(N - 1)}  } $ = 0.00088 $с$"
      ],
      "text/plain": [
       "<IPython.core.display.Markdown object>"
      ]
     },
     "metadata": {},
     "output_type": "display_data"
    },
    {
     "data": {
      "text/markdown": [
       "## 6. Расcчитываем случайную ошибку измерений"
      ],
      "text/plain": [
       "<IPython.core.display.Markdown object>"
      ]
     },
     "metadata": {},
     "output_type": "display_data"
    },
    {
     "data": {
      "text/markdown": [
       "$t_{N, p}$ = 4.30265272991"
      ],
      "text/plain": [
       "<IPython.core.display.Markdown object>"
      ]
     },
     "metadata": {},
     "output_type": "display_data"
    },
    {
     "data": {
      "text/markdown": [
       "$\\Delta t_{сл}$ = $ t_{N, p} S $ =0.00379 $с$"
      ],
      "text/plain": [
       "<IPython.core.display.Markdown object>"
      ]
     },
     "metadata": {},
     "output_type": "display_data"
    },
    {
     "data": {
      "text/markdown": [
       "## 7. Округляем"
      ],
      "text/plain": [
       "<IPython.core.display.Markdown object>"
      ]
     },
     "metadata": {},
     "output_type": "display_data"
    },
    {
     "data": {
      "text/markdown": [
       "Новый порядок округления = $10^{-2}$"
      ],
      "text/plain": [
       "<IPython.core.display.Markdown object>"
      ]
     },
     "metadata": {},
     "output_type": "display_data"
    },
    {
     "data": {
      "text/markdown": [
       "$t = t_{окр}$ = 22.18 $с$"
      ],
      "text/plain": [
       "<IPython.core.display.Markdown object>"
      ]
     },
     "metadata": {},
     "output_type": "display_data"
    },
    {
     "data": {
      "text/markdown": [
       "## 8. Рассчитываем ошибку округления"
      ],
      "text/plain": [
       "<IPython.core.display.Markdown object>"
      ]
     },
     "metadata": {},
     "output_type": "display_data"
    },
    {
     "data": {
      "text/markdown": [
       "$\\Delta t_{окр}$ = $ t_{ср} - t_{окр} $ = -0.00033 $с$"
      ],
      "text/plain": [
       "<IPython.core.display.Markdown object>"
      ]
     },
     "metadata": {},
     "output_type": "display_data"
    },
    {
     "data": {
      "text/markdown": [
       "## 9. Расчитываем итоговую погрешность прямых измерений"
      ],
      "text/plain": [
       "<IPython.core.display.Markdown object>"
      ]
     },
     "metadata": {},
     "output_type": "display_data"
    },
    {
     "data": {
      "text/markdown": [
       "$\\Delta t$ = $ \\sqrt { (\\Delta t_{сл})^2 + (\\Delta t_{окр})^2 + (\\Delta t_{пр})^2 }$ =$\\sqrt { 0.00379^2 + -0.00033^2 + 0.0005^2} $=0.0038 $с$"
      ],
      "text/plain": [
       "<IPython.core.display.Markdown object>"
      ]
     },
     "metadata": {},
     "output_type": "display_data"
    },
    {
     "data": {
      "text/markdown": [
       "## 10. Результат прямых измерений $t$"
      ],
      "text/plain": [
       "<IPython.core.display.Markdown object>"
      ]
     },
     "metadata": {},
     "output_type": "display_data"
    },
    {
     "data": {
      "text/markdown": [
       "$t = (22.18 \\pm 0.0038) с$"
      ],
      "text/plain": [
       "<IPython.core.display.Markdown object>"
      ]
     },
     "metadata": {},
     "output_type": "display_data"
    }
   ],
   "source": [
    "## Вводные данные ##\n",
    "\n",
    "fullname = 'времени 20 колебаний (опыт № 1)'\n",
    "name = 't' # Измеряемая величина\n",
    "unit = 'с' # Единица измерения\n",
    "delta_x_pribor = 0.0005 # Погрешность прибора\n",
    "\n",
    "# Измерения\n",
    "x_i = np.array([22.180, 22.178, 22.181 ])\n",
    "\n",
    "\n",
    "## Расчёты. Не трогаем. ##\n",
    "display(Markdown(rf'# Обработка прямых измерений {fullname}'))\n",
    "\n",
    "# Отображаем исходные значения\n",
    "display(Markdown(rf'## 1. Отображаем исходные значения'))\n",
    "display(Markdown(rf'${name}_i$ = {x_i} ${unit}$'))\n",
    "\n",
    "# Фиксируем количество измерений\n",
    "N = x_i.shape[0]\n",
    "display(Markdown(rf'N = {N}'))\n",
    "\n",
    "# Выясняем знак округления\n",
    "x_round = 0\n",
    "for x in x_i:\n",
    "    x_i_round = len(str(x).split('.')[1])\n",
    "    if x_i_round > x_round:\n",
    "        x_round = x_i_round\n",
    "display(Markdown(rf'Порядок округления ${name}_i$ = $10^{{{-x_round}}}$'))\n",
    "\n",
    "# Расcчитываем среднее\n",
    "display(Markdown(rf'## 2. Расcчитываем среднее'))\n",
    "display(Markdown(rf''))\n",
    "x_mean = round(x_i.mean(), x_round + 2)\n",
    "display(Markdown(rf'${name}_{{ср}} = \\frac{{\\sum {{ {name}_i  }}}}{{N}} = {x_mean} {unit}$'))\n",
    "\n",
    "# Расcчитываем отклонение от среднего\n",
    "display(Markdown(rf'## 3. Расcчитываем отклонение от среднего'))\n",
    "delta_x_i = x_i - x_mean\n",
    "display(Markdown(rf'$\\Delta {name}_i = {name}_i - {name}_{{ср}} =$ {delta_x_i} ${unit}$'))\n",
    "display(Markdown(rf'$\\sum \\Delta {name}_i = {round(delta_x_i.sum(), x_round + 1)} {unit}$'))\n",
    "\n",
    "# Расcчитываем квадрат отклонения для каждого измерения\n",
    "display(Markdown(rf'## 4. Расcчитываем квадрат отклонения для каждого измерения и проверяем на выбросы'))\n",
    "delta_x_i_2 = delta_x_i ** 2\n",
    "display(Markdown(rf'$(\\Delta {name}_i)^2$ = {delta_x_i_2} ${unit}^2$'))\n",
    "\n",
    "S_i = round((delta_x_i_2.sum()/(N - 1))**0.5, x_round + 2)\n",
    "display(Markdown(rf'$S_i$ = $ \\sqrt {{ \\frac{{\\sum {{ (\\Delta {name}_i)^2 }}}}{{ N - 1}}  }} $ = {S_i} ${unit}$'))\n",
    "\n",
    "x3_s_i = round((delta_x_i_2.sum()/(N - 1))**0.5 * 3, x_round + 2)\n",
    "display(Markdown(rf'$3S_i$ = {x3_s_i} ${unit}$'))\n",
    "\n",
    "# Проверяем наличие выбросов\n",
    "count = 0\n",
    "for n in range(N):\n",
    "    if delta_x_i[n] > x3_s_i:\n",
    "        display(Markdown(rf'Выброс: {x_i[n]}. Необходимо исключить значение.'))\n",
    "        count += 1\n",
    "if count == 0:\n",
    "    display(Markdown(rf'Выбросов нет.'))\n",
    "\n",
    "# Расcчитываем среднеквадратичное отклонение для всей серии измерений\n",
    "display(Markdown(rf'## 5. Расcчитываем среднеквадратичное отклонение для всей серии измерений'))\n",
    "S = round((delta_x_i_2.sum()/((N - 1)*N))**0.5, x_round + 2)\n",
    "display(Markdown(rf'$S$ = $ \\sqrt {{ \\frac{{\\sum {{ (\\Delta {name}_i)^2 }}}}{{ N(N - 1)}}  }} $ = {S} ${unit}$'))\n",
    "\n",
    "# Расcчитываем случайную ошибку измерений\n",
    "display(Markdown(rf'## 6. Расcчитываем случайную ошибку измерений'))\n",
    "display(Markdown(rf'$t_{{N, p}}$ = {student[N]}'))\n",
    "\n",
    "delta_x_random = round(S * student[N], x_round + 2)\n",
    "display(Markdown(rf'$\\Delta {name}_{{сл}}$ = $ t_{{N, p}} S $ ={delta_x_random} ${unit}$'))\n",
    "\n",
    "# Округляем\n",
    "display(Markdown(rf'## 7. Округляем'))\n",
    "new_round = None\n",
    "for e in range((x_round + 1) * -1, 9, 1):\n",
    "    if 10 ** e >= delta_x_random:\n",
    "        new_round = -e\n",
    "        break\n",
    "display(Markdown(rf'Новый порядок округления = $10^{{{-new_round}}}$'))\n",
    "x = x + 0,5 * 10*(-new_round) if x < 0 else x - 0,5 * 10*(-new_round)\n",
    "x = round(x_mean, new_round)\n",
    "display(Markdown(rf'${name} = {name}_{{окр}}$ = {x} ${unit}$'))\n",
    "\n",
    "# Рассчитываем ошибку округления\n",
    "display(Markdown(rf'## 8. Рассчитываем ошибку округления'))\n",
    "delta_x_round = round(x_mean - x, x_round + 2)\n",
    "display(Markdown(rf'$\\Delta {name}_{{окр}}$ = $ {name}_{{ср}} - {name}_{{окр}} $ = {delta_x_round} ${unit}$'))\n",
    "\n",
    "# Расчитываем итоговую погрешность прямых измерений\n",
    "display(Markdown(rf'## 9. Расчитываем итоговую погрешность прямых измерений'))\n",
    "delta_x = round((delta_x_random**2 + delta_x_pribor**2 + delta_x_round**2)**0.5, x_round+1)\n",
    "display(Markdown(rf'$\\Delta {name}$ = $ \\sqrt {{ (\\Delta {name}_{{сл}})^2 + '\\\n",
    "                 rf'(\\Delta {name}_{{окр}})^2 + (\\Delta {name}_{{пр}})^2 }}$ ='\\\n",
    "                 rf'$\\sqrt {{ {delta_x_random}^2 + {delta_x_round}^2 + {delta_x_pribor}^2}} $='\n",
    "                 rf'{delta_x} ${unit}$'))\n",
    "\n",
    "# Результат\n",
    "display(Markdown(rf'## 10. Результат прямых измерений ${name}$'))\n",
    "display(Markdown(rf'${name} = ({x} \\pm {delta_x}) {unit}$'))"
   ]
  },
  {
   "cell_type": "code",
   "execution_count": 3,
   "id": "d6ed9156",
   "metadata": {},
   "outputs": [
    {
     "data": {
      "text/markdown": [
       "# Обработка прямых измерений времени 20 колебаний (опыт № 2)"
      ],
      "text/plain": [
       "<IPython.core.display.Markdown object>"
      ]
     },
     "metadata": {},
     "output_type": "display_data"
    },
    {
     "data": {
      "text/markdown": [
       "## 1. Отображаем исходные значения"
      ],
      "text/plain": [
       "<IPython.core.display.Markdown object>"
      ]
     },
     "metadata": {},
     "output_type": "display_data"
    },
    {
     "data": {
      "text/markdown": [
       "$t_i$ = [23.929 23.931 23.929] $с$"
      ],
      "text/plain": [
       "<IPython.core.display.Markdown object>"
      ]
     },
     "metadata": {},
     "output_type": "display_data"
    },
    {
     "data": {
      "text/markdown": [
       "N = 3"
      ],
      "text/plain": [
       "<IPython.core.display.Markdown object>"
      ]
     },
     "metadata": {},
     "output_type": "display_data"
    },
    {
     "data": {
      "text/markdown": [
       "Порядок округления $t_i$ = $10^{-3}$"
      ],
      "text/plain": [
       "<IPython.core.display.Markdown object>"
      ]
     },
     "metadata": {},
     "output_type": "display_data"
    },
    {
     "data": {
      "text/markdown": [
       "## 2. Расcчитываем среднее"
      ],
      "text/plain": [
       "<IPython.core.display.Markdown object>"
      ]
     },
     "metadata": {},
     "output_type": "display_data"
    },
    {
     "data": {
      "text/markdown": [],
      "text/plain": [
       "<IPython.core.display.Markdown object>"
      ]
     },
     "metadata": {},
     "output_type": "display_data"
    },
    {
     "data": {
      "text/markdown": [
       "$t_{ср} = \\frac{\\sum { t_i  }}{N} = 23.92967 с$"
      ],
      "text/plain": [
       "<IPython.core.display.Markdown object>"
      ]
     },
     "metadata": {},
     "output_type": "display_data"
    },
    {
     "data": {
      "text/markdown": [
       "## 3. Расcчитываем отклонение от среднего"
      ],
      "text/plain": [
       "<IPython.core.display.Markdown object>"
      ]
     },
     "metadata": {},
     "output_type": "display_data"
    },
    {
     "data": {
      "text/markdown": [
       "$\\Delta t_i = t_i - t_{ср} =$ [-0.00067  0.00133 -0.00067] $с$"
      ],
      "text/plain": [
       "<IPython.core.display.Markdown object>"
      ]
     },
     "metadata": {},
     "output_type": "display_data"
    },
    {
     "data": {
      "text/markdown": [
       "$\\sum \\Delta t_i = -0.0 с$"
      ],
      "text/plain": [
       "<IPython.core.display.Markdown object>"
      ]
     },
     "metadata": {},
     "output_type": "display_data"
    },
    {
     "data": {
      "text/markdown": [
       "## 4. Расcчитываем квадрат отклонения для каждого измерения и проверяем на выбросы"
      ],
      "text/plain": [
       "<IPython.core.display.Markdown object>"
      ]
     },
     "metadata": {},
     "output_type": "display_data"
    },
    {
     "data": {
      "text/markdown": [
       "$(\\Delta t_i)^2$ = [4.4890e-07 1.7689e-06 4.4890e-07] $с^2$"
      ],
      "text/plain": [
       "<IPython.core.display.Markdown object>"
      ]
     },
     "metadata": {},
     "output_type": "display_data"
    },
    {
     "data": {
      "text/markdown": [
       "$S_i$ = $ \\sqrt { \\frac{\\sum { (\\Delta t_i)^2 }}{ N - 1}  } $ = 0.00115 $с$"
      ],
      "text/plain": [
       "<IPython.core.display.Markdown object>"
      ]
     },
     "metadata": {},
     "output_type": "display_data"
    },
    {
     "data": {
      "text/markdown": [
       "$3S_i$ = 0.00346 $с$"
      ],
      "text/plain": [
       "<IPython.core.display.Markdown object>"
      ]
     },
     "metadata": {},
     "output_type": "display_data"
    },
    {
     "data": {
      "text/markdown": [
       "Выбросов нет."
      ],
      "text/plain": [
       "<IPython.core.display.Markdown object>"
      ]
     },
     "metadata": {},
     "output_type": "display_data"
    },
    {
     "data": {
      "text/markdown": [
       "## 5. Расcчитываем среднеквадратичное отклонение для всей серии измерений"
      ],
      "text/plain": [
       "<IPython.core.display.Markdown object>"
      ]
     },
     "metadata": {},
     "output_type": "display_data"
    },
    {
     "data": {
      "text/markdown": [
       "$S$ = $ \\sqrt { \\frac{\\sum { (\\Delta t_i)^2 }}{ N(N - 1)}  } $ = 0.00067 $с$"
      ],
      "text/plain": [
       "<IPython.core.display.Markdown object>"
      ]
     },
     "metadata": {},
     "output_type": "display_data"
    },
    {
     "data": {
      "text/markdown": [
       "## 6. Расcчитываем случайную ошибку измерений"
      ],
      "text/plain": [
       "<IPython.core.display.Markdown object>"
      ]
     },
     "metadata": {},
     "output_type": "display_data"
    },
    {
     "data": {
      "text/markdown": [
       "$t_{N, p}$ = 4.30265272991"
      ],
      "text/plain": [
       "<IPython.core.display.Markdown object>"
      ]
     },
     "metadata": {},
     "output_type": "display_data"
    },
    {
     "data": {
      "text/markdown": [
       "$\\Delta t_{сл}$ = $ t_{N, p} S $ =0.00288 $с$"
      ],
      "text/plain": [
       "<IPython.core.display.Markdown object>"
      ]
     },
     "metadata": {},
     "output_type": "display_data"
    },
    {
     "data": {
      "text/markdown": [
       "## 7. Округляем"
      ],
      "text/plain": [
       "<IPython.core.display.Markdown object>"
      ]
     },
     "metadata": {},
     "output_type": "display_data"
    },
    {
     "data": {
      "text/markdown": [
       "Новый порядок округления = $10^{-2}$"
      ],
      "text/plain": [
       "<IPython.core.display.Markdown object>"
      ]
     },
     "metadata": {},
     "output_type": "display_data"
    },
    {
     "data": {
      "text/markdown": [
       "$t = t_{окр}$ = 23.93 $с$"
      ],
      "text/plain": [
       "<IPython.core.display.Markdown object>"
      ]
     },
     "metadata": {},
     "output_type": "display_data"
    },
    {
     "data": {
      "text/markdown": [
       "## 8. Рассчитываем ошибку округления"
      ],
      "text/plain": [
       "<IPython.core.display.Markdown object>"
      ]
     },
     "metadata": {},
     "output_type": "display_data"
    },
    {
     "data": {
      "text/markdown": [
       "$\\Delta t_{окр}$ = $ t_{ср} - t_{окр} $ = -0.00033 $с$"
      ],
      "text/plain": [
       "<IPython.core.display.Markdown object>"
      ]
     },
     "metadata": {},
     "output_type": "display_data"
    },
    {
     "data": {
      "text/markdown": [
       "## 9. Расчитываем итоговую погрешность прямых измерений"
      ],
      "text/plain": [
       "<IPython.core.display.Markdown object>"
      ]
     },
     "metadata": {},
     "output_type": "display_data"
    },
    {
     "data": {
      "text/markdown": [
       "$\\Delta t$ = $ \\sqrt { (\\Delta t_{сл})^2 + (\\Delta t_{окр})^2 + (\\Delta t_{пр})^2 }$ =$\\sqrt { 0.00288^2 + -0.00033^2 + 0.0005^2} $=0.0029 $с$"
      ],
      "text/plain": [
       "<IPython.core.display.Markdown object>"
      ]
     },
     "metadata": {},
     "output_type": "display_data"
    },
    {
     "data": {
      "text/markdown": [
       "## 10. Результат прямых измерений $t$"
      ],
      "text/plain": [
       "<IPython.core.display.Markdown object>"
      ]
     },
     "metadata": {},
     "output_type": "display_data"
    },
    {
     "data": {
      "text/markdown": [
       "$t = (23.93 \\pm 0.0029) с$"
      ],
      "text/plain": [
       "<IPython.core.display.Markdown object>"
      ]
     },
     "metadata": {},
     "output_type": "display_data"
    }
   ],
   "source": [
    "## Вводные данные ##\n",
    "\n",
    "fullname = 'времени 20 колебаний (опыт № 2)'\n",
    "name = 't' # Измеряемая величина\n",
    "unit = 'с' # Единица измерения\n",
    "delta_x_pribor = 0.0005 # Погрешность прибора\n",
    "\n",
    "# Измерения\n",
    "x_i = np.array([23.929, 23.931, 23.929 ])\n",
    "\n",
    "\n",
    "## Расчёты. Не трогаем. ##\n",
    "display(Markdown(rf'# Обработка прямых измерений {fullname}'))\n",
    "\n",
    "# Отображаем исходные значения\n",
    "display(Markdown(rf'## 1. Отображаем исходные значения'))\n",
    "display(Markdown(rf'${name}_i$ = {x_i} ${unit}$'))\n",
    "\n",
    "# Фиксируем количество измерений\n",
    "N = x_i.shape[0]\n",
    "display(Markdown(rf'N = {N}'))\n",
    "\n",
    "# Выясняем знак округления\n",
    "x_round = 0\n",
    "for x in x_i:\n",
    "    x_i_round = len(str(x).split('.')[1])\n",
    "    if x_i_round > x_round:\n",
    "        x_round = x_i_round\n",
    "display(Markdown(rf'Порядок округления ${name}_i$ = $10^{{{-x_round}}}$'))\n",
    "\n",
    "# Расcчитываем среднее\n",
    "display(Markdown(rf'## 2. Расcчитываем среднее'))\n",
    "display(Markdown(rf''))\n",
    "x_mean = round(x_i.mean(), x_round + 2)\n",
    "display(Markdown(rf'${name}_{{ср}} = \\frac{{\\sum {{ {name}_i  }}}}{{N}} = {x_mean} {unit}$'))\n",
    "\n",
    "# Расcчитываем отклонение от среднего\n",
    "display(Markdown(rf'## 3. Расcчитываем отклонение от среднего'))\n",
    "delta_x_i = x_i - x_mean\n",
    "display(Markdown(rf'$\\Delta {name}_i = {name}_i - {name}_{{ср}} =$ {delta_x_i} ${unit}$'))\n",
    "display(Markdown(rf'$\\sum \\Delta {name}_i = {round(delta_x_i.sum(), x_round + 1)} {unit}$'))\n",
    "\n",
    "# Расcчитываем квадрат отклонения для каждого измерения\n",
    "display(Markdown(rf'## 4. Расcчитываем квадрат отклонения для каждого измерения и проверяем на выбросы'))\n",
    "delta_x_i_2 = delta_x_i ** 2\n",
    "display(Markdown(rf'$(\\Delta {name}_i)^2$ = {delta_x_i_2} ${unit}^2$'))\n",
    "\n",
    "S_i = round((delta_x_i_2.sum()/(N - 1))**0.5, x_round + 2)\n",
    "display(Markdown(rf'$S_i$ = $ \\sqrt {{ \\frac{{\\sum {{ (\\Delta {name}_i)^2 }}}}{{ N - 1}}  }} $ = {S_i} ${unit}$'))\n",
    "\n",
    "x3_s_i = round((delta_x_i_2.sum()/(N - 1))**0.5 * 3, x_round + 2)\n",
    "display(Markdown(rf'$3S_i$ = {x3_s_i} ${unit}$'))\n",
    "\n",
    "# Проверяем наличие выбросов\n",
    "count = 0\n",
    "for n in range(N):\n",
    "    if delta_x_i[n] > x3_s_i:\n",
    "        display(Markdown(rf'Выброс: {x_i[n]}. Необходимо исключить значение.'))\n",
    "        count += 1\n",
    "if count == 0:\n",
    "    display(Markdown(rf'Выбросов нет.'))\n",
    "\n",
    "# Расcчитываем среднеквадратичное отклонение для всей серии измерений\n",
    "display(Markdown(rf'## 5. Расcчитываем среднеквадратичное отклонение для всей серии измерений'))\n",
    "S = round((delta_x_i_2.sum()/((N - 1)*N))**0.5, x_round + 2)\n",
    "display(Markdown(rf'$S$ = $ \\sqrt {{ \\frac{{\\sum {{ (\\Delta {name}_i)^2 }}}}{{ N(N - 1)}}  }} $ = {S} ${unit}$'))\n",
    "\n",
    "# Расcчитываем случайную ошибку измерений\n",
    "display(Markdown(rf'## 6. Расcчитываем случайную ошибку измерений'))\n",
    "display(Markdown(rf'$t_{{N, p}}$ = {student[N]}'))\n",
    "\n",
    "delta_x_random = round(S * student[N], x_round + 2)\n",
    "display(Markdown(rf'$\\Delta {name}_{{сл}}$ = $ t_{{N, p}} S $ ={delta_x_random} ${unit}$'))\n",
    "\n",
    "# Округляем\n",
    "display(Markdown(rf'## 7. Округляем'))\n",
    "new_round = None\n",
    "for e in range((x_round + 1) * -1, 9, 1):\n",
    "    if 10 ** e >= delta_x_random:\n",
    "        new_round = -e\n",
    "        break\n",
    "display(Markdown(rf'Новый порядок округления = $10^{{{-new_round}}}$'))\n",
    "x = x + 0,5 * 10*(-new_round) if x < 0 else x - 0,5 * 10*(-new_round)\n",
    "x = round(x_mean, new_round)\n",
    "display(Markdown(rf'${name} = {name}_{{окр}}$ = {x} ${unit}$'))\n",
    "\n",
    "# Рассчитываем ошибку округления\n",
    "display(Markdown(rf'## 8. Рассчитываем ошибку округления'))\n",
    "delta_x_round = round(x_mean - x, x_round + 2)\n",
    "display(Markdown(rf'$\\Delta {name}_{{окр}}$ = $ {name}_{{ср}} - {name}_{{окр}} $ = {delta_x_round} ${unit}$'))\n",
    "\n",
    "# Расчитываем итоговую погрешность прямых измерений\n",
    "display(Markdown(rf'## 9. Расчитываем итоговую погрешность прямых измерений'))\n",
    "delta_x = round((delta_x_random**2 + delta_x_pribor**2 + delta_x_round**2)**0.5, x_round+1)\n",
    "display(Markdown(rf'$\\Delta {name}$ = $ \\sqrt {{ (\\Delta {name}_{{сл}})^2 + '\\\n",
    "                 rf'(\\Delta {name}_{{окр}})^2 + (\\Delta {name}_{{пр}})^2 }}$ ='\\\n",
    "                 rf'$\\sqrt {{ {delta_x_random}^2 + {delta_x_round}^2 + {delta_x_pribor}^2}} $='\n",
    "                 rf'{delta_x} ${unit}$'))\n",
    "\n",
    "# Результат\n",
    "display(Markdown(rf'## 10. Результат прямых измерений ${name}$'))\n",
    "display(Markdown(rf'${name} = ({x} \\pm {delta_x}) {unit}$'))"
   ]
  },
  {
   "cell_type": "code",
   "execution_count": 4,
   "id": "5e5dba8c",
   "metadata": {},
   "outputs": [
    {
     "data": {
      "text/markdown": [
       "# Обработка прямых измерений времени 20 колебаний (опыт № 3)"
      ],
      "text/plain": [
       "<IPython.core.display.Markdown object>"
      ]
     },
     "metadata": {},
     "output_type": "display_data"
    },
    {
     "data": {
      "text/markdown": [
       "## 1. Отображаем исходные значения"
      ],
      "text/plain": [
       "<IPython.core.display.Markdown object>"
      ]
     },
     "metadata": {},
     "output_type": "display_data"
    },
    {
     "data": {
      "text/markdown": [
       "$t_i$ = [25.55  25.549 25.548] $с$"
      ],
      "text/plain": [
       "<IPython.core.display.Markdown object>"
      ]
     },
     "metadata": {},
     "output_type": "display_data"
    },
    {
     "data": {
      "text/markdown": [
       "N = 3"
      ],
      "text/plain": [
       "<IPython.core.display.Markdown object>"
      ]
     },
     "metadata": {},
     "output_type": "display_data"
    },
    {
     "data": {
      "text/markdown": [
       "Порядок округления $t_i$ = $10^{-3}$"
      ],
      "text/plain": [
       "<IPython.core.display.Markdown object>"
      ]
     },
     "metadata": {},
     "output_type": "display_data"
    },
    {
     "data": {
      "text/markdown": [
       "## 2. Расcчитываем среднее"
      ],
      "text/plain": [
       "<IPython.core.display.Markdown object>"
      ]
     },
     "metadata": {},
     "output_type": "display_data"
    },
    {
     "data": {
      "text/markdown": [],
      "text/plain": [
       "<IPython.core.display.Markdown object>"
      ]
     },
     "metadata": {},
     "output_type": "display_data"
    },
    {
     "data": {
      "text/markdown": [
       "$t_{ср} = \\frac{\\sum { t_i  }}{N} = 25.549 с$"
      ],
      "text/plain": [
       "<IPython.core.display.Markdown object>"
      ]
     },
     "metadata": {},
     "output_type": "display_data"
    },
    {
     "data": {
      "text/markdown": [
       "## 3. Расcчитываем отклонение от среднего"
      ],
      "text/plain": [
       "<IPython.core.display.Markdown object>"
      ]
     },
     "metadata": {},
     "output_type": "display_data"
    },
    {
     "data": {
      "text/markdown": [
       "$\\Delta t_i = t_i - t_{ср} =$ [ 0.001  0.    -0.001] $с$"
      ],
      "text/plain": [
       "<IPython.core.display.Markdown object>"
      ]
     },
     "metadata": {},
     "output_type": "display_data"
    },
    {
     "data": {
      "text/markdown": [
       "$\\sum \\Delta t_i = 0.0 с$"
      ],
      "text/plain": [
       "<IPython.core.display.Markdown object>"
      ]
     },
     "metadata": {},
     "output_type": "display_data"
    },
    {
     "data": {
      "text/markdown": [
       "## 4. Расcчитываем квадрат отклонения для каждого измерения и проверяем на выбросы"
      ],
      "text/plain": [
       "<IPython.core.display.Markdown object>"
      ]
     },
     "metadata": {},
     "output_type": "display_data"
    },
    {
     "data": {
      "text/markdown": [
       "$(\\Delta t_i)^2$ = [1.e-06 0.e+00 1.e-06] $с^2$"
      ],
      "text/plain": [
       "<IPython.core.display.Markdown object>"
      ]
     },
     "metadata": {},
     "output_type": "display_data"
    },
    {
     "data": {
      "text/markdown": [
       "$S_i$ = $ \\sqrt { \\frac{\\sum { (\\Delta t_i)^2 }}{ N - 1}  } $ = 0.001 $с$"
      ],
      "text/plain": [
       "<IPython.core.display.Markdown object>"
      ]
     },
     "metadata": {},
     "output_type": "display_data"
    },
    {
     "data": {
      "text/markdown": [
       "$3S_i$ = 0.003 $с$"
      ],
      "text/plain": [
       "<IPython.core.display.Markdown object>"
      ]
     },
     "metadata": {},
     "output_type": "display_data"
    },
    {
     "data": {
      "text/markdown": [
       "Выбросов нет."
      ],
      "text/plain": [
       "<IPython.core.display.Markdown object>"
      ]
     },
     "metadata": {},
     "output_type": "display_data"
    },
    {
     "data": {
      "text/markdown": [
       "## 5. Расcчитываем среднеквадратичное отклонение для всей серии измерений"
      ],
      "text/plain": [
       "<IPython.core.display.Markdown object>"
      ]
     },
     "metadata": {},
     "output_type": "display_data"
    },
    {
     "data": {
      "text/markdown": [
       "$S$ = $ \\sqrt { \\frac{\\sum { (\\Delta t_i)^2 }}{ N(N - 1)}  } $ = 0.00058 $с$"
      ],
      "text/plain": [
       "<IPython.core.display.Markdown object>"
      ]
     },
     "metadata": {},
     "output_type": "display_data"
    },
    {
     "data": {
      "text/markdown": [
       "## 6. Расcчитываем случайную ошибку измерений"
      ],
      "text/plain": [
       "<IPython.core.display.Markdown object>"
      ]
     },
     "metadata": {},
     "output_type": "display_data"
    },
    {
     "data": {
      "text/markdown": [
       "$t_{N, p}$ = 4.30265272991"
      ],
      "text/plain": [
       "<IPython.core.display.Markdown object>"
      ]
     },
     "metadata": {},
     "output_type": "display_data"
    },
    {
     "data": {
      "text/markdown": [
       "$\\Delta t_{сл}$ = $ t_{N, p} S $ =0.0025 $с$"
      ],
      "text/plain": [
       "<IPython.core.display.Markdown object>"
      ]
     },
     "metadata": {},
     "output_type": "display_data"
    },
    {
     "data": {
      "text/markdown": [
       "## 7. Округляем"
      ],
      "text/plain": [
       "<IPython.core.display.Markdown object>"
      ]
     },
     "metadata": {},
     "output_type": "display_data"
    },
    {
     "data": {
      "text/markdown": [
       "Новый порядок округления = $10^{-2}$"
      ],
      "text/plain": [
       "<IPython.core.display.Markdown object>"
      ]
     },
     "metadata": {},
     "output_type": "display_data"
    },
    {
     "data": {
      "text/markdown": [
       "$t = t_{окр}$ = 25.55 $с$"
      ],
      "text/plain": [
       "<IPython.core.display.Markdown object>"
      ]
     },
     "metadata": {},
     "output_type": "display_data"
    },
    {
     "data": {
      "text/markdown": [
       "## 8. Рассчитываем ошибку округления"
      ],
      "text/plain": [
       "<IPython.core.display.Markdown object>"
      ]
     },
     "metadata": {},
     "output_type": "display_data"
    },
    {
     "data": {
      "text/markdown": [
       "$\\Delta t_{окр}$ = $ t_{ср} - t_{окр} $ = -0.001 $с$"
      ],
      "text/plain": [
       "<IPython.core.display.Markdown object>"
      ]
     },
     "metadata": {},
     "output_type": "display_data"
    },
    {
     "data": {
      "text/markdown": [
       "## 9. Расчитываем итоговую погрешность прямых измерений"
      ],
      "text/plain": [
       "<IPython.core.display.Markdown object>"
      ]
     },
     "metadata": {},
     "output_type": "display_data"
    },
    {
     "data": {
      "text/markdown": [
       "$\\Delta t$ = $ \\sqrt { (\\Delta t_{сл})^2 + (\\Delta t_{окр})^2 + (\\Delta t_{пр})^2 }$ =$\\sqrt { 0.0025^2 + -0.001^2 + 0.0005^2} $=0.0027 $с$"
      ],
      "text/plain": [
       "<IPython.core.display.Markdown object>"
      ]
     },
     "metadata": {},
     "output_type": "display_data"
    },
    {
     "data": {
      "text/markdown": [
       "## 10. Результат прямых измерений $t$"
      ],
      "text/plain": [
       "<IPython.core.display.Markdown object>"
      ]
     },
     "metadata": {},
     "output_type": "display_data"
    },
    {
     "data": {
      "text/markdown": [
       "$t = (25.55 \\pm 0.0027) с$"
      ],
      "text/plain": [
       "<IPython.core.display.Markdown object>"
      ]
     },
     "metadata": {},
     "output_type": "display_data"
    }
   ],
   "source": [
    "## Вводные данные ##\n",
    "\n",
    "fullname = 'времени 20 колебаний (опыт № 3)'\n",
    "name = 't' # Измеряемая величина\n",
    "unit = 'с' # Единица измерения\n",
    "delta_x_pribor = 0.0005 # Погрешность прибора\n",
    "\n",
    "# Измерения\n",
    "x_i = np.array([25.550, 25.549, 25.548 ])\n",
    "\n",
    "\n",
    "## Расчёты. Не трогаем. ##\n",
    "display(Markdown(rf'# Обработка прямых измерений {fullname}'))\n",
    "\n",
    "# Отображаем исходные значения\n",
    "display(Markdown(rf'## 1. Отображаем исходные значения'))\n",
    "display(Markdown(rf'${name}_i$ = {x_i} ${unit}$'))\n",
    "\n",
    "# Фиксируем количество измерений\n",
    "N = x_i.shape[0]\n",
    "display(Markdown(rf'N = {N}'))\n",
    "\n",
    "# Выясняем знак округления\n",
    "x_round = 0\n",
    "for x in x_i:\n",
    "    x_i_round = len(str(x).split('.')[1])\n",
    "    if x_i_round > x_round:\n",
    "        x_round = x_i_round\n",
    "display(Markdown(rf'Порядок округления ${name}_i$ = $10^{{{-x_round}}}$'))\n",
    "\n",
    "# Расcчитываем среднее\n",
    "display(Markdown(rf'## 2. Расcчитываем среднее'))\n",
    "display(Markdown(rf''))\n",
    "x_mean = round(x_i.mean(), x_round + 2)\n",
    "display(Markdown(rf'${name}_{{ср}} = \\frac{{\\sum {{ {name}_i  }}}}{{N}} = {x_mean} {unit}$'))\n",
    "\n",
    "# Расcчитываем отклонение от среднего\n",
    "display(Markdown(rf'## 3. Расcчитываем отклонение от среднего'))\n",
    "delta_x_i = x_i - x_mean\n",
    "display(Markdown(rf'$\\Delta {name}_i = {name}_i - {name}_{{ср}} =$ {delta_x_i} ${unit}$'))\n",
    "display(Markdown(rf'$\\sum \\Delta {name}_i = {round(delta_x_i.sum(), x_round + 1)} {unit}$'))\n",
    "\n",
    "# Расcчитываем квадрат отклонения для каждого измерения\n",
    "display(Markdown(rf'## 4. Расcчитываем квадрат отклонения для каждого измерения и проверяем на выбросы'))\n",
    "delta_x_i_2 = delta_x_i ** 2\n",
    "display(Markdown(rf'$(\\Delta {name}_i)^2$ = {delta_x_i_2} ${unit}^2$'))\n",
    "\n",
    "S_i = round((delta_x_i_2.sum()/(N - 1))**0.5, x_round + 2)\n",
    "display(Markdown(rf'$S_i$ = $ \\sqrt {{ \\frac{{\\sum {{ (\\Delta {name}_i)^2 }}}}{{ N - 1}}  }} $ = {S_i} ${unit}$'))\n",
    "\n",
    "x3_s_i = round((delta_x_i_2.sum()/(N - 1))**0.5 * 3, x_round + 2)\n",
    "display(Markdown(rf'$3S_i$ = {x3_s_i} ${unit}$'))\n",
    "\n",
    "# Проверяем наличие выбросов\n",
    "count = 0\n",
    "for n in range(N):\n",
    "    if delta_x_i[n] > x3_s_i:\n",
    "        display(Markdown(rf'Выброс: {x_i[n]}. Необходимо исключить значение.'))\n",
    "        count += 1\n",
    "if count == 0:\n",
    "    display(Markdown(rf'Выбросов нет.'))\n",
    "\n",
    "# Расcчитываем среднеквадратичное отклонение для всей серии измерений\n",
    "display(Markdown(rf'## 5. Расcчитываем среднеквадратичное отклонение для всей серии измерений'))\n",
    "S = round((delta_x_i_2.sum()/((N - 1)*N))**0.5, x_round + 2)\n",
    "display(Markdown(rf'$S$ = $ \\sqrt {{ \\frac{{\\sum {{ (\\Delta {name}_i)^2 }}}}{{ N(N - 1)}}  }} $ = {S} ${unit}$'))\n",
    "\n",
    "# Расcчитываем случайную ошибку измерений\n",
    "display(Markdown(rf'## 6. Расcчитываем случайную ошибку измерений'))\n",
    "display(Markdown(rf'$t_{{N, p}}$ = {student[N]}'))\n",
    "\n",
    "delta_x_random = round(S * student[N], x_round + 2)\n",
    "display(Markdown(rf'$\\Delta {name}_{{сл}}$ = $ t_{{N, p}} S $ ={delta_x_random} ${unit}$'))\n",
    "\n",
    "# Округляем\n",
    "display(Markdown(rf'## 7. Округляем'))\n",
    "new_round = None\n",
    "for e in range((x_round + 1) * -1, 9, 1):\n",
    "    if 10 ** e >= delta_x_random:\n",
    "        new_round = -e\n",
    "        break\n",
    "display(Markdown(rf'Новый порядок округления = $10^{{{-new_round}}}$'))\n",
    "x = x + 0,5 * 10*(-new_round) if x < 0 else x - 0,5 * 10*(-new_round)\n",
    "x = round(x_mean, new_round)\n",
    "display(Markdown(rf'${name} = {name}_{{окр}}$ = {x} ${unit}$'))\n",
    "\n",
    "# Рассчитываем ошибку округления\n",
    "display(Markdown(rf'## 8. Рассчитываем ошибку округления'))\n",
    "delta_x_round = round(x_mean - x, x_round + 2)\n",
    "display(Markdown(rf'$\\Delta {name}_{{окр}}$ = $ {name}_{{ср}} - {name}_{{окр}} $ = {delta_x_round} ${unit}$'))\n",
    "\n",
    "# Расчитываем итоговую погрешность прямых измерений\n",
    "display(Markdown(rf'## 9. Расчитываем итоговую погрешность прямых измерений'))\n",
    "delta_x = round((delta_x_random**2 + delta_x_pribor**2 + delta_x_round**2)**0.5, x_round+1)\n",
    "display(Markdown(rf'$\\Delta {name}$ = $ \\sqrt {{ (\\Delta {name}_{{сл}})^2 + '\\\n",
    "                 rf'(\\Delta {name}_{{окр}})^2 + (\\Delta {name}_{{пр}})^2 }}$ ='\\\n",
    "                 rf'$\\sqrt {{ {delta_x_random}^2 + {delta_x_round}^2 + {delta_x_pribor}^2}} $='\n",
    "                 rf'{delta_x} ${unit}$'))\n",
    "\n",
    "# Результат\n",
    "display(Markdown(rf'## 10. Результат прямых измерений ${name}$'))\n",
    "display(Markdown(rf'${name} = ({x} \\pm {delta_x}) {unit}$'))"
   ]
  },
  {
   "cell_type": "code",
   "execution_count": 5,
   "id": "9d0f5e5d",
   "metadata": {},
   "outputs": [
    {
     "data": {
      "text/markdown": [
       "# Обработка прямых измерений времени 20 колебаний (опыт № 4)"
      ],
      "text/plain": [
       "<IPython.core.display.Markdown object>"
      ]
     },
     "metadata": {},
     "output_type": "display_data"
    },
    {
     "data": {
      "text/markdown": [
       "## 1. Отображаем исходные значения"
      ],
      "text/plain": [
       "<IPython.core.display.Markdown object>"
      ]
     },
     "metadata": {},
     "output_type": "display_data"
    },
    {
     "data": {
      "text/markdown": [
       "$t_i$ = [27.066 27.066 27.065] $с$"
      ],
      "text/plain": [
       "<IPython.core.display.Markdown object>"
      ]
     },
     "metadata": {},
     "output_type": "display_data"
    },
    {
     "data": {
      "text/markdown": [
       "N = 3"
      ],
      "text/plain": [
       "<IPython.core.display.Markdown object>"
      ]
     },
     "metadata": {},
     "output_type": "display_data"
    },
    {
     "data": {
      "text/markdown": [
       "Порядок округления $t_i$ = $10^{-3}$"
      ],
      "text/plain": [
       "<IPython.core.display.Markdown object>"
      ]
     },
     "metadata": {},
     "output_type": "display_data"
    },
    {
     "data": {
      "text/markdown": [
       "## 2. Расcчитываем среднее"
      ],
      "text/plain": [
       "<IPython.core.display.Markdown object>"
      ]
     },
     "metadata": {},
     "output_type": "display_data"
    },
    {
     "data": {
      "text/markdown": [],
      "text/plain": [
       "<IPython.core.display.Markdown object>"
      ]
     },
     "metadata": {},
     "output_type": "display_data"
    },
    {
     "data": {
      "text/markdown": [
       "$t_{ср} = \\frac{\\sum { t_i  }}{N} = 27.06567 с$"
      ],
      "text/plain": [
       "<IPython.core.display.Markdown object>"
      ]
     },
     "metadata": {},
     "output_type": "display_data"
    },
    {
     "data": {
      "text/markdown": [
       "## 3. Расcчитываем отклонение от среднего"
      ],
      "text/plain": [
       "<IPython.core.display.Markdown object>"
      ]
     },
     "metadata": {},
     "output_type": "display_data"
    },
    {
     "data": {
      "text/markdown": [
       "$\\Delta t_i = t_i - t_{ср} =$ [ 0.00033  0.00033 -0.00067] $с$"
      ],
      "text/plain": [
       "<IPython.core.display.Markdown object>"
      ]
     },
     "metadata": {},
     "output_type": "display_data"
    },
    {
     "data": {
      "text/markdown": [
       "$\\sum \\Delta t_i = -0.0 с$"
      ],
      "text/plain": [
       "<IPython.core.display.Markdown object>"
      ]
     },
     "metadata": {},
     "output_type": "display_data"
    },
    {
     "data": {
      "text/markdown": [
       "## 4. Расcчитываем квадрат отклонения для каждого измерения и проверяем на выбросы"
      ],
      "text/plain": [
       "<IPython.core.display.Markdown object>"
      ]
     },
     "metadata": {},
     "output_type": "display_data"
    },
    {
     "data": {
      "text/markdown": [
       "$(\\Delta t_i)^2$ = [1.089e-07 1.089e-07 4.489e-07] $с^2$"
      ],
      "text/plain": [
       "<IPython.core.display.Markdown object>"
      ]
     },
     "metadata": {},
     "output_type": "display_data"
    },
    {
     "data": {
      "text/markdown": [
       "$S_i$ = $ \\sqrt { \\frac{\\sum { (\\Delta t_i)^2 }}{ N - 1}  } $ = 0.00058 $с$"
      ],
      "text/plain": [
       "<IPython.core.display.Markdown object>"
      ]
     },
     "metadata": {},
     "output_type": "display_data"
    },
    {
     "data": {
      "text/markdown": [
       "$3S_i$ = 0.00173 $с$"
      ],
      "text/plain": [
       "<IPython.core.display.Markdown object>"
      ]
     },
     "metadata": {},
     "output_type": "display_data"
    },
    {
     "data": {
      "text/markdown": [
       "Выбросов нет."
      ],
      "text/plain": [
       "<IPython.core.display.Markdown object>"
      ]
     },
     "metadata": {},
     "output_type": "display_data"
    },
    {
     "data": {
      "text/markdown": [
       "## 5. Расcчитываем среднеквадратичное отклонение для всей серии измерений"
      ],
      "text/plain": [
       "<IPython.core.display.Markdown object>"
      ]
     },
     "metadata": {},
     "output_type": "display_data"
    },
    {
     "data": {
      "text/markdown": [
       "$S$ = $ \\sqrt { \\frac{\\sum { (\\Delta t_i)^2 }}{ N(N - 1)}  } $ = 0.00033 $с$"
      ],
      "text/plain": [
       "<IPython.core.display.Markdown object>"
      ]
     },
     "metadata": {},
     "output_type": "display_data"
    },
    {
     "data": {
      "text/markdown": [
       "## 6. Расcчитываем случайную ошибку измерений"
      ],
      "text/plain": [
       "<IPython.core.display.Markdown object>"
      ]
     },
     "metadata": {},
     "output_type": "display_data"
    },
    {
     "data": {
      "text/markdown": [
       "$t_{N, p}$ = 4.30265272991"
      ],
      "text/plain": [
       "<IPython.core.display.Markdown object>"
      ]
     },
     "metadata": {},
     "output_type": "display_data"
    },
    {
     "data": {
      "text/markdown": [
       "$\\Delta t_{сл}$ = $ t_{N, p} S $ =0.00142 $с$"
      ],
      "text/plain": [
       "<IPython.core.display.Markdown object>"
      ]
     },
     "metadata": {},
     "output_type": "display_data"
    },
    {
     "data": {
      "text/markdown": [
       "## 7. Округляем"
      ],
      "text/plain": [
       "<IPython.core.display.Markdown object>"
      ]
     },
     "metadata": {},
     "output_type": "display_data"
    },
    {
     "data": {
      "text/markdown": [
       "Новый порядок округления = $10^{-2}$"
      ],
      "text/plain": [
       "<IPython.core.display.Markdown object>"
      ]
     },
     "metadata": {},
     "output_type": "display_data"
    },
    {
     "data": {
      "text/markdown": [
       "$t = t_{окр}$ = 27.07 $с$"
      ],
      "text/plain": [
       "<IPython.core.display.Markdown object>"
      ]
     },
     "metadata": {},
     "output_type": "display_data"
    },
    {
     "data": {
      "text/markdown": [
       "## 8. Рассчитываем ошибку округления"
      ],
      "text/plain": [
       "<IPython.core.display.Markdown object>"
      ]
     },
     "metadata": {},
     "output_type": "display_data"
    },
    {
     "data": {
      "text/markdown": [
       "$\\Delta t_{окр}$ = $ t_{ср} - t_{окр} $ = -0.00433 $с$"
      ],
      "text/plain": [
       "<IPython.core.display.Markdown object>"
      ]
     },
     "metadata": {},
     "output_type": "display_data"
    },
    {
     "data": {
      "text/markdown": [
       "## 9. Расчитываем итоговую погрешность прямых измерений"
      ],
      "text/plain": [
       "<IPython.core.display.Markdown object>"
      ]
     },
     "metadata": {},
     "output_type": "display_data"
    },
    {
     "data": {
      "text/markdown": [
       "$\\Delta t$ = $ \\sqrt { (\\Delta t_{сл})^2 + (\\Delta t_{окр})^2 + (\\Delta t_{пр})^2 }$ =$\\sqrt { 0.00142^2 + -0.00433^2 + 0.0005^2} $=0.0046 $с$"
      ],
      "text/plain": [
       "<IPython.core.display.Markdown object>"
      ]
     },
     "metadata": {},
     "output_type": "display_data"
    },
    {
     "data": {
      "text/markdown": [
       "## 10. Результат прямых измерений $t$"
      ],
      "text/plain": [
       "<IPython.core.display.Markdown object>"
      ]
     },
     "metadata": {},
     "output_type": "display_data"
    },
    {
     "data": {
      "text/markdown": [
       "$t = (27.07 \\pm 0.0046) с$"
      ],
      "text/plain": [
       "<IPython.core.display.Markdown object>"
      ]
     },
     "metadata": {},
     "output_type": "display_data"
    }
   ],
   "source": [
    "## Вводные данные ##\n",
    "\n",
    "fullname = 'времени 20 колебаний (опыт № 4)'\n",
    "name = 't' # Измеряемая величина\n",
    "unit = 'с' # Единица измерения\n",
    "delta_x_pribor = 0.0005 # Погрешность прибора\n",
    "\n",
    "# Измерения\n",
    "x_i = np.array([27.066, 27.066, 27.065 ])\n",
    "\n",
    "\n",
    "## Расчёты. Не трогаем. ##\n",
    "display(Markdown(rf'# Обработка прямых измерений {fullname}'))\n",
    "\n",
    "# Отображаем исходные значения\n",
    "display(Markdown(rf'## 1. Отображаем исходные значения'))\n",
    "display(Markdown(rf'${name}_i$ = {x_i} ${unit}$'))\n",
    "\n",
    "# Фиксируем количество измерений\n",
    "N = x_i.shape[0]\n",
    "display(Markdown(rf'N = {N}'))\n",
    "\n",
    "# Выясняем знак округления\n",
    "x_round = 0\n",
    "for x in x_i:\n",
    "    x_i_round = len(str(x).split('.')[1])\n",
    "    if x_i_round > x_round:\n",
    "        x_round = x_i_round\n",
    "display(Markdown(rf'Порядок округления ${name}_i$ = $10^{{{-x_round}}}$'))\n",
    "\n",
    "# Расcчитываем среднее\n",
    "display(Markdown(rf'## 2. Расcчитываем среднее'))\n",
    "display(Markdown(rf''))\n",
    "x_mean = round(x_i.mean(), x_round + 2)\n",
    "display(Markdown(rf'${name}_{{ср}} = \\frac{{\\sum {{ {name}_i  }}}}{{N}} = {x_mean} {unit}$'))\n",
    "\n",
    "# Расcчитываем отклонение от среднего\n",
    "display(Markdown(rf'## 3. Расcчитываем отклонение от среднего'))\n",
    "delta_x_i = x_i - x_mean\n",
    "display(Markdown(rf'$\\Delta {name}_i = {name}_i - {name}_{{ср}} =$ {delta_x_i} ${unit}$'))\n",
    "display(Markdown(rf'$\\sum \\Delta {name}_i = {round(delta_x_i.sum(), x_round + 1)} {unit}$'))\n",
    "\n",
    "# Расcчитываем квадрат отклонения для каждого измерения\n",
    "display(Markdown(rf'## 4. Расcчитываем квадрат отклонения для каждого измерения и проверяем на выбросы'))\n",
    "delta_x_i_2 = delta_x_i ** 2\n",
    "display(Markdown(rf'$(\\Delta {name}_i)^2$ = {delta_x_i_2} ${unit}^2$'))\n",
    "\n",
    "S_i = round((delta_x_i_2.sum()/(N - 1))**0.5, x_round + 2)\n",
    "display(Markdown(rf'$S_i$ = $ \\sqrt {{ \\frac{{\\sum {{ (\\Delta {name}_i)^2 }}}}{{ N - 1}}  }} $ = {S_i} ${unit}$'))\n",
    "\n",
    "x3_s_i = round((delta_x_i_2.sum()/(N - 1))**0.5 * 3, x_round + 2)\n",
    "display(Markdown(rf'$3S_i$ = {x3_s_i} ${unit}$'))\n",
    "\n",
    "# Проверяем наличие выбросов\n",
    "count = 0\n",
    "for n in range(N):\n",
    "    if delta_x_i[n] > x3_s_i:\n",
    "        display(Markdown(rf'Выброс: {x_i[n]}. Необходимо исключить значение.'))\n",
    "        count += 1\n",
    "if count == 0:\n",
    "    display(Markdown(rf'Выбросов нет.'))\n",
    "\n",
    "# Расcчитываем среднеквадратичное отклонение для всей серии измерений\n",
    "display(Markdown(rf'## 5. Расcчитываем среднеквадратичное отклонение для всей серии измерений'))\n",
    "S = round((delta_x_i_2.sum()/((N - 1)*N))**0.5, x_round + 2)\n",
    "display(Markdown(rf'$S$ = $ \\sqrt {{ \\frac{{\\sum {{ (\\Delta {name}_i)^2 }}}}{{ N(N - 1)}}  }} $ = {S} ${unit}$'))\n",
    "\n",
    "# Расcчитываем случайную ошибку измерений\n",
    "display(Markdown(rf'## 6. Расcчитываем случайную ошибку измерений'))\n",
    "display(Markdown(rf'$t_{{N, p}}$ = {student[N]}'))\n",
    "\n",
    "delta_x_random = round(S * student[N], x_round + 2)\n",
    "display(Markdown(rf'$\\Delta {name}_{{сл}}$ = $ t_{{N, p}} S $ ={delta_x_random} ${unit}$'))\n",
    "\n",
    "# Округляем\n",
    "display(Markdown(rf'## 7. Округляем'))\n",
    "new_round = None\n",
    "for e in range((x_round + 1) * -1, 9, 1):\n",
    "    if 10 ** e >= delta_x_random:\n",
    "        new_round = -e\n",
    "        break\n",
    "display(Markdown(rf'Новый порядок округления = $10^{{{-new_round}}}$'))\n",
    "x = x + 0,5 * 10*(-new_round) if x < 0 else x - 0,5 * 10*(-new_round)\n",
    "x = round(x_mean, new_round)\n",
    "display(Markdown(rf'${name} = {name}_{{окр}}$ = {x} ${unit}$'))\n",
    "\n",
    "# Рассчитываем ошибку округления\n",
    "display(Markdown(rf'## 8. Рассчитываем ошибку округления'))\n",
    "delta_x_round = round(x_mean - x, x_round + 2)\n",
    "display(Markdown(rf'$\\Delta {name}_{{окр}}$ = $ {name}_{{ср}} - {name}_{{окр}} $ = {delta_x_round} ${unit}$'))\n",
    "\n",
    "# Расчитываем итоговую погрешность прямых измерений\n",
    "display(Markdown(rf'## 9. Расчитываем итоговую погрешность прямых измерений'))\n",
    "delta_x = round((delta_x_random**2 + delta_x_pribor**2 + delta_x_round**2)**0.5, x_round+1)\n",
    "display(Markdown(rf'$\\Delta {name}$ = $ \\sqrt {{ (\\Delta {name}_{{сл}})^2 + '\\\n",
    "                 rf'(\\Delta {name}_{{окр}})^2 + (\\Delta {name}_{{пр}})^2 }}$ ='\\\n",
    "                 rf'$\\sqrt {{ {delta_x_random}^2 + {delta_x_round}^2 + {delta_x_pribor}^2}} $='\n",
    "                 rf'{delta_x} ${unit}$'))\n",
    "\n",
    "# Результат\n",
    "display(Markdown(rf'## 10. Результат прямых измерений ${name}$'))\n",
    "display(Markdown(rf'${name} = ({x} \\pm {delta_x}) {unit}$'))"
   ]
  },
  {
   "cell_type": "code",
   "execution_count": 6,
   "id": "37f7f4b3",
   "metadata": {},
   "outputs": [
    {
     "data": {
      "text/markdown": [
       "# Обработка прямых измерений времени 20 колебаний (опыт № 5)"
      ],
      "text/plain": [
       "<IPython.core.display.Markdown object>"
      ]
     },
     "metadata": {},
     "output_type": "display_data"
    },
    {
     "data": {
      "text/markdown": [
       "## 1. Отображаем исходные значения"
      ],
      "text/plain": [
       "<IPython.core.display.Markdown object>"
      ]
     },
     "metadata": {},
     "output_type": "display_data"
    },
    {
     "data": {
      "text/markdown": [
       "$t_i$ = [28.506 28.51  28.508 28.51 ] $с$"
      ],
      "text/plain": [
       "<IPython.core.display.Markdown object>"
      ]
     },
     "metadata": {},
     "output_type": "display_data"
    },
    {
     "data": {
      "text/markdown": [
       "N = 4"
      ],
      "text/plain": [
       "<IPython.core.display.Markdown object>"
      ]
     },
     "metadata": {},
     "output_type": "display_data"
    },
    {
     "data": {
      "text/markdown": [
       "Порядок округления $t_i$ = $10^{-3}$"
      ],
      "text/plain": [
       "<IPython.core.display.Markdown object>"
      ]
     },
     "metadata": {},
     "output_type": "display_data"
    },
    {
     "data": {
      "text/markdown": [
       "## 2. Расcчитываем среднее"
      ],
      "text/plain": [
       "<IPython.core.display.Markdown object>"
      ]
     },
     "metadata": {},
     "output_type": "display_data"
    },
    {
     "data": {
      "text/markdown": [],
      "text/plain": [
       "<IPython.core.display.Markdown object>"
      ]
     },
     "metadata": {},
     "output_type": "display_data"
    },
    {
     "data": {
      "text/markdown": [
       "$t_{ср} = \\frac{\\sum { t_i  }}{N} = 28.5085 с$"
      ],
      "text/plain": [
       "<IPython.core.display.Markdown object>"
      ]
     },
     "metadata": {},
     "output_type": "display_data"
    },
    {
     "data": {
      "text/markdown": [
       "## 3. Расcчитываем отклонение от среднего"
      ],
      "text/plain": [
       "<IPython.core.display.Markdown object>"
      ]
     },
     "metadata": {},
     "output_type": "display_data"
    },
    {
     "data": {
      "text/markdown": [
       "$\\Delta t_i = t_i - t_{ср} =$ [-0.0025  0.0015 -0.0005  0.0015] $с$"
      ],
      "text/plain": [
       "<IPython.core.display.Markdown object>"
      ]
     },
     "metadata": {},
     "output_type": "display_data"
    },
    {
     "data": {
      "text/markdown": [
       "$\\sum \\Delta t_i = -0.0 с$"
      ],
      "text/plain": [
       "<IPython.core.display.Markdown object>"
      ]
     },
     "metadata": {},
     "output_type": "display_data"
    },
    {
     "data": {
      "text/markdown": [
       "## 4. Расcчитываем квадрат отклонения для каждого измерения и проверяем на выбросы"
      ],
      "text/plain": [
       "<IPython.core.display.Markdown object>"
      ]
     },
     "metadata": {},
     "output_type": "display_data"
    },
    {
     "data": {
      "text/markdown": [
       "$(\\Delta t_i)^2$ = [6.25e-06 2.25e-06 2.50e-07 2.25e-06] $с^2$"
      ],
      "text/plain": [
       "<IPython.core.display.Markdown object>"
      ]
     },
     "metadata": {},
     "output_type": "display_data"
    },
    {
     "data": {
      "text/markdown": [
       "$S_i$ = $ \\sqrt { \\frac{\\sum { (\\Delta t_i)^2 }}{ N - 1}  } $ = 0.00191 $с$"
      ],
      "text/plain": [
       "<IPython.core.display.Markdown object>"
      ]
     },
     "metadata": {},
     "output_type": "display_data"
    },
    {
     "data": {
      "text/markdown": [
       "$3S_i$ = 0.00574 $с$"
      ],
      "text/plain": [
       "<IPython.core.display.Markdown object>"
      ]
     },
     "metadata": {},
     "output_type": "display_data"
    },
    {
     "data": {
      "text/markdown": [
       "Выбросов нет."
      ],
      "text/plain": [
       "<IPython.core.display.Markdown object>"
      ]
     },
     "metadata": {},
     "output_type": "display_data"
    },
    {
     "data": {
      "text/markdown": [
       "## 5. Расcчитываем среднеквадратичное отклонение для всей серии измерений"
      ],
      "text/plain": [
       "<IPython.core.display.Markdown object>"
      ]
     },
     "metadata": {},
     "output_type": "display_data"
    },
    {
     "data": {
      "text/markdown": [
       "$S$ = $ \\sqrt { \\frac{\\sum { (\\Delta t_i)^2 }}{ N(N - 1)}  } $ = 0.00096 $с$"
      ],
      "text/plain": [
       "<IPython.core.display.Markdown object>"
      ]
     },
     "metadata": {},
     "output_type": "display_data"
    },
    {
     "data": {
      "text/markdown": [
       "## 6. Расcчитываем случайную ошибку измерений"
      ],
      "text/plain": [
       "<IPython.core.display.Markdown object>"
      ]
     },
     "metadata": {},
     "output_type": "display_data"
    },
    {
     "data": {
      "text/markdown": [
       "$t_{N, p}$ = 3.18244630528"
      ],
      "text/plain": [
       "<IPython.core.display.Markdown object>"
      ]
     },
     "metadata": {},
     "output_type": "display_data"
    },
    {
     "data": {
      "text/markdown": [
       "$\\Delta t_{сл}$ = $ t_{N, p} S $ =0.00306 $с$"
      ],
      "text/plain": [
       "<IPython.core.display.Markdown object>"
      ]
     },
     "metadata": {},
     "output_type": "display_data"
    },
    {
     "data": {
      "text/markdown": [
       "## 7. Округляем"
      ],
      "text/plain": [
       "<IPython.core.display.Markdown object>"
      ]
     },
     "metadata": {},
     "output_type": "display_data"
    },
    {
     "data": {
      "text/markdown": [
       "Новый порядок округления = $10^{-2}$"
      ],
      "text/plain": [
       "<IPython.core.display.Markdown object>"
      ]
     },
     "metadata": {},
     "output_type": "display_data"
    },
    {
     "data": {
      "text/markdown": [
       "$t = t_{окр}$ = 28.51 $с$"
      ],
      "text/plain": [
       "<IPython.core.display.Markdown object>"
      ]
     },
     "metadata": {},
     "output_type": "display_data"
    },
    {
     "data": {
      "text/markdown": [
       "## 8. Рассчитываем ошибку округления"
      ],
      "text/plain": [
       "<IPython.core.display.Markdown object>"
      ]
     },
     "metadata": {},
     "output_type": "display_data"
    },
    {
     "data": {
      "text/markdown": [
       "$\\Delta t_{окр}$ = $ t_{ср} - t_{окр} $ = -0.0015 $с$"
      ],
      "text/plain": [
       "<IPython.core.display.Markdown object>"
      ]
     },
     "metadata": {},
     "output_type": "display_data"
    },
    {
     "data": {
      "text/markdown": [
       "## 9. Расчитываем итоговую погрешность прямых измерений"
      ],
      "text/plain": [
       "<IPython.core.display.Markdown object>"
      ]
     },
     "metadata": {},
     "output_type": "display_data"
    },
    {
     "data": {
      "text/markdown": [
       "$\\Delta t$ = $ \\sqrt { (\\Delta t_{сл})^2 + (\\Delta t_{окр})^2 + (\\Delta t_{пр})^2 }$ =$\\sqrt { 0.00306^2 + -0.0015^2 + 0.0005^2} $=0.0034 $с$"
      ],
      "text/plain": [
       "<IPython.core.display.Markdown object>"
      ]
     },
     "metadata": {},
     "output_type": "display_data"
    },
    {
     "data": {
      "text/markdown": [
       "## 10. Результат прямых измерений $t$"
      ],
      "text/plain": [
       "<IPython.core.display.Markdown object>"
      ]
     },
     "metadata": {},
     "output_type": "display_data"
    },
    {
     "data": {
      "text/markdown": [
       "$t = (28.51 \\pm 0.0034) с$"
      ],
      "text/plain": [
       "<IPython.core.display.Markdown object>"
      ]
     },
     "metadata": {},
     "output_type": "display_data"
    }
   ],
   "source": [
    "## Вводные данные ##\n",
    "\n",
    "fullname = 'времени 20 колебаний (опыт № 5)'\n",
    "name = 't' # Измеряемая величина\n",
    "unit = 'с' # Единица измерения\n",
    "delta_x_pribor = 0.0005 # Погрешность прибора\n",
    "\n",
    "# Измерения\n",
    "x_i = np.array([28.506, 28.510, 28.508, 28.510 ])\n",
    "\n",
    "\n",
    "## Расчёты. Не трогаем. ##\n",
    "display(Markdown(rf'# Обработка прямых измерений {fullname}'))\n",
    "\n",
    "# Отображаем исходные значения\n",
    "display(Markdown(rf'## 1. Отображаем исходные значения'))\n",
    "display(Markdown(rf'${name}_i$ = {x_i} ${unit}$'))\n",
    "\n",
    "# Фиксируем количество измерений\n",
    "N = x_i.shape[0]\n",
    "display(Markdown(rf'N = {N}'))\n",
    "\n",
    "# Выясняем знак округления\n",
    "x_round = 0\n",
    "for x in x_i:\n",
    "    x_i_round = len(str(x).split('.')[1])\n",
    "    if x_i_round > x_round:\n",
    "        x_round = x_i_round\n",
    "display(Markdown(rf'Порядок округления ${name}_i$ = $10^{{{-x_round}}}$'))\n",
    "\n",
    "# Расcчитываем среднее\n",
    "display(Markdown(rf'## 2. Расcчитываем среднее'))\n",
    "display(Markdown(rf''))\n",
    "x_mean = round(x_i.mean(), x_round + 2)\n",
    "display(Markdown(rf'${name}_{{ср}} = \\frac{{\\sum {{ {name}_i  }}}}{{N}} = {x_mean} {unit}$'))\n",
    "\n",
    "# Расcчитываем отклонение от среднего\n",
    "display(Markdown(rf'## 3. Расcчитываем отклонение от среднего'))\n",
    "delta_x_i = x_i - x_mean\n",
    "display(Markdown(rf'$\\Delta {name}_i = {name}_i - {name}_{{ср}} =$ {delta_x_i} ${unit}$'))\n",
    "display(Markdown(rf'$\\sum \\Delta {name}_i = {round(delta_x_i.sum(), x_round + 1)} {unit}$'))\n",
    "\n",
    "# Расcчитываем квадрат отклонения для каждого измерения\n",
    "display(Markdown(rf'## 4. Расcчитываем квадрат отклонения для каждого измерения и проверяем на выбросы'))\n",
    "delta_x_i_2 = delta_x_i ** 2\n",
    "display(Markdown(rf'$(\\Delta {name}_i)^2$ = {delta_x_i_2} ${unit}^2$'))\n",
    "\n",
    "S_i = round((delta_x_i_2.sum()/(N - 1))**0.5, x_round + 2)\n",
    "display(Markdown(rf'$S_i$ = $ \\sqrt {{ \\frac{{\\sum {{ (\\Delta {name}_i)^2 }}}}{{ N - 1}}  }} $ = {S_i} ${unit}$'))\n",
    "\n",
    "x3_s_i = round((delta_x_i_2.sum()/(N - 1))**0.5 * 3, x_round + 2)\n",
    "display(Markdown(rf'$3S_i$ = {x3_s_i} ${unit}$'))\n",
    "\n",
    "# Проверяем наличие выбросов\n",
    "count = 0\n",
    "for n in range(N):\n",
    "    if delta_x_i[n] > x3_s_i:\n",
    "        display(Markdown(rf'Выброс: {x_i[n]}. Необходимо исключить значение.'))\n",
    "        count += 1\n",
    "if count == 0:\n",
    "    display(Markdown(rf'Выбросов нет.'))\n",
    "\n",
    "# Расcчитываем среднеквадратичное отклонение для всей серии измерений\n",
    "display(Markdown(rf'## 5. Расcчитываем среднеквадратичное отклонение для всей серии измерений'))\n",
    "S = round((delta_x_i_2.sum()/((N - 1)*N))**0.5, x_round + 2)\n",
    "display(Markdown(rf'$S$ = $ \\sqrt {{ \\frac{{\\sum {{ (\\Delta {name}_i)^2 }}}}{{ N(N - 1)}}  }} $ = {S} ${unit}$'))\n",
    "\n",
    "# Расcчитываем случайную ошибку измерений\n",
    "display(Markdown(rf'## 6. Расcчитываем случайную ошибку измерений'))\n",
    "display(Markdown(rf'$t_{{N, p}}$ = {student[N]}'))\n",
    "\n",
    "delta_x_random = round(S * student[N], x_round + 2)\n",
    "display(Markdown(rf'$\\Delta {name}_{{сл}}$ = $ t_{{N, p}} S $ ={delta_x_random} ${unit}$'))\n",
    "\n",
    "# Округляем\n",
    "display(Markdown(rf'## 7. Округляем'))\n",
    "new_round = None\n",
    "for e in range((x_round + 1) * -1, 9, 1):\n",
    "    if 10 ** e >= delta_x_random:\n",
    "        new_round = -e\n",
    "        break\n",
    "display(Markdown(rf'Новый порядок округления = $10^{{{-new_round}}}$'))\n",
    "x = x + 0,5 * 10*(-new_round) if x < 0 else x - 0,5 * 10*(-new_round)\n",
    "x = round(x_mean, new_round)\n",
    "display(Markdown(rf'${name} = {name}_{{окр}}$ = {x} ${unit}$'))\n",
    "\n",
    "# Рассчитываем ошибку округления\n",
    "display(Markdown(rf'## 8. Рассчитываем ошибку округления'))\n",
    "delta_x_round = round(x_mean - x, x_round + 2)\n",
    "display(Markdown(rf'$\\Delta {name}_{{окр}}$ = $ {name}_{{ср}} - {name}_{{окр}} $ = {delta_x_round} ${unit}$'))\n",
    "\n",
    "# Расчитываем итоговую погрешность прямых измерений\n",
    "display(Markdown(rf'## 9. Расчитываем итоговую погрешность прямых измерений'))\n",
    "delta_x = round((delta_x_random**2 + delta_x_pribor**2 + delta_x_round**2)**0.5, x_round+1)\n",
    "display(Markdown(rf'$\\Delta {name}$ = $ \\sqrt {{ (\\Delta {name}_{{сл}})^2 + '\\\n",
    "                 rf'(\\Delta {name}_{{окр}})^2 + (\\Delta {name}_{{пр}})^2 }}$ ='\\\n",
    "                 rf'$\\sqrt {{ {delta_x_random}^2 + {delta_x_round}^2 + {delta_x_pribor}^2}} $='\n",
    "                 rf'{delta_x} ${unit}$'))\n",
    "\n",
    "# Результат\n",
    "display(Markdown(rf'## 10. Результат прямых измерений ${name}$'))\n",
    "display(Markdown(rf'${name} = ({x} \\pm {delta_x}) {unit}$'))"
   ]
  },
  {
   "cell_type": "code",
   "execution_count": 7,
   "id": "a3446fa1",
   "metadata": {},
   "outputs": [
    {
     "data": {
      "text/markdown": [
       "T_exp = [1.109  1.1965 1.2775 1.3535 1.4255]"
      ],
      "text/plain": [
       "<IPython.core.display.Markdown object>"
      ]
     },
     "metadata": {},
     "output_type": "display_data"
    },
    {
     "data": {
      "text/markdown": [
       "delta_T_exp = [0.0002  0.00015 0.00015 0.00025 0.00015]"
      ],
      "text/plain": [
       "<IPython.core.display.Markdown object>"
      ]
     },
     "metadata": {},
     "output_type": "display_data"
    },
    {
     "data": {
      "text/markdown": [
       "T2_exp = [1.229881   1.43161225 1.63200625 1.83196225 2.03205025]"
      ],
      "text/plain": [
       "<IPython.core.display.Markdown object>"
      ]
     },
     "metadata": {},
     "output_type": "display_data"
    }
   ],
   "source": [
    "t = np.array([22.180, 23.930, 25.550, 27.070, 28.510])\n",
    "delta_t = np.array([0.004, 0.003, 0.003, 0.005, 0.003])\n",
    "N = 20\n",
    "\n",
    "T_exp = t/N\n",
    "delta_T_exp = delta_t/N\n",
    "T2_exp = T_exp**2\n",
    "\n",
    "display(Markdown(rf'T_exp = {T_exp}'))\n",
    "display(Markdown(rf'delta_T_exp = {delta_T_exp}'))\n",
    "display(Markdown(rf'T2_exp = {T2_exp}'))"
   ]
  },
  {
   "cell_type": "code",
   "execution_count": 8,
   "id": "354113ef",
   "metadata": {},
   "outputs": [
    {
     "data": {
      "text/markdown": [
       "T_teor = [1.09857202 1.1865934  1.2685217  1.34547044 1.41825038]"
      ],
      "text/plain": [
       "<IPython.core.display.Markdown object>"
      ]
     },
     "metadata": {},
     "output_type": "display_data"
    },
    {
     "data": {
      "text/markdown": [
       "T2_teor = [1.20686048 1.40800389 1.6091473  1.81029071 2.01143413]"
      ],
      "text/plain": [
       "<IPython.core.display.Markdown object>"
      ]
     },
     "metadata": {},
     "output_type": "display_data"
    }
   ],
   "source": [
    "l = np.array([0.30, 0.35, 0.40, 0.45, 0.50])\n",
    "g = 9.8135\n",
    "\n",
    "T_teor = 2*np.pi*(l/g)**0.5\n",
    "T2_teor = T_teor**2\n",
    "\n",
    "display(Markdown(rf'T_teor = {T_teor}'))\n",
    "display(Markdown(rf'T2_teor = {T2_teor}'))"
   ]
  },
  {
   "cell_type": "code",
   "execution_count": 9,
   "id": "2f78691e",
   "metadata": {},
   "outputs": [
    {
     "data": {
      "image/png": "[encoded data removed]",
      "text/plain": [
       "<Figure size 1000x600 with 1 Axes>"
      ]
     },
     "metadata": {},
     "output_type": "display_data"
    }
   ],
   "source": [
    "fig, ax = plt.subplots(figsize=(10, 6), layout='constrained')\n",
    "x = l\n",
    "\n",
    "# Отображаем экспериментальную зависимость\n",
    "y = T_exp\n",
    "ax.plot(x, y, label='Экспериментальная зависимость')\n",
    "\n",
    "# Строим нормальное распределение\n",
    "y = T_teor\n",
    "ax.plot(x, y, linestyle='--', label='Теоритическая зависимость')\n",
    "\n",
    "# Рисуем оси\n",
    "ax.spines[['top', 'right']].set_visible(False)\n",
    "ax.spines[['top', 'right']].set_visible(False)\n",
    "# ax.spines['bottom'].set_position('zero')\n",
    "# ax.spines['left'].set_position('zero')\n",
    "\n",
    "# Create 'x' and 'y' labels placed at the end of the axes\n",
    "ax.set_xlabel('L', size=14, labelpad=0, x=1.)\n",
    "ax.set_ylabel('T = F(L)', size=14, labelpad=0, y=1., rotation=0)\n",
    "\n",
    "# Create custom major ticks to determine position of tick labels\n",
    "x_frequency, y_frequency = 0.05, 0.05 \n",
    "xmin, xmax, ymin, ymax = 0.3, 0.51, 1.1, 1.4 + y_frequency\n",
    "x_ticks = np.arange(xmin, xmax, x_frequency)\n",
    "y_ticks = np.arange(ymin, ymax, y_frequency)\n",
    "ax.set_xticks(x_ticks[x_ticks**2 > 0.005])\n",
    "ax.set_yticks(y_ticks[y_ticks**2 > 0.005])\n",
    "\n",
    "\n",
    "# Выводим оба графика\n",
    "ax.set_title('Графики зависмости периода колебания от длины нити маятника')\n",
    "ax.legend()\n",
    "ax.grid(False)"
   ]
  },
  {
   "cell_type": "code",
   "execution_count": 10,
   "id": "7b6e6a46",
   "metadata": {},
   "outputs": [
    {
     "data": {
      "image/png": "[encoded data removed]",
      "text/plain": [
       "<Figure size 1000x600 with 1 Axes>"
      ]
     },
     "metadata": {},
     "output_type": "display_data"
    }
   ],
   "source": [
    "fig, ax = plt.subplots(figsize=(10, 6), layout='constrained')\n",
    "x = l\n",
    "\n",
    "# Отображаем экспериментальную зависимость\n",
    "y = T2_exp\n",
    "ax.plot(x, y, label='Экспериментальная зависимость')\n",
    "\n",
    "# Строим нормальное распределение\n",
    "y = T2_teor\n",
    "ax.plot(x, y, linestyle='--', label='Теоритическая зависимость')\n",
    "\n",
    "# Рисуем оси\n",
    "ax.spines[['top', 'right']].set_visible(False)\n",
    "ax.spines[['top', 'right']].set_visible(False)\n",
    "# ax.spines['bottom'].set_position('zero')\n",
    "# ax.spines['left'].set_position('zero')\n",
    "\n",
    "# Create 'x' and 'y' labels placed at the end of the axes\n",
    "ax.set_xlabel('L', size=14, labelpad=0, x=1.)\n",
    "ax.set_ylabel(r'$T^2 = F(L)$', size=14, labelpad=0, y=1., rotation=0)\n",
    "\n",
    "# Create custom major ticks to determine position of tick labels\n",
    "x_frequency, y_frequency = 0.05, 0.1 \n",
    "xmin, xmax, ymin, ymax = 0.3, 0.51, 1.2, 2.0 + y_frequency\n",
    "x_ticks = np.arange(xmin, xmax, x_frequency)\n",
    "y_ticks = np.arange(ymin, ymax, y_frequency)\n",
    "ax.set_xticks(x_ticks[x_ticks**2 > 0.005])\n",
    "ax.set_yticks(y_ticks[y_ticks**2 > 0.005])\n",
    "\n",
    "\n",
    "# Выводим оба графика\n",
    "ax.set_title('Графики зависмости квадрата периода колебания от длины нити маятника')\n",
    "ax.legend()\n",
    "ax.grid(False)"
   ]
  },
  {
   "cell_type": "code",
   "execution_count": 11,
   "id": "3f3ecc2c",
   "metadata": {},
   "outputs": [
    {
     "name": "stdout",
     "output_type": "stream",
     "text": [
      "[0.00949231 0.00834878 0.00707777 0.00596784 0.00511167]\n"
     ]
    }
   ],
   "source": [
    "hm = (T_exp - T_teor) / T_teor\n",
    "print(hm)"
   ]
  },
  {
   "cell_type": "code",
   "execution_count": 12,
   "id": "7957a9b4",
   "metadata": {},
   "outputs": [
    {
     "data": {
      "image/png": "[encoded data removed]",
      "text/plain": [
       "<Figure size 1000x600 with 1 Axes>"
      ]
     },
     "metadata": {},
     "output_type": "display_data"
    }
   ],
   "source": [
    "fig, ax = plt.subplots(figsize=(10, 6), layout='constrained')\n",
    "x = l\n",
    "\n",
    "# Строим нормальное распределение\n",
    "y = hm\n",
    "ax.plot(x, y, label='')\n",
    "\n",
    "# Рисуем оси\n",
    "ax.spines[['top', 'right']].set_visible(False)\n",
    "ax.spines[['top', 'right']].set_visible(False)\n",
    "# ax.spines['bottom'].set_position('zero')\n",
    "# ax.spines['left'].set_position('zero')\n",
    "\n",
    "# Create 'x' and 'y' labels placed at the end of the axes\n",
    "ax.set_xlabel('L', size=14, labelpad=0, x=1.)\n",
    "ax.set_ylabel('', size=14, labelpad=0, y=1., rotation=0)\n",
    "\n",
    "# Create custom major ticks to determine position of tick labels\n",
    "x_frequency, y_frequency = 0.05, 0.01 \n",
    "xmin, xmax, ymin, ymax = 0.3, 0.51, 0.0, 2.0 + y_frequency\n",
    "x_ticks = np.arange(xmin, xmax, x_frequency)\n",
    "# y_ticks = np.arange(ymin, ymax, y_frequency)\n",
    "ax.set_xticks(x_ticks[x_ticks**2 > 0.005])\n",
    "# ax.set_yticks(y_ticks[y_ticks**2 > 0.005])\n",
    "\n",
    "\n",
    "# Выводим оба графика\n",
    "ax.set_title('Графики зависмости расхождения \"эксперимента\" и \"теории\" от длины маятника')\n",
    "# ax.legend()\n",
    "ax.grid(False)"
   ]
  }
 ],
 "metadata": {
  "kernelspec": {
   "display_name": "Python 3 (ipykernel)",
   "language": "python",
   "name": "python3"
  },
  "language_info": {
   "codemirror_mode": {
    "name": "ipython",
    "version": 3
   },
   "file_extension": ".py",
   "mimetype": "text/x-python",
   "name": "python",
   "nbconvert_exporter": "python",
   "pygments_lexer": "ipython3",
   "version": "3.10.4"
  }
 },
 "nbformat": 4,
 "nbformat_minor": 5
}
