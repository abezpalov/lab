{
 "cells": [
  {
   "cell_type": "code",
   "execution_count": 1,
   "id": "199d3df0",
   "metadata": {},
   "outputs": [],
   "source": [
    "import numpy as np\n",
    "import pandas as pd\n",
    "import math\n",
    "import matplotlib.pyplot as plt\n",
    "from IPython.display import display, Math, Markdown\n",
    "\n",
    "# Коэффициенты Стьюдента\n",
    "student = {\n",
    "    2: 12.7062047364,\n",
    "    3: 4.30265272991,\n",
    "    4: 3.18244630528,\n",
    "    5: 2.7764451052,\n",
    "    6: 2.57058183661,\n",
    "    7: 2.44691184879,\n",
    "    8: 2.36462425101,\n",
    "    9: 2.30600413503,\n",
    "    10: 2.26215716274,\n",
    "    11: 2.22813885196,\n",
    "    12: 2.20098516008,\n",
    "    13: 2.17881282966,\n",
    "    14: 2.16036865646,\n",
    "    15: 2.14478668792,\n",
    "    16: 2.13144954556,\n",
    "    17: 2.11990529922,\n",
    "    18: 2.10981557783,\n",
    "    19: 2.10092204024,\n",
    "    20: 2.09302405441,\n",
    "}"
   ]
  },
  {
   "cell_type": "code",
   "execution_count": 5,
   "id": "8f25e5c2",
   "metadata": {},
   "outputs": [
    {
     "data": {
      "text/markdown": [
       "# Обработка прямых измерений диаметра шарика № 1"
      ],
      "text/plain": [
       "<IPython.core.display.Markdown object>"
      ]
     },
     "metadata": {},
     "output_type": "display_data"
    },
    {
     "data": {
      "text/markdown": [
       "## 1. Отображаем исходные значения"
      ],
      "text/plain": [
       "<IPython.core.display.Markdown object>"
      ]
     },
     "metadata": {},
     "output_type": "display_data"
    },
    {
     "data": {
      "text/markdown": [
       "$d_i$ = [2.02 2.03 2.02] $мм$"
      ],
      "text/plain": [
       "<IPython.core.display.Markdown object>"
      ]
     },
     "metadata": {},
     "output_type": "display_data"
    },
    {
     "data": {
      "text/markdown": [
       "N = 3"
      ],
      "text/plain": [
       "<IPython.core.display.Markdown object>"
      ]
     },
     "metadata": {},
     "output_type": "display_data"
    },
    {
     "data": {
      "text/markdown": [
       "Порядок округления $d_i$ = $10^{-2}$"
      ],
      "text/plain": [
       "<IPython.core.display.Markdown object>"
      ]
     },
     "metadata": {},
     "output_type": "display_data"
    },
    {
     "data": {
      "text/markdown": [
       "## 2. Расcчитываем среднее"
      ],
      "text/plain": [
       "<IPython.core.display.Markdown object>"
      ]
     },
     "metadata": {},
     "output_type": "display_data"
    },
    {
     "data": {
      "text/markdown": [],
      "text/plain": [
       "<IPython.core.display.Markdown object>"
      ]
     },
     "metadata": {},
     "output_type": "display_data"
    },
    {
     "data": {
      "text/markdown": [
       "$d_{ср} = \\frac{\\sum { d_i  }}{N} = 2.0233 мм$"
      ],
      "text/plain": [
       "<IPython.core.display.Markdown object>"
      ]
     },
     "metadata": {},
     "output_type": "display_data"
    },
    {
     "data": {
      "text/markdown": [
       "## 3. Расcчитываем отклонение от среднего"
      ],
      "text/plain": [
       "<IPython.core.display.Markdown object>"
      ]
     },
     "metadata": {},
     "output_type": "display_data"
    },
    {
     "data": {
      "text/markdown": [
       "$\\Delta d_i = d_i - d_{ср} =$ [-0.0033  0.0067 -0.0033] $мм$"
      ],
      "text/plain": [
       "<IPython.core.display.Markdown object>"
      ]
     },
     "metadata": {},
     "output_type": "display_data"
    },
    {
     "data": {
      "text/markdown": [
       "$\\sum \\Delta d_i = 0.0 мм$"
      ],
      "text/plain": [
       "<IPython.core.display.Markdown object>"
      ]
     },
     "metadata": {},
     "output_type": "display_data"
    },
    {
     "data": {
      "text/markdown": [
       "## 4. Расcчитываем квадрат отклонение для каждого измерения и проверяем на выбросы"
      ],
      "text/plain": [
       "<IPython.core.display.Markdown object>"
      ]
     },
     "metadata": {},
     "output_type": "display_data"
    },
    {
     "data": {
      "text/markdown": [
       "$(\\Delta d_i)^2$ = [1.089e-05 4.489e-05 1.089e-05] $мм^2$"
      ],
      "text/plain": [
       "<IPython.core.display.Markdown object>"
      ]
     },
     "metadata": {},
     "output_type": "display_data"
    },
    {
     "data": {
      "text/markdown": [
       "$S_i$ = $ \\sqrt { \\frac{\\sum { (\\Delta d_i)^2 }}{ N - 1}  } $ = 0.0058 $мм$"
      ],
      "text/plain": [
       "<IPython.core.display.Markdown object>"
      ]
     },
     "metadata": {},
     "output_type": "display_data"
    },
    {
     "data": {
      "text/markdown": [
       "$3S_i$ = 0.0173 $мм$"
      ],
      "text/plain": [
       "<IPython.core.display.Markdown object>"
      ]
     },
     "metadata": {},
     "output_type": "display_data"
    },
    {
     "data": {
      "text/markdown": [
       "Выбросов нет."
      ],
      "text/plain": [
       "<IPython.core.display.Markdown object>"
      ]
     },
     "metadata": {},
     "output_type": "display_data"
    },
    {
     "data": {
      "text/markdown": [
       "## 5. Расcчитываем среднеквадратичное отклонение для всей серии измерений"
      ],
      "text/plain": [
       "<IPython.core.display.Markdown object>"
      ]
     },
     "metadata": {},
     "output_type": "display_data"
    },
    {
     "data": {
      "text/markdown": [
       "$S$ = $ \\sqrt { \\frac{\\sum { (\\Delta d_i)^2 }}{ N(N - 1)}  } $ = 0.0033 $мм$"
      ],
      "text/plain": [
       "<IPython.core.display.Markdown object>"
      ]
     },
     "metadata": {},
     "output_type": "display_data"
    },
    {
     "data": {
      "text/markdown": [
       "## 6. Расcчитываем случайную ошибку измерений"
      ],
      "text/plain": [
       "<IPython.core.display.Markdown object>"
      ]
     },
     "metadata": {},
     "output_type": "display_data"
    },
    {
     "data": {
      "text/markdown": [
       "$t_{N, p}$ = 4.30265272991"
      ],
      "text/plain": [
       "<IPython.core.display.Markdown object>"
      ]
     },
     "metadata": {},
     "output_type": "display_data"
    },
    {
     "data": {
      "text/markdown": [
       "$\\Delta d_{сл}$ = $ t_{N, p} S $ =0.0142 $мм$"
      ],
      "text/plain": [
       "<IPython.core.display.Markdown object>"
      ]
     },
     "metadata": {},
     "output_type": "display_data"
    },
    {
     "data": {
      "text/markdown": [
       "## 7. Округляем"
      ],
      "text/plain": [
       "<IPython.core.display.Markdown object>"
      ]
     },
     "metadata": {},
     "output_type": "display_data"
    },
    {
     "data": {
      "text/markdown": [
       "Новый порядок округления = $10^{-1}$"
      ],
      "text/plain": [
       "<IPython.core.display.Markdown object>"
      ]
     },
     "metadata": {},
     "output_type": "display_data"
    },
    {
     "data": {
      "text/markdown": [
       "$d = d_{окр}$ = 2.0 $мм$"
      ],
      "text/plain": [
       "<IPython.core.display.Markdown object>"
      ]
     },
     "metadata": {},
     "output_type": "display_data"
    },
    {
     "data": {
      "text/markdown": [
       "## 8. Рассчитываем ошибку округления"
      ],
      "text/plain": [
       "<IPython.core.display.Markdown object>"
      ]
     },
     "metadata": {},
     "output_type": "display_data"
    },
    {
     "data": {
      "text/markdown": [
       "$\\Delta d_{окр}$ = $ d_{ср} - d_{окр} $ = 0.0233 $мм$"
      ],
      "text/plain": [
       "<IPython.core.display.Markdown object>"
      ]
     },
     "metadata": {},
     "output_type": "display_data"
    },
    {
     "data": {
      "text/markdown": [
       "## 9. Расчитываем итоговую погрешность прямых измерений"
      ],
      "text/plain": [
       "<IPython.core.display.Markdown object>"
      ]
     },
     "metadata": {},
     "output_type": "display_data"
    },
    {
     "data": {
      "text/markdown": [
       "$\\Delta d$ = $ \\sqrt { (\\Delta d_{сл})^2 + (\\Delta d_{окр})^2 + (\\Delta d_{пр})^2 }$ =$\\sqrt { 0.0142^2 + 0.0233^2 + 0.005^2} $=0.028 $мм$"
      ],
      "text/plain": [
       "<IPython.core.display.Markdown object>"
      ]
     },
     "metadata": {},
     "output_type": "display_data"
    },
    {
     "data": {
      "text/markdown": [
       "## 10. Результат прямых измерений $d$"
      ],
      "text/plain": [
       "<IPython.core.display.Markdown object>"
      ]
     },
     "metadata": {},
     "output_type": "display_data"
    },
    {
     "data": {
      "text/markdown": [
       "$d = (2.0 \\pm 0.028) мм$"
      ],
      "text/plain": [
       "<IPython.core.display.Markdown object>"
      ]
     },
     "metadata": {},
     "output_type": "display_data"
    }
   ],
   "source": [
    "## Вводные данные ##\n",
    "\n",
    "fullname = 'диаметра шарика № 1'\n",
    "name = 'd' # Измеряемая величина\n",
    "unit = 'мм' # Единица измерения\n",
    "delta_x_pribor = 0.005 # Погрешность прибора\n",
    "\n",
    "# Измерения\n",
    "x_i = np.array([2.02, 2.03, 2.02])\n",
    "\n",
    "\n",
    "## Расчёты. Не трогаем. ##\n",
    "display(Markdown(rf'# Обработка прямых измерений {fullname}'))\n",
    "\n",
    "# Отображаем исходные значения\n",
    "display(Markdown(rf'## 1. Отображаем исходные значения'))\n",
    "display(Markdown(rf'${name}_i$ = {x_i} ${unit}$'))\n",
    "\n",
    "# Фиксируем количество измерений\n",
    "N = x_i.shape[0]\n",
    "display(Markdown(rf'N = {N}'))\n",
    "\n",
    "# Выясняем знак округления\n",
    "x_round = 0\n",
    "for x in x_i:\n",
    "    x_i_round = len(str(x).split('.')[1])\n",
    "    if x_i_round > x_round:\n",
    "        x_round = x_i_round\n",
    "display(Markdown(rf'Порядок округления ${name}_i$ = $10^{{{-x_round}}}$'))\n",
    "\n",
    "# Расcчитываем среднее\n",
    "display(Markdown(rf'## 2. Расcчитываем среднее'))\n",
    "display(Markdown(rf''))\n",
    "x_mean = round(x_i.mean(), x_round + 2)\n",
    "display(Markdown(rf'${name}_{{ср}} = \\frac{{\\sum {{ {name}_i  }}}}{{N}} = {x_mean} {unit}$'))\n",
    "\n",
    "# Расcчитываем отклонение от среднего\n",
    "display(Markdown(rf'## 3. Расcчитываем отклонение от среднего'))\n",
    "delta_x_i = x_i - x_mean\n",
    "display(Markdown(rf'$\\Delta {name}_i = {name}_i - {name}_{{ср}} =$ {delta_x_i} ${unit}$'))\n",
    "display(Markdown(rf'$\\sum \\Delta {name}_i = {round(delta_x_i.sum(), x_round + 1)} {unit}$'))\n",
    "\n",
    "# Расcчитываем квадрат отклонения для каждого измерения\n",
    "display(Markdown(rf'## 4. Расcчитываем квадрат отклонение для каждого измерения и проверяем на выбросы'))\n",
    "delta_x_i_2 = delta_x_i ** 2\n",
    "display(Markdown(rf'$(\\Delta {name}_i)^2$ = {delta_x_i_2} ${unit}^2$'))\n",
    "\n",
    "S_i = round((delta_x_i_2.sum()/(N - 1))**0.5, x_round + 2)\n",
    "display(Markdown(rf'$S_i$ = $ \\sqrt {{ \\frac{{\\sum {{ (\\Delta {name}_i)^2 }}}}{{ N - 1}}  }} $ = {S_i} ${unit}$'))\n",
    "\n",
    "x3_s_i = round((delta_x_i_2.sum()/(N - 1))**0.5 * 3, x_round + 2)\n",
    "display(Markdown(rf'$3S_i$ = {x3_s_i} ${unit}$'))\n",
    "\n",
    "# Проверяем наличие выбросов\n",
    "count = 0\n",
    "for n in range(N):\n",
    "    if delta_x_i[n] > x3_s_i:\n",
    "        display(Markdown(rf'Выброс: {x_i[n]}. Необходимо исключить значение.'))\n",
    "        count += 1\n",
    "if count == 0:\n",
    "    display(Markdown(rf'Выбросов нет.'))\n",
    "\n",
    "# Расcчитываем среднеквадратичное отклонение для всей серии измерений\n",
    "display(Markdown(rf'## 5. Расcчитываем среднеквадратичное отклонение для всей серии измерений'))\n",
    "S = round((delta_x_i_2.sum()/((N - 1)*N))**0.5, x_round + 2)\n",
    "display(Markdown(rf'$S$ = $ \\sqrt {{ \\frac{{\\sum {{ (\\Delta {name}_i)^2 }}}}{{ N(N - 1)}}  }} $ = {S} ${unit}$'))\n",
    "\n",
    "# Расcчитываем случайную ошибку измерений\n",
    "display(Markdown(rf'## 6. Расcчитываем случайную ошибку измерений'))\n",
    "display(Markdown(rf'$t_{{N, p}}$ = {student[N]}'))\n",
    "\n",
    "delta_x_random = round(S * student[N], x_round + 2)\n",
    "display(Markdown(rf'$\\Delta {name}_{{сл}}$ = $ t_{{N, p}} S $ ={delta_x_random} ${unit}$'))\n",
    "\n",
    "# Округляем\n",
    "display(Markdown(rf'## 7. Округляем'))\n",
    "new_round = None\n",
    "for e in range((x_round + 1) * -1, 9, 1):\n",
    "    if 10 ** e >= delta_x_random:\n",
    "        new_round = -e\n",
    "        break\n",
    "display(Markdown(rf'Новый порядок округления = $10^{{{-new_round}}}$'))\n",
    "x = x + 0,5 * 10*(-new_round) if x < 0 else x - 0,5 * 10*(-new_round)\n",
    "x = round(x_mean, new_round)\n",
    "display(Markdown(rf'${name} = {name}_{{окр}}$ = {x} ${unit}$'))\n",
    "\n",
    "# Рассчитываем ошибку округления\n",
    "display(Markdown(rf'## 8. Рассчитываем ошибку округления'))\n",
    "delta_x_round = round(x_mean - x, x_round + 2)\n",
    "display(Markdown(rf'$\\Delta {name}_{{окр}}$ = $ {name}_{{ср}} - {name}_{{окр}} $ = {delta_x_round} ${unit}$'))\n",
    "\n",
    "# Расчитываем итоговую погрешность прямых измерений\n",
    "display(Markdown(rf'## 9. Расчитываем итоговую погрешность прямых измерений'))\n",
    "delta_x = round((delta_x_random**2 + delta_x_pribor**2 + delta_x_round**2)**0.5, x_round+1)\n",
    "display(Markdown(rf'$\\Delta {name}$ = $ \\sqrt {{ (\\Delta {name}_{{сл}})^2 + '\\\n",
    "                 rf'(\\Delta {name}_{{окр}})^2 + (\\Delta {name}_{{пр}})^2 }}$ ='\\\n",
    "                 rf'$\\sqrt {{ {delta_x_random}^2 + {delta_x_round}^2 + {delta_x_pribor}^2}} $='\n",
    "                 rf'{delta_x} ${unit}$'))\n",
    "\n",
    "# Результат\n",
    "display(Markdown(rf'## 10. Результат прямых измерений ${name}$'))\n",
    "display(Markdown(rf'${name} = ({x} \\pm {delta_x}) {unit}$'))"
   ]
  },
  {
   "cell_type": "code",
   "execution_count": 6,
   "id": "8304080a",
   "metadata": {},
   "outputs": [
    {
     "data": {
      "text/markdown": [
       "# Обработка прямых измерений диаметра шарика № 2"
      ],
      "text/plain": [
       "<IPython.core.display.Markdown object>"
      ]
     },
     "metadata": {},
     "output_type": "display_data"
    },
    {
     "data": {
      "text/markdown": [
       "## 1. Отображаем исходные значения"
      ],
      "text/plain": [
       "<IPython.core.display.Markdown object>"
      ]
     },
     "metadata": {},
     "output_type": "display_data"
    },
    {
     "data": {
      "text/markdown": [
       "$d_i$ = [2.02 2.03 2.03] $мм$"
      ],
      "text/plain": [
       "<IPython.core.display.Markdown object>"
      ]
     },
     "metadata": {},
     "output_type": "display_data"
    },
    {
     "data": {
      "text/markdown": [
       "N = 3"
      ],
      "text/plain": [
       "<IPython.core.display.Markdown object>"
      ]
     },
     "metadata": {},
     "output_type": "display_data"
    },
    {
     "data": {
      "text/markdown": [
       "Порядок округления $d_i$ = $10^{-2}$"
      ],
      "text/plain": [
       "<IPython.core.display.Markdown object>"
      ]
     },
     "metadata": {},
     "output_type": "display_data"
    },
    {
     "data": {
      "text/markdown": [
       "## 2. Расcчитываем среднее"
      ],
      "text/plain": [
       "<IPython.core.display.Markdown object>"
      ]
     },
     "metadata": {},
     "output_type": "display_data"
    },
    {
     "data": {
      "text/markdown": [],
      "text/plain": [
       "<IPython.core.display.Markdown object>"
      ]
     },
     "metadata": {},
     "output_type": "display_data"
    },
    {
     "data": {
      "text/markdown": [
       "$d_{ср} = \\frac{\\sum { d_i  }}{N} = 2.0267 мм$"
      ],
      "text/plain": [
       "<IPython.core.display.Markdown object>"
      ]
     },
     "metadata": {},
     "output_type": "display_data"
    },
    {
     "data": {
      "text/markdown": [
       "## 3. Расcчитываем отклонение от среднего"
      ],
      "text/plain": [
       "<IPython.core.display.Markdown object>"
      ]
     },
     "metadata": {},
     "output_type": "display_data"
    },
    {
     "data": {
      "text/markdown": [
       "$\\Delta d_i = d_i - d_{ср} =$ [-0.0067  0.0033  0.0033] $мм$"
      ],
      "text/plain": [
       "<IPython.core.display.Markdown object>"
      ]
     },
     "metadata": {},
     "output_type": "display_data"
    },
    {
     "data": {
      "text/markdown": [
       "$\\sum \\Delta d_i = -0.0 мм$"
      ],
      "text/plain": [
       "<IPython.core.display.Markdown object>"
      ]
     },
     "metadata": {},
     "output_type": "display_data"
    },
    {
     "data": {
      "text/markdown": [
       "## 4. Расcчитываем квадрат отклонение для каждого измерения и проверяем на выбросы"
      ],
      "text/plain": [
       "<IPython.core.display.Markdown object>"
      ]
     },
     "metadata": {},
     "output_type": "display_data"
    },
    {
     "data": {
      "text/markdown": [
       "$(\\Delta d_i)^2$ = [4.489e-05 1.089e-05 1.089e-05] $мм^2$"
      ],
      "text/plain": [
       "<IPython.core.display.Markdown object>"
      ]
     },
     "metadata": {},
     "output_type": "display_data"
    },
    {
     "data": {
      "text/markdown": [
       "$S_i$ = $ \\sqrt { \\frac{\\sum { (\\Delta d_i)^2 }}{ N - 1}  } $ = 0.0058 $мм$"
      ],
      "text/plain": [
       "<IPython.core.display.Markdown object>"
      ]
     },
     "metadata": {},
     "output_type": "display_data"
    },
    {
     "data": {
      "text/markdown": [
       "$3S_i$ = 0.0173 $мм$"
      ],
      "text/plain": [
       "<IPython.core.display.Markdown object>"
      ]
     },
     "metadata": {},
     "output_type": "display_data"
    },
    {
     "data": {
      "text/markdown": [
       "Выбросов нет."
      ],
      "text/plain": [
       "<IPython.core.display.Markdown object>"
      ]
     },
     "metadata": {},
     "output_type": "display_data"
    },
    {
     "data": {
      "text/markdown": [
       "## 5. Расcчитываем среднеквадратичное отклонение для всей серии измерений"
      ],
      "text/plain": [
       "<IPython.core.display.Markdown object>"
      ]
     },
     "metadata": {},
     "output_type": "display_data"
    },
    {
     "data": {
      "text/markdown": [
       "$S$ = $ \\sqrt { \\frac{\\sum { (\\Delta d_i)^2 }}{ N(N - 1)}  } $ = 0.0033 $мм$"
      ],
      "text/plain": [
       "<IPython.core.display.Markdown object>"
      ]
     },
     "metadata": {},
     "output_type": "display_data"
    },
    {
     "data": {
      "text/markdown": [
       "## 6. Расcчитываем случайную ошибку измерений"
      ],
      "text/plain": [
       "<IPython.core.display.Markdown object>"
      ]
     },
     "metadata": {},
     "output_type": "display_data"
    },
    {
     "data": {
      "text/markdown": [
       "$t_{N, p}$ = 4.30265272991"
      ],
      "text/plain": [
       "<IPython.core.display.Markdown object>"
      ]
     },
     "metadata": {},
     "output_type": "display_data"
    },
    {
     "data": {
      "text/markdown": [
       "$\\Delta d_{сл}$ = $ t_{N, p} S $ =0.0142 $мм$"
      ],
      "text/plain": [
       "<IPython.core.display.Markdown object>"
      ]
     },
     "metadata": {},
     "output_type": "display_data"
    },
    {
     "data": {
      "text/markdown": [
       "## 7. Округляем"
      ],
      "text/plain": [
       "<IPython.core.display.Markdown object>"
      ]
     },
     "metadata": {},
     "output_type": "display_data"
    },
    {
     "data": {
      "text/markdown": [
       "Новый порядок округления = $10^{-1}$"
      ],
      "text/plain": [
       "<IPython.core.display.Markdown object>"
      ]
     },
     "metadata": {},
     "output_type": "display_data"
    },
    {
     "data": {
      "text/markdown": [
       "$d = d_{окр}$ = 2.0 $мм$"
      ],
      "text/plain": [
       "<IPython.core.display.Markdown object>"
      ]
     },
     "metadata": {},
     "output_type": "display_data"
    },
    {
     "data": {
      "text/markdown": [
       "## 8. Рассчитываем ошибку округления"
      ],
      "text/plain": [
       "<IPython.core.display.Markdown object>"
      ]
     },
     "metadata": {},
     "output_type": "display_data"
    },
    {
     "data": {
      "text/markdown": [
       "$\\Delta d_{окр}$ = $ d_{ср} - d_{окр} $ = 0.0267 $мм$"
      ],
      "text/plain": [
       "<IPython.core.display.Markdown object>"
      ]
     },
     "metadata": {},
     "output_type": "display_data"
    },
    {
     "data": {
      "text/markdown": [
       "## 9. Расчитываем итоговую погрешность прямых измерений"
      ],
      "text/plain": [
       "<IPython.core.display.Markdown object>"
      ]
     },
     "metadata": {},
     "output_type": "display_data"
    },
    {
     "data": {
      "text/markdown": [
       "$\\Delta d$ = $ \\sqrt { (\\Delta d_{сл})^2 + (\\Delta d_{окр})^2 + (\\Delta d_{пр})^2 }$ =$\\sqrt { 0.0142^2 + 0.0267^2 + 0.005^2} $=0.031 $мм$"
      ],
      "text/plain": [
       "<IPython.core.display.Markdown object>"
      ]
     },
     "metadata": {},
     "output_type": "display_data"
    },
    {
     "data": {
      "text/markdown": [
       "## 10. Результат прямых измерений $d$"
      ],
      "text/plain": [
       "<IPython.core.display.Markdown object>"
      ]
     },
     "metadata": {},
     "output_type": "display_data"
    },
    {
     "data": {
      "text/markdown": [
       "$d = (2.0 \\pm 0.031) мм$"
      ],
      "text/plain": [
       "<IPython.core.display.Markdown object>"
      ]
     },
     "metadata": {},
     "output_type": "display_data"
    }
   ],
   "source": [
    "## Вводные данные ##\n",
    "\n",
    "fullname = 'диаметра шарика № 2'\n",
    "name = 'd' # Измеряемая величина\n",
    "unit = 'мм' # Единица измерения\n",
    "delta_x_pribor = 0.005 # Погрешность прибора\n",
    "\n",
    "# Измерения\n",
    "x_i = np.array([2.02, 2.03, 2.03])\n",
    "\n",
    "\n",
    "## Расчёты. Не трогаем. ##\n",
    "display(Markdown(rf'# Обработка прямых измерений {fullname}'))\n",
    "\n",
    "# Отображаем исходные значения\n",
    "display(Markdown(rf'## 1. Отображаем исходные значения'))\n",
    "display(Markdown(rf'${name}_i$ = {x_i} ${unit}$'))\n",
    "\n",
    "# Фиксируем количество измерений\n",
    "N = x_i.shape[0]\n",
    "display(Markdown(rf'N = {N}'))\n",
    "\n",
    "# Выясняем знак округления\n",
    "x_round = 0\n",
    "for x in x_i:\n",
    "    x_i_round = len(str(x).split('.')[1])\n",
    "    if x_i_round > x_round:\n",
    "        x_round = x_i_round\n",
    "display(Markdown(rf'Порядок округления ${name}_i$ = $10^{{{-x_round}}}$'))\n",
    "\n",
    "# Расcчитываем среднее\n",
    "display(Markdown(rf'## 2. Расcчитываем среднее'))\n",
    "display(Markdown(rf''))\n",
    "x_mean = round(x_i.mean(), x_round + 2)\n",
    "display(Markdown(rf'${name}_{{ср}} = \\frac{{\\sum {{ {name}_i  }}}}{{N}} = {x_mean} {unit}$'))\n",
    "\n",
    "# Расcчитываем отклонение от среднего\n",
    "display(Markdown(rf'## 3. Расcчитываем отклонение от среднего'))\n",
    "delta_x_i = x_i - x_mean\n",
    "display(Markdown(rf'$\\Delta {name}_i = {name}_i - {name}_{{ср}} =$ {delta_x_i} ${unit}$'))\n",
    "display(Markdown(rf'$\\sum \\Delta {name}_i = {round(delta_x_i.sum(), x_round + 1)} {unit}$'))\n",
    "\n",
    "# Расcчитываем квадрат отклонения для каждого измерения\n",
    "display(Markdown(rf'## 4. Расcчитываем квадрат отклонение для каждого измерения и проверяем на выбросы'))\n",
    "delta_x_i_2 = delta_x_i ** 2\n",
    "display(Markdown(rf'$(\\Delta {name}_i)^2$ = {delta_x_i_2} ${unit}^2$'))\n",
    "\n",
    "S_i = round((delta_x_i_2.sum()/(N - 1))**0.5, x_round + 2)\n",
    "display(Markdown(rf'$S_i$ = $ \\sqrt {{ \\frac{{\\sum {{ (\\Delta {name}_i)^2 }}}}{{ N - 1}}  }} $ = {S_i} ${unit}$'))\n",
    "\n",
    "x3_s_i = round((delta_x_i_2.sum()/(N - 1))**0.5 * 3, x_round + 2)\n",
    "display(Markdown(rf'$3S_i$ = {x3_s_i} ${unit}$'))\n",
    "\n",
    "# Проверяем наличие выбросов\n",
    "count = 0\n",
    "for n in range(N):\n",
    "    if delta_x_i[n] > x3_s_i:\n",
    "        display(Markdown(rf'Выброс: {x_i[n]}. Необходимо исключить значение.'))\n",
    "        count += 1\n",
    "if count == 0:\n",
    "    display(Markdown(rf'Выбросов нет.'))\n",
    "\n",
    "# Расcчитываем среднеквадратичное отклонение для всей серии измерений\n",
    "display(Markdown(rf'## 5. Расcчитываем среднеквадратичное отклонение для всей серии измерений'))\n",
    "S = round((delta_x_i_2.sum()/((N - 1)*N))**0.5, x_round + 2)\n",
    "display(Markdown(rf'$S$ = $ \\sqrt {{ \\frac{{\\sum {{ (\\Delta {name}_i)^2 }}}}{{ N(N - 1)}}  }} $ = {S} ${unit}$'))\n",
    "\n",
    "# Расcчитываем случайную ошибку измерений\n",
    "display(Markdown(rf'## 6. Расcчитываем случайную ошибку измерений'))\n",
    "display(Markdown(rf'$t_{{N, p}}$ = {student[N]}'))\n",
    "\n",
    "delta_x_random = round(S * student[N], x_round + 2)\n",
    "display(Markdown(rf'$\\Delta {name}_{{сл}}$ = $ t_{{N, p}} S $ ={delta_x_random} ${unit}$'))\n",
    "\n",
    "# Округляем\n",
    "display(Markdown(rf'## 7. Округляем'))\n",
    "new_round = None\n",
    "for e in range((x_round + 1) * -1, 9, 1):\n",
    "    if 10 ** e >= delta_x_random:\n",
    "        new_round = -e\n",
    "        break\n",
    "display(Markdown(rf'Новый порядок округления = $10^{{{-new_round}}}$'))\n",
    "x = x + 0,5 * 10*(-new_round) if x < 0 else x - 0,5 * 10*(-new_round)\n",
    "x = round(x_mean, new_round)\n",
    "display(Markdown(rf'${name} = {name}_{{окр}}$ = {x} ${unit}$'))\n",
    "\n",
    "# Рассчитываем ошибку округления\n",
    "display(Markdown(rf'## 8. Рассчитываем ошибку округления'))\n",
    "delta_x_round = round(x_mean - x, x_round + 2)\n",
    "display(Markdown(rf'$\\Delta {name}_{{окр}}$ = $ {name}_{{ср}} - {name}_{{окр}} $ = {delta_x_round} ${unit}$'))\n",
    "\n",
    "# Расчитываем итоговую погрешность прямых измерений\n",
    "display(Markdown(rf'## 9. Расчитываем итоговую погрешность прямых измерений'))\n",
    "delta_x = round((delta_x_random**2 + delta_x_pribor**2 + delta_x_round**2)**0.5, x_round+1)\n",
    "display(Markdown(rf'$\\Delta {name}$ = $ \\sqrt {{ (\\Delta {name}_{{сл}})^2 + '\\\n",
    "                 rf'(\\Delta {name}_{{окр}})^2 + (\\Delta {name}_{{пр}})^2 }}$ ='\\\n",
    "                 rf'$\\sqrt {{ {delta_x_random}^2 + {delta_x_round}^2 + {delta_x_pribor}^2}} $='\n",
    "                 rf'{delta_x} ${unit}$'))\n",
    "\n",
    "# Результат\n",
    "display(Markdown(rf'## 10. Результат прямых измерений ${name}$'))\n",
    "display(Markdown(rf'${name} = ({x} \\pm {delta_x}) {unit}$'))"
   ]
  },
  {
   "cell_type": "code",
   "execution_count": 7,
   "id": "df4e4342",
   "metadata": {},
   "outputs": [
    {
     "data": {
      "text/markdown": [
       "# Обработка прямых измерений диаметра шарика № 3"
      ],
      "text/plain": [
       "<IPython.core.display.Markdown object>"
      ]
     },
     "metadata": {},
     "output_type": "display_data"
    },
    {
     "data": {
      "text/markdown": [
       "## 1. Отображаем исходные значения"
      ],
      "text/plain": [
       "<IPython.core.display.Markdown object>"
      ]
     },
     "metadata": {},
     "output_type": "display_data"
    },
    {
     "data": {
      "text/markdown": [
       "$d_i$ = [2.03 2.03 2.03] $мм$"
      ],
      "text/plain": [
       "<IPython.core.display.Markdown object>"
      ]
     },
     "metadata": {},
     "output_type": "display_data"
    },
    {
     "data": {
      "text/markdown": [
       "N = 3"
      ],
      "text/plain": [
       "<IPython.core.display.Markdown object>"
      ]
     },
     "metadata": {},
     "output_type": "display_data"
    },
    {
     "data": {
      "text/markdown": [
       "Порядок округления $d_i$ = $10^{-2}$"
      ],
      "text/plain": [
       "<IPython.core.display.Markdown object>"
      ]
     },
     "metadata": {},
     "output_type": "display_data"
    },
    {
     "data": {
      "text/markdown": [
       "## 2. Расcчитываем среднее"
      ],
      "text/plain": [
       "<IPython.core.display.Markdown object>"
      ]
     },
     "metadata": {},
     "output_type": "display_data"
    },
    {
     "data": {
      "text/markdown": [],
      "text/plain": [
       "<IPython.core.display.Markdown object>"
      ]
     },
     "metadata": {},
     "output_type": "display_data"
    },
    {
     "data": {
      "text/markdown": [
       "$d_{ср} = \\frac{\\sum { d_i  }}{N} = 2.03 мм$"
      ],
      "text/plain": [
       "<IPython.core.display.Markdown object>"
      ]
     },
     "metadata": {},
     "output_type": "display_data"
    },
    {
     "data": {
      "text/markdown": [
       "## 3. Расcчитываем отклонение от среднего"
      ],
      "text/plain": [
       "<IPython.core.display.Markdown object>"
      ]
     },
     "metadata": {},
     "output_type": "display_data"
    },
    {
     "data": {
      "text/markdown": [
       "$\\Delta d_i = d_i - d_{ср} =$ [0. 0. 0.] $мм$"
      ],
      "text/plain": [
       "<IPython.core.display.Markdown object>"
      ]
     },
     "metadata": {},
     "output_type": "display_data"
    },
    {
     "data": {
      "text/markdown": [
       "$\\sum \\Delta d_i = 0.0 мм$"
      ],
      "text/plain": [
       "<IPython.core.display.Markdown object>"
      ]
     },
     "metadata": {},
     "output_type": "display_data"
    },
    {
     "data": {
      "text/markdown": [
       "## 4. Расcчитываем квадрат отклонение для каждого измерения и проверяем на выбросы"
      ],
      "text/plain": [
       "<IPython.core.display.Markdown object>"
      ]
     },
     "metadata": {},
     "output_type": "display_data"
    },
    {
     "data": {
      "text/markdown": [
       "$(\\Delta d_i)^2$ = [0. 0. 0.] $мм^2$"
      ],
      "text/plain": [
       "<IPython.core.display.Markdown object>"
      ]
     },
     "metadata": {},
     "output_type": "display_data"
    },
    {
     "data": {
      "text/markdown": [
       "$S_i$ = $ \\sqrt { \\frac{\\sum { (\\Delta d_i)^2 }}{ N - 1}  } $ = 0.0 $мм$"
      ],
      "text/plain": [
       "<IPython.core.display.Markdown object>"
      ]
     },
     "metadata": {},
     "output_type": "display_data"
    },
    {
     "data": {
      "text/markdown": [
       "$3S_i$ = 0.0 $мм$"
      ],
      "text/plain": [
       "<IPython.core.display.Markdown object>"
      ]
     },
     "metadata": {},
     "output_type": "display_data"
    },
    {
     "data": {
      "text/markdown": [
       "Выбросов нет."
      ],
      "text/plain": [
       "<IPython.core.display.Markdown object>"
      ]
     },
     "metadata": {},
     "output_type": "display_data"
    },
    {
     "data": {
      "text/markdown": [
       "## 5. Расcчитываем среднеквадратичное отклонение для всей серии измерений"
      ],
      "text/plain": [
       "<IPython.core.display.Markdown object>"
      ]
     },
     "metadata": {},
     "output_type": "display_data"
    },
    {
     "data": {
      "text/markdown": [
       "$S$ = $ \\sqrt { \\frac{\\sum { (\\Delta d_i)^2 }}{ N(N - 1)}  } $ = 0.0 $мм$"
      ],
      "text/plain": [
       "<IPython.core.display.Markdown object>"
      ]
     },
     "metadata": {},
     "output_type": "display_data"
    },
    {
     "data": {
      "text/markdown": [
       "## 6. Расcчитываем случайную ошибку измерений"
      ],
      "text/plain": [
       "<IPython.core.display.Markdown object>"
      ]
     },
     "metadata": {},
     "output_type": "display_data"
    },
    {
     "data": {
      "text/markdown": [
       "$t_{N, p}$ = 4.30265272991"
      ],
      "text/plain": [
       "<IPython.core.display.Markdown object>"
      ]
     },
     "metadata": {},
     "output_type": "display_data"
    },
    {
     "data": {
      "text/markdown": [
       "$\\Delta d_{сл}$ = $ t_{N, p} S $ =0.0 $мм$"
      ],
      "text/plain": [
       "<IPython.core.display.Markdown object>"
      ]
     },
     "metadata": {},
     "output_type": "display_data"
    },
    {
     "data": {
      "text/markdown": [
       "## 7. Округляем"
      ],
      "text/plain": [
       "<IPython.core.display.Markdown object>"
      ]
     },
     "metadata": {},
     "output_type": "display_data"
    },
    {
     "data": {
      "text/markdown": [
       "Новый порядок округления = $10^{-3}$"
      ],
      "text/plain": [
       "<IPython.core.display.Markdown object>"
      ]
     },
     "metadata": {},
     "output_type": "display_data"
    },
    {
     "data": {
      "text/markdown": [
       "$d = d_{окр}$ = 2.03 $мм$"
      ],
      "text/plain": [
       "<IPython.core.display.Markdown object>"
      ]
     },
     "metadata": {},
     "output_type": "display_data"
    },
    {
     "data": {
      "text/markdown": [
       "## 8. Рассчитываем ошибку округления"
      ],
      "text/plain": [
       "<IPython.core.display.Markdown object>"
      ]
     },
     "metadata": {},
     "output_type": "display_data"
    },
    {
     "data": {
      "text/markdown": [
       "$\\Delta d_{окр}$ = $ d_{ср} - d_{окр} $ = 0.0 $мм$"
      ],
      "text/plain": [
       "<IPython.core.display.Markdown object>"
      ]
     },
     "metadata": {},
     "output_type": "display_data"
    },
    {
     "data": {
      "text/markdown": [
       "## 9. Расчитываем итоговую погрешность прямых измерений"
      ],
      "text/plain": [
       "<IPython.core.display.Markdown object>"
      ]
     },
     "metadata": {},
     "output_type": "display_data"
    },
    {
     "data": {
      "text/markdown": [
       "$\\Delta d$ = $ \\sqrt { (\\Delta d_{сл})^2 + (\\Delta d_{окр})^2 + (\\Delta d_{пр})^2 }$ =$\\sqrt { 0.0^2 + 0.0^2 + 0.005^2} $=0.005 $мм$"
      ],
      "text/plain": [
       "<IPython.core.display.Markdown object>"
      ]
     },
     "metadata": {},
     "output_type": "display_data"
    },
    {
     "data": {
      "text/markdown": [
       "## 10. Результат прямых измерений $d$"
      ],
      "text/plain": [
       "<IPython.core.display.Markdown object>"
      ]
     },
     "metadata": {},
     "output_type": "display_data"
    },
    {
     "data": {
      "text/markdown": [
       "$d = (2.03 \\pm 0.005) мм$"
      ],
      "text/plain": [
       "<IPython.core.display.Markdown object>"
      ]
     },
     "metadata": {},
     "output_type": "display_data"
    }
   ],
   "source": [
    "## Вводные данные ##\n",
    "\n",
    "fullname = 'диаметра шарика № 3'\n",
    "name = 'd' # Измеряемая величина\n",
    "unit = 'мм' # Единица измерения\n",
    "delta_x_pribor = 0.005 # Погрешность прибора\n",
    "\n",
    "# Измерения\n",
    "x_i = np.array([2.03, 2.03, 2.03])\n",
    "\n",
    "\n",
    "## Расчёты. Не трогаем. ##\n",
    "display(Markdown(rf'# Обработка прямых измерений {fullname}'))\n",
    "\n",
    "# Отображаем исходные значения\n",
    "display(Markdown(rf'## 1. Отображаем исходные значения'))\n",
    "display(Markdown(rf'${name}_i$ = {x_i} ${unit}$'))\n",
    "\n",
    "# Фиксируем количество измерений\n",
    "N = x_i.shape[0]\n",
    "display(Markdown(rf'N = {N}'))\n",
    "\n",
    "# Выясняем знак округления\n",
    "x_round = 0\n",
    "for x in x_i:\n",
    "    x_i_round = len(str(x).split('.')[1])\n",
    "    if x_i_round > x_round:\n",
    "        x_round = x_i_round\n",
    "display(Markdown(rf'Порядок округления ${name}_i$ = $10^{{{-x_round}}}$'))\n",
    "\n",
    "# Расcчитываем среднее\n",
    "display(Markdown(rf'## 2. Расcчитываем среднее'))\n",
    "display(Markdown(rf''))\n",
    "x_mean = round(x_i.mean(), x_round + 2)\n",
    "display(Markdown(rf'${name}_{{ср}} = \\frac{{\\sum {{ {name}_i  }}}}{{N}} = {x_mean} {unit}$'))\n",
    "\n",
    "# Расcчитываем отклонение от среднего\n",
    "display(Markdown(rf'## 3. Расcчитываем отклонение от среднего'))\n",
    "delta_x_i = x_i - x_mean\n",
    "display(Markdown(rf'$\\Delta {name}_i = {name}_i - {name}_{{ср}} =$ {delta_x_i} ${unit}$'))\n",
    "display(Markdown(rf'$\\sum \\Delta {name}_i = {round(delta_x_i.sum(), x_round + 1)} {unit}$'))\n",
    "\n",
    "# Расcчитываем квадрат отклонения для каждого измерения\n",
    "display(Markdown(rf'## 4. Расcчитываем квадрат отклонение для каждого измерения и проверяем на выбросы'))\n",
    "delta_x_i_2 = delta_x_i ** 2\n",
    "display(Markdown(rf'$(\\Delta {name}_i)^2$ = {delta_x_i_2} ${unit}^2$'))\n",
    "\n",
    "S_i = round((delta_x_i_2.sum()/(N - 1))**0.5, x_round + 2)\n",
    "display(Markdown(rf'$S_i$ = $ \\sqrt {{ \\frac{{\\sum {{ (\\Delta {name}_i)^2 }}}}{{ N - 1}}  }} $ = {S_i} ${unit}$'))\n",
    "\n",
    "x3_s_i = round((delta_x_i_2.sum()/(N - 1))**0.5 * 3, x_round + 2)\n",
    "display(Markdown(rf'$3S_i$ = {x3_s_i} ${unit}$'))\n",
    "\n",
    "# Проверяем наличие выбросов\n",
    "count = 0\n",
    "for n in range(N):\n",
    "    if delta_x_i[n] > x3_s_i:\n",
    "        display(Markdown(rf'Выброс: {x_i[n]}. Необходимо исключить значение.'))\n",
    "        count += 1\n",
    "if count == 0:\n",
    "    display(Markdown(rf'Выбросов нет.'))\n",
    "\n",
    "# Расcчитываем среднеквадратичное отклонение для всей серии измерений\n",
    "display(Markdown(rf'## 5. Расcчитываем среднеквадратичное отклонение для всей серии измерений'))\n",
    "S = round((delta_x_i_2.sum()/((N - 1)*N))**0.5, x_round + 2)\n",
    "display(Markdown(rf'$S$ = $ \\sqrt {{ \\frac{{\\sum {{ (\\Delta {name}_i)^2 }}}}{{ N(N - 1)}}  }} $ = {S} ${unit}$'))\n",
    "\n",
    "# Расcчитываем случайную ошибку измерений\n",
    "display(Markdown(rf'## 6. Расcчитываем случайную ошибку измерений'))\n",
    "display(Markdown(rf'$t_{{N, p}}$ = {student[N]}'))\n",
    "\n",
    "delta_x_random = round(S * student[N], x_round + 2)\n",
    "display(Markdown(rf'$\\Delta {name}_{{сл}}$ = $ t_{{N, p}} S $ ={delta_x_random} ${unit}$'))\n",
    "\n",
    "# Округляем\n",
    "display(Markdown(rf'## 7. Округляем'))\n",
    "new_round = None\n",
    "for e in range((x_round + 1) * -1, 9, 1):\n",
    "    if 10 ** e >= delta_x_random:\n",
    "        new_round = -e\n",
    "        break\n",
    "display(Markdown(rf'Новый порядок округления = $10^{{{-new_round}}}$'))\n",
    "x = x + 0,5 * 10*(-new_round) if x < 0 else x - 0,5 * 10*(-new_round)\n",
    "x = round(x_mean, new_round)\n",
    "display(Markdown(rf'${name} = {name}_{{окр}}$ = {x} ${unit}$'))\n",
    "\n",
    "# Рассчитываем ошибку округления\n",
    "display(Markdown(rf'## 8. Рассчитываем ошибку округления'))\n",
    "delta_x_round = round(x_mean - x, x_round + 2)\n",
    "display(Markdown(rf'$\\Delta {name}_{{окр}}$ = $ {name}_{{ср}} - {name}_{{окр}} $ = {delta_x_round} ${unit}$'))\n",
    "\n",
    "# Расчитываем итоговую погрешность прямых измерений\n",
    "display(Markdown(rf'## 9. Расчитываем итоговую погрешность прямых измерений'))\n",
    "delta_x = round((delta_x_random**2 + delta_x_pribor**2 + delta_x_round**2)**0.5, x_round+1)\n",
    "display(Markdown(rf'$\\Delta {name}$ = $ \\sqrt {{ (\\Delta {name}_{{сл}})^2 + '\\\n",
    "                 rf'(\\Delta {name}_{{окр}})^2 + (\\Delta {name}_{{пр}})^2 }}$ ='\\\n",
    "                 rf'$\\sqrt {{ {delta_x_random}^2 + {delta_x_round}^2 + {delta_x_pribor}^2}} $='\n",
    "                 rf'{delta_x} ${unit}$'))\n",
    "\n",
    "# Результат\n",
    "display(Markdown(rf'## 10. Результат прямых измерений ${name}$'))\n",
    "display(Markdown(rf'${name} = ({x} \\pm {delta_x}) {unit}$'))"
   ]
  },
  {
   "cell_type": "code",
   "execution_count": 8,
   "id": "2331e0e7",
   "metadata": {},
   "outputs": [
    {
     "data": {
      "text/markdown": [
       "# Обработка прямых измерений диаметра шарика № 4"
      ],
      "text/plain": [
       "<IPython.core.display.Markdown object>"
      ]
     },
     "metadata": {},
     "output_type": "display_data"
    },
    {
     "data": {
      "text/markdown": [
       "## 1. Отображаем исходные значения"
      ],
      "text/plain": [
       "<IPython.core.display.Markdown object>"
      ]
     },
     "metadata": {},
     "output_type": "display_data"
    },
    {
     "data": {
      "text/markdown": [
       "$d_i$ = [2.03 2.03 2.02] $мм$"
      ],
      "text/plain": [
       "<IPython.core.display.Markdown object>"
      ]
     },
     "metadata": {},
     "output_type": "display_data"
    },
    {
     "data": {
      "text/markdown": [
       "N = 3"
      ],
      "text/plain": [
       "<IPython.core.display.Markdown object>"
      ]
     },
     "metadata": {},
     "output_type": "display_data"
    },
    {
     "data": {
      "text/markdown": [
       "Порядок округления $d_i$ = $10^{-2}$"
      ],
      "text/plain": [
       "<IPython.core.display.Markdown object>"
      ]
     },
     "metadata": {},
     "output_type": "display_data"
    },
    {
     "data": {
      "text/markdown": [
       "## 2. Расcчитываем среднее"
      ],
      "text/plain": [
       "<IPython.core.display.Markdown object>"
      ]
     },
     "metadata": {},
     "output_type": "display_data"
    },
    {
     "data": {
      "text/markdown": [],
      "text/plain": [
       "<IPython.core.display.Markdown object>"
      ]
     },
     "metadata": {},
     "output_type": "display_data"
    },
    {
     "data": {
      "text/markdown": [
       "$d_{ср} = \\frac{\\sum { d_i  }}{N} = 2.0267 мм$"
      ],
      "text/plain": [
       "<IPython.core.display.Markdown object>"
      ]
     },
     "metadata": {},
     "output_type": "display_data"
    },
    {
     "data": {
      "text/markdown": [
       "## 3. Расcчитываем отклонение от среднего"
      ],
      "text/plain": [
       "<IPython.core.display.Markdown object>"
      ]
     },
     "metadata": {},
     "output_type": "display_data"
    },
    {
     "data": {
      "text/markdown": [
       "$\\Delta d_i = d_i - d_{ср} =$ [ 0.0033  0.0033 -0.0067] $мм$"
      ],
      "text/plain": [
       "<IPython.core.display.Markdown object>"
      ]
     },
     "metadata": {},
     "output_type": "display_data"
    },
    {
     "data": {
      "text/markdown": [
       "$\\sum \\Delta d_i = -0.0 мм$"
      ],
      "text/plain": [
       "<IPython.core.display.Markdown object>"
      ]
     },
     "metadata": {},
     "output_type": "display_data"
    },
    {
     "data": {
      "text/markdown": [
       "## 4. Расcчитываем квадрат отклонение для каждого измерения и проверяем на выбросы"
      ],
      "text/plain": [
       "<IPython.core.display.Markdown object>"
      ]
     },
     "metadata": {},
     "output_type": "display_data"
    },
    {
     "data": {
      "text/markdown": [
       "$(\\Delta d_i)^2$ = [1.089e-05 1.089e-05 4.489e-05] $мм^2$"
      ],
      "text/plain": [
       "<IPython.core.display.Markdown object>"
      ]
     },
     "metadata": {},
     "output_type": "display_data"
    },
    {
     "data": {
      "text/markdown": [
       "$S_i$ = $ \\sqrt { \\frac{\\sum { (\\Delta d_i)^2 }}{ N - 1}  } $ = 0.0058 $мм$"
      ],
      "text/plain": [
       "<IPython.core.display.Markdown object>"
      ]
     },
     "metadata": {},
     "output_type": "display_data"
    },
    {
     "data": {
      "text/markdown": [
       "$3S_i$ = 0.0173 $мм$"
      ],
      "text/plain": [
       "<IPython.core.display.Markdown object>"
      ]
     },
     "metadata": {},
     "output_type": "display_data"
    },
    {
     "data": {
      "text/markdown": [
       "Выбросов нет."
      ],
      "text/plain": [
       "<IPython.core.display.Markdown object>"
      ]
     },
     "metadata": {},
     "output_type": "display_data"
    },
    {
     "data": {
      "text/markdown": [
       "## 5. Расcчитываем среднеквадратичное отклонение для всей серии измерений"
      ],
      "text/plain": [
       "<IPython.core.display.Markdown object>"
      ]
     },
     "metadata": {},
     "output_type": "display_data"
    },
    {
     "data": {
      "text/markdown": [
       "$S$ = $ \\sqrt { \\frac{\\sum { (\\Delta d_i)^2 }}{ N(N - 1)}  } $ = 0.0033 $мм$"
      ],
      "text/plain": [
       "<IPython.core.display.Markdown object>"
      ]
     },
     "metadata": {},
     "output_type": "display_data"
    },
    {
     "data": {
      "text/markdown": [
       "## 6. Расcчитываем случайную ошибку измерений"
      ],
      "text/plain": [
       "<IPython.core.display.Markdown object>"
      ]
     },
     "metadata": {},
     "output_type": "display_data"
    },
    {
     "data": {
      "text/markdown": [
       "$t_{N, p}$ = 4.30265272991"
      ],
      "text/plain": [
       "<IPython.core.display.Markdown object>"
      ]
     },
     "metadata": {},
     "output_type": "display_data"
    },
    {
     "data": {
      "text/markdown": [
       "$\\Delta d_{сл}$ = $ t_{N, p} S $ =0.0142 $мм$"
      ],
      "text/plain": [
       "<IPython.core.display.Markdown object>"
      ]
     },
     "metadata": {},
     "output_type": "display_data"
    },
    {
     "data": {
      "text/markdown": [
       "## 7. Округляем"
      ],
      "text/plain": [
       "<IPython.core.display.Markdown object>"
      ]
     },
     "metadata": {},
     "output_type": "display_data"
    },
    {
     "data": {
      "text/markdown": [
       "Новый порядок округления = $10^{-1}$"
      ],
      "text/plain": [
       "<IPython.core.display.Markdown object>"
      ]
     },
     "metadata": {},
     "output_type": "display_data"
    },
    {
     "data": {
      "text/markdown": [
       "$d = d_{окр}$ = 2.0 $мм$"
      ],
      "text/plain": [
       "<IPython.core.display.Markdown object>"
      ]
     },
     "metadata": {},
     "output_type": "display_data"
    },
    {
     "data": {
      "text/markdown": [
       "## 8. Рассчитываем ошибку округления"
      ],
      "text/plain": [
       "<IPython.core.display.Markdown object>"
      ]
     },
     "metadata": {},
     "output_type": "display_data"
    },
    {
     "data": {
      "text/markdown": [
       "$\\Delta d_{окр}$ = $ d_{ср} - d_{окр} $ = 0.0267 $мм$"
      ],
      "text/plain": [
       "<IPython.core.display.Markdown object>"
      ]
     },
     "metadata": {},
     "output_type": "display_data"
    },
    {
     "data": {
      "text/markdown": [
       "## 9. Расчитываем итоговую погрешность прямых измерений"
      ],
      "text/plain": [
       "<IPython.core.display.Markdown object>"
      ]
     },
     "metadata": {},
     "output_type": "display_data"
    },
    {
     "data": {
      "text/markdown": [
       "$\\Delta d$ = $ \\sqrt { (\\Delta d_{сл})^2 + (\\Delta d_{окр})^2 + (\\Delta d_{пр})^2 }$ =$\\sqrt { 0.0142^2 + 0.0267^2 + 0.005^2} $=0.031 $мм$"
      ],
      "text/plain": [
       "<IPython.core.display.Markdown object>"
      ]
     },
     "metadata": {},
     "output_type": "display_data"
    },
    {
     "data": {
      "text/markdown": [
       "## 10. Результат прямых измерений $d$"
      ],
      "text/plain": [
       "<IPython.core.display.Markdown object>"
      ]
     },
     "metadata": {},
     "output_type": "display_data"
    },
    {
     "data": {
      "text/markdown": [
       "$d = (2.0 \\pm 0.031) мм$"
      ],
      "text/plain": [
       "<IPython.core.display.Markdown object>"
      ]
     },
     "metadata": {},
     "output_type": "display_data"
    }
   ],
   "source": [
    "## Вводные данные ##\n",
    "\n",
    "fullname = 'диаметра шарика № 4'\n",
    "name = 'd' # Измеряемая величина\n",
    "unit = 'мм' # Единица измерения\n",
    "delta_x_pribor = 0.005 # Погрешность прибора\n",
    "\n",
    "# Измерения\n",
    "x_i = np.array([2.03, 2.03, 2.02])\n",
    "\n",
    "\n",
    "## Расчёты. Не трогаем. ##\n",
    "display(Markdown(rf'# Обработка прямых измерений {fullname}'))\n",
    "\n",
    "# Отображаем исходные значения\n",
    "display(Markdown(rf'## 1. Отображаем исходные значения'))\n",
    "display(Markdown(rf'${name}_i$ = {x_i} ${unit}$'))\n",
    "\n",
    "# Фиксируем количество измерений\n",
    "N = x_i.shape[0]\n",
    "display(Markdown(rf'N = {N}'))\n",
    "\n",
    "# Выясняем знак округления\n",
    "x_round = 0\n",
    "for x in x_i:\n",
    "    x_i_round = len(str(x).split('.')[1])\n",
    "    if x_i_round > x_round:\n",
    "        x_round = x_i_round\n",
    "display(Markdown(rf'Порядок округления ${name}_i$ = $10^{{{-x_round}}}$'))\n",
    "\n",
    "# Расcчитываем среднее\n",
    "display(Markdown(rf'## 2. Расcчитываем среднее'))\n",
    "display(Markdown(rf''))\n",
    "x_mean = round(x_i.mean(), x_round + 2)\n",
    "display(Markdown(rf'${name}_{{ср}} = \\frac{{\\sum {{ {name}_i  }}}}{{N}} = {x_mean} {unit}$'))\n",
    "\n",
    "# Расcчитываем отклонение от среднего\n",
    "display(Markdown(rf'## 3. Расcчитываем отклонение от среднего'))\n",
    "delta_x_i = x_i - x_mean\n",
    "display(Markdown(rf'$\\Delta {name}_i = {name}_i - {name}_{{ср}} =$ {delta_x_i} ${unit}$'))\n",
    "display(Markdown(rf'$\\sum \\Delta {name}_i = {round(delta_x_i.sum(), x_round + 1)} {unit}$'))\n",
    "\n",
    "# Расcчитываем квадрат отклонения для каждого измерения\n",
    "display(Markdown(rf'## 4. Расcчитываем квадрат отклонение для каждого измерения и проверяем на выбросы'))\n",
    "delta_x_i_2 = delta_x_i ** 2\n",
    "display(Markdown(rf'$(\\Delta {name}_i)^2$ = {delta_x_i_2} ${unit}^2$'))\n",
    "\n",
    "S_i = round((delta_x_i_2.sum()/(N - 1))**0.5, x_round + 2)\n",
    "display(Markdown(rf'$S_i$ = $ \\sqrt {{ \\frac{{\\sum {{ (\\Delta {name}_i)^2 }}}}{{ N - 1}}  }} $ = {S_i} ${unit}$'))\n",
    "\n",
    "x3_s_i = round((delta_x_i_2.sum()/(N - 1))**0.5 * 3, x_round + 2)\n",
    "display(Markdown(rf'$3S_i$ = {x3_s_i} ${unit}$'))\n",
    "\n",
    "# Проверяем наличие выбросов\n",
    "count = 0\n",
    "for n in range(N):\n",
    "    if delta_x_i[n] > x3_s_i:\n",
    "        display(Markdown(rf'Выброс: {x_i[n]}. Необходимо исключить значение.'))\n",
    "        count += 1\n",
    "if count == 0:\n",
    "    display(Markdown(rf'Выбросов нет.'))\n",
    "\n",
    "# Расcчитываем среднеквадратичное отклонение для всей серии измерений\n",
    "display(Markdown(rf'## 5. Расcчитываем среднеквадратичное отклонение для всей серии измерений'))\n",
    "S = round((delta_x_i_2.sum()/((N - 1)*N))**0.5, x_round + 2)\n",
    "display(Markdown(rf'$S$ = $ \\sqrt {{ \\frac{{\\sum {{ (\\Delta {name}_i)^2 }}}}{{ N(N - 1)}}  }} $ = {S} ${unit}$'))\n",
    "\n",
    "# Расcчитываем случайную ошибку измерений\n",
    "display(Markdown(rf'## 6. Расcчитываем случайную ошибку измерений'))\n",
    "display(Markdown(rf'$t_{{N, p}}$ = {student[N]}'))\n",
    "\n",
    "delta_x_random = round(S * student[N], x_round + 2)\n",
    "display(Markdown(rf'$\\Delta {name}_{{сл}}$ = $ t_{{N, p}} S $ ={delta_x_random} ${unit}$'))\n",
    "\n",
    "# Округляем\n",
    "display(Markdown(rf'## 7. Округляем'))\n",
    "new_round = None\n",
    "for e in range((x_round + 1) * -1, 9, 1):\n",
    "    if 10 ** e >= delta_x_random:\n",
    "        new_round = -e\n",
    "        break\n",
    "display(Markdown(rf'Новый порядок округления = $10^{{{-new_round}}}$'))\n",
    "x = x + 0,5 * 10*(-new_round) if x < 0 else x - 0,5 * 10*(-new_round)\n",
    "x = round(x_mean, new_round)\n",
    "display(Markdown(rf'${name} = {name}_{{окр}}$ = {x} ${unit}$'))\n",
    "\n",
    "# Рассчитываем ошибку округления\n",
    "display(Markdown(rf'## 8. Рассчитываем ошибку округления'))\n",
    "delta_x_round = round(x_mean - x, x_round + 2)\n",
    "display(Markdown(rf'$\\Delta {name}_{{окр}}$ = $ {name}_{{ср}} - {name}_{{окр}} $ = {delta_x_round} ${unit}$'))\n",
    "\n",
    "# Расчитываем итоговую погрешность прямых измерений\n",
    "display(Markdown(rf'## 9. Расчитываем итоговую погрешность прямых измерений'))\n",
    "delta_x = round((delta_x_random**2 + delta_x_pribor**2 + delta_x_round**2)**0.5, x_round+1)\n",
    "display(Markdown(rf'$\\Delta {name}$ = $ \\sqrt {{ (\\Delta {name}_{{сл}})^2 + '\\\n",
    "                 rf'(\\Delta {name}_{{окр}})^2 + (\\Delta {name}_{{пр}})^2 }}$ ='\\\n",
    "                 rf'$\\sqrt {{ {delta_x_random}^2 + {delta_x_round}^2 + {delta_x_pribor}^2}} $='\n",
    "                 rf'{delta_x} ${unit}$'))\n",
    "\n",
    "# Результат\n",
    "display(Markdown(rf'## 10. Результат прямых измерений ${name}$'))\n",
    "display(Markdown(rf'${name} = ({x} \\pm {delta_x}) {unit}$'))"
   ]
  },
  {
   "cell_type": "code",
   "execution_count": 9,
   "id": "856786b2",
   "metadata": {},
   "outputs": [
    {
     "data": {
      "text/markdown": [
       "# Обработка прямых измерений диаметра шарика № 5"
      ],
      "text/plain": [
       "<IPython.core.display.Markdown object>"
      ]
     },
     "metadata": {},
     "output_type": "display_data"
    },
    {
     "data": {
      "text/markdown": [
       "## 1. Отображаем исходные значения"
      ],
      "text/plain": [
       "<IPython.core.display.Markdown object>"
      ]
     },
     "metadata": {},
     "output_type": "display_data"
    },
    {
     "data": {
      "text/markdown": [
       "$d_i$ = [2.03 2.03 2.03] $мм$"
      ],
      "text/plain": [
       "<IPython.core.display.Markdown object>"
      ]
     },
     "metadata": {},
     "output_type": "display_data"
    },
    {
     "data": {
      "text/markdown": [
       "N = 3"
      ],
      "text/plain": [
       "<IPython.core.display.Markdown object>"
      ]
     },
     "metadata": {},
     "output_type": "display_data"
    },
    {
     "data": {
      "text/markdown": [
       "Порядок округления $d_i$ = $10^{-2}$"
      ],
      "text/plain": [
       "<IPython.core.display.Markdown object>"
      ]
     },
     "metadata": {},
     "output_type": "display_data"
    },
    {
     "data": {
      "text/markdown": [
       "## 2. Расcчитываем среднее"
      ],
      "text/plain": [
       "<IPython.core.display.Markdown object>"
      ]
     },
     "metadata": {},
     "output_type": "display_data"
    },
    {
     "data": {
      "text/markdown": [],
      "text/plain": [
       "<IPython.core.display.Markdown object>"
      ]
     },
     "metadata": {},
     "output_type": "display_data"
    },
    {
     "data": {
      "text/markdown": [
       "$d_{ср} = \\frac{\\sum { d_i  }}{N} = 2.03 мм$"
      ],
      "text/plain": [
       "<IPython.core.display.Markdown object>"
      ]
     },
     "metadata": {},
     "output_type": "display_data"
    },
    {
     "data": {
      "text/markdown": [
       "## 3. Расcчитываем отклонение от среднего"
      ],
      "text/plain": [
       "<IPython.core.display.Markdown object>"
      ]
     },
     "metadata": {},
     "output_type": "display_data"
    },
    {
     "data": {
      "text/markdown": [
       "$\\Delta d_i = d_i - d_{ср} =$ [0. 0. 0.] $мм$"
      ],
      "text/plain": [
       "<IPython.core.display.Markdown object>"
      ]
     },
     "metadata": {},
     "output_type": "display_data"
    },
    {
     "data": {
      "text/markdown": [
       "$\\sum \\Delta d_i = 0.0 мм$"
      ],
      "text/plain": [
       "<IPython.core.display.Markdown object>"
      ]
     },
     "metadata": {},
     "output_type": "display_data"
    },
    {
     "data": {
      "text/markdown": [
       "## 4. Расcчитываем квадрат отклонение для каждого измерения и проверяем на выбросы"
      ],
      "text/plain": [
       "<IPython.core.display.Markdown object>"
      ]
     },
     "metadata": {},
     "output_type": "display_data"
    },
    {
     "data": {
      "text/markdown": [
       "$(\\Delta d_i)^2$ = [0. 0. 0.] $мм^2$"
      ],
      "text/plain": [
       "<IPython.core.display.Markdown object>"
      ]
     },
     "metadata": {},
     "output_type": "display_data"
    },
    {
     "data": {
      "text/markdown": [
       "$S_i$ = $ \\sqrt { \\frac{\\sum { (\\Delta d_i)^2 }}{ N - 1}  } $ = 0.0 $мм$"
      ],
      "text/plain": [
       "<IPython.core.display.Markdown object>"
      ]
     },
     "metadata": {},
     "output_type": "display_data"
    },
    {
     "data": {
      "text/markdown": [
       "$3S_i$ = 0.0 $мм$"
      ],
      "text/plain": [
       "<IPython.core.display.Markdown object>"
      ]
     },
     "metadata": {},
     "output_type": "display_data"
    },
    {
     "data": {
      "text/markdown": [
       "Выбросов нет."
      ],
      "text/plain": [
       "<IPython.core.display.Markdown object>"
      ]
     },
     "metadata": {},
     "output_type": "display_data"
    },
    {
     "data": {
      "text/markdown": [
       "## 5. Расcчитываем среднеквадратичное отклонение для всей серии измерений"
      ],
      "text/plain": [
       "<IPython.core.display.Markdown object>"
      ]
     },
     "metadata": {},
     "output_type": "display_data"
    },
    {
     "data": {
      "text/markdown": [
       "$S$ = $ \\sqrt { \\frac{\\sum { (\\Delta d_i)^2 }}{ N(N - 1)}  } $ = 0.0 $мм$"
      ],
      "text/plain": [
       "<IPython.core.display.Markdown object>"
      ]
     },
     "metadata": {},
     "output_type": "display_data"
    },
    {
     "data": {
      "text/markdown": [
       "## 6. Расcчитываем случайную ошибку измерений"
      ],
      "text/plain": [
       "<IPython.core.display.Markdown object>"
      ]
     },
     "metadata": {},
     "output_type": "display_data"
    },
    {
     "data": {
      "text/markdown": [
       "$t_{N, p}$ = 4.30265272991"
      ],
      "text/plain": [
       "<IPython.core.display.Markdown object>"
      ]
     },
     "metadata": {},
     "output_type": "display_data"
    },
    {
     "data": {
      "text/markdown": [
       "$\\Delta d_{сл}$ = $ t_{N, p} S $ =0.0 $мм$"
      ],
      "text/plain": [
       "<IPython.core.display.Markdown object>"
      ]
     },
     "metadata": {},
     "output_type": "display_data"
    },
    {
     "data": {
      "text/markdown": [
       "## 7. Округляем"
      ],
      "text/plain": [
       "<IPython.core.display.Markdown object>"
      ]
     },
     "metadata": {},
     "output_type": "display_data"
    },
    {
     "data": {
      "text/markdown": [
       "Новый порядок округления = $10^{-3}$"
      ],
      "text/plain": [
       "<IPython.core.display.Markdown object>"
      ]
     },
     "metadata": {},
     "output_type": "display_data"
    },
    {
     "data": {
      "text/markdown": [
       "$d = d_{окр}$ = 2.03 $мм$"
      ],
      "text/plain": [
       "<IPython.core.display.Markdown object>"
      ]
     },
     "metadata": {},
     "output_type": "display_data"
    },
    {
     "data": {
      "text/markdown": [
       "## 8. Рассчитываем ошибку округления"
      ],
      "text/plain": [
       "<IPython.core.display.Markdown object>"
      ]
     },
     "metadata": {},
     "output_type": "display_data"
    },
    {
     "data": {
      "text/markdown": [
       "$\\Delta d_{окр}$ = $ d_{ср} - d_{окр} $ = 0.0 $мм$"
      ],
      "text/plain": [
       "<IPython.core.display.Markdown object>"
      ]
     },
     "metadata": {},
     "output_type": "display_data"
    },
    {
     "data": {
      "text/markdown": [
       "## 9. Расчитываем итоговую погрешность прямых измерений"
      ],
      "text/plain": [
       "<IPython.core.display.Markdown object>"
      ]
     },
     "metadata": {},
     "output_type": "display_data"
    },
    {
     "data": {
      "text/markdown": [
       "$\\Delta d$ = $ \\sqrt { (\\Delta d_{сл})^2 + (\\Delta d_{окр})^2 + (\\Delta d_{пр})^2 }$ =$\\sqrt { 0.0^2 + 0.0^2 + 0.005^2} $=0.005 $мм$"
      ],
      "text/plain": [
       "<IPython.core.display.Markdown object>"
      ]
     },
     "metadata": {},
     "output_type": "display_data"
    },
    {
     "data": {
      "text/markdown": [
       "## 10. Результат прямых измерений $d$"
      ],
      "text/plain": [
       "<IPython.core.display.Markdown object>"
      ]
     },
     "metadata": {},
     "output_type": "display_data"
    },
    {
     "data": {
      "text/markdown": [
       "$d = (2.03 \\pm 0.005) мм$"
      ],
      "text/plain": [
       "<IPython.core.display.Markdown object>"
      ]
     },
     "metadata": {},
     "output_type": "display_data"
    }
   ],
   "source": [
    "## Вводные данные ##\n",
    "\n",
    "fullname = 'диаметра шарика № 5'\n",
    "name = 'd' # Измеряемая величина\n",
    "unit = 'мм' # Единица измерения\n",
    "delta_x_pribor = 0.005 # Погрешность прибора\n",
    "\n",
    "# Измерения\n",
    "x_i = np.array([2.03, 2.03, 2.03])\n",
    "\n",
    "\n",
    "## Расчёты. Не трогаем. ##\n",
    "display(Markdown(rf'# Обработка прямых измерений {fullname}'))\n",
    "\n",
    "# Отображаем исходные значения\n",
    "display(Markdown(rf'## 1. Отображаем исходные значения'))\n",
    "display(Markdown(rf'${name}_i$ = {x_i} ${unit}$'))\n",
    "\n",
    "# Фиксируем количество измерений\n",
    "N = x_i.shape[0]\n",
    "display(Markdown(rf'N = {N}'))\n",
    "\n",
    "# Выясняем знак округления\n",
    "x_round = 0\n",
    "for x in x_i:\n",
    "    x_i_round = len(str(x).split('.')[1])\n",
    "    if x_i_round > x_round:\n",
    "        x_round = x_i_round\n",
    "display(Markdown(rf'Порядок округления ${name}_i$ = $10^{{{-x_round}}}$'))\n",
    "\n",
    "# Расcчитываем среднее\n",
    "display(Markdown(rf'## 2. Расcчитываем среднее'))\n",
    "display(Markdown(rf''))\n",
    "x_mean = round(x_i.mean(), x_round + 2)\n",
    "display(Markdown(rf'${name}_{{ср}} = \\frac{{\\sum {{ {name}_i  }}}}{{N}} = {x_mean} {unit}$'))\n",
    "\n",
    "# Расcчитываем отклонение от среднего\n",
    "display(Markdown(rf'## 3. Расcчитываем отклонение от среднего'))\n",
    "delta_x_i = x_i - x_mean\n",
    "display(Markdown(rf'$\\Delta {name}_i = {name}_i - {name}_{{ср}} =$ {delta_x_i} ${unit}$'))\n",
    "display(Markdown(rf'$\\sum \\Delta {name}_i = {round(delta_x_i.sum(), x_round + 1)} {unit}$'))\n",
    "\n",
    "# Расcчитываем квадрат отклонения для каждого измерения\n",
    "display(Markdown(rf'## 4. Расcчитываем квадрат отклонение для каждого измерения и проверяем на выбросы'))\n",
    "delta_x_i_2 = delta_x_i ** 2\n",
    "display(Markdown(rf'$(\\Delta {name}_i)^2$ = {delta_x_i_2} ${unit}^2$'))\n",
    "\n",
    "S_i = round((delta_x_i_2.sum()/(N - 1))**0.5, x_round + 2)\n",
    "display(Markdown(rf'$S_i$ = $ \\sqrt {{ \\frac{{\\sum {{ (\\Delta {name}_i)^2 }}}}{{ N - 1}}  }} $ = {S_i} ${unit}$'))\n",
    "\n",
    "x3_s_i = round((delta_x_i_2.sum()/(N - 1))**0.5 * 3, x_round + 2)\n",
    "display(Markdown(rf'$3S_i$ = {x3_s_i} ${unit}$'))\n",
    "\n",
    "# Проверяем наличие выбросов\n",
    "count = 0\n",
    "for n in range(N):\n",
    "    if delta_x_i[n] > x3_s_i:\n",
    "        display(Markdown(rf'Выброс: {x_i[n]}. Необходимо исключить значение.'))\n",
    "        count += 1\n",
    "if count == 0:\n",
    "    display(Markdown(rf'Выбросов нет.'))\n",
    "\n",
    "# Расcчитываем среднеквадратичное отклонение для всей серии измерений\n",
    "display(Markdown(rf'## 5. Расcчитываем среднеквадратичное отклонение для всей серии измерений'))\n",
    "S = round((delta_x_i_2.sum()/((N - 1)*N))**0.5, x_round + 2)\n",
    "display(Markdown(rf'$S$ = $ \\sqrt {{ \\frac{{\\sum {{ (\\Delta {name}_i)^2 }}}}{{ N(N - 1)}}  }} $ = {S} ${unit}$'))\n",
    "\n",
    "# Расcчитываем случайную ошибку измерений\n",
    "display(Markdown(rf'## 6. Расcчитываем случайную ошибку измерений'))\n",
    "display(Markdown(rf'$t_{{N, p}}$ = {student[N]}'))\n",
    "\n",
    "delta_x_random = round(S * student[N], x_round + 2)\n",
    "display(Markdown(rf'$\\Delta {name}_{{сл}}$ = $ t_{{N, p}} S $ ={delta_x_random} ${unit}$'))\n",
    "\n",
    "# Округляем\n",
    "display(Markdown(rf'## 7. Округляем'))\n",
    "new_round = None\n",
    "for e in range((x_round + 1) * -1, 9, 1):\n",
    "    if 10 ** e >= delta_x_random:\n",
    "        new_round = -e\n",
    "        break\n",
    "display(Markdown(rf'Новый порядок округления = $10^{{{-new_round}}}$'))\n",
    "x = x + 0,5 * 10*(-new_round) if x < 0 else x - 0,5 * 10*(-new_round)\n",
    "x = round(x_mean, new_round)\n",
    "display(Markdown(rf'${name} = {name}_{{окр}}$ = {x} ${unit}$'))\n",
    "\n",
    "# Рассчитываем ошибку округления\n",
    "display(Markdown(rf'## 8. Рассчитываем ошибку округления'))\n",
    "delta_x_round = round(x_mean - x, x_round + 2)\n",
    "display(Markdown(rf'$\\Delta {name}_{{окр}}$ = $ {name}_{{ср}} - {name}_{{окр}} $ = {delta_x_round} ${unit}$'))\n",
    "\n",
    "# Расчитываем итоговую погрешность прямых измерений\n",
    "display(Markdown(rf'## 9. Расчитываем итоговую погрешность прямых измерений'))\n",
    "delta_x = round((delta_x_random**2 + delta_x_pribor**2 + delta_x_round**2)**0.5, x_round+1)\n",
    "display(Markdown(rf'$\\Delta {name}$ = $ \\sqrt {{ (\\Delta {name}_{{сл}})^2 + '\\\n",
    "                 rf'(\\Delta {name}_{{окр}})^2 + (\\Delta {name}_{{пр}})^2 }}$ ='\\\n",
    "                 rf'$\\sqrt {{ {delta_x_random}^2 + {delta_x_round}^2 + {delta_x_pribor}^2}} $='\n",
    "                 rf'{delta_x} ${unit}$'))\n",
    "\n",
    "# Результат\n",
    "display(Markdown(rf'## 10. Результат прямых измерений ${name}$'))\n",
    "display(Markdown(rf'${name} = ({x} \\pm {delta_x}) {unit}$'))"
   ]
  },
  {
   "cell_type": "code",
   "execution_count": 10,
   "id": "c86b8cae",
   "metadata": {},
   "outputs": [
    {
     "data": {
      "text/markdown": [
       "# Обработка прямых измерений диаметра шарика № 6"
      ],
      "text/plain": [
       "<IPython.core.display.Markdown object>"
      ]
     },
     "metadata": {},
     "output_type": "display_data"
    },
    {
     "data": {
      "text/markdown": [
       "## 1. Отображаем исходные значения"
      ],
      "text/plain": [
       "<IPython.core.display.Markdown object>"
      ]
     },
     "metadata": {},
     "output_type": "display_data"
    },
    {
     "data": {
      "text/markdown": [
       "$d_i$ = [2.02 2.03 2.03] $мм$"
      ],
      "text/plain": [
       "<IPython.core.display.Markdown object>"
      ]
     },
     "metadata": {},
     "output_type": "display_data"
    },
    {
     "data": {
      "text/markdown": [
       "N = 3"
      ],
      "text/plain": [
       "<IPython.core.display.Markdown object>"
      ]
     },
     "metadata": {},
     "output_type": "display_data"
    },
    {
     "data": {
      "text/markdown": [
       "Порядок округления $d_i$ = $10^{-2}$"
      ],
      "text/plain": [
       "<IPython.core.display.Markdown object>"
      ]
     },
     "metadata": {},
     "output_type": "display_data"
    },
    {
     "data": {
      "text/markdown": [
       "## 2. Расcчитываем среднее"
      ],
      "text/plain": [
       "<IPython.core.display.Markdown object>"
      ]
     },
     "metadata": {},
     "output_type": "display_data"
    },
    {
     "data": {
      "text/markdown": [],
      "text/plain": [
       "<IPython.core.display.Markdown object>"
      ]
     },
     "metadata": {},
     "output_type": "display_data"
    },
    {
     "data": {
      "text/markdown": [
       "$d_{ср} = \\frac{\\sum { d_i  }}{N} = 2.0267 мм$"
      ],
      "text/plain": [
       "<IPython.core.display.Markdown object>"
      ]
     },
     "metadata": {},
     "output_type": "display_data"
    },
    {
     "data": {
      "text/markdown": [
       "## 3. Расcчитываем отклонение от среднего"
      ],
      "text/plain": [
       "<IPython.core.display.Markdown object>"
      ]
     },
     "metadata": {},
     "output_type": "display_data"
    },
    {
     "data": {
      "text/markdown": [
       "$\\Delta d_i = d_i - d_{ср} =$ [-0.0067  0.0033  0.0033] $мм$"
      ],
      "text/plain": [
       "<IPython.core.display.Markdown object>"
      ]
     },
     "metadata": {},
     "output_type": "display_data"
    },
    {
     "data": {
      "text/markdown": [
       "$\\sum \\Delta d_i = -0.0 мм$"
      ],
      "text/plain": [
       "<IPython.core.display.Markdown object>"
      ]
     },
     "metadata": {},
     "output_type": "display_data"
    },
    {
     "data": {
      "text/markdown": [
       "## 4. Расcчитываем квадрат отклонение для каждого измерения и проверяем на выбросы"
      ],
      "text/plain": [
       "<IPython.core.display.Markdown object>"
      ]
     },
     "metadata": {},
     "output_type": "display_data"
    },
    {
     "data": {
      "text/markdown": [
       "$(\\Delta d_i)^2$ = [4.489e-05 1.089e-05 1.089e-05] $мм^2$"
      ],
      "text/plain": [
       "<IPython.core.display.Markdown object>"
      ]
     },
     "metadata": {},
     "output_type": "display_data"
    },
    {
     "data": {
      "text/markdown": [
       "$S_i$ = $ \\sqrt { \\frac{\\sum { (\\Delta d_i)^2 }}{ N - 1}  } $ = 0.0058 $мм$"
      ],
      "text/plain": [
       "<IPython.core.display.Markdown object>"
      ]
     },
     "metadata": {},
     "output_type": "display_data"
    },
    {
     "data": {
      "text/markdown": [
       "$3S_i$ = 0.0173 $мм$"
      ],
      "text/plain": [
       "<IPython.core.display.Markdown object>"
      ]
     },
     "metadata": {},
     "output_type": "display_data"
    },
    {
     "data": {
      "text/markdown": [
       "Выбросов нет."
      ],
      "text/plain": [
       "<IPython.core.display.Markdown object>"
      ]
     },
     "metadata": {},
     "output_type": "display_data"
    },
    {
     "data": {
      "text/markdown": [
       "## 5. Расcчитываем среднеквадратичное отклонение для всей серии измерений"
      ],
      "text/plain": [
       "<IPython.core.display.Markdown object>"
      ]
     },
     "metadata": {},
     "output_type": "display_data"
    },
    {
     "data": {
      "text/markdown": [
       "$S$ = $ \\sqrt { \\frac{\\sum { (\\Delta d_i)^2 }}{ N(N - 1)}  } $ = 0.0033 $мм$"
      ],
      "text/plain": [
       "<IPython.core.display.Markdown object>"
      ]
     },
     "metadata": {},
     "output_type": "display_data"
    },
    {
     "data": {
      "text/markdown": [
       "## 6. Расcчитываем случайную ошибку измерений"
      ],
      "text/plain": [
       "<IPython.core.display.Markdown object>"
      ]
     },
     "metadata": {},
     "output_type": "display_data"
    },
    {
     "data": {
      "text/markdown": [
       "$t_{N, p}$ = 4.30265272991"
      ],
      "text/plain": [
       "<IPython.core.display.Markdown object>"
      ]
     },
     "metadata": {},
     "output_type": "display_data"
    },
    {
     "data": {
      "text/markdown": [
       "$\\Delta d_{сл}$ = $ t_{N, p} S $ =0.0142 $мм$"
      ],
      "text/plain": [
       "<IPython.core.display.Markdown object>"
      ]
     },
     "metadata": {},
     "output_type": "display_data"
    },
    {
     "data": {
      "text/markdown": [
       "## 7. Округляем"
      ],
      "text/plain": [
       "<IPython.core.display.Markdown object>"
      ]
     },
     "metadata": {},
     "output_type": "display_data"
    },
    {
     "data": {
      "text/markdown": [
       "Новый порядок округления = $10^{-1}$"
      ],
      "text/plain": [
       "<IPython.core.display.Markdown object>"
      ]
     },
     "metadata": {},
     "output_type": "display_data"
    },
    {
     "data": {
      "text/markdown": [
       "$d = d_{окр}$ = 2.0 $мм$"
      ],
      "text/plain": [
       "<IPython.core.display.Markdown object>"
      ]
     },
     "metadata": {},
     "output_type": "display_data"
    },
    {
     "data": {
      "text/markdown": [
       "## 8. Рассчитываем ошибку округления"
      ],
      "text/plain": [
       "<IPython.core.display.Markdown object>"
      ]
     },
     "metadata": {},
     "output_type": "display_data"
    },
    {
     "data": {
      "text/markdown": [
       "$\\Delta d_{окр}$ = $ d_{ср} - d_{окр} $ = 0.0267 $мм$"
      ],
      "text/plain": [
       "<IPython.core.display.Markdown object>"
      ]
     },
     "metadata": {},
     "output_type": "display_data"
    },
    {
     "data": {
      "text/markdown": [
       "## 9. Расчитываем итоговую погрешность прямых измерений"
      ],
      "text/plain": [
       "<IPython.core.display.Markdown object>"
      ]
     },
     "metadata": {},
     "output_type": "display_data"
    },
    {
     "data": {
      "text/markdown": [
       "$\\Delta d$ = $ \\sqrt { (\\Delta d_{сл})^2 + (\\Delta d_{окр})^2 + (\\Delta d_{пр})^2 }$ =$\\sqrt { 0.0142^2 + 0.0267^2 + 0.005^2} $=0.031 $мм$"
      ],
      "text/plain": [
       "<IPython.core.display.Markdown object>"
      ]
     },
     "metadata": {},
     "output_type": "display_data"
    },
    {
     "data": {
      "text/markdown": [
       "## 10. Результат прямых измерений $d$"
      ],
      "text/plain": [
       "<IPython.core.display.Markdown object>"
      ]
     },
     "metadata": {},
     "output_type": "display_data"
    },
    {
     "data": {
      "text/markdown": [
       "$d = (2.0 \\pm 0.031) мм$"
      ],
      "text/plain": [
       "<IPython.core.display.Markdown object>"
      ]
     },
     "metadata": {},
     "output_type": "display_data"
    }
   ],
   "source": [
    "## Вводные данные ##\n",
    "\n",
    "fullname = 'диаметра шарика № 6'\n",
    "name = 'd' # Измеряемая величина\n",
    "unit = 'мм' # Единица измерения\n",
    "delta_x_pribor = 0.005 # Погрешность прибора\n",
    "\n",
    "# Измерения\n",
    "x_i = np.array([2.02, 2.03, 2.03])\n",
    "\n",
    "\n",
    "## Расчёты. Не трогаем. ##\n",
    "display(Markdown(rf'# Обработка прямых измерений {fullname}'))\n",
    "\n",
    "# Отображаем исходные значения\n",
    "display(Markdown(rf'## 1. Отображаем исходные значения'))\n",
    "display(Markdown(rf'${name}_i$ = {x_i} ${unit}$'))\n",
    "\n",
    "# Фиксируем количество измерений\n",
    "N = x_i.shape[0]\n",
    "display(Markdown(rf'N = {N}'))\n",
    "\n",
    "# Выясняем знак округления\n",
    "x_round = 0\n",
    "for x in x_i:\n",
    "    x_i_round = len(str(x).split('.')[1])\n",
    "    if x_i_round > x_round:\n",
    "        x_round = x_i_round\n",
    "display(Markdown(rf'Порядок округления ${name}_i$ = $10^{{{-x_round}}}$'))\n",
    "\n",
    "# Расcчитываем среднее\n",
    "display(Markdown(rf'## 2. Расcчитываем среднее'))\n",
    "display(Markdown(rf''))\n",
    "x_mean = round(x_i.mean(), x_round + 2)\n",
    "display(Markdown(rf'${name}_{{ср}} = \\frac{{\\sum {{ {name}_i  }}}}{{N}} = {x_mean} {unit}$'))\n",
    "\n",
    "# Расcчитываем отклонение от среднего\n",
    "display(Markdown(rf'## 3. Расcчитываем отклонение от среднего'))\n",
    "delta_x_i = x_i - x_mean\n",
    "display(Markdown(rf'$\\Delta {name}_i = {name}_i - {name}_{{ср}} =$ {delta_x_i} ${unit}$'))\n",
    "display(Markdown(rf'$\\sum \\Delta {name}_i = {round(delta_x_i.sum(), x_round + 1)} {unit}$'))\n",
    "\n",
    "# Расcчитываем квадрат отклонения для каждого измерения\n",
    "display(Markdown(rf'## 4. Расcчитываем квадрат отклонение для каждого измерения и проверяем на выбросы'))\n",
    "delta_x_i_2 = delta_x_i ** 2\n",
    "display(Markdown(rf'$(\\Delta {name}_i)^2$ = {delta_x_i_2} ${unit}^2$'))\n",
    "\n",
    "S_i = round((delta_x_i_2.sum()/(N - 1))**0.5, x_round + 2)\n",
    "display(Markdown(rf'$S_i$ = $ \\sqrt {{ \\frac{{\\sum {{ (\\Delta {name}_i)^2 }}}}{{ N - 1}}  }} $ = {S_i} ${unit}$'))\n",
    "\n",
    "x3_s_i = round((delta_x_i_2.sum()/(N - 1))**0.5 * 3, x_round + 2)\n",
    "display(Markdown(rf'$3S_i$ = {x3_s_i} ${unit}$'))\n",
    "\n",
    "# Проверяем наличие выбросов\n",
    "count = 0\n",
    "for n in range(N):\n",
    "    if delta_x_i[n] > x3_s_i:\n",
    "        display(Markdown(rf'Выброс: {x_i[n]}. Необходимо исключить значение.'))\n",
    "        count += 1\n",
    "if count == 0:\n",
    "    display(Markdown(rf'Выбросов нет.'))\n",
    "\n",
    "# Расcчитываем среднеквадратичное отклонение для всей серии измерений\n",
    "display(Markdown(rf'## 5. Расcчитываем среднеквадратичное отклонение для всей серии измерений'))\n",
    "S = round((delta_x_i_2.sum()/((N - 1)*N))**0.5, x_round + 2)\n",
    "display(Markdown(rf'$S$ = $ \\sqrt {{ \\frac{{\\sum {{ (\\Delta {name}_i)^2 }}}}{{ N(N - 1)}}  }} $ = {S} ${unit}$'))\n",
    "\n",
    "# Расcчитываем случайную ошибку измерений\n",
    "display(Markdown(rf'## 6. Расcчитываем случайную ошибку измерений'))\n",
    "display(Markdown(rf'$t_{{N, p}}$ = {student[N]}'))\n",
    "\n",
    "delta_x_random = round(S * student[N], x_round + 2)\n",
    "display(Markdown(rf'$\\Delta {name}_{{сл}}$ = $ t_{{N, p}} S $ ={delta_x_random} ${unit}$'))\n",
    "\n",
    "# Округляем\n",
    "display(Markdown(rf'## 7. Округляем'))\n",
    "new_round = None\n",
    "for e in range((x_round + 1) * -1, 9, 1):\n",
    "    if 10 ** e >= delta_x_random:\n",
    "        new_round = -e\n",
    "        break\n",
    "display(Markdown(rf'Новый порядок округления = $10^{{{-new_round}}}$'))\n",
    "x = x + 0,5 * 10*(-new_round) if x < 0 else x - 0,5 * 10*(-new_round)\n",
    "x = round(x_mean, new_round)\n",
    "display(Markdown(rf'${name} = {name}_{{окр}}$ = {x} ${unit}$'))\n",
    "\n",
    "# Рассчитываем ошибку округления\n",
    "display(Markdown(rf'## 8. Рассчитываем ошибку округления'))\n",
    "delta_x_round = round(x_mean - x, x_round + 2)\n",
    "display(Markdown(rf'$\\Delta {name}_{{окр}}$ = $ {name}_{{ср}} - {name}_{{окр}} $ = {delta_x_round} ${unit}$'))\n",
    "\n",
    "# Расчитываем итоговую погрешность прямых измерений\n",
    "display(Markdown(rf'## 9. Расчитываем итоговую погрешность прямых измерений'))\n",
    "delta_x = round((delta_x_random**2 + delta_x_pribor**2 + delta_x_round**2)**0.5, x_round+1)\n",
    "display(Markdown(rf'$\\Delta {name}$ = $ \\sqrt {{ (\\Delta {name}_{{сл}})^2 + '\\\n",
    "                 rf'(\\Delta {name}_{{окр}})^2 + (\\Delta {name}_{{пр}})^2 }}$ ='\\\n",
    "                 rf'$\\sqrt {{ {delta_x_random}^2 + {delta_x_round}^2 + {delta_x_pribor}^2}} $='\n",
    "                 rf'{delta_x} ${unit}$'))\n",
    "\n",
    "# Результат\n",
    "display(Markdown(rf'## 10. Результат прямых измерений ${name}$'))\n",
    "display(Markdown(rf'${name} = ({x} \\pm {delta_x}) {unit}$'))"
   ]
  }
 ],
 "metadata": {
  "kernelspec": {
   "display_name": "Python 3 (ipykernel)",
   "language": "python",
   "name": "python3"
  },
  "language_info": {
   "codemirror_mode": {
    "name": "ipython",
    "version": 3
   },
   "file_extension": ".py",
   "mimetype": "text/x-python",
   "name": "python",
   "nbconvert_exporter": "python",
   "pygments_lexer": "ipython3",
   "version": "3.10.4"
  }
 },
 "nbformat": 4,
 "nbformat_minor": 5
}
